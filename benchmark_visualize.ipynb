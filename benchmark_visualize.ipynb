{
 "metadata": {
  "language_info": {
   "codemirror_mode": {
    "name": "ipython",
    "version": 3
   },
   "file_extension": ".py",
   "mimetype": "text/x-python",
   "name": "python",
   "nbconvert_exporter": "python",
   "pygments_lexer": "ipython3",
   "version": "3.8.8"
  },
  "orig_nbformat": 2,
  "kernelspec": {
   "name": "python3",
   "display_name": "Python 3.8.8 64-bit ('bt_rew': conda)"
  },
  "interpreter": {
   "hash": "64d9061477c2b47e4fafdd661e486d2c0da5459afa86980e15aa54a8cb77a46c"
  }
 },
 "nbformat": 4,
 "nbformat_minor": 2,
 "cells": [
  {
   "cell_type": "code",
   "execution_count": 2,
   "metadata": {},
   "outputs": [],
   "source": [
    "import pandas as pd\n",
    "import plotly.express as px\n",
    "import plotly.graph_objects as go"
   ]
  },
  {
   "cell_type": "code",
   "execution_count": 14,
   "metadata": {},
   "outputs": [],
   "source": [
    "runs = [\n",
    "    # (  RUN NAME,                DF,                                              INFO  )\n",
    "    # CPU baseline\n",
    "    # (\"CPU\", pd.read_csv(\"res/1.1.benchmark_results_cpu.csv\", header=0)),\n",
    "    (\"CPU 1 Thread\", pd.read_csv(\"res/6.benchmark_results_cpu_th_1.csv\", header=0), (1,)),\n",
    "    (\"CPU 2 Thread\", pd.read_csv(\"res/6.benchmark_results_cpu_th_2.csv\", header=0), (2,)),\n",
    "    (\"CPU 4 Thread\", pd.read_csv(\"res/6.benchmark_results_cpu_th_4.csv\", header=0), (4,)),\n",
    "    (\"CPU 8 Thread\", pd.read_csv(\"res/6.benchmark_results_cpu_th_8.csv\", header=0), (8,)),\n",
    "    (\"CPU 12 Thread\", pd.read_csv(\"res/6.benchmark_results_cpu_th_12.csv\", header=0), (12,)),\n",
    "    (\"CPU 16 Thread\", pd.read_csv(\"res/6.benchmark_results_cpu_th_16.csv\", header=0), (16,)),\n",
    "    # GPU optimizations\n",
    "    (\"GPU\", pd.read_csv(\"res/1.2.benchmark_results_gpu.csv\", header=0), (8704,)),\n",
    "    (\"GPU L1 opt\", pd.read_csv(\"res/2.benchmark_results_gpu_cache_l1.csv\", header=0), (8704,)),\n",
    "    (\"GPU No Branch\", pd.read_csv(\"res/3.benchmark_results_gpu_no_branching.csv\", header=0), (8704,)),\n",
    "    (\"GPU K Config\", pd.read_csv(\"res/4.benchmark_results_gpu_config.csv\", header=0), (8704,)),\n",
    "    (\"GPU Pre Increment\", pd.read_csv(\"res/5.benchmark_results_gpu_pre_inc.csv\", header=0), (8704,)),\n",
    "    (\"GPU 6\", pd.read_csv(\"res/6.benchmark_results_gpu.csv\", header=0), (8704,)),\n",
    "]\n",
    "\n",
    "cpu_df = runs[0][1]\n",
    "runs_gpu = runs[1:]"
   ]
  },
  {
   "cell_type": "code",
   "execution_count": 15,
   "metadata": {},
   "outputs": [
    {
     "output_type": "display_data",
     "data": {
      "application/vnd.plotly.v1+json": {
       "config": {
        "plotlyServerURL": "https://plot.ly"
       },
       "data": [
        {
         "mode": "lines+markers",
         "name": "CPU 1 Thread",
         "type": "scatter",
         "x": [
          32,
          64,
          128,
          256,
          512,
          1024,
          2048,
          4096,
          8192
         ],
         "y": [
          0.02027,
          0.077795,
          0.309875,
          1.252192,
          5.060115,
          20.208531,
          80.951012,
          319.49662,
          1297.91473
         ]
        },
        {
         "mode": "lines+markers",
         "name": "CPU 2 Thread",
         "type": "scatter",
         "x": [
          32,
          64,
          128,
          256,
          512,
          1024,
          2048,
          4096,
          8192
         ],
         "y": [
          0.016844,
          0.046694,
          0.158812,
          0.641746,
          2.531434,
          10.170533,
          40.568345,
          163.157445,
          651.707842
         ]
        },
        {
         "mode": "lines+markers",
         "name": "CPU 4 Thread",
         "type": "scatter",
         "x": [
          32,
          64,
          128,
          256,
          512,
          1024,
          2048,
          4096,
          8192
         ],
         "y": [
          0.011891,
          0.029124,
          0.088759,
          0.332985,
          1.315028,
          5.118765,
          20.944636,
          83.040687,
          333.930786
         ]
        },
        {
         "mode": "lines+markers",
         "name": "CPU 8 Thread",
         "type": "scatter",
         "x": [
          32,
          64,
          128,
          256,
          512,
          1024,
          2048,
          4096,
          8192
         ],
         "y": [
          0.007688,
          0.017277,
          0.068023,
          0.269032,
          0.821632,
          2.688033,
          10.736648,
          43.183366,
          172.91605
         ]
        },
        {
         "mode": "lines+markers",
         "name": "CPU 12 Thread",
         "type": "scatter",
         "x": [
          32,
          64,
          128,
          256,
          512,
          1024,
          2048,
          4096,
          8192
         ],
         "y": [
          0.008366,
          0.018142,
          0.048243,
          0.190314,
          0.747111,
          2.93187,
          11.707313,
          47.152282,
          187.455919
         ]
        },
        {
         "mode": "lines+markers",
         "name": "CPU 16 Thread",
         "type": "scatter",
         "x": [
          32,
          64,
          128,
          256,
          512,
          1024,
          2048,
          4096,
          8192
         ],
         "y": [
          0.01735,
          0.015174,
          0.046219,
          0.151317,
          0.616076,
          2.250707,
          9.139517,
          36.214577,
          144.556618
         ]
        },
        {
         "mode": "lines+markers",
         "name": "GPU",
         "type": "scatter",
         "x": [
          32,
          64,
          128,
          256,
          512,
          1024,
          2048,
          4096,
          8192
         ],
         "y": [
          0.016707,
          0.008172,
          0.009197,
          0.007928,
          0.00899,
          0.017533,
          0.045325,
          0.140599,
          0.563719
         ]
        },
        {
         "mode": "lines+markers",
         "name": "GPU L1 opt",
         "type": "scatter",
         "x": [
          32,
          64,
          128,
          256,
          512,
          1024,
          2048,
          4096,
          8192
         ],
         "y": [
          0.019168,
          0.009755,
          0.007397,
          0.009513,
          0.009844,
          0.015748,
          0.042073,
          0.135443,
          0.580479
         ]
        },
        {
         "mode": "lines+markers",
         "name": "GPU No Branch",
         "type": "scatter",
         "x": [
          32,
          64,
          128,
          256,
          512,
          1024,
          2048,
          4096,
          8192
         ],
         "y": [
          0.016148,
          0.008634,
          0.00799,
          0.008212,
          0.010013,
          0.01607,
          0.043486,
          0.130989,
          0.526354
         ]
        },
        {
         "mode": "lines+markers",
         "name": "GPU K Config",
         "type": "scatter",
         "x": [
          32,
          64,
          128,
          256,
          512,
          1024,
          2048,
          4096,
          8192
         ],
         "y": [
          0.020361,
          0.007646,
          0.0081,
          0.007817,
          0.009608,
          0.016405,
          0.052878,
          0.169847,
          0.668428
         ]
        },
        {
         "mode": "lines+markers",
         "name": "GPU Pre Increment",
         "type": "scatter",
         "x": [
          32,
          64,
          128,
          256,
          512,
          1024,
          2048,
          4096,
          8192
         ],
         "y": [
          0.015624,
          0.007396,
          0.008912,
          0.007747,
          0.008573,
          0.013733,
          0.044101,
          0.119155,
          0.469333
         ]
        },
        {
         "mode": "lines+markers",
         "name": "GPU 6",
         "type": "scatter",
         "x": [
          32,
          64,
          128,
          256,
          512,
          1024,
          2048,
          4096,
          8192
         ],
         "y": [
          0.016198,
          0.007097,
          0.007327,
          0.007363,
          0.008557,
          0.013489,
          0.033462,
          0.107821,
          0.435573
         ]
        }
       ],
       "layout": {
        "height": 400,
        "template": {
         "data": {
          "bar": [
           {
            "error_x": {
             "color": "#2a3f5f"
            },
            "error_y": {
             "color": "#2a3f5f"
            },
            "marker": {
             "line": {
              "color": "#E5ECF6",
              "width": 0.5
             }
            },
            "type": "bar"
           }
          ],
          "barpolar": [
           {
            "marker": {
             "line": {
              "color": "#E5ECF6",
              "width": 0.5
             }
            },
            "type": "barpolar"
           }
          ],
          "carpet": [
           {
            "aaxis": {
             "endlinecolor": "#2a3f5f",
             "gridcolor": "white",
             "linecolor": "white",
             "minorgridcolor": "white",
             "startlinecolor": "#2a3f5f"
            },
            "baxis": {
             "endlinecolor": "#2a3f5f",
             "gridcolor": "white",
             "linecolor": "white",
             "minorgridcolor": "white",
             "startlinecolor": "#2a3f5f"
            },
            "type": "carpet"
           }
          ],
          "choropleth": [
           {
            "colorbar": {
             "outlinewidth": 0,
             "ticks": ""
            },
            "type": "choropleth"
           }
          ],
          "contour": [
           {
            "colorbar": {
             "outlinewidth": 0,
             "ticks": ""
            },
            "colorscale": [
             [
              0,
              "#0d0887"
             ],
             [
              0.1111111111111111,
              "#46039f"
             ],
             [
              0.2222222222222222,
              "#7201a8"
             ],
             [
              0.3333333333333333,
              "#9c179e"
             ],
             [
              0.4444444444444444,
              "#bd3786"
             ],
             [
              0.5555555555555556,
              "#d8576b"
             ],
             [
              0.6666666666666666,
              "#ed7953"
             ],
             [
              0.7777777777777778,
              "#fb9f3a"
             ],
             [
              0.8888888888888888,
              "#fdca26"
             ],
             [
              1,
              "#f0f921"
             ]
            ],
            "type": "contour"
           }
          ],
          "contourcarpet": [
           {
            "colorbar": {
             "outlinewidth": 0,
             "ticks": ""
            },
            "type": "contourcarpet"
           }
          ],
          "heatmap": [
           {
            "colorbar": {
             "outlinewidth": 0,
             "ticks": ""
            },
            "colorscale": [
             [
              0,
              "#0d0887"
             ],
             [
              0.1111111111111111,
              "#46039f"
             ],
             [
              0.2222222222222222,
              "#7201a8"
             ],
             [
              0.3333333333333333,
              "#9c179e"
             ],
             [
              0.4444444444444444,
              "#bd3786"
             ],
             [
              0.5555555555555556,
              "#d8576b"
             ],
             [
              0.6666666666666666,
              "#ed7953"
             ],
             [
              0.7777777777777778,
              "#fb9f3a"
             ],
             [
              0.8888888888888888,
              "#fdca26"
             ],
             [
              1,
              "#f0f921"
             ]
            ],
            "type": "heatmap"
           }
          ],
          "heatmapgl": [
           {
            "colorbar": {
             "outlinewidth": 0,
             "ticks": ""
            },
            "colorscale": [
             [
              0,
              "#0d0887"
             ],
             [
              0.1111111111111111,
              "#46039f"
             ],
             [
              0.2222222222222222,
              "#7201a8"
             ],
             [
              0.3333333333333333,
              "#9c179e"
             ],
             [
              0.4444444444444444,
              "#bd3786"
             ],
             [
              0.5555555555555556,
              "#d8576b"
             ],
             [
              0.6666666666666666,
              "#ed7953"
             ],
             [
              0.7777777777777778,
              "#fb9f3a"
             ],
             [
              0.8888888888888888,
              "#fdca26"
             ],
             [
              1,
              "#f0f921"
             ]
            ],
            "type": "heatmapgl"
           }
          ],
          "histogram": [
           {
            "marker": {
             "colorbar": {
              "outlinewidth": 0,
              "ticks": ""
             }
            },
            "type": "histogram"
           }
          ],
          "histogram2d": [
           {
            "colorbar": {
             "outlinewidth": 0,
             "ticks": ""
            },
            "colorscale": [
             [
              0,
              "#0d0887"
             ],
             [
              0.1111111111111111,
              "#46039f"
             ],
             [
              0.2222222222222222,
              "#7201a8"
             ],
             [
              0.3333333333333333,
              "#9c179e"
             ],
             [
              0.4444444444444444,
              "#bd3786"
             ],
             [
              0.5555555555555556,
              "#d8576b"
             ],
             [
              0.6666666666666666,
              "#ed7953"
             ],
             [
              0.7777777777777778,
              "#fb9f3a"
             ],
             [
              0.8888888888888888,
              "#fdca26"
             ],
             [
              1,
              "#f0f921"
             ]
            ],
            "type": "histogram2d"
           }
          ],
          "histogram2dcontour": [
           {
            "colorbar": {
             "outlinewidth": 0,
             "ticks": ""
            },
            "colorscale": [
             [
              0,
              "#0d0887"
             ],
             [
              0.1111111111111111,
              "#46039f"
             ],
             [
              0.2222222222222222,
              "#7201a8"
             ],
             [
              0.3333333333333333,
              "#9c179e"
             ],
             [
              0.4444444444444444,
              "#bd3786"
             ],
             [
              0.5555555555555556,
              "#d8576b"
             ],
             [
              0.6666666666666666,
              "#ed7953"
             ],
             [
              0.7777777777777778,
              "#fb9f3a"
             ],
             [
              0.8888888888888888,
              "#fdca26"
             ],
             [
              1,
              "#f0f921"
             ]
            ],
            "type": "histogram2dcontour"
           }
          ],
          "mesh3d": [
           {
            "colorbar": {
             "outlinewidth": 0,
             "ticks": ""
            },
            "type": "mesh3d"
           }
          ],
          "parcoords": [
           {
            "line": {
             "colorbar": {
              "outlinewidth": 0,
              "ticks": ""
             }
            },
            "type": "parcoords"
           }
          ],
          "pie": [
           {
            "automargin": true,
            "type": "pie"
           }
          ],
          "scatter": [
           {
            "marker": {
             "colorbar": {
              "outlinewidth": 0,
              "ticks": ""
             }
            },
            "type": "scatter"
           }
          ],
          "scatter3d": [
           {
            "line": {
             "colorbar": {
              "outlinewidth": 0,
              "ticks": ""
             }
            },
            "marker": {
             "colorbar": {
              "outlinewidth": 0,
              "ticks": ""
             }
            },
            "type": "scatter3d"
           }
          ],
          "scattercarpet": [
           {
            "marker": {
             "colorbar": {
              "outlinewidth": 0,
              "ticks": ""
             }
            },
            "type": "scattercarpet"
           }
          ],
          "scattergeo": [
           {
            "marker": {
             "colorbar": {
              "outlinewidth": 0,
              "ticks": ""
             }
            },
            "type": "scattergeo"
           }
          ],
          "scattergl": [
           {
            "marker": {
             "colorbar": {
              "outlinewidth": 0,
              "ticks": ""
             }
            },
            "type": "scattergl"
           }
          ],
          "scattermapbox": [
           {
            "marker": {
             "colorbar": {
              "outlinewidth": 0,
              "ticks": ""
             }
            },
            "type": "scattermapbox"
           }
          ],
          "scatterpolar": [
           {
            "marker": {
             "colorbar": {
              "outlinewidth": 0,
              "ticks": ""
             }
            },
            "type": "scatterpolar"
           }
          ],
          "scatterpolargl": [
           {
            "marker": {
             "colorbar": {
              "outlinewidth": 0,
              "ticks": ""
             }
            },
            "type": "scatterpolargl"
           }
          ],
          "scatterternary": [
           {
            "marker": {
             "colorbar": {
              "outlinewidth": 0,
              "ticks": ""
             }
            },
            "type": "scatterternary"
           }
          ],
          "surface": [
           {
            "colorbar": {
             "outlinewidth": 0,
             "ticks": ""
            },
            "colorscale": [
             [
              0,
              "#0d0887"
             ],
             [
              0.1111111111111111,
              "#46039f"
             ],
             [
              0.2222222222222222,
              "#7201a8"
             ],
             [
              0.3333333333333333,
              "#9c179e"
             ],
             [
              0.4444444444444444,
              "#bd3786"
             ],
             [
              0.5555555555555556,
              "#d8576b"
             ],
             [
              0.6666666666666666,
              "#ed7953"
             ],
             [
              0.7777777777777778,
              "#fb9f3a"
             ],
             [
              0.8888888888888888,
              "#fdca26"
             ],
             [
              1,
              "#f0f921"
             ]
            ],
            "type": "surface"
           }
          ],
          "table": [
           {
            "cells": {
             "fill": {
              "color": "#EBF0F8"
             },
             "line": {
              "color": "white"
             }
            },
            "header": {
             "fill": {
              "color": "#C8D4E3"
             },
             "line": {
              "color": "white"
             }
            },
            "type": "table"
           }
          ]
         },
         "layout": {
          "annotationdefaults": {
           "arrowcolor": "#2a3f5f",
           "arrowhead": 0,
           "arrowwidth": 1
          },
          "autotypenumbers": "strict",
          "coloraxis": {
           "colorbar": {
            "outlinewidth": 0,
            "ticks": ""
           }
          },
          "colorscale": {
           "diverging": [
            [
             0,
             "#8e0152"
            ],
            [
             0.1,
             "#c51b7d"
            ],
            [
             0.2,
             "#de77ae"
            ],
            [
             0.3,
             "#f1b6da"
            ],
            [
             0.4,
             "#fde0ef"
            ],
            [
             0.5,
             "#f7f7f7"
            ],
            [
             0.6,
             "#e6f5d0"
            ],
            [
             0.7,
             "#b8e186"
            ],
            [
             0.8,
             "#7fbc41"
            ],
            [
             0.9,
             "#4d9221"
            ],
            [
             1,
             "#276419"
            ]
           ],
           "sequential": [
            [
             0,
             "#0d0887"
            ],
            [
             0.1111111111111111,
             "#46039f"
            ],
            [
             0.2222222222222222,
             "#7201a8"
            ],
            [
             0.3333333333333333,
             "#9c179e"
            ],
            [
             0.4444444444444444,
             "#bd3786"
            ],
            [
             0.5555555555555556,
             "#d8576b"
            ],
            [
             0.6666666666666666,
             "#ed7953"
            ],
            [
             0.7777777777777778,
             "#fb9f3a"
            ],
            [
             0.8888888888888888,
             "#fdca26"
            ],
            [
             1,
             "#f0f921"
            ]
           ],
           "sequentialminus": [
            [
             0,
             "#0d0887"
            ],
            [
             0.1111111111111111,
             "#46039f"
            ],
            [
             0.2222222222222222,
             "#7201a8"
            ],
            [
             0.3333333333333333,
             "#9c179e"
            ],
            [
             0.4444444444444444,
             "#bd3786"
            ],
            [
             0.5555555555555556,
             "#d8576b"
            ],
            [
             0.6666666666666666,
             "#ed7953"
            ],
            [
             0.7777777777777778,
             "#fb9f3a"
            ],
            [
             0.8888888888888888,
             "#fdca26"
            ],
            [
             1,
             "#f0f921"
            ]
           ]
          },
          "colorway": [
           "#636efa",
           "#EF553B",
           "#00cc96",
           "#ab63fa",
           "#FFA15A",
           "#19d3f3",
           "#FF6692",
           "#B6E880",
           "#FF97FF",
           "#FECB52"
          ],
          "font": {
           "color": "#2a3f5f"
          },
          "geo": {
           "bgcolor": "white",
           "lakecolor": "white",
           "landcolor": "#E5ECF6",
           "showlakes": true,
           "showland": true,
           "subunitcolor": "white"
          },
          "hoverlabel": {
           "align": "left"
          },
          "hovermode": "closest",
          "mapbox": {
           "style": "light"
          },
          "paper_bgcolor": "white",
          "plot_bgcolor": "#E5ECF6",
          "polar": {
           "angularaxis": {
            "gridcolor": "white",
            "linecolor": "white",
            "ticks": ""
           },
           "bgcolor": "#E5ECF6",
           "radialaxis": {
            "gridcolor": "white",
            "linecolor": "white",
            "ticks": ""
           }
          },
          "scene": {
           "xaxis": {
            "backgroundcolor": "#E5ECF6",
            "gridcolor": "white",
            "gridwidth": 2,
            "linecolor": "white",
            "showbackground": true,
            "ticks": "",
            "zerolinecolor": "white"
           },
           "yaxis": {
            "backgroundcolor": "#E5ECF6",
            "gridcolor": "white",
            "gridwidth": 2,
            "linecolor": "white",
            "showbackground": true,
            "ticks": "",
            "zerolinecolor": "white"
           },
           "zaxis": {
            "backgroundcolor": "#E5ECF6",
            "gridcolor": "white",
            "gridwidth": 2,
            "linecolor": "white",
            "showbackground": true,
            "ticks": "",
            "zerolinecolor": "white"
           }
          },
          "shapedefaults": {
           "line": {
            "color": "#2a3f5f"
           }
          },
          "ternary": {
           "aaxis": {
            "gridcolor": "white",
            "linecolor": "white",
            "ticks": ""
           },
           "baxis": {
            "gridcolor": "white",
            "linecolor": "white",
            "ticks": ""
           },
           "bgcolor": "#E5ECF6",
           "caxis": {
            "gridcolor": "white",
            "linecolor": "white",
            "ticks": ""
           }
          },
          "title": {
           "x": 0.05
          },
          "xaxis": {
           "automargin": true,
           "gridcolor": "white",
           "linecolor": "white",
           "ticks": "",
           "title": {
            "standoff": 15
           },
           "zerolinecolor": "white",
           "zerolinewidth": 2
          },
          "yaxis": {
           "automargin": true,
           "gridcolor": "white",
           "linecolor": "white",
           "ticks": "",
           "title": {
            "standoff": 15
           },
           "zerolinecolor": "white",
           "zerolinewidth": 2
          }
         }
        },
        "title": {
         "text": "Average grid evolution time"
        },
        "width": 500,
        "xaxis": {
         "title": {
          "text": "Lattice Size"
         }
        },
        "yaxis": {
         "title": {
          "text": "Time (ms)"
         },
         "type": "log"
        }
       }
      }
     },
     "metadata": {}
    }
   ],
   "source": [
    "fig = go.Figure()\n",
    "for name, df, _ in runs:\n",
    "    fig.add_trace(go.Scatter(\n",
    "        x=df[\"size\"],\n",
    "        y=df[\"avgEvolveTime\"] / 1e6,  # time is originally in ns\n",
    "        mode=\"lines+markers\",\n",
    "        name=name,\n",
    "    ))\n",
    "fig.update_layout(title=\"Average grid evolution time\", xaxis_title='Lattice Size', yaxis_title=\"Time (ms)\", width=500, height=400)\n",
    "fig.update_yaxes(type=\"log\")\n",
    "fig.show()"
   ]
  },
  {
   "cell_type": "code",
   "execution_count": 16,
   "metadata": {},
   "outputs": [
    {
     "output_type": "display_data",
     "data": {
      "application/vnd.plotly.v1+json": {
       "config": {
        "plotlyServerURL": "https://plot.ly"
       },
       "data": [
        {
         "mode": "lines+markers",
         "name": "CPU 2 Thread",
         "type": "scatter",
         "x": [
          32,
          64,
          128,
          256,
          512,
          1024,
          2048,
          4096,
          8192
         ],
         "y": [
          1.203395867964854,
          1.6660598792136034,
          1.9512064579502808,
          1.9512268093607128,
          1.9989124741154618,
          1.986968726221133,
          1.9954230817155592,
          1.9582104880350388,
          1.9915591716939935
         ]
        },
        {
         "mode": "lines+markers",
         "name": "CPU 4 Thread",
         "type": "scatter",
         "x": [
          32,
          64,
          128,
          256,
          512,
          1024,
          2048,
          4096,
          8192
         ],
         "y": [
          1.7046505760659323,
          2.6711646751819806,
          3.4911952590723194,
          3.760505728486268,
          3.847914264943408,
          3.947930995074007,
          3.8649997068461825,
          3.847470818732509,
          3.886777692907895
         ]
        },
        {
         "mode": "lines+markers",
         "name": "CPU 8 Thread",
         "type": "scatter",
         "x": [
          32,
          64,
          128,
          256,
          512,
          1024,
          2048,
          4096,
          8192
         ],
         "y": [
          2.636576482830385,
          4.50280720032413,
          4.555444482013437,
          4.65443516012965,
          6.158614805655087,
          7.517962391086717,
          7.5396913450082375,
          7.398603897621135,
          7.50603966491254
         ]
        },
        {
         "mode": "lines+markers",
         "name": "CPU 12 Thread",
         "type": "scatter",
         "x": [
          32,
          64,
          128,
          256,
          512,
          1024,
          2048,
          4096,
          8192
         ],
         "y": [
          2.4229022232847237,
          4.288115973983023,
          6.423211657649815,
          6.579610538373425,
          6.772909246417199,
          6.892710454419875,
          6.914568014026788,
          6.775846394878619,
          6.923839678810035
         ]
        },
        {
         "mode": "lines+markers",
         "name": "CPU 16 Thread",
         "type": "scatter",
         "x": [
          32,
          64,
          128,
          256,
          512,
          1024,
          2048,
          4096,
          8192
         ],
         "y": [
          1.168299711815562,
          5.126861737182022,
          6.7044938228866915,
          8.275289623769966,
          8.213459053753109,
          8.978748011180487,
          8.857252741036534,
          8.822320912377355,
          8.978590866037
         ]
        },
        {
         "mode": "lines+markers",
         "name": "GPU",
         "type": "scatter",
         "x": [
          32,
          64,
          128,
          256,
          512,
          1024,
          2048,
          4096,
          8192
         ],
         "y": [
          1.2132639013587119,
          9.519701419481155,
          33.693052082200715,
          157.9455095862765,
          562.8604004449388,
          1152.5997262305366,
          1786.0123993381137,
          2272.396105235457,
          2302.4143766663888
         ]
        },
        {
         "mode": "lines+markers",
         "name": "GPU L1 opt",
         "type": "scatter",
         "x": [
          32,
          64,
          128,
          256,
          512,
          1024,
          2048,
          4096,
          8192
         ],
         "y": [
          1.057491652754591,
          7.974884674525884,
          41.89198323644721,
          131.62955955008934,
          514.0303738317757,
          1283.24428498857,
          1924.0608466237254,
          2358.900939878768,
          2235.9374413200135
         ]
        },
        {
         "mode": "lines+markers",
         "name": "GPU No Branch",
         "type": "scatter",
         "x": [
          32,
          64,
          128,
          256,
          512,
          1024,
          2048,
          4096,
          8192
         ],
         "y": [
          1.2552638097597226,
          9.010308084317813,
          38.7828535669587,
          152.48319532391622,
          505.35453909917106,
          1257.5314872433105,
          1861.5419215379663,
          2439.1103069723413,
          2465.8589656390945
         ]
        },
        {
         "mode": "lines+markers",
         "name": "GPU K Config",
         "type": "scatter",
         "x": [
          32,
          64,
          128,
          256,
          512,
          1024,
          2048,
          4096,
          8192
         ],
         "y": [
          0.9955306713815628,
          10.174601098613655,
          38.25617283950617,
          160.18830753485992,
          526.6564321398835,
          1231.8519353855531,
          1530.9015469571466,
          1881.0848587257944,
          1941.7420126027037
         ]
        },
        {
         "mode": "lines+markers",
         "name": "GPU Pre Increment",
         "type": "scatter",
         "x": [
          32,
          64,
          128,
          256,
          512,
          1024,
          2048,
          4096,
          8192
         ],
         "y": [
          1.297363031233999,
          10.518523526230394,
          34.770534111310596,
          161.6357299599845,
          590.2385396010732,
          1471.5306924925362,
          1835.5822316954263,
          2681.353027569133,
          2765.445280856023
         ]
        },
        {
         "mode": "lines+markers",
         "name": "GPU 6",
         "type": "scatter",
         "x": [
          32,
          64,
          128,
          256,
          512,
          1024,
          2048,
          4096,
          8192
         ],
         "y": [
          1.2513890603778244,
          10.961673946738058,
          42.29220690596424,
          170.065462447372,
          591.3421759962604,
          1498.1489361702127,
          2419.1922778076623,
          2963.2132886914424,
          2979.7869243502237
         ]
        }
       ],
       "layout": {
        "height": 400,
        "template": {
         "data": {
          "bar": [
           {
            "error_x": {
             "color": "#2a3f5f"
            },
            "error_y": {
             "color": "#2a3f5f"
            },
            "marker": {
             "line": {
              "color": "#E5ECF6",
              "width": 0.5
             }
            },
            "type": "bar"
           }
          ],
          "barpolar": [
           {
            "marker": {
             "line": {
              "color": "#E5ECF6",
              "width": 0.5
             }
            },
            "type": "barpolar"
           }
          ],
          "carpet": [
           {
            "aaxis": {
             "endlinecolor": "#2a3f5f",
             "gridcolor": "white",
             "linecolor": "white",
             "minorgridcolor": "white",
             "startlinecolor": "#2a3f5f"
            },
            "baxis": {
             "endlinecolor": "#2a3f5f",
             "gridcolor": "white",
             "linecolor": "white",
             "minorgridcolor": "white",
             "startlinecolor": "#2a3f5f"
            },
            "type": "carpet"
           }
          ],
          "choropleth": [
           {
            "colorbar": {
             "outlinewidth": 0,
             "ticks": ""
            },
            "type": "choropleth"
           }
          ],
          "contour": [
           {
            "colorbar": {
             "outlinewidth": 0,
             "ticks": ""
            },
            "colorscale": [
             [
              0,
              "#0d0887"
             ],
             [
              0.1111111111111111,
              "#46039f"
             ],
             [
              0.2222222222222222,
              "#7201a8"
             ],
             [
              0.3333333333333333,
              "#9c179e"
             ],
             [
              0.4444444444444444,
              "#bd3786"
             ],
             [
              0.5555555555555556,
              "#d8576b"
             ],
             [
              0.6666666666666666,
              "#ed7953"
             ],
             [
              0.7777777777777778,
              "#fb9f3a"
             ],
             [
              0.8888888888888888,
              "#fdca26"
             ],
             [
              1,
              "#f0f921"
             ]
            ],
            "type": "contour"
           }
          ],
          "contourcarpet": [
           {
            "colorbar": {
             "outlinewidth": 0,
             "ticks": ""
            },
            "type": "contourcarpet"
           }
          ],
          "heatmap": [
           {
            "colorbar": {
             "outlinewidth": 0,
             "ticks": ""
            },
            "colorscale": [
             [
              0,
              "#0d0887"
             ],
             [
              0.1111111111111111,
              "#46039f"
             ],
             [
              0.2222222222222222,
              "#7201a8"
             ],
             [
              0.3333333333333333,
              "#9c179e"
             ],
             [
              0.4444444444444444,
              "#bd3786"
             ],
             [
              0.5555555555555556,
              "#d8576b"
             ],
             [
              0.6666666666666666,
              "#ed7953"
             ],
             [
              0.7777777777777778,
              "#fb9f3a"
             ],
             [
              0.8888888888888888,
              "#fdca26"
             ],
             [
              1,
              "#f0f921"
             ]
            ],
            "type": "heatmap"
           }
          ],
          "heatmapgl": [
           {
            "colorbar": {
             "outlinewidth": 0,
             "ticks": ""
            },
            "colorscale": [
             [
              0,
              "#0d0887"
             ],
             [
              0.1111111111111111,
              "#46039f"
             ],
             [
              0.2222222222222222,
              "#7201a8"
             ],
             [
              0.3333333333333333,
              "#9c179e"
             ],
             [
              0.4444444444444444,
              "#bd3786"
             ],
             [
              0.5555555555555556,
              "#d8576b"
             ],
             [
              0.6666666666666666,
              "#ed7953"
             ],
             [
              0.7777777777777778,
              "#fb9f3a"
             ],
             [
              0.8888888888888888,
              "#fdca26"
             ],
             [
              1,
              "#f0f921"
             ]
            ],
            "type": "heatmapgl"
           }
          ],
          "histogram": [
           {
            "marker": {
             "colorbar": {
              "outlinewidth": 0,
              "ticks": ""
             }
            },
            "type": "histogram"
           }
          ],
          "histogram2d": [
           {
            "colorbar": {
             "outlinewidth": 0,
             "ticks": ""
            },
            "colorscale": [
             [
              0,
              "#0d0887"
             ],
             [
              0.1111111111111111,
              "#46039f"
             ],
             [
              0.2222222222222222,
              "#7201a8"
             ],
             [
              0.3333333333333333,
              "#9c179e"
             ],
             [
              0.4444444444444444,
              "#bd3786"
             ],
             [
              0.5555555555555556,
              "#d8576b"
             ],
             [
              0.6666666666666666,
              "#ed7953"
             ],
             [
              0.7777777777777778,
              "#fb9f3a"
             ],
             [
              0.8888888888888888,
              "#fdca26"
             ],
             [
              1,
              "#f0f921"
             ]
            ],
            "type": "histogram2d"
           }
          ],
          "histogram2dcontour": [
           {
            "colorbar": {
             "outlinewidth": 0,
             "ticks": ""
            },
            "colorscale": [
             [
              0,
              "#0d0887"
             ],
             [
              0.1111111111111111,
              "#46039f"
             ],
             [
              0.2222222222222222,
              "#7201a8"
             ],
             [
              0.3333333333333333,
              "#9c179e"
             ],
             [
              0.4444444444444444,
              "#bd3786"
             ],
             [
              0.5555555555555556,
              "#d8576b"
             ],
             [
              0.6666666666666666,
              "#ed7953"
             ],
             [
              0.7777777777777778,
              "#fb9f3a"
             ],
             [
              0.8888888888888888,
              "#fdca26"
             ],
             [
              1,
              "#f0f921"
             ]
            ],
            "type": "histogram2dcontour"
           }
          ],
          "mesh3d": [
           {
            "colorbar": {
             "outlinewidth": 0,
             "ticks": ""
            },
            "type": "mesh3d"
           }
          ],
          "parcoords": [
           {
            "line": {
             "colorbar": {
              "outlinewidth": 0,
              "ticks": ""
             }
            },
            "type": "parcoords"
           }
          ],
          "pie": [
           {
            "automargin": true,
            "type": "pie"
           }
          ],
          "scatter": [
           {
            "marker": {
             "colorbar": {
              "outlinewidth": 0,
              "ticks": ""
             }
            },
            "type": "scatter"
           }
          ],
          "scatter3d": [
           {
            "line": {
             "colorbar": {
              "outlinewidth": 0,
              "ticks": ""
             }
            },
            "marker": {
             "colorbar": {
              "outlinewidth": 0,
              "ticks": ""
             }
            },
            "type": "scatter3d"
           }
          ],
          "scattercarpet": [
           {
            "marker": {
             "colorbar": {
              "outlinewidth": 0,
              "ticks": ""
             }
            },
            "type": "scattercarpet"
           }
          ],
          "scattergeo": [
           {
            "marker": {
             "colorbar": {
              "outlinewidth": 0,
              "ticks": ""
             }
            },
            "type": "scattergeo"
           }
          ],
          "scattergl": [
           {
            "marker": {
             "colorbar": {
              "outlinewidth": 0,
              "ticks": ""
             }
            },
            "type": "scattergl"
           }
          ],
          "scattermapbox": [
           {
            "marker": {
             "colorbar": {
              "outlinewidth": 0,
              "ticks": ""
             }
            },
            "type": "scattermapbox"
           }
          ],
          "scatterpolar": [
           {
            "marker": {
             "colorbar": {
              "outlinewidth": 0,
              "ticks": ""
             }
            },
            "type": "scatterpolar"
           }
          ],
          "scatterpolargl": [
           {
            "marker": {
             "colorbar": {
              "outlinewidth": 0,
              "ticks": ""
             }
            },
            "type": "scatterpolargl"
           }
          ],
          "scatterternary": [
           {
            "marker": {
             "colorbar": {
              "outlinewidth": 0,
              "ticks": ""
             }
            },
            "type": "scatterternary"
           }
          ],
          "surface": [
           {
            "colorbar": {
             "outlinewidth": 0,
             "ticks": ""
            },
            "colorscale": [
             [
              0,
              "#0d0887"
             ],
             [
              0.1111111111111111,
              "#46039f"
             ],
             [
              0.2222222222222222,
              "#7201a8"
             ],
             [
              0.3333333333333333,
              "#9c179e"
             ],
             [
              0.4444444444444444,
              "#bd3786"
             ],
             [
              0.5555555555555556,
              "#d8576b"
             ],
             [
              0.6666666666666666,
              "#ed7953"
             ],
             [
              0.7777777777777778,
              "#fb9f3a"
             ],
             [
              0.8888888888888888,
              "#fdca26"
             ],
             [
              1,
              "#f0f921"
             ]
            ],
            "type": "surface"
           }
          ],
          "table": [
           {
            "cells": {
             "fill": {
              "color": "#EBF0F8"
             },
             "line": {
              "color": "white"
             }
            },
            "header": {
             "fill": {
              "color": "#C8D4E3"
             },
             "line": {
              "color": "white"
             }
            },
            "type": "table"
           }
          ]
         },
         "layout": {
          "annotationdefaults": {
           "arrowcolor": "#2a3f5f",
           "arrowhead": 0,
           "arrowwidth": 1
          },
          "autotypenumbers": "strict",
          "coloraxis": {
           "colorbar": {
            "outlinewidth": 0,
            "ticks": ""
           }
          },
          "colorscale": {
           "diverging": [
            [
             0,
             "#8e0152"
            ],
            [
             0.1,
             "#c51b7d"
            ],
            [
             0.2,
             "#de77ae"
            ],
            [
             0.3,
             "#f1b6da"
            ],
            [
             0.4,
             "#fde0ef"
            ],
            [
             0.5,
             "#f7f7f7"
            ],
            [
             0.6,
             "#e6f5d0"
            ],
            [
             0.7,
             "#b8e186"
            ],
            [
             0.8,
             "#7fbc41"
            ],
            [
             0.9,
             "#4d9221"
            ],
            [
             1,
             "#276419"
            ]
           ],
           "sequential": [
            [
             0,
             "#0d0887"
            ],
            [
             0.1111111111111111,
             "#46039f"
            ],
            [
             0.2222222222222222,
             "#7201a8"
            ],
            [
             0.3333333333333333,
             "#9c179e"
            ],
            [
             0.4444444444444444,
             "#bd3786"
            ],
            [
             0.5555555555555556,
             "#d8576b"
            ],
            [
             0.6666666666666666,
             "#ed7953"
            ],
            [
             0.7777777777777778,
             "#fb9f3a"
            ],
            [
             0.8888888888888888,
             "#fdca26"
            ],
            [
             1,
             "#f0f921"
            ]
           ],
           "sequentialminus": [
            [
             0,
             "#0d0887"
            ],
            [
             0.1111111111111111,
             "#46039f"
            ],
            [
             0.2222222222222222,
             "#7201a8"
            ],
            [
             0.3333333333333333,
             "#9c179e"
            ],
            [
             0.4444444444444444,
             "#bd3786"
            ],
            [
             0.5555555555555556,
             "#d8576b"
            ],
            [
             0.6666666666666666,
             "#ed7953"
            ],
            [
             0.7777777777777778,
             "#fb9f3a"
            ],
            [
             0.8888888888888888,
             "#fdca26"
            ],
            [
             1,
             "#f0f921"
            ]
           ]
          },
          "colorway": [
           "#636efa",
           "#EF553B",
           "#00cc96",
           "#ab63fa",
           "#FFA15A",
           "#19d3f3",
           "#FF6692",
           "#B6E880",
           "#FF97FF",
           "#FECB52"
          ],
          "font": {
           "color": "#2a3f5f"
          },
          "geo": {
           "bgcolor": "white",
           "lakecolor": "white",
           "landcolor": "#E5ECF6",
           "showlakes": true,
           "showland": true,
           "subunitcolor": "white"
          },
          "hoverlabel": {
           "align": "left"
          },
          "hovermode": "closest",
          "mapbox": {
           "style": "light"
          },
          "paper_bgcolor": "white",
          "plot_bgcolor": "#E5ECF6",
          "polar": {
           "angularaxis": {
            "gridcolor": "white",
            "linecolor": "white",
            "ticks": ""
           },
           "bgcolor": "#E5ECF6",
           "radialaxis": {
            "gridcolor": "white",
            "linecolor": "white",
            "ticks": ""
           }
          },
          "scene": {
           "xaxis": {
            "backgroundcolor": "#E5ECF6",
            "gridcolor": "white",
            "gridwidth": 2,
            "linecolor": "white",
            "showbackground": true,
            "ticks": "",
            "zerolinecolor": "white"
           },
           "yaxis": {
            "backgroundcolor": "#E5ECF6",
            "gridcolor": "white",
            "gridwidth": 2,
            "linecolor": "white",
            "showbackground": true,
            "ticks": "",
            "zerolinecolor": "white"
           },
           "zaxis": {
            "backgroundcolor": "#E5ECF6",
            "gridcolor": "white",
            "gridwidth": 2,
            "linecolor": "white",
            "showbackground": true,
            "ticks": "",
            "zerolinecolor": "white"
           }
          },
          "shapedefaults": {
           "line": {
            "color": "#2a3f5f"
           }
          },
          "ternary": {
           "aaxis": {
            "gridcolor": "white",
            "linecolor": "white",
            "ticks": ""
           },
           "baxis": {
            "gridcolor": "white",
            "linecolor": "white",
            "ticks": ""
           },
           "bgcolor": "#E5ECF6",
           "caxis": {
            "gridcolor": "white",
            "linecolor": "white",
            "ticks": ""
           }
          },
          "title": {
           "x": 0.05
          },
          "xaxis": {
           "automargin": true,
           "gridcolor": "white",
           "linecolor": "white",
           "ticks": "",
           "title": {
            "standoff": 15
           },
           "zerolinecolor": "white",
           "zerolinewidth": 2
          },
          "yaxis": {
           "automargin": true,
           "gridcolor": "white",
           "linecolor": "white",
           "ticks": "",
           "title": {
            "standoff": 15
           },
           "zerolinecolor": "white",
           "zerolinewidth": 2
          }
         }
        },
        "title": {
         "text": "Speedup"
        },
        "width": 500,
        "xaxis": {
         "title": {
          "text": "Lattice Size"
         }
        },
        "yaxis": {
         "title": {
          "text": "Speedup"
         }
        }
       }
      }
     },
     "metadata": {}
    }
   ],
   "source": [
    "fig = go.Figure()\n",
    "for name, df, _ in runs_gpu:\n",
    "    fig.add_trace(go.Scatter(\n",
    "        x=df[\"size\"],\n",
    "        y=cpu_df[\"avgEvolveTime\"] / df[\"avgEvolveTime\"],\n",
    "        mode=\"lines+markers\",\n",
    "        name=name,\n",
    "    ))\n",
    "fig.update_layout(title=\"Speedup\", xaxis_title='Lattice Size', yaxis_title=\"Speedup\", width=500, height=400)\n",
    "fig.update_yaxes()\n",
    "fig.show()"
   ]
  },
  {
   "cell_type": "code",
   "execution_count": 20,
   "metadata": {},
   "outputs": [
    {
     "output_type": "display_data",
     "data": {
      "application/vnd.plotly.v1+json": {
       "config": {
        "plotlyServerURL": "https://plot.ly"
       },
       "data": [
        {
         "mode": "lines+markers",
         "name": "CPU 2 Thread",
         "type": "scatter",
         "x": [
          32,
          64,
          128,
          256,
          512,
          1024,
          2048,
          4096,
          8192
         ],
         "y": [
          60.169793398242696,
          83.30299396068017,
          97.56032289751404,
          97.56134046803564,
          99.94562370577309,
          99.34843631105666,
          99.77115408577795,
          97.91052440175194,
          99.57795858469967
         ]
        },
        {
         "mode": "lines+markers",
         "name": "CPU 4 Thread",
         "type": "scatter",
         "x": [
          32,
          64,
          128,
          256,
          512,
          1024,
          2048,
          4096,
          8192
         ],
         "y": [
          42.61626440164831,
          66.77911687954952,
          87.27988147680799,
          94.0126432121567,
          96.1978566235852,
          98.69827487685018,
          96.62499267115456,
          96.18677046831272,
          97.16944232269738
         ]
        },
        {
         "mode": "lines+markers",
         "name": "CPU 8 Thread",
         "type": "scatter",
         "x": [
          32,
          64,
          128,
          256,
          512,
          1024,
          2048,
          4096,
          8192
         ],
         "y": [
          32.95720603537981,
          56.28509000405163,
          56.94305602516796,
          58.180439501620626,
          76.98268507068859,
          93.97452988858396,
          94.24614181260297,
          92.48254872026419,
          93.82549581140674
         ]
        },
        {
         "mode": "lines+markers",
         "name": "CPU 12 Thread",
         "type": "scatter",
         "x": [
          32,
          64,
          128,
          256,
          512,
          1024,
          2048,
          4096,
          8192
         ],
         "y": [
          20.19085186070603,
          35.73429978319185,
          53.52676381374846,
          54.830087819778534,
          56.440910386809996,
          57.439253786832296,
          57.6214001168899,
          56.465386623988486,
          57.698663990083624
         ]
        },
        {
         "mode": "lines+markers",
         "name": "CPU 16 Thread",
         "type": "scatter",
         "x": [
          32,
          64,
          128,
          256,
          512,
          1024,
          2048,
          4096,
          8192
         ],
         "y": [
          7.301873198847263,
          32.04288585738764,
          41.903086393041825,
          51.72056014856229,
          51.33411908595693,
          56.117175069878044,
          55.35782963147834,
          55.13950570235847,
          56.11619291273126
         ]
        },
        {
         "mode": "lines+markers",
         "name": "GPU",
         "type": "scatter",
         "x": [
          32,
          64,
          128,
          256,
          512,
          1024,
          2048,
          4096,
          8192
         ],
         "y": [
          0.013939153278477848,
          0.10937156961720076,
          0.38709848440028394,
          1.8146313141805663,
          6.466686585994242,
          13.242184354670687,
          20.519443926219136,
          26.1074920178706,
          26.45237105545024
         ]
        },
        {
         "mode": "lines+markers",
         "name": "GPU L1 opt",
         "type": "scatter",
         "x": [
          32,
          64,
          128,
          256,
          512,
          1024,
          2048,
          4096,
          8192
         ],
         "y": [
          0.012149490495801827,
          0.09162321547019628,
          0.481295763286388,
          1.5122881382133426,
          5.905679846412864,
          14.743155847754709,
          22.10547847683508,
          27.101343518827758,
          25.688619500459716
         ]
        },
        {
         "mode": "lines+markers",
         "name": "GPU No Branch",
         "type": "scatter",
         "x": [
          32,
          64,
          128,
          256,
          512,
          1024,
          2048,
          4096,
          8192
         ],
         "y": [
          0.014421688990805636,
          0.10351916457166606,
          0.4455750639586248,
          1.751874946276611,
          5.806003436341579,
          14.447742270718182,
          21.38720038531671,
          28.022866578266786,
          28.33018113096386
         ]
        },
        {
         "mode": "lines+markers",
         "name": "GPU K Config",
         "type": "scatter",
         "x": [
          32,
          64,
          128,
          256,
          512,
          1024,
          2048,
          4096,
          8192
         ],
         "y": [
          0.01143762260318891,
          0.11689569276899879,
          0.43952404457153227,
          1.8403987538471958,
          6.050740258960058,
          14.152710654705343,
          17.58848284647457,
          21.611728615875396,
          22.308616872733268
         ]
        },
        {
         "mode": "lines+markers",
         "name": "GPU Pre Increment",
         "type": "scatter",
         "x": [
          32,
          64,
          128,
          256,
          512,
          1024,
          2048,
          4096,
          8192
         ],
         "y": [
          0.0149053657081112,
          0.120847007424522,
          0.39947764374207945,
          1.8570281475182044,
          6.781233221519682,
          16.906372845732264,
          21.08895027223606,
          30.80598607041743,
          31.772119495128944
         ]
        },
        {
         "mode": "lines+markers",
         "name": "GPU 6",
         "type": "scatter",
         "x": [
          32,
          64,
          128,
          256,
          512,
          1024,
          2048,
          4096,
          8192
         ],
         "y": [
          0.014377172109120224,
          0.12593834957189864,
          0.48589392125418474,
          1.953877096132491,
          6.793912867604095,
          17.21218906445557,
          27.79402892701818,
          34.044270320443964,
          34.23468433306783
         ]
        }
       ],
       "layout": {
        "height": 600,
        "template": {
         "data": {
          "bar": [
           {
            "error_x": {
             "color": "#2a3f5f"
            },
            "error_y": {
             "color": "#2a3f5f"
            },
            "marker": {
             "line": {
              "color": "#E5ECF6",
              "width": 0.5
             }
            },
            "type": "bar"
           }
          ],
          "barpolar": [
           {
            "marker": {
             "line": {
              "color": "#E5ECF6",
              "width": 0.5
             }
            },
            "type": "barpolar"
           }
          ],
          "carpet": [
           {
            "aaxis": {
             "endlinecolor": "#2a3f5f",
             "gridcolor": "white",
             "linecolor": "white",
             "minorgridcolor": "white",
             "startlinecolor": "#2a3f5f"
            },
            "baxis": {
             "endlinecolor": "#2a3f5f",
             "gridcolor": "white",
             "linecolor": "white",
             "minorgridcolor": "white",
             "startlinecolor": "#2a3f5f"
            },
            "type": "carpet"
           }
          ],
          "choropleth": [
           {
            "colorbar": {
             "outlinewidth": 0,
             "ticks": ""
            },
            "type": "choropleth"
           }
          ],
          "contour": [
           {
            "colorbar": {
             "outlinewidth": 0,
             "ticks": ""
            },
            "colorscale": [
             [
              0,
              "#0d0887"
             ],
             [
              0.1111111111111111,
              "#46039f"
             ],
             [
              0.2222222222222222,
              "#7201a8"
             ],
             [
              0.3333333333333333,
              "#9c179e"
             ],
             [
              0.4444444444444444,
              "#bd3786"
             ],
             [
              0.5555555555555556,
              "#d8576b"
             ],
             [
              0.6666666666666666,
              "#ed7953"
             ],
             [
              0.7777777777777778,
              "#fb9f3a"
             ],
             [
              0.8888888888888888,
              "#fdca26"
             ],
             [
              1,
              "#f0f921"
             ]
            ],
            "type": "contour"
           }
          ],
          "contourcarpet": [
           {
            "colorbar": {
             "outlinewidth": 0,
             "ticks": ""
            },
            "type": "contourcarpet"
           }
          ],
          "heatmap": [
           {
            "colorbar": {
             "outlinewidth": 0,
             "ticks": ""
            },
            "colorscale": [
             [
              0,
              "#0d0887"
             ],
             [
              0.1111111111111111,
              "#46039f"
             ],
             [
              0.2222222222222222,
              "#7201a8"
             ],
             [
              0.3333333333333333,
              "#9c179e"
             ],
             [
              0.4444444444444444,
              "#bd3786"
             ],
             [
              0.5555555555555556,
              "#d8576b"
             ],
             [
              0.6666666666666666,
              "#ed7953"
             ],
             [
              0.7777777777777778,
              "#fb9f3a"
             ],
             [
              0.8888888888888888,
              "#fdca26"
             ],
             [
              1,
              "#f0f921"
             ]
            ],
            "type": "heatmap"
           }
          ],
          "heatmapgl": [
           {
            "colorbar": {
             "outlinewidth": 0,
             "ticks": ""
            },
            "colorscale": [
             [
              0,
              "#0d0887"
             ],
             [
              0.1111111111111111,
              "#46039f"
             ],
             [
              0.2222222222222222,
              "#7201a8"
             ],
             [
              0.3333333333333333,
              "#9c179e"
             ],
             [
              0.4444444444444444,
              "#bd3786"
             ],
             [
              0.5555555555555556,
              "#d8576b"
             ],
             [
              0.6666666666666666,
              "#ed7953"
             ],
             [
              0.7777777777777778,
              "#fb9f3a"
             ],
             [
              0.8888888888888888,
              "#fdca26"
             ],
             [
              1,
              "#f0f921"
             ]
            ],
            "type": "heatmapgl"
           }
          ],
          "histogram": [
           {
            "marker": {
             "colorbar": {
              "outlinewidth": 0,
              "ticks": ""
             }
            },
            "type": "histogram"
           }
          ],
          "histogram2d": [
           {
            "colorbar": {
             "outlinewidth": 0,
             "ticks": ""
            },
            "colorscale": [
             [
              0,
              "#0d0887"
             ],
             [
              0.1111111111111111,
              "#46039f"
             ],
             [
              0.2222222222222222,
              "#7201a8"
             ],
             [
              0.3333333333333333,
              "#9c179e"
             ],
             [
              0.4444444444444444,
              "#bd3786"
             ],
             [
              0.5555555555555556,
              "#d8576b"
             ],
             [
              0.6666666666666666,
              "#ed7953"
             ],
             [
              0.7777777777777778,
              "#fb9f3a"
             ],
             [
              0.8888888888888888,
              "#fdca26"
             ],
             [
              1,
              "#f0f921"
             ]
            ],
            "type": "histogram2d"
           }
          ],
          "histogram2dcontour": [
           {
            "colorbar": {
             "outlinewidth": 0,
             "ticks": ""
            },
            "colorscale": [
             [
              0,
              "#0d0887"
             ],
             [
              0.1111111111111111,
              "#46039f"
             ],
             [
              0.2222222222222222,
              "#7201a8"
             ],
             [
              0.3333333333333333,
              "#9c179e"
             ],
             [
              0.4444444444444444,
              "#bd3786"
             ],
             [
              0.5555555555555556,
              "#d8576b"
             ],
             [
              0.6666666666666666,
              "#ed7953"
             ],
             [
              0.7777777777777778,
              "#fb9f3a"
             ],
             [
              0.8888888888888888,
              "#fdca26"
             ],
             [
              1,
              "#f0f921"
             ]
            ],
            "type": "histogram2dcontour"
           }
          ],
          "mesh3d": [
           {
            "colorbar": {
             "outlinewidth": 0,
             "ticks": ""
            },
            "type": "mesh3d"
           }
          ],
          "parcoords": [
           {
            "line": {
             "colorbar": {
              "outlinewidth": 0,
              "ticks": ""
             }
            },
            "type": "parcoords"
           }
          ],
          "pie": [
           {
            "automargin": true,
            "type": "pie"
           }
          ],
          "scatter": [
           {
            "marker": {
             "colorbar": {
              "outlinewidth": 0,
              "ticks": ""
             }
            },
            "type": "scatter"
           }
          ],
          "scatter3d": [
           {
            "line": {
             "colorbar": {
              "outlinewidth": 0,
              "ticks": ""
             }
            },
            "marker": {
             "colorbar": {
              "outlinewidth": 0,
              "ticks": ""
             }
            },
            "type": "scatter3d"
           }
          ],
          "scattercarpet": [
           {
            "marker": {
             "colorbar": {
              "outlinewidth": 0,
              "ticks": ""
             }
            },
            "type": "scattercarpet"
           }
          ],
          "scattergeo": [
           {
            "marker": {
             "colorbar": {
              "outlinewidth": 0,
              "ticks": ""
             }
            },
            "type": "scattergeo"
           }
          ],
          "scattergl": [
           {
            "marker": {
             "colorbar": {
              "outlinewidth": 0,
              "ticks": ""
             }
            },
            "type": "scattergl"
           }
          ],
          "scattermapbox": [
           {
            "marker": {
             "colorbar": {
              "outlinewidth": 0,
              "ticks": ""
             }
            },
            "type": "scattermapbox"
           }
          ],
          "scatterpolar": [
           {
            "marker": {
             "colorbar": {
              "outlinewidth": 0,
              "ticks": ""
             }
            },
            "type": "scatterpolar"
           }
          ],
          "scatterpolargl": [
           {
            "marker": {
             "colorbar": {
              "outlinewidth": 0,
              "ticks": ""
             }
            },
            "type": "scatterpolargl"
           }
          ],
          "scatterternary": [
           {
            "marker": {
             "colorbar": {
              "outlinewidth": 0,
              "ticks": ""
             }
            },
            "type": "scatterternary"
           }
          ],
          "surface": [
           {
            "colorbar": {
             "outlinewidth": 0,
             "ticks": ""
            },
            "colorscale": [
             [
              0,
              "#0d0887"
             ],
             [
              0.1111111111111111,
              "#46039f"
             ],
             [
              0.2222222222222222,
              "#7201a8"
             ],
             [
              0.3333333333333333,
              "#9c179e"
             ],
             [
              0.4444444444444444,
              "#bd3786"
             ],
             [
              0.5555555555555556,
              "#d8576b"
             ],
             [
              0.6666666666666666,
              "#ed7953"
             ],
             [
              0.7777777777777778,
              "#fb9f3a"
             ],
             [
              0.8888888888888888,
              "#fdca26"
             ],
             [
              1,
              "#f0f921"
             ]
            ],
            "type": "surface"
           }
          ],
          "table": [
           {
            "cells": {
             "fill": {
              "color": "#EBF0F8"
             },
             "line": {
              "color": "white"
             }
            },
            "header": {
             "fill": {
              "color": "#C8D4E3"
             },
             "line": {
              "color": "white"
             }
            },
            "type": "table"
           }
          ]
         },
         "layout": {
          "annotationdefaults": {
           "arrowcolor": "#2a3f5f",
           "arrowhead": 0,
           "arrowwidth": 1
          },
          "autotypenumbers": "strict",
          "coloraxis": {
           "colorbar": {
            "outlinewidth": 0,
            "ticks": ""
           }
          },
          "colorscale": {
           "diverging": [
            [
             0,
             "#8e0152"
            ],
            [
             0.1,
             "#c51b7d"
            ],
            [
             0.2,
             "#de77ae"
            ],
            [
             0.3,
             "#f1b6da"
            ],
            [
             0.4,
             "#fde0ef"
            ],
            [
             0.5,
             "#f7f7f7"
            ],
            [
             0.6,
             "#e6f5d0"
            ],
            [
             0.7,
             "#b8e186"
            ],
            [
             0.8,
             "#7fbc41"
            ],
            [
             0.9,
             "#4d9221"
            ],
            [
             1,
             "#276419"
            ]
           ],
           "sequential": [
            [
             0,
             "#0d0887"
            ],
            [
             0.1111111111111111,
             "#46039f"
            ],
            [
             0.2222222222222222,
             "#7201a8"
            ],
            [
             0.3333333333333333,
             "#9c179e"
            ],
            [
             0.4444444444444444,
             "#bd3786"
            ],
            [
             0.5555555555555556,
             "#d8576b"
            ],
            [
             0.6666666666666666,
             "#ed7953"
            ],
            [
             0.7777777777777778,
             "#fb9f3a"
            ],
            [
             0.8888888888888888,
             "#fdca26"
            ],
            [
             1,
             "#f0f921"
            ]
           ],
           "sequentialminus": [
            [
             0,
             "#0d0887"
            ],
            [
             0.1111111111111111,
             "#46039f"
            ],
            [
             0.2222222222222222,
             "#7201a8"
            ],
            [
             0.3333333333333333,
             "#9c179e"
            ],
            [
             0.4444444444444444,
             "#bd3786"
            ],
            [
             0.5555555555555556,
             "#d8576b"
            ],
            [
             0.6666666666666666,
             "#ed7953"
            ],
            [
             0.7777777777777778,
             "#fb9f3a"
            ],
            [
             0.8888888888888888,
             "#fdca26"
            ],
            [
             1,
             "#f0f921"
            ]
           ]
          },
          "colorway": [
           "#636efa",
           "#EF553B",
           "#00cc96",
           "#ab63fa",
           "#FFA15A",
           "#19d3f3",
           "#FF6692",
           "#B6E880",
           "#FF97FF",
           "#FECB52"
          ],
          "font": {
           "color": "#2a3f5f"
          },
          "geo": {
           "bgcolor": "white",
           "lakecolor": "white",
           "landcolor": "#E5ECF6",
           "showlakes": true,
           "showland": true,
           "subunitcolor": "white"
          },
          "hoverlabel": {
           "align": "left"
          },
          "hovermode": "closest",
          "mapbox": {
           "style": "light"
          },
          "paper_bgcolor": "white",
          "plot_bgcolor": "#E5ECF6",
          "polar": {
           "angularaxis": {
            "gridcolor": "white",
            "linecolor": "white",
            "ticks": ""
           },
           "bgcolor": "#E5ECF6",
           "radialaxis": {
            "gridcolor": "white",
            "linecolor": "white",
            "ticks": ""
           }
          },
          "scene": {
           "xaxis": {
            "backgroundcolor": "#E5ECF6",
            "gridcolor": "white",
            "gridwidth": 2,
            "linecolor": "white",
            "showbackground": true,
            "ticks": "",
            "zerolinecolor": "white"
           },
           "yaxis": {
            "backgroundcolor": "#E5ECF6",
            "gridcolor": "white",
            "gridwidth": 2,
            "linecolor": "white",
            "showbackground": true,
            "ticks": "",
            "zerolinecolor": "white"
           },
           "zaxis": {
            "backgroundcolor": "#E5ECF6",
            "gridcolor": "white",
            "gridwidth": 2,
            "linecolor": "white",
            "showbackground": true,
            "ticks": "",
            "zerolinecolor": "white"
           }
          },
          "shapedefaults": {
           "line": {
            "color": "#2a3f5f"
           }
          },
          "ternary": {
           "aaxis": {
            "gridcolor": "white",
            "linecolor": "white",
            "ticks": ""
           },
           "baxis": {
            "gridcolor": "white",
            "linecolor": "white",
            "ticks": ""
           },
           "bgcolor": "#E5ECF6",
           "caxis": {
            "gridcolor": "white",
            "linecolor": "white",
            "ticks": ""
           }
          },
          "title": {
           "x": 0.05
          },
          "xaxis": {
           "automargin": true,
           "gridcolor": "white",
           "linecolor": "white",
           "ticks": "",
           "title": {
            "standoff": 15
           },
           "zerolinecolor": "white",
           "zerolinewidth": 2
          },
          "yaxis": {
           "automargin": true,
           "gridcolor": "white",
           "linecolor": "white",
           "ticks": "",
           "title": {
            "standoff": 15
           },
           "zerolinecolor": "white",
           "zerolinewidth": 2
          }
         }
        },
        "title": {
         "text": "Efficiency"
        },
        "width": 1000,
        "xaxis": {
         "title": {
          "text": "Lattice Size"
         }
        },
        "yaxis": {
         "title": {
          "text": "Efficiency %"
         }
        }
       }
      }
     },
     "metadata": {}
    }
   ],
   "source": [
    "fig = go.Figure()\n",
    "for name, df, info in runs_gpu:\n",
    "    fig.add_trace(go.Scatter(\n",
    "        x=cpu_df[\"size\"],\n",
    "        y=100 * (cpu_df[\"avgEvolveTime\"] / df[\"avgEvolveTime\"]) / info[0], # speedup / cores\n",
    "        mode=\"lines+markers\",\n",
    "        name=name,\n",
    "    ))\n",
    "fig.update_layout(title=\"Efficiency\", xaxis_title='Lattice Size', yaxis_title=\"Efficiency %\", width=1000, height=600)\n",
    "fig.update_yaxes()\n",
    "fig.show()"
   ]
  }
 ]
}