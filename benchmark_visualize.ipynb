{
 "metadata": {
  "language_info": {
   "codemirror_mode": {
    "name": "ipython",
    "version": 3
   },
   "file_extension": ".py",
   "mimetype": "text/x-python",
   "name": "python",
   "nbconvert_exporter": "python",
   "pygments_lexer": "ipython3",
   "version": "3.8.10"
  },
  "orig_nbformat": 2,
  "kernelspec": {
   "name": "python3",
   "display_name": "Python 3.8.10 64-bit ('bt_rew': conda)"
  },
  "interpreter": {
   "hash": "64d9061477c2b47e4fafdd661e486d2c0da5459afa86980e15aa54a8cb77a46c"
  }
 },
 "nbformat": 4,
 "nbformat_minor": 2,
 "cells": [
  {
   "cell_type": "code",
   "execution_count": 2,
   "metadata": {},
   "outputs": [],
   "source": [
    "import pandas as pd\n",
    "import plotly.express as px\n",
    "import plotly.graph_objects as go\n",
    "\n",
    "all_colors = px.colors.qualitative.Plotly"
   ]
  },
  {
   "cell_type": "code",
   "execution_count": 3,
   "metadata": {},
   "outputs": [],
   "source": [
    "plot_width=1000\n",
    "plot_height=600\n",
    "\n",
    "def get_rgba(hex, opacity=0.3):\n",
    "    return \"rgba(%d, %d, %d, %.2f)\" % (tuple(int(hex.lstrip('#')[i:i+2], 16) for i in (0, 2, 4)) + (opacity,))"
   ]
  },
  {
   "cell_type": "code",
   "execution_count": 113,
   "metadata": {},
   "outputs": [],
   "source": [
    "runs = [\n",
    "    # (  RUN NAME,                DF,                                              INFO  )\n",
    "    # (\"CPU Baseline\", [pd.read_csv(\"res/1.1.benchmark_results_cpu.csv\", header=0)], (1,)),\n",
    "    # (\"1 Thread\", [pd.read_csv(\"res/6.benchmark_results_cpu_th_1.csv\", header=0)], (1,)),\n",
    "    # (\"2 Threads\", [pd.read_csv(\"res/6.benchmark_results_cpu_th_2.csv\", header=0)], (2,)),\n",
    "    # (\"4 Threads\", [pd.read_csv(\"res/6.benchmark_results_cpu_th_4.csv\", header=0)], (4,)),\n",
    "    # (\"8 Threads\", [pd.read_csv(\"res/6.benchmark_results_cpu_th_8.csv\", header=0)], (8,)),\n",
    "    # (\"12 Threads\", [pd.read_csv(\"res/6.benchmark_results_cpu_th_12.csv\", header=0)], (12,)),\n",
    "    # (\"16 Threads\", [pd.read_csv(\"res/6.benchmark_results_cpu_th_16.csv\", header=0)], (16,)),\n",
    "    # (\"CPU Reduction\", [pd.read_csv(\"res/7.1.benchmark_results_cpu_th_16.csv\", header=0)], (16,)),\n",
    "    # (\"CPU Critical\", [pd.read_csv(\"res/7.2.benchmark_results_cpu_th_16.csv\", header=0)], (16,)),\n",
    "    # (\"16 Threads, 1D\", [pd.read_csv(\"res/16.benchmark_results_cpu_th_16.csv\", header=0)], (16,)),\n",
    "\n",
    "    # # GPU optimizations\n",
    "    # (\"GPU\", [pd.read_csv(\"res/1.2.benchmark_results_gpu.csv\", header=0)], (8704,)),\n",
    "    # (\"GPU L1 opt\", [pd.read_csv(\"res/2.benchmark_results_gpu_cache_l1.csv\", header=0)], (8704,)),\n",
    "    # (\"GPU K Config\", [pd.read_csv(\"res/4.benchmark_results_gpu_config.csv\", header=0)], (8704,)),\n",
    "    # (\"GPU\", [pd.read_csv(\"res/5.benchmark_results_gpu_pre_inc.csv\", header=0)], (8704,)),\n",
    "    # (\"GPU Multi NH\", [pd.read_csv(\"res/8.benchmark_results_gpu.csv\", header=0)], (8704,)),\n",
    "    # (\"GPU Multi NH Unroll\", [pd.read_csv(\"res/9.benchmark_results_gpu.csv\", header=0)], (8704,)),\n",
    "    # (\"GPU NH Radius 2\", [pd.read_csv(\"res/10.benchmark_results_gpu.csv\", header=0)], (8704,)),\n",
    "    # (\"GPU NH Radius 3\", [pd.read_csv(\"res/11.benchmark_results_gpu.csv\", header=0)], (8704,)),\n",
    "    # (\"GPU No Opt\", [pd.read_csv(\"res/12.benchmark_results_gpu.csv\", header=0)], (8704,)),\n",
    "    # (\"GPU Opt 3\", [pd.read_csv(\"res/13.benchmark_results_gpu.csv\", header=0)], (8704,)),\n",
    "    # (\"GPU Opt 2\", [pd.read_csv(\"res/14.benchmark_results_gpu.csv\", header=0)], (8704,)),\n",
    "    # (\"GPU GridType\", [pd.read_csv(\"res/15.benchmark_results_gpu.csv\", header=0)], (8704,)),\n",
    "    # (\"GPU 2D, K fixed\", [\n",
    "    #     pd.read_csv(\"res/17.1.benchmark_results_gpu.csv\", header=0),\n",
    "    #     pd.read_csv(\"res/17.2.benchmark_results_gpu.csv\", header=0),\n",
    "    #     pd.read_csv(\"res/17.3.benchmark_results_gpu.csv\", header=0),\n",
    "    #     pd.read_csv(\"res/17.4.benchmark_results_gpu.csv\", header=0),\n",
    "    #     pd.read_csv(\"res/17.5.benchmark_results_gpu.csv\", header=0),\n",
    "    # ], (8704,)),\n",
    "    # (\"GPU 1D, K opt\", [\n",
    "    #     pd.read_csv(\"res/18.1.benchmark_results_gpu.csv\", header=0),\n",
    "    #     pd.read_csv(\"res/18.2.benchmark_results_gpu.csv\", header=0),\n",
    "    #     pd.read_csv(\"res/18.3.benchmark_results_gpu.csv\", header=0),\n",
    "    #     pd.read_csv(\"res/18.4.benchmark_results_gpu.csv\", header=0),\n",
    "    #     pd.read_csv(\"res/18.5.benchmark_results_gpu.csv\", header=0),\n",
    "    # ], (8704,)),\n",
    "    # (\"GPU 1D, if\", [\n",
    "    #     pd.read_csv(\"res/19.1.benchmark_results_gpu.csv\", header=0),\n",
    "    #     pd.read_csv(\"res/19.2.benchmark_results_gpu.csv\", header=0),\n",
    "    #     pd.read_csv(\"res/19.3.benchmark_results_gpu.csv\", header=0),\n",
    "    #     pd.read_csv(\"res/19.4.benchmark_results_gpu.csv\", header=0),\n",
    "    #     pd.read_csv(\"res/19.5.benchmark_results_gpu.csv\", header=0),\n",
    "    # ], (8704,)),\n",
    "    # (\"GPU 1D + prefetch\", [\n",
    "    #     pd.read_csv(\"res/20.1.benchmark_results_gpu.csv\", header=0),\n",
    "    #     pd.read_csv(\"res/20.2.benchmark_results_gpu.csv\", header=0),\n",
    "    #     pd.read_csv(\"res/20.3.benchmark_results_gpu.csv\", header=0),\n",
    "    #     pd.read_csv(\"res/20.4.benchmark_results_gpu.csv\", header=0),\n",
    "    #     pd.read_csv(\"res/20.5.benchmark_results_gpu.csv\", header=0),\n",
    "    # ], (8704,)),\n",
    "    # (\"GPU ubyte\", [ # 1D + prefetch\n",
    "    #     pd.read_csv(\"res/22.1.benchmark_results_gpu.csv\", header=0),\n",
    "    #     pd.read_csv(\"res/22.2.benchmark_results_gpu.csv\", header=0),\n",
    "    #     pd.read_csv(\"res/22.3.benchmark_results_gpu.csv\", header=0),\n",
    "    #     pd.read_csv(\"res/22.4.benchmark_results_gpu.csv\", header=0),\n",
    "    #     pd.read_csv(\"res/22.5.benchmark_results_gpu.csv\", header=0),\n",
    "    # ], (8704,)),\n",
    "    # (\"GPU all th\", [\n",
    "    #     pd.read_csv(\"res/23.1.hl.gpu.8704.csv\", header=0),\n",
    "    #     pd.read_csv(\"res/23.2.hl.gpu.8704.csv\", header=0),\n",
    "    #     pd.read_csv(\"res/23.3.hl.gpu.8704.csv\", header=0),\n",
    "    #     pd.read_csv(\"res/23.4.hl.gpu.8704.csv\", header=0),\n",
    "    #     pd.read_csv(\"res/23.5.hl.gpu.8704.csv\", header=0),\n",
    "    # ], (8704,)),\n",
    "    # (\"GPU no branch\", [\n",
    "    #     pd.read_csv(\"res/24.1.hl.gpu.8704.csv\", header=0),\n",
    "    #     pd.read_csv(\"res/24.2.hl.gpu.8704.csv\", header=0),\n",
    "    #     pd.read_csv(\"res/24.3.hl.gpu.8704.csv\", header=0),\n",
    "    #     pd.read_csv(\"res/24.4.hl.gpu.8704.csv\", header=0),\n",
    "    #     pd.read_csv(\"res/24.5.hl.gpu.8704.csv\", header=0),\n",
    "    # ], (8704,)),\n",
    "    # (\"GPU k1\", [\n",
    "    #     pd.read_csv(\"res/25.1.hl.gpu.8704.csv\", header=0),\n",
    "    #     pd.read_csv(\"res/25.2.hl.gpu.8704.csv\", header=0),\n",
    "    #     pd.read_csv(\"res/25.3.hl.gpu.8704.csv\", header=0),\n",
    "    #     pd.read_csv(\"res/25.4.hl.gpu.8704.csv\", header=0),\n",
    "    #     pd.read_csv(\"res/25.5.hl.gpu.8704.csv\", header=0),\n",
    "    # ], (8704,)),\n",
    "    # (\"GPU k2\", [\n",
    "    #     pd.read_csv(\"res/26.1.hl.gpu.8704.csv\", header=0),\n",
    "    #     pd.read_csv(\"res/26.2.hl.gpu.8704.csv\", header=0),\n",
    "    #     pd.read_csv(\"res/26.3.hl.gpu.8704.csv\", header=0),\n",
    "    #     pd.read_csv(\"res/26.4.hl.gpu.8704.csv\", header=0),\n",
    "    #     pd.read_csv(\"res/26.5.hl.gpu.8704.csv\", header=0),\n",
    "    # ], (8704,)),\n",
    "\n",
    "    # (\"1 Thread\", [\n",
    "    #     pd.read_csv(\"res/28.1.hl.cpu.1.csv\", header=0),\n",
    "    #     pd.read_csv(\"res/28.2.hl.cpu.1.csv\", header=0),\n",
    "    #     pd.read_csv(\"res/28.3.hl.cpu.1.csv\", header=0),\n",
    "    #     pd.read_csv(\"res/28.4.hl.cpu.1.csv\", header=0),\n",
    "    #     pd.read_csv(\"res/28.5.hl.cpu.1.csv\", header=0)\n",
    "    # ], (1,)),\n",
    "    # (\"2 Threads\", [\n",
    "    #     pd.read_csv(\"res/28.1.hl.cpu.2.csv\", header=0),\n",
    "    #     pd.read_csv(\"res/28.2.hl.cpu.2.csv\", header=0),\n",
    "    #     pd.read_csv(\"res/28.3.hl.cpu.2.csv\", header=0),\n",
    "    #     pd.read_csv(\"res/28.4.hl.cpu.2.csv\", header=0),\n",
    "    #     pd.read_csv(\"res/28.5.hl.cpu.2.csv\", header=0)\n",
    "    # ], (2,)),\n",
    "    # (\"4 Threads\", [\n",
    "    #     pd.read_csv(\"res/28.1.hl.cpu.4.csv\", header=0),\n",
    "    #     pd.read_csv(\"res/28.2.hl.cpu.4.csv\", header=0),\n",
    "    #     pd.read_csv(\"res/28.3.hl.cpu.4.csv\", header=0),\n",
    "    #     pd.read_csv(\"res/28.4.hl.cpu.4.csv\", header=0),\n",
    "    #     pd.read_csv(\"res/28.5.hl.cpu.4.csv\", header=0)\n",
    "    # ], (4,)),\n",
    "    # (\"8 Threads\", [\n",
    "    #     pd.read_csv(\"res/28.1.hl.cpu.8.csv\", header=0),\n",
    "    #     pd.read_csv(\"res/28.2.hl.cpu.8.csv\", header=0),\n",
    "    #     pd.read_csv(\"res/28.3.hl.cpu.8.csv\", header=0),\n",
    "    #     pd.read_csv(\"res/28.4.hl.cpu.8.csv\", header=0),\n",
    "    #     pd.read_csv(\"res/28.5.hl.cpu.8.csv\", header=0)\n",
    "    # ], (8,)),\n",
    "    # (\"12 Threads\", [\n",
    "    #     pd.read_csv(\"res/28.1.hl.cpu.12.csv\", header=0),\n",
    "    #     pd.read_csv(\"res/28.2.hl.cpu.12.csv\", header=0),\n",
    "    #     pd.read_csv(\"res/28.3.hl.cpu.12.csv\", header=0),\n",
    "    #     pd.read_csv(\"res/28.4.hl.cpu.12.csv\", header=0),\n",
    "    #     pd.read_csv(\"res/28.5.hl.cpu.12.csv\", header=0)\n",
    "    # ], (12,)),\n",
    "    # (\"16 Threads\", [\n",
    "    #     pd.read_csv(\"res/28.1.hl.cpu.16.csv\", header=0),\n",
    "    #     pd.read_csv(\"res/28.2.hl.cpu.16.csv\", header=0),\n",
    "    #     pd.read_csv(\"res/28.3.hl.cpu.16.csv\", header=0),\n",
    "    #     pd.read_csv(\"res/28.4.hl.cpu.16.csv\", header=0),\n",
    "    #     pd.read_csv(\"res/28.5.hl.cpu.16.csv\", header=0)\n",
    "    # ], (16,)),\n",
    "    # (\"GPU\", [\n",
    "    #     pd.read_csv(\"res/28.1.hl.gpu.8704.csv\", header=0),\n",
    "    #     pd.read_csv(\"res/28.2.hl.gpu.8704.csv\", header=0),\n",
    "    #     pd.read_csv(\"res/28.3.hl.gpu.8704.csv\", header=0),\n",
    "    #     pd.read_csv(\"res/28.4.hl.gpu.8704.csv\", header=0),\n",
    "    #     pd.read_csv(\"res/28.5.hl.gpu.8704.csv\", header=0),\n",
    "    # ], (8704,)),\n",
    "\n",
    "    \n",
    "\n",
    "    # (\"1 Thread\", [\n",
    "    #     pd.read_csv(\"res/29.1.hl.cpu.1.csv\", header=0),\n",
    "    # ], (1,)),\n",
    "    # (\"2 Threads\", [\n",
    "    #     pd.read_csv(\"res/29.1.hl.cpu.2.csv\", header=0),\n",
    "    # ], (2,)),\n",
    "    # (\"4 Threads\", [\n",
    "    #     pd.read_csv(\"res/29.1.hl.cpu.4.csv\", header=0),\n",
    "    # ], (4,)),\n",
    "    # (\"8 Threads\", [\n",
    "    #     pd.read_csv(\"res/29.1.hl.cpu.8.csv\", header=0),\n",
    "    # ], (8,)),\n",
    "    # (\"12 Threads\", [\n",
    "    #     pd.read_csv(\"res/29.1.hl.cpu.12.csv\", header=0),\n",
    "    # ], (12,)),\n",
    "    # (\"16 Threads\", [\n",
    "    #     pd.read_csv(\"res/29.1.hl.cpu.16.csv\", header=0),\n",
    "    # ], (16,)),\n",
    "\n",
    "    (\"GPU 1 Thread\", [\n",
    "        pd.read_csv(\"res/30.1.hl.gpu.1.csv\", header=0),\n",
    "    ], (1,)),\n",
    "    # (\"GPU 8704\", [\n",
    "    #     pd.read_csv(\"res/29.1.hl.gpu.8704.csv\", header=0),\n",
    "    # ], (8704,)),\n",
    "\n",
    "    (\"1 Thread\", [\n",
    "        pd.read_csv(\"res/31.1.hl.cpu.1.csv\", header=0),\n",
    "        pd.read_csv(\"res/31.2.hl.cpu.1.csv\", header=0),\n",
    "    ], (1,)),\n",
    "    (\"2 Threads\", [\n",
    "        pd.read_csv(\"res/31.1.hl.cpu.2.csv\", header=0),\n",
    "        pd.read_csv(\"res/31.2.hl.cpu.2.csv\", header=0),\n",
    "    ], (2,)),\n",
    "    (\"4 Threads\", [\n",
    "        pd.read_csv(\"res/31.1.hl.cpu.4.csv\", header=0),\n",
    "        pd.read_csv(\"res/31.2.hl.cpu.4.csv\", header=0),\n",
    "    ], (4,)),\n",
    "    (\"8 Threads\", [\n",
    "        pd.read_csv(\"res/31.1.hl.cpu.8.csv\", header=0),\n",
    "        pd.read_csv(\"res/31.2.hl.cpu.8.csv\", header=0),\n",
    "    ], (8,)),\n",
    "    (\"12 Threads\", [\n",
    "        pd.read_csv(\"res/31.1.hl.cpu.12.csv\", header=0),\n",
    "        pd.read_csv(\"res/31.2.hl.cpu.12.csv\", header=0),\n",
    "    ], (12,)),\n",
    "    (\"16 Threads\", [\n",
    "        pd.read_csv(\"res/31.1.hl.cpu.16.csv\", header=0),\n",
    "        pd.read_csv(\"res/31.2.hl.cpu.16.csv\", header=0),\n",
    "    ], (16,)),\n",
    "    # (\"GPU\", [\n",
    "    #     pd.read_csv(\"res/31.1.hl.gpu.8704.csv\", header=0),\n",
    "    #     pd.read_csv(\"res/31.2.hl.gpu.8704.csv\", header=0),\n",
    "    # ], (8704,)),\n",
    "\n",
    "    # (\"GPU No Branch\", [pd.read_csv(\"res/3.benchmark_results_gpu_no_branching.csv\", header=0)], (8704,)),\n",
    "\n",
    "    # (\"GPU less br\", [\n",
    "    #     pd.read_csv(\"res/32.1.hl.gpu.8704.csv\", header=0),\n",
    "    #     pd.read_csv(\"res/32.2.hl.gpu.8704.csv\", header=0),\n",
    "    #     pd.read_csv(\"res/32.3.hl.gpu.8704.csv\", header=0),\n",
    "    #     pd.read_csv(\"res/32.4.hl.gpu.8704.csv\", header=0),\n",
    "    #     pd.read_csv(\"res/32.5.hl.gpu.8704.csv\", header=0),\n",
    "    # ], (8704,)),\n",
    "\n",
    "    # (\"GPU bit cb1\", [\n",
    "    #     pd.read_csv(\"res/33.1.hl.gpu.8704.csv\", header=0),\n",
    "    #     pd.read_csv(\"res/33.2.hl.gpu.8704.csv\", header=0),\n",
    "    #     pd.read_csv(\"res/33.3.hl.gpu.8704.csv\", header=0),\n",
    "    #     pd.read_csv(\"res/33.4.hl.gpu.8704.csv\", header=0),\n",
    "    #     pd.read_csv(\"res/33.5.hl.gpu.8704.csv\", header=0),\n",
    "    # ], (8704,)),\n",
    "\n",
    "    # (\"GPU bit cb5\", [\n",
    "    #     pd.read_csv(\"res/35.1.hl.gpu.8704.csv\", header=0),\n",
    "    #     pd.read_csv(\"res/35.2.hl.gpu.8704.csv\", header=0),\n",
    "    #     pd.read_csv(\"res/35.3.hl.gpu.8704.csv\", header=0),\n",
    "    #     pd.read_csv(\"res/35.4.hl.gpu.8704.csv\", header=0),\n",
    "    #     pd.read_csv(\"res/35.5.hl.gpu.8704.csv\", header=0),\n",
    "    # ], (8704,)),\n",
    "\n",
    "    # (\"GPU bit cb8\", [\n",
    "    #     pd.read_csv(\"res/34.1.hl.gpu.8704.csv\", header=0),\n",
    "    #     pd.read_csv(\"res/34.2.hl.gpu.8704.csv\", header=0),\n",
    "    #     pd.read_csv(\"res/34.3.hl.gpu.8704.csv\", header=0),\n",
    "    #     pd.read_csv(\"res/34.4.hl.gpu.8704.csv\", header=0),\n",
    "    #     pd.read_csv(\"res/34.5.hl.gpu.8704.csv\", header=0),\n",
    "    # ], (8704,)),\n",
    "\n",
    "    (\"GPU 8704 Threads\", [\n",
    "        pd.read_csv(\"res/38.1.hl.gpu.8704.csv\", header=0),\n",
    "        pd.read_csv(\"res/38.2.hl.gpu.8704.csv\", header=0),\n",
    "        pd.read_csv(\"res/38.3.hl.gpu.8704.csv\", header=0),\n",
    "        pd.read_csv(\"res/38.4.hl.gpu.8704.csv\", header=0),\n",
    "        pd.read_csv(\"res/38.5.hl.gpu.8704.csv\", header=0),\n",
    "    ], (8704,)),\n",
    "]\n",
    "\n",
    "cpu_df = pd.concat(runs[0][1])\n",
    "cpu_df = cpu_df.groupby(cpu_df.index).mean() # use cpu_df mean only\n",
    "\n",
    "runs_gpu = runs[1:]"
   ]
  },
  {
   "cell_type": "code",
   "execution_count": 114,
   "metadata": {},
   "outputs": [],
   "source": [
    "def add_mean_std_trace(fig, df, name, idx, y_col, x_col=\"size\"):\n",
    "    df_mean = df.groupby(df.index).mean()\n",
    "    df_std = df.groupby(df.index).std()\n",
    "\n",
    "    color = all_colors[idx % len(all_colors)]\n",
    "    fig.add_trace(go.Scatter(\n",
    "        name=name,\n",
    "        x=df_mean[x_col],\n",
    "        y=df_mean[y_col],\n",
    "        mode=\"lines+markers\",\n",
    "        line=dict(color=color),\n",
    "    ))\n",
    "    fig.add_traces(go.Scatter(\n",
    "        name=name + \" upper\",\n",
    "        x=df_mean[x_col],\n",
    "        y=df_mean[y_col] + df_std[y_col],\n",
    "        mode=\"lines\",\n",
    "        line=dict(width=0),\n",
    "        showlegend=False\n",
    "    ))\n",
    "    fig.add_traces(go.Scatter(\n",
    "        name=name + \" lower\",\n",
    "        x=df_mean[x_col],\n",
    "        y=df_mean[y_col] - df_std[y_col],\n",
    "        line=dict(width=0),\n",
    "        mode='lines',\n",
    "        fillcolor=get_rgba(color),\n",
    "        fill='tonexty',\n",
    "        showlegend=False,\n",
    "    ))"
   ]
  },
  {
   "cell_type": "code",
   "execution_count": 115,
   "metadata": {},
   "outputs": [
    {
     "output_type": "display_data",
     "data": {
      "application/vnd.plotly.v1+json": {
       "config": {
        "plotlyServerURL": "https://plot.ly"
       },
       "data": [
        {
         "line": {
          "color": "#636EFA"
         },
         "mode": "lines+markers",
         "name": "GPU 1 Thread",
         "type": "scatter",
         "x": [
          1024,
          4096,
          16384,
          65536,
          262144,
          1048576,
          4194304,
          16777216
         ],
         "y": [
          0.109145,
          0.403339,
          1.543785,
          6.174555,
          25.773267,
          109.739348,
          449.727374,
          1722.209575
         ]
        },
        {
         "line": {
          "width": 0
         },
         "mode": "lines",
         "name": "GPU 1 Thread upper",
         "showlegend": false,
         "type": "scatter",
         "x": [
          1024,
          4096,
          16384,
          65536,
          262144,
          1048576,
          4194304,
          16777216
         ],
         "y": [
          null,
          null,
          null,
          null,
          null,
          null,
          null,
          null
         ]
        },
        {
         "fill": "tonexty",
         "fillcolor": "rgba(99, 110, 250, 0.30)",
         "line": {
          "width": 0
         },
         "mode": "lines",
         "name": "GPU 1 Thread lower",
         "showlegend": false,
         "type": "scatter",
         "x": [
          1024,
          4096,
          16384,
          65536,
          262144,
          1048576,
          4194304,
          16777216
         ],
         "y": [
          null,
          null,
          null,
          null,
          null,
          null,
          null,
          null
         ]
        },
        {
         "line": {
          "color": "#EF553B"
         },
         "mode": "lines+markers",
         "name": "1 Thread",
         "type": "scatter",
         "x": [
          1024,
          4096,
          16384,
          65536,
          262144,
          1048576,
          4194304,
          16777216
         ],
         "y": [
          0.0053975,
          0.018811500000000002,
          0.0680125,
          0.25781699999999996,
          1.0512355,
          4.2971415,
          17.864369,
          72.4041665
         ]
        },
        {
         "line": {
          "width": 0
         },
         "mode": "lines",
         "name": "1 Thread upper",
         "showlegend": false,
         "type": "scatter",
         "x": [
          1024,
          4096,
          16384,
          65536,
          262144,
          1048576,
          4194304,
          16777216
         ],
         "y": [
          0.00775711532881951,
          0.02037067045251634,
          0.06974844714781298,
          0.25877866522241366,
          1.0544521287476176,
          4.3063770216690775,
          18.023148413501875,
          72.70773663355155
         ]
        },
        {
         "fill": "tonexty",
         "fillcolor": "rgba(239, 85, 59, 0.30)",
         "line": {
          "width": 0
         },
         "mode": "lines",
         "name": "1 Thread lower",
         "showlegend": false,
         "type": "scatter",
         "x": [
          1024,
          4096,
          16384,
          65536,
          262144,
          1048576,
          4194304,
          16777216
         ],
         "y": [
          0.003037884671180491,
          0.017252329547483663,
          0.06627655285218703,
          0.25685533477758626,
          1.0480188712523824,
          4.287905978330923,
          17.705589586498125,
          72.10059636644846
         ]
        },
        {
         "line": {
          "color": "#00CC96"
         },
         "mode": "lines+markers",
         "name": "2 Threads",
         "type": "scatter",
         "x": [
          1024,
          4096,
          16384,
          65536,
          262144,
          1048576,
          4194304,
          16777216
         ],
         "y": [
          0.0049335,
          0.015248000000000001,
          0.0369875,
          0.13681,
          0.5582644999999999,
          2.1957880000000003,
          9.352230500000001,
          37.393731
         ]
        },
        {
         "line": {
          "width": 0
         },
         "mode": "lines",
         "name": "2 Threads upper",
         "showlegend": false,
         "type": "scatter",
         "x": [
          1024,
          4096,
          16384,
          65536,
          262144,
          1048576,
          4194304,
          16777216
         ],
         "y": [
          0.004997846717087976,
          0.016881416664540926,
          0.040751429396255985,
          0.1380502652942012,
          0.5629448397846737,
          2.200884825678793,
          9.354448693972584,
          37.401002886137725
         ]
        },
        {
         "fill": "tonexty",
         "fillcolor": "rgba(0, 204, 150, 0.30)",
         "line": {
          "width": 0
         },
         "mode": "lines",
         "name": "2 Threads lower",
         "showlegend": false,
         "type": "scatter",
         "x": [
          1024,
          4096,
          16384,
          65536,
          262144,
          1048576,
          4194304,
          16777216
         ],
         "y": [
          0.004869153282912025,
          0.013614583335459077,
          0.033223570603744014,
          0.13556973470579878,
          0.5535841602153262,
          2.1906911743212074,
          9.350012306027418,
          37.38645911386228
         ]
        },
        {
         "line": {
          "color": "#AB63FA"
         },
         "mode": "lines+markers",
         "name": "4 Threads",
         "type": "scatter",
         "x": [
          1024,
          4096,
          16384,
          65536,
          262144,
          1048576,
          4194304,
          16777216
         ],
         "y": [
          0.0040015,
          0.0089575,
          0.0230005,
          0.0745705,
          0.287597,
          1.1276484999999998,
          4.703434,
          18.875021
         ]
        },
        {
         "line": {
          "width": 0
         },
         "mode": "lines",
         "name": "4 Threads upper",
         "showlegend": false,
         "type": "scatter",
         "x": [
          1024,
          4096,
          16384,
          65536,
          262144,
          1048576,
          4194304,
          16777216
         ],
         "y": [
          0.004174741161390704,
          0.0090784152595829,
          0.025966812947077565,
          0.07539710782720707,
          0.2927192815229154,
          1.1327219911550133,
          4.7167997323779876,
          18.9166427193542
         ]
        },
        {
         "fill": "tonexty",
         "fillcolor": "rgba(171, 99, 250, 0.30)",
         "line": {
          "width": 0
         },
         "mode": "lines",
         "name": "4 Threads lower",
         "showlegend": false,
         "type": "scatter",
         "x": [
          1024,
          4096,
          16384,
          65536,
          262144,
          1048576,
          4194304,
          16777216
         ],
         "y": [
          0.0038282588386092955,
          0.0088365847404171,
          0.020034187052922436,
          0.07374389217279292,
          0.2824747184770846,
          1.1225750088449864,
          4.690068267622012,
          18.8333992806458
         ]
        },
        {
         "line": {
          "color": "#FFA15A"
         },
         "mode": "lines+markers",
         "name": "8 Threads",
         "type": "scatter",
         "x": [
          1024,
          4096,
          16384,
          65536,
          262144,
          1048576,
          4194304,
          16777216
         ],
         "y": [
          0.00324,
          0.0068920000000000006,
          0.020835,
          0.07120499999999999,
          0.28818699999999997,
          0.588234,
          2.5281884999999997,
          9.775511
         ]
        },
        {
         "line": {
          "width": 0
         },
         "mode": "lines",
         "name": "8 Threads upper",
         "showlegend": false,
         "type": "scatter",
         "x": [
          1024,
          4096,
          16384,
          65536,
          262144,
          1048576,
          4194304,
          16777216
         ],
         "y": [
          0.0033630365799264595,
          0.0069061421356237315,
          0.0232476483374085,
          0.07247072113832391,
          0.2886833889603929,
          0.5916846810921904,
          2.6838771497613103,
          9.780756318102842
         ]
        },
        {
         "fill": "tonexty",
         "fillcolor": "rgba(255, 161, 90, 0.30)",
         "line": {
          "width": 0
         },
         "mode": "lines",
         "name": "8 Threads lower",
         "showlegend": false,
         "type": "scatter",
         "x": [
          1024,
          4096,
          16384,
          65536,
          262144,
          1048576,
          4194304,
          16777216
         ],
         "y": [
          0.00311696342007354,
          0.00687785786437627,
          0.0184223516625915,
          0.06993927886167607,
          0.287690611039607,
          0.5847833189078097,
          2.372499850238689,
          9.770265681897158
         ]
        },
        {
         "line": {
          "color": "#19D3F3"
         },
         "mode": "lines+markers",
         "name": "12 Threads",
         "type": "scatter",
         "x": [
          1024,
          4096,
          16384,
          65536,
          262144,
          1048576,
          4194304,
          16777216
         ],
         "y": [
          0.004391,
          0.008556,
          0.017601,
          0.0520225,
          0.19607000000000002,
          0.771395,
          3.2083019999999998,
          12.837799
         ]
        },
        {
         "line": {
          "width": 0
         },
         "mode": "lines",
         "name": "12 Threads upper",
         "showlegend": false,
         "type": "scatter",
         "x": [
          1024,
          4096,
          16384,
          65536,
          262144,
          1048576,
          4194304,
          16777216
         ],
         "y": [
          0.006461408655314211,
          0.009314018469431978,
          0.021323210096165984,
          0.05374996186643873,
          0.19745734350468802,
          0.7740876626227584,
          3.217351552585625,
          12.848702586565897
         ]
        },
        {
         "fill": "tonexty",
         "fillcolor": "rgba(25, 211, 243, 0.30)",
         "line": {
          "width": 0
         },
         "mode": "lines",
         "name": "12 Threads lower",
         "showlegend": false,
         "type": "scatter",
         "x": [
          1024,
          4096,
          16384,
          65536,
          262144,
          1048576,
          4194304,
          16777216
         ],
         "y": [
          0.0023205913446857885,
          0.007797981530568021,
          0.013878789903834014,
          0.050295038133561266,
          0.19468265649531202,
          0.7687023373772417,
          3.1992524474143744,
          12.826895413434103
         ]
        },
        {
         "line": {
          "color": "#FF6692"
         },
         "mode": "lines+markers",
         "name": "16 Threads",
         "type": "scatter",
         "x": [
          1024,
          4096,
          16384,
          65536,
          262144,
          1048576,
          4194304,
          16777216
         ],
         "y": [
          0.0114195,
          0.015082000000000002,
          0.02568,
          0.0501865,
          0.15844049999999998,
          0.6499975,
          2.466631,
          9.9029795
         ]
        },
        {
         "line": {
          "width": 0
         },
         "mode": "lines",
         "name": "16 Threads upper",
         "showlegend": false,
         "type": "scatter",
         "x": [
          1024,
          4096,
          16384,
          65536,
          262144,
          1048576,
          4194304,
          16777216
         ],
         "y": [
          0.017485769075799393,
          0.022803606050557104,
          0.030185684409720682,
          0.052720063596991405,
          0.15993320241508477,
          0.6598807314806443,
          2.497433985602048,
          9.927837838892616
         ]
        },
        {
         "fill": "tonexty",
         "fillcolor": "rgba(255, 102, 146, 0.30)",
         "line": {
          "width": 0
         },
         "mode": "lines",
         "name": "16 Threads lower",
         "showlegend": false,
         "type": "scatter",
         "x": [
          1024,
          4096,
          16384,
          65536,
          262144,
          1048576,
          4194304,
          16777216
         ],
         "y": [
          0.005353230924200609,
          0.007360393949442901,
          0.02117431559027932,
          0.0476529364030086,
          0.1569477975849152,
          0.6401142685193557,
          2.435828014397952,
          9.878121161107385
         ]
        },
        {
         "line": {
          "color": "#B6E880"
         },
         "mode": "lines+markers",
         "name": "GPU 8704 Threads",
         "type": "scatter",
         "x": [
          1024,
          4096,
          16384,
          65536,
          262144,
          1048576,
          4194304,
          16777216
         ],
         "y": [
          0.007018600000000002,
          0.0070076,
          0.0066435999999999995,
          0.0072864,
          0.009176599999999998,
          0.0166986,
          0.0514014,
          0.1486162
         ]
        },
        {
         "line": {
          "width": 0
         },
         "mode": "lines",
         "name": "GPU 8704 Threads upper",
         "showlegend": false,
         "type": "scatter",
         "x": [
          1024,
          4096,
          16384,
          65536,
          262144,
          1048576,
          4194304,
          16777216
         ],
         "y": [
          0.007673075209614544,
          0.007408355910748675,
          0.007061367638765857,
          0.007564320492227544,
          0.010386966597358006,
          0.018010642034387618,
          0.06095482353818776,
          0.1585370737619224
         ]
        },
        {
         "fill": "tonexty",
         "fillcolor": "rgba(182, 232, 128, 0.30)",
         "line": {
          "width": 0
         },
         "mode": "lines",
         "name": "GPU 8704 Threads lower",
         "showlegend": false,
         "type": "scatter",
         "x": [
          1024,
          4096,
          16384,
          65536,
          262144,
          1048576,
          4194304,
          16777216
         ],
         "y": [
          0.006364124790385459,
          0.006606844089251325,
          0.006225832361234142,
          0.007008479507772457,
          0.00796623340264199,
          0.015386557965612382,
          0.041847976461812236,
          0.13869532623807762
         ]
        }
       ],
       "layout": {
        "height": 600,
        "template": {
         "data": {
          "bar": [
           {
            "error_x": {
             "color": "#2a3f5f"
            },
            "error_y": {
             "color": "#2a3f5f"
            },
            "marker": {
             "line": {
              "color": "#E5ECF6",
              "width": 0.5
             },
             "pattern": {
              "fillmode": "overlay",
              "size": 10,
              "solidity": 0.2
             }
            },
            "type": "bar"
           }
          ],
          "barpolar": [
           {
            "marker": {
             "line": {
              "color": "#E5ECF6",
              "width": 0.5
             },
             "pattern": {
              "fillmode": "overlay",
              "size": 10,
              "solidity": 0.2
             }
            },
            "type": "barpolar"
           }
          ],
          "carpet": [
           {
            "aaxis": {
             "endlinecolor": "#2a3f5f",
             "gridcolor": "white",
             "linecolor": "white",
             "minorgridcolor": "white",
             "startlinecolor": "#2a3f5f"
            },
            "baxis": {
             "endlinecolor": "#2a3f5f",
             "gridcolor": "white",
             "linecolor": "white",
             "minorgridcolor": "white",
             "startlinecolor": "#2a3f5f"
            },
            "type": "carpet"
           }
          ],
          "choropleth": [
           {
            "colorbar": {
             "outlinewidth": 0,
             "ticks": ""
            },
            "type": "choropleth"
           }
          ],
          "contour": [
           {
            "colorbar": {
             "outlinewidth": 0,
             "ticks": ""
            },
            "colorscale": [
             [
              0,
              "#0d0887"
             ],
             [
              0.1111111111111111,
              "#46039f"
             ],
             [
              0.2222222222222222,
              "#7201a8"
             ],
             [
              0.3333333333333333,
              "#9c179e"
             ],
             [
              0.4444444444444444,
              "#bd3786"
             ],
             [
              0.5555555555555556,
              "#d8576b"
             ],
             [
              0.6666666666666666,
              "#ed7953"
             ],
             [
              0.7777777777777778,
              "#fb9f3a"
             ],
             [
              0.8888888888888888,
              "#fdca26"
             ],
             [
              1,
              "#f0f921"
             ]
            ],
            "type": "contour"
           }
          ],
          "contourcarpet": [
           {
            "colorbar": {
             "outlinewidth": 0,
             "ticks": ""
            },
            "type": "contourcarpet"
           }
          ],
          "heatmap": [
           {
            "colorbar": {
             "outlinewidth": 0,
             "ticks": ""
            },
            "colorscale": [
             [
              0,
              "#0d0887"
             ],
             [
              0.1111111111111111,
              "#46039f"
             ],
             [
              0.2222222222222222,
              "#7201a8"
             ],
             [
              0.3333333333333333,
              "#9c179e"
             ],
             [
              0.4444444444444444,
              "#bd3786"
             ],
             [
              0.5555555555555556,
              "#d8576b"
             ],
             [
              0.6666666666666666,
              "#ed7953"
             ],
             [
              0.7777777777777778,
              "#fb9f3a"
             ],
             [
              0.8888888888888888,
              "#fdca26"
             ],
             [
              1,
              "#f0f921"
             ]
            ],
            "type": "heatmap"
           }
          ],
          "heatmapgl": [
           {
            "colorbar": {
             "outlinewidth": 0,
             "ticks": ""
            },
            "colorscale": [
             [
              0,
              "#0d0887"
             ],
             [
              0.1111111111111111,
              "#46039f"
             ],
             [
              0.2222222222222222,
              "#7201a8"
             ],
             [
              0.3333333333333333,
              "#9c179e"
             ],
             [
              0.4444444444444444,
              "#bd3786"
             ],
             [
              0.5555555555555556,
              "#d8576b"
             ],
             [
              0.6666666666666666,
              "#ed7953"
             ],
             [
              0.7777777777777778,
              "#fb9f3a"
             ],
             [
              0.8888888888888888,
              "#fdca26"
             ],
             [
              1,
              "#f0f921"
             ]
            ],
            "type": "heatmapgl"
           }
          ],
          "histogram": [
           {
            "marker": {
             "pattern": {
              "fillmode": "overlay",
              "size": 10,
              "solidity": 0.2
             }
            },
            "type": "histogram"
           }
          ],
          "histogram2d": [
           {
            "colorbar": {
             "outlinewidth": 0,
             "ticks": ""
            },
            "colorscale": [
             [
              0,
              "#0d0887"
             ],
             [
              0.1111111111111111,
              "#46039f"
             ],
             [
              0.2222222222222222,
              "#7201a8"
             ],
             [
              0.3333333333333333,
              "#9c179e"
             ],
             [
              0.4444444444444444,
              "#bd3786"
             ],
             [
              0.5555555555555556,
              "#d8576b"
             ],
             [
              0.6666666666666666,
              "#ed7953"
             ],
             [
              0.7777777777777778,
              "#fb9f3a"
             ],
             [
              0.8888888888888888,
              "#fdca26"
             ],
             [
              1,
              "#f0f921"
             ]
            ],
            "type": "histogram2d"
           }
          ],
          "histogram2dcontour": [
           {
            "colorbar": {
             "outlinewidth": 0,
             "ticks": ""
            },
            "colorscale": [
             [
              0,
              "#0d0887"
             ],
             [
              0.1111111111111111,
              "#46039f"
             ],
             [
              0.2222222222222222,
              "#7201a8"
             ],
             [
              0.3333333333333333,
              "#9c179e"
             ],
             [
              0.4444444444444444,
              "#bd3786"
             ],
             [
              0.5555555555555556,
              "#d8576b"
             ],
             [
              0.6666666666666666,
              "#ed7953"
             ],
             [
              0.7777777777777778,
              "#fb9f3a"
             ],
             [
              0.8888888888888888,
              "#fdca26"
             ],
             [
              1,
              "#f0f921"
             ]
            ],
            "type": "histogram2dcontour"
           }
          ],
          "mesh3d": [
           {
            "colorbar": {
             "outlinewidth": 0,
             "ticks": ""
            },
            "type": "mesh3d"
           }
          ],
          "parcoords": [
           {
            "line": {
             "colorbar": {
              "outlinewidth": 0,
              "ticks": ""
             }
            },
            "type": "parcoords"
           }
          ],
          "pie": [
           {
            "automargin": true,
            "type": "pie"
           }
          ],
          "scatter": [
           {
            "marker": {
             "colorbar": {
              "outlinewidth": 0,
              "ticks": ""
             }
            },
            "type": "scatter"
           }
          ],
          "scatter3d": [
           {
            "line": {
             "colorbar": {
              "outlinewidth": 0,
              "ticks": ""
             }
            },
            "marker": {
             "colorbar": {
              "outlinewidth": 0,
              "ticks": ""
             }
            },
            "type": "scatter3d"
           }
          ],
          "scattercarpet": [
           {
            "marker": {
             "colorbar": {
              "outlinewidth": 0,
              "ticks": ""
             }
            },
            "type": "scattercarpet"
           }
          ],
          "scattergeo": [
           {
            "marker": {
             "colorbar": {
              "outlinewidth": 0,
              "ticks": ""
             }
            },
            "type": "scattergeo"
           }
          ],
          "scattergl": [
           {
            "marker": {
             "colorbar": {
              "outlinewidth": 0,
              "ticks": ""
             }
            },
            "type": "scattergl"
           }
          ],
          "scattermapbox": [
           {
            "marker": {
             "colorbar": {
              "outlinewidth": 0,
              "ticks": ""
             }
            },
            "type": "scattermapbox"
           }
          ],
          "scatterpolar": [
           {
            "marker": {
             "colorbar": {
              "outlinewidth": 0,
              "ticks": ""
             }
            },
            "type": "scatterpolar"
           }
          ],
          "scatterpolargl": [
           {
            "marker": {
             "colorbar": {
              "outlinewidth": 0,
              "ticks": ""
             }
            },
            "type": "scatterpolargl"
           }
          ],
          "scatterternary": [
           {
            "marker": {
             "colorbar": {
              "outlinewidth": 0,
              "ticks": ""
             }
            },
            "type": "scatterternary"
           }
          ],
          "surface": [
           {
            "colorbar": {
             "outlinewidth": 0,
             "ticks": ""
            },
            "colorscale": [
             [
              0,
              "#0d0887"
             ],
             [
              0.1111111111111111,
              "#46039f"
             ],
             [
              0.2222222222222222,
              "#7201a8"
             ],
             [
              0.3333333333333333,
              "#9c179e"
             ],
             [
              0.4444444444444444,
              "#bd3786"
             ],
             [
              0.5555555555555556,
              "#d8576b"
             ],
             [
              0.6666666666666666,
              "#ed7953"
             ],
             [
              0.7777777777777778,
              "#fb9f3a"
             ],
             [
              0.8888888888888888,
              "#fdca26"
             ],
             [
              1,
              "#f0f921"
             ]
            ],
            "type": "surface"
           }
          ],
          "table": [
           {
            "cells": {
             "fill": {
              "color": "#EBF0F8"
             },
             "line": {
              "color": "white"
             }
            },
            "header": {
             "fill": {
              "color": "#C8D4E3"
             },
             "line": {
              "color": "white"
             }
            },
            "type": "table"
           }
          ]
         },
         "layout": {
          "annotationdefaults": {
           "arrowcolor": "#2a3f5f",
           "arrowhead": 0,
           "arrowwidth": 1
          },
          "autotypenumbers": "strict",
          "coloraxis": {
           "colorbar": {
            "outlinewidth": 0,
            "ticks": ""
           }
          },
          "colorscale": {
           "diverging": [
            [
             0,
             "#8e0152"
            ],
            [
             0.1,
             "#c51b7d"
            ],
            [
             0.2,
             "#de77ae"
            ],
            [
             0.3,
             "#f1b6da"
            ],
            [
             0.4,
             "#fde0ef"
            ],
            [
             0.5,
             "#f7f7f7"
            ],
            [
             0.6,
             "#e6f5d0"
            ],
            [
             0.7,
             "#b8e186"
            ],
            [
             0.8,
             "#7fbc41"
            ],
            [
             0.9,
             "#4d9221"
            ],
            [
             1,
             "#276419"
            ]
           ],
           "sequential": [
            [
             0,
             "#0d0887"
            ],
            [
             0.1111111111111111,
             "#46039f"
            ],
            [
             0.2222222222222222,
             "#7201a8"
            ],
            [
             0.3333333333333333,
             "#9c179e"
            ],
            [
             0.4444444444444444,
             "#bd3786"
            ],
            [
             0.5555555555555556,
             "#d8576b"
            ],
            [
             0.6666666666666666,
             "#ed7953"
            ],
            [
             0.7777777777777778,
             "#fb9f3a"
            ],
            [
             0.8888888888888888,
             "#fdca26"
            ],
            [
             1,
             "#f0f921"
            ]
           ],
           "sequentialminus": [
            [
             0,
             "#0d0887"
            ],
            [
             0.1111111111111111,
             "#46039f"
            ],
            [
             0.2222222222222222,
             "#7201a8"
            ],
            [
             0.3333333333333333,
             "#9c179e"
            ],
            [
             0.4444444444444444,
             "#bd3786"
            ],
            [
             0.5555555555555556,
             "#d8576b"
            ],
            [
             0.6666666666666666,
             "#ed7953"
            ],
            [
             0.7777777777777778,
             "#fb9f3a"
            ],
            [
             0.8888888888888888,
             "#fdca26"
            ],
            [
             1,
             "#f0f921"
            ]
           ]
          },
          "colorway": [
           "#636efa",
           "#EF553B",
           "#00cc96",
           "#ab63fa",
           "#FFA15A",
           "#19d3f3",
           "#FF6692",
           "#B6E880",
           "#FF97FF",
           "#FECB52"
          ],
          "font": {
           "color": "#2a3f5f"
          },
          "geo": {
           "bgcolor": "white",
           "lakecolor": "white",
           "landcolor": "#E5ECF6",
           "showlakes": true,
           "showland": true,
           "subunitcolor": "white"
          },
          "hoverlabel": {
           "align": "left"
          },
          "hovermode": "closest",
          "mapbox": {
           "style": "light"
          },
          "paper_bgcolor": "white",
          "plot_bgcolor": "#E5ECF6",
          "polar": {
           "angularaxis": {
            "gridcolor": "white",
            "linecolor": "white",
            "ticks": ""
           },
           "bgcolor": "#E5ECF6",
           "radialaxis": {
            "gridcolor": "white",
            "linecolor": "white",
            "ticks": ""
           }
          },
          "scene": {
           "xaxis": {
            "backgroundcolor": "#E5ECF6",
            "gridcolor": "white",
            "gridwidth": 2,
            "linecolor": "white",
            "showbackground": true,
            "ticks": "",
            "zerolinecolor": "white"
           },
           "yaxis": {
            "backgroundcolor": "#E5ECF6",
            "gridcolor": "white",
            "gridwidth": 2,
            "linecolor": "white",
            "showbackground": true,
            "ticks": "",
            "zerolinecolor": "white"
           },
           "zaxis": {
            "backgroundcolor": "#E5ECF6",
            "gridcolor": "white",
            "gridwidth": 2,
            "linecolor": "white",
            "showbackground": true,
            "ticks": "",
            "zerolinecolor": "white"
           }
          },
          "shapedefaults": {
           "line": {
            "color": "#2a3f5f"
           }
          },
          "ternary": {
           "aaxis": {
            "gridcolor": "white",
            "linecolor": "white",
            "ticks": ""
           },
           "baxis": {
            "gridcolor": "white",
            "linecolor": "white",
            "ticks": ""
           },
           "bgcolor": "#E5ECF6",
           "caxis": {
            "gridcolor": "white",
            "linecolor": "white",
            "ticks": ""
           }
          },
          "title": {
           "x": 0.05
          },
          "xaxis": {
           "automargin": true,
           "gridcolor": "white",
           "linecolor": "white",
           "ticks": "",
           "title": {
            "standoff": 15
           },
           "zerolinecolor": "white",
           "zerolinewidth": 2
          },
          "yaxis": {
           "automargin": true,
           "gridcolor": "white",
           "linecolor": "white",
           "ticks": "",
           "title": {
            "standoff": 15
           },
           "zerolinecolor": "white",
           "zerolinewidth": 2
          }
         }
        },
        "title": {
         "text": "Average grid evolution time"
        },
        "width": 1000,
        "xaxis": {
         "title": {
          "text": "Lattice Size"
         },
         "type": "log"
        },
        "yaxis": {
         "title": {
          "text": "Time (ms)"
         },
         "type": "log"
        }
       }
      }
     },
     "metadata": {}
    }
   ],
   "source": [
    "fig = go.Figure()\n",
    "for idx, (name, dfs, _) in enumerate(runs):\n",
    "    df = pd.concat(dfs)\n",
    "    df[\"size\"] **= 2\n",
    "    df[\"avgEvolveTime\"] = df[\"avgEvolveTime\"] / 1e6 # time is originally in ns\n",
    "\n",
    "    add_mean_std_trace(fig, df, name, idx, \"avgEvolveTime\")\n",
    "\n",
    "fig.update_layout(title=\"Average grid evolution time\", xaxis_title='Lattice Size', yaxis_title=\"Time (ms)\", width=plot_width, height=plot_height)\n",
    "fig.update_xaxes(type=\"log\")\n",
    "fig.update_yaxes(type=\"log\")\n",
    "fig.show()"
   ]
  },
  {
   "cell_type": "code",
   "execution_count": 116,
   "metadata": {},
   "outputs": [
    {
     "output_type": "display_data",
     "data": {
      "application/vnd.plotly.v1+json": {
       "config": {
        "plotlyServerURL": "https://plot.ly"
       },
       "data": [
        {
         "line": {
          "color": "#EF553B"
         },
         "mode": "lines+markers",
         "name": "1 Thread",
         "type": "scatter",
         "x": [
          1024,
          4096,
          16384,
          65536,
          262144,
          1048576,
          4194304,
          16777216
         ],
         "y": [
          22.357872735303356,
          21.514987761792106,
          22.705944200452343,
          23.949537671991514,
          24.517234867403126,
          25.537814254594256,
          25.175540113261192,
          23.78626528878815
         ]
        },
        {
         "line": {
          "width": 0
         },
         "mode": "lines",
         "name": "1 Thread upper",
         "showlegend": false,
         "type": "scatter",
         "x": [
          1024,
          4096,
          16384,
          65536,
          262144,
          1048576,
          4194304,
          16777216
         ],
         "y": [
          32.13202358773829,
          23.298233818961226,
          23.28548941748121,
          24.038870173230922,
          24.592254063850145,
          25.59270074993754,
          25.399301584700606,
          23.885994352452045
         ]
        },
        {
         "fill": "tonexty",
         "fillcolor": "rgba(239, 85, 59, 0.30)",
         "line": {
          "width": 0
         },
         "mode": "lines",
         "name": "1 Thread lower",
         "showlegend": false,
         "type": "scatter",
         "x": [
          1024,
          4096,
          16384,
          65536,
          262144,
          1048576,
          4194304,
          16777216
         ],
         "y": [
          12.58372188286842,
          19.731741704622987,
          22.126398983423478,
          23.860205170752106,
          24.442215670956106,
          25.482927759250973,
          24.95177864182178,
          23.686536225124257
         ]
        },
        {
         "line": {
          "color": "#00CC96"
         },
         "mode": "lines+markers",
         "name": "2 Threads",
         "type": "scatter",
         "x": [
          1024,
          4096,
          16384,
          65536,
          262144,
          1048576,
          4194304,
          16777216
         ],
         "y": [
          22.12512098686825,
          26.604577333302146,
          41.955254373602756,
          45.13419149825023,
          46.1683893460714,
          49.97734008591966,
          48.08771411803053,
          46.05610516813928
         ]
        },
        {
         "line": {
          "width": 0
         },
         "mode": "lines",
         "name": "2 Threads upper",
         "showlegend": false,
         "type": "scatter",
         "x": [
          1024,
          4096,
          16384,
          65536,
          262144,
          1048576,
          4194304,
          16777216
         ],
         "y": [
          22.41369479870148,
          29.45454847504424,
          46.22471338716683,
          45.54336020884968,
          46.55545273529054,
          50.093346635872415,
          48.099119726308885,
          46.065061609333384
         ]
        },
        {
         "fill": "tonexty",
         "fillcolor": "rgba(0, 204, 150, 0.30)",
         "line": {
          "width": 0
         },
         "mode": "lines",
         "name": "2 Threads lower",
         "showlegend": false,
         "type": "scatter",
         "x": [
          1024,
          4096,
          16384,
          65536,
          262144,
          1048576,
          4194304,
          16777216
         ],
         "y": [
          21.83654717503502,
          23.75460619156005,
          37.68579536003868,
          44.725022787650786,
          45.781325956852264,
          49.8613335359669,
          48.07630850975218,
          46.04714872694518
         ]
        },
        {
         "line": {
          "color": "#AB63FA"
         },
         "mode": "lines+markers",
         "name": "4 Threads",
         "type": "scatter",
         "x": [
          1024,
          4096,
          16384,
          65536,
          262144,
          1048576,
          4194304,
          16777216
         ],
         "y": [
          27.301608220693435,
          45.032179841937435,
          67.68249477691138,
          82.80666448181287,
          89.63012661463797,
          97.31796629550618,
          95.6172000788076,
          91.24301171296936
         ]
        },
        {
         "line": {
          "width": 0
         },
         "mode": "lines",
         "name": "4 Threads upper",
         "showlegend": false,
         "type": "scatter",
         "x": [
          1024,
          4096,
          16384,
          65536,
          262144,
          1048576,
          4194304,
          16777216
         ],
         "y": [
          28.483605550691415,
          45.64005901750781,
          76.41132504352568,
          83.7245695113564,
          91.22649494064527,
          97.75581713397592,
          95.88891515060108,
          91.44421366270755
         ]
        },
        {
         "fill": "tonexty",
         "fillcolor": "rgba(171, 99, 250, 0.30)",
         "line": {
          "width": 0
         },
         "mode": "lines",
         "name": "4 Threads lower",
         "showlegend": false,
         "type": "scatter",
         "x": [
          1024,
          4096,
          16384,
          65536,
          262144,
          1048576,
          4194304,
          16777216
         ],
         "y": [
          26.119610890695455,
          44.42430066636706,
          58.95366451029709,
          81.88875945226934,
          88.03375828863068,
          96.88011545703644,
          95.34548500701412,
          91.04180976323117
         ]
        },
        {
         "line": {
          "color": "#FFA15A"
         },
         "mode": "lines+markers",
         "name": "8 Threads",
         "type": "scatter",
         "x": [
          1024,
          4096,
          16384,
          65536,
          262144,
          1048576,
          4194304,
          16777216
         ],
         "y": [
          33.711034791031594,
          58.5229032418066,
          74.59588580994303,
          86.72889069527835,
          89.43257410207121,
          186.56051198244762,
          178.22315441608004,
          176.17593831414723
         ]
        },
        {
         "line": {
          "width": 0
         },
         "mode": "lines",
         "name": "8 Threads upper",
         "showlegend": false,
         "type": "scatter",
         "x": [
          1024,
          4096,
          16384,
          65536,
          262144,
          1048576,
          4194304,
          16777216
         ],
         "y": [
          34.99118615722616,
          58.642990130190256,
          83.2339294805393,
          88.27056038499676,
          89.58661763104301,
          187.65490780323861,
          189.19833378551434,
          176.27047033794878
         ]
        },
        {
         "fill": "tonexty",
         "fillcolor": "rgba(255, 161, 90, 0.30)",
         "line": {
          "width": 0
         },
         "mode": "lines",
         "name": "8 Threads lower",
         "showlegend": false,
         "type": "scatter",
         "x": [
          1024,
          4096,
          16384,
          65536,
          262144,
          1048576,
          4194304,
          16777216
         ],
         "y": [
          32.43088342483703,
          58.40281635342295,
          65.95784213934675,
          85.18722100555995,
          89.27853057309942,
          185.46611616165663,
          167.24797504664573,
          176.08140629034568
         ]
        },
        {
         "line": {
          "color": "#19D3F3"
         },
         "mode": "lines+markers",
         "name": "12 Threads",
         "type": "scatter",
         "x": [
          1024,
          4096,
          16384,
          65536,
          262144,
          1048576,
          4194304,
          16777216
         ],
         "y": [
          27.96518266721945,
          47.32680622464955,
          89.71624533368566,
          118.75555844913727,
          131.4526046949062,
          142.26176805335055,
          140.17669254936425,
          134.15151586145834
         ]
        },
        {
         "line": {
          "width": 0
         },
         "mode": "lines",
         "name": "12 Threads upper",
         "showlegend": false,
         "type": "scatter",
         "x": [
          1024,
          4096,
          16384,
          65536,
          262144,
          1048576,
          4194304,
          16777216
         ],
         "y": [
          41.15109845898763,
          51.519722682984366,
          108.68918517637354,
          122.69896175825392,
          132.38273126856762,
          142.75835274146075,
          140.57208436425717,
          134.26545538225483
         ]
        },
        {
         "fill": "tonexty",
         "fillcolor": "rgba(25, 211, 243, 0.30)",
         "line": {
          "width": 0
         },
         "mode": "lines",
         "name": "12 Threads lower",
         "showlegend": false,
         "type": "scatter",
         "x": [
          1024,
          4096,
          16384,
          65536,
          262144,
          1048576,
          4194304,
          16777216
         ],
         "y": [
          14.779266875451267,
          43.13388976631474,
          70.74330549099778,
          114.81215514002062,
          130.52247812124477,
          141.76518336524035,
          139.78130073447133,
          134.03757634066184
         ]
        },
        {
         "line": {
          "color": "#FF6692"
         },
         "mode": "lines+markers",
         "name": "16 Threads",
         "type": "scatter",
         "x": [
          1024,
          4096,
          16384,
          65536,
          262144,
          1048576,
          4194304,
          16777216
         ],
         "y": [
          11.127891038422602,
          30.776630905860046,
          61.05602663585645,
          123.18916559252574,
          162.67564707157356,
          168.84993395766867,
          182.33876229177102,
          173.9087716858806
         ]
        },
        {
         "line": {
          "width": 0
         },
         "mode": "lines",
         "name": "16 Threads upper",
         "showlegend": false,
         "type": "scatter",
         "x": [
          1024,
          4096,
          16384,
          65536,
          262144,
          1048576,
          4194304,
          16777216
         ],
         "y": [
          17.039251543282553,
          46.53349467846657,
          71.76861181236225,
          129.40812060012678,
          164.2082497284651,
          171.41730226723163,
          184.6157864066746,
          174.3453153728554
         ]
        },
        {
         "fill": "tonexty",
         "fillcolor": "rgba(255, 102, 146, 0.30)",
         "line": {
          "width": 0
         },
         "mode": "lines",
         "name": "16 Threads lower",
         "showlegend": false,
         "type": "scatter",
         "x": [
          1024,
          4096,
          16384,
          65536,
          262144,
          1048576,
          4194304,
          16777216
         ],
         "y": [
          5.216530533562652,
          15.019767133253525,
          50.34344145935064,
          116.97021058492471,
          161.14304441468204,
          166.2825656481057,
          180.06173817686744,
          173.4722279989058
         ]
        },
        {
         "line": {
          "color": "#B6E880"
         },
         "mode": "lines+markers",
         "name": "GPU 8704 Threads",
         "type": "scatter",
         "x": [
          1024,
          4096,
          16384,
          65536,
          262144,
          1048576,
          4194304,
          16777216
         ],
         "y": [
          15.656416239115453,
          57.70420121495088,
          233.08177758852668,
          848.4096440980987,
          2846.2636505910023,
          6605.042699605748,
          8948.427963667287,
          11630.244151045245
         ]
        },
        {
         "line": {
          "width": 0
         },
         "mode": "lines",
         "name": "GPU 8704 Threads upper",
         "showlegend": false,
         "type": "scatter",
         "x": [
          1024,
          4096,
          16384,
          65536,
          262144,
          1048576,
          4194304,
          16777216
         ],
         "y": [
          17.076230926169192,
          60.91630920443246,
          247.20225179813838,
          881.2380020608359,
          3203.6824781513164,
          7136.284433674079,
          10288.747997128941,
          12415.995174139165
         ]
        },
        {
         "fill": "tonexty",
         "fillcolor": "rgba(182, 232, 128, 0.30)",
         "line": {
          "width": 0
         },
         "mode": "lines",
         "name": "GPU 8704 Threads lower",
         "showlegend": false,
         "type": "scatter",
         "x": [
          1024,
          4096,
          16384,
          65536,
          262144,
          1048576,
          4194304,
          16777216
         ],
         "y": [
          14.236601552061712,
          54.4920932254693,
          218.96130337891498,
          815.5812861353616,
          2488.844823030688,
          6073.800965537416,
          7608.107930205634,
          10844.493127951324
         ]
        }
       ],
       "layout": {
        "height": 600,
        "template": {
         "data": {
          "bar": [
           {
            "error_x": {
             "color": "#2a3f5f"
            },
            "error_y": {
             "color": "#2a3f5f"
            },
            "marker": {
             "line": {
              "color": "#E5ECF6",
              "width": 0.5
             },
             "pattern": {
              "fillmode": "overlay",
              "size": 10,
              "solidity": 0.2
             }
            },
            "type": "bar"
           }
          ],
          "barpolar": [
           {
            "marker": {
             "line": {
              "color": "#E5ECF6",
              "width": 0.5
             },
             "pattern": {
              "fillmode": "overlay",
              "size": 10,
              "solidity": 0.2
             }
            },
            "type": "barpolar"
           }
          ],
          "carpet": [
           {
            "aaxis": {
             "endlinecolor": "#2a3f5f",
             "gridcolor": "white",
             "linecolor": "white",
             "minorgridcolor": "white",
             "startlinecolor": "#2a3f5f"
            },
            "baxis": {
             "endlinecolor": "#2a3f5f",
             "gridcolor": "white",
             "linecolor": "white",
             "minorgridcolor": "white",
             "startlinecolor": "#2a3f5f"
            },
            "type": "carpet"
           }
          ],
          "choropleth": [
           {
            "colorbar": {
             "outlinewidth": 0,
             "ticks": ""
            },
            "type": "choropleth"
           }
          ],
          "contour": [
           {
            "colorbar": {
             "outlinewidth": 0,
             "ticks": ""
            },
            "colorscale": [
             [
              0,
              "#0d0887"
             ],
             [
              0.1111111111111111,
              "#46039f"
             ],
             [
              0.2222222222222222,
              "#7201a8"
             ],
             [
              0.3333333333333333,
              "#9c179e"
             ],
             [
              0.4444444444444444,
              "#bd3786"
             ],
             [
              0.5555555555555556,
              "#d8576b"
             ],
             [
              0.6666666666666666,
              "#ed7953"
             ],
             [
              0.7777777777777778,
              "#fb9f3a"
             ],
             [
              0.8888888888888888,
              "#fdca26"
             ],
             [
              1,
              "#f0f921"
             ]
            ],
            "type": "contour"
           }
          ],
          "contourcarpet": [
           {
            "colorbar": {
             "outlinewidth": 0,
             "ticks": ""
            },
            "type": "contourcarpet"
           }
          ],
          "heatmap": [
           {
            "colorbar": {
             "outlinewidth": 0,
             "ticks": ""
            },
            "colorscale": [
             [
              0,
              "#0d0887"
             ],
             [
              0.1111111111111111,
              "#46039f"
             ],
             [
              0.2222222222222222,
              "#7201a8"
             ],
             [
              0.3333333333333333,
              "#9c179e"
             ],
             [
              0.4444444444444444,
              "#bd3786"
             ],
             [
              0.5555555555555556,
              "#d8576b"
             ],
             [
              0.6666666666666666,
              "#ed7953"
             ],
             [
              0.7777777777777778,
              "#fb9f3a"
             ],
             [
              0.8888888888888888,
              "#fdca26"
             ],
             [
              1,
              "#f0f921"
             ]
            ],
            "type": "heatmap"
           }
          ],
          "heatmapgl": [
           {
            "colorbar": {
             "outlinewidth": 0,
             "ticks": ""
            },
            "colorscale": [
             [
              0,
              "#0d0887"
             ],
             [
              0.1111111111111111,
              "#46039f"
             ],
             [
              0.2222222222222222,
              "#7201a8"
             ],
             [
              0.3333333333333333,
              "#9c179e"
             ],
             [
              0.4444444444444444,
              "#bd3786"
             ],
             [
              0.5555555555555556,
              "#d8576b"
             ],
             [
              0.6666666666666666,
              "#ed7953"
             ],
             [
              0.7777777777777778,
              "#fb9f3a"
             ],
             [
              0.8888888888888888,
              "#fdca26"
             ],
             [
              1,
              "#f0f921"
             ]
            ],
            "type": "heatmapgl"
           }
          ],
          "histogram": [
           {
            "marker": {
             "pattern": {
              "fillmode": "overlay",
              "size": 10,
              "solidity": 0.2
             }
            },
            "type": "histogram"
           }
          ],
          "histogram2d": [
           {
            "colorbar": {
             "outlinewidth": 0,
             "ticks": ""
            },
            "colorscale": [
             [
              0,
              "#0d0887"
             ],
             [
              0.1111111111111111,
              "#46039f"
             ],
             [
              0.2222222222222222,
              "#7201a8"
             ],
             [
              0.3333333333333333,
              "#9c179e"
             ],
             [
              0.4444444444444444,
              "#bd3786"
             ],
             [
              0.5555555555555556,
              "#d8576b"
             ],
             [
              0.6666666666666666,
              "#ed7953"
             ],
             [
              0.7777777777777778,
              "#fb9f3a"
             ],
             [
              0.8888888888888888,
              "#fdca26"
             ],
             [
              1,
              "#f0f921"
             ]
            ],
            "type": "histogram2d"
           }
          ],
          "histogram2dcontour": [
           {
            "colorbar": {
             "outlinewidth": 0,
             "ticks": ""
            },
            "colorscale": [
             [
              0,
              "#0d0887"
             ],
             [
              0.1111111111111111,
              "#46039f"
             ],
             [
              0.2222222222222222,
              "#7201a8"
             ],
             [
              0.3333333333333333,
              "#9c179e"
             ],
             [
              0.4444444444444444,
              "#bd3786"
             ],
             [
              0.5555555555555556,
              "#d8576b"
             ],
             [
              0.6666666666666666,
              "#ed7953"
             ],
             [
              0.7777777777777778,
              "#fb9f3a"
             ],
             [
              0.8888888888888888,
              "#fdca26"
             ],
             [
              1,
              "#f0f921"
             ]
            ],
            "type": "histogram2dcontour"
           }
          ],
          "mesh3d": [
           {
            "colorbar": {
             "outlinewidth": 0,
             "ticks": ""
            },
            "type": "mesh3d"
           }
          ],
          "parcoords": [
           {
            "line": {
             "colorbar": {
              "outlinewidth": 0,
              "ticks": ""
             }
            },
            "type": "parcoords"
           }
          ],
          "pie": [
           {
            "automargin": true,
            "type": "pie"
           }
          ],
          "scatter": [
           {
            "marker": {
             "colorbar": {
              "outlinewidth": 0,
              "ticks": ""
             }
            },
            "type": "scatter"
           }
          ],
          "scatter3d": [
           {
            "line": {
             "colorbar": {
              "outlinewidth": 0,
              "ticks": ""
             }
            },
            "marker": {
             "colorbar": {
              "outlinewidth": 0,
              "ticks": ""
             }
            },
            "type": "scatter3d"
           }
          ],
          "scattercarpet": [
           {
            "marker": {
             "colorbar": {
              "outlinewidth": 0,
              "ticks": ""
             }
            },
            "type": "scattercarpet"
           }
          ],
          "scattergeo": [
           {
            "marker": {
             "colorbar": {
              "outlinewidth": 0,
              "ticks": ""
             }
            },
            "type": "scattergeo"
           }
          ],
          "scattergl": [
           {
            "marker": {
             "colorbar": {
              "outlinewidth": 0,
              "ticks": ""
             }
            },
            "type": "scattergl"
           }
          ],
          "scattermapbox": [
           {
            "marker": {
             "colorbar": {
              "outlinewidth": 0,
              "ticks": ""
             }
            },
            "type": "scattermapbox"
           }
          ],
          "scatterpolar": [
           {
            "marker": {
             "colorbar": {
              "outlinewidth": 0,
              "ticks": ""
             }
            },
            "type": "scatterpolar"
           }
          ],
          "scatterpolargl": [
           {
            "marker": {
             "colorbar": {
              "outlinewidth": 0,
              "ticks": ""
             }
            },
            "type": "scatterpolargl"
           }
          ],
          "scatterternary": [
           {
            "marker": {
             "colorbar": {
              "outlinewidth": 0,
              "ticks": ""
             }
            },
            "type": "scatterternary"
           }
          ],
          "surface": [
           {
            "colorbar": {
             "outlinewidth": 0,
             "ticks": ""
            },
            "colorscale": [
             [
              0,
              "#0d0887"
             ],
             [
              0.1111111111111111,
              "#46039f"
             ],
             [
              0.2222222222222222,
              "#7201a8"
             ],
             [
              0.3333333333333333,
              "#9c179e"
             ],
             [
              0.4444444444444444,
              "#bd3786"
             ],
             [
              0.5555555555555556,
              "#d8576b"
             ],
             [
              0.6666666666666666,
              "#ed7953"
             ],
             [
              0.7777777777777778,
              "#fb9f3a"
             ],
             [
              0.8888888888888888,
              "#fdca26"
             ],
             [
              1,
              "#f0f921"
             ]
            ],
            "type": "surface"
           }
          ],
          "table": [
           {
            "cells": {
             "fill": {
              "color": "#EBF0F8"
             },
             "line": {
              "color": "white"
             }
            },
            "header": {
             "fill": {
              "color": "#C8D4E3"
             },
             "line": {
              "color": "white"
             }
            },
            "type": "table"
           }
          ]
         },
         "layout": {
          "annotationdefaults": {
           "arrowcolor": "#2a3f5f",
           "arrowhead": 0,
           "arrowwidth": 1
          },
          "autotypenumbers": "strict",
          "coloraxis": {
           "colorbar": {
            "outlinewidth": 0,
            "ticks": ""
           }
          },
          "colorscale": {
           "diverging": [
            [
             0,
             "#8e0152"
            ],
            [
             0.1,
             "#c51b7d"
            ],
            [
             0.2,
             "#de77ae"
            ],
            [
             0.3,
             "#f1b6da"
            ],
            [
             0.4,
             "#fde0ef"
            ],
            [
             0.5,
             "#f7f7f7"
            ],
            [
             0.6,
             "#e6f5d0"
            ],
            [
             0.7,
             "#b8e186"
            ],
            [
             0.8,
             "#7fbc41"
            ],
            [
             0.9,
             "#4d9221"
            ],
            [
             1,
             "#276419"
            ]
           ],
           "sequential": [
            [
             0,
             "#0d0887"
            ],
            [
             0.1111111111111111,
             "#46039f"
            ],
            [
             0.2222222222222222,
             "#7201a8"
            ],
            [
             0.3333333333333333,
             "#9c179e"
            ],
            [
             0.4444444444444444,
             "#bd3786"
            ],
            [
             0.5555555555555556,
             "#d8576b"
            ],
            [
             0.6666666666666666,
             "#ed7953"
            ],
            [
             0.7777777777777778,
             "#fb9f3a"
            ],
            [
             0.8888888888888888,
             "#fdca26"
            ],
            [
             1,
             "#f0f921"
            ]
           ],
           "sequentialminus": [
            [
             0,
             "#0d0887"
            ],
            [
             0.1111111111111111,
             "#46039f"
            ],
            [
             0.2222222222222222,
             "#7201a8"
            ],
            [
             0.3333333333333333,
             "#9c179e"
            ],
            [
             0.4444444444444444,
             "#bd3786"
            ],
            [
             0.5555555555555556,
             "#d8576b"
            ],
            [
             0.6666666666666666,
             "#ed7953"
            ],
            [
             0.7777777777777778,
             "#fb9f3a"
            ],
            [
             0.8888888888888888,
             "#fdca26"
            ],
            [
             1,
             "#f0f921"
            ]
           ]
          },
          "colorway": [
           "#636efa",
           "#EF553B",
           "#00cc96",
           "#ab63fa",
           "#FFA15A",
           "#19d3f3",
           "#FF6692",
           "#B6E880",
           "#FF97FF",
           "#FECB52"
          ],
          "font": {
           "color": "#2a3f5f"
          },
          "geo": {
           "bgcolor": "white",
           "lakecolor": "white",
           "landcolor": "#E5ECF6",
           "showlakes": true,
           "showland": true,
           "subunitcolor": "white"
          },
          "hoverlabel": {
           "align": "left"
          },
          "hovermode": "closest",
          "mapbox": {
           "style": "light"
          },
          "paper_bgcolor": "white",
          "plot_bgcolor": "#E5ECF6",
          "polar": {
           "angularaxis": {
            "gridcolor": "white",
            "linecolor": "white",
            "ticks": ""
           },
           "bgcolor": "#E5ECF6",
           "radialaxis": {
            "gridcolor": "white",
            "linecolor": "white",
            "ticks": ""
           }
          },
          "scene": {
           "xaxis": {
            "backgroundcolor": "#E5ECF6",
            "gridcolor": "white",
            "gridwidth": 2,
            "linecolor": "white",
            "showbackground": true,
            "ticks": "",
            "zerolinecolor": "white"
           },
           "yaxis": {
            "backgroundcolor": "#E5ECF6",
            "gridcolor": "white",
            "gridwidth": 2,
            "linecolor": "white",
            "showbackground": true,
            "ticks": "",
            "zerolinecolor": "white"
           },
           "zaxis": {
            "backgroundcolor": "#E5ECF6",
            "gridcolor": "white",
            "gridwidth": 2,
            "linecolor": "white",
            "showbackground": true,
            "ticks": "",
            "zerolinecolor": "white"
           }
          },
          "shapedefaults": {
           "line": {
            "color": "#2a3f5f"
           }
          },
          "ternary": {
           "aaxis": {
            "gridcolor": "white",
            "linecolor": "white",
            "ticks": ""
           },
           "baxis": {
            "gridcolor": "white",
            "linecolor": "white",
            "ticks": ""
           },
           "bgcolor": "#E5ECF6",
           "caxis": {
            "gridcolor": "white",
            "linecolor": "white",
            "ticks": ""
           }
          },
          "title": {
           "x": 0.05
          },
          "xaxis": {
           "automargin": true,
           "gridcolor": "white",
           "linecolor": "white",
           "ticks": "",
           "title": {
            "standoff": 15
           },
           "zerolinecolor": "white",
           "zerolinewidth": 2
          },
          "yaxis": {
           "automargin": true,
           "gridcolor": "white",
           "linecolor": "white",
           "ticks": "",
           "title": {
            "standoff": 15
           },
           "zerolinecolor": "white",
           "zerolinewidth": 2
          }
         }
        },
        "title": {
         "text": "Speedup vs 1 CPU"
        },
        "width": 1000,
        "xaxis": {
         "title": {
          "text": "Lattice size (cells)"
         },
         "type": "log"
        },
        "yaxis": {
         "title": {
          "text": "Speedup"
         },
         "type": "log"
        }
       }
      }
     },
     "metadata": {}
    }
   ],
   "source": [
    "fig = go.Figure()\n",
    "\n",
    "for idx, (name, dfs, _) in enumerate(runs_gpu):\n",
    "    for i, df in enumerate(dfs):\n",
    "        dfs[i][\"speedup\"] = cpu_df[\"avgEvolveTime\"] / df[\"avgEvolveTime\"]\n",
    "\n",
    "    df = pd.concat(dfs)\n",
    "    df[\"size\"] **= 2\n",
    "    add_mean_std_trace(fig, df, name, idx + 1, \"speedup\")\n",
    "\n",
    "fig.update_layout(title=\"Speedup vs 1 CPU\", xaxis_title='Lattice size (cells)', yaxis_title=\"Speedup\", width=plot_width, height=plot_height)\n",
    "fig.update_xaxes(type=\"log\")\n",
    "fig.update_yaxes(type=\"log\")\n",
    "fig.show()"
   ]
  },
  {
   "cell_type": "code",
   "execution_count": 117,
   "metadata": {},
   "outputs": [
    {
     "output_type": "display_data",
     "data": {
      "application/vnd.plotly.v1+json": {
       "config": {
        "plotlyServerURL": "https://plot.ly"
       },
       "data": [
        {
         "line": {
          "color": "#EF553B"
         },
         "mode": "lines+markers",
         "name": "1 Thread",
         "type": "scatter",
         "x": [
          1024,
          4096,
          16384,
          65536,
          262144,
          1048576,
          4194304,
          16777216
         ],
         "y": [
          2235.787273530336,
          2151.4987761792104,
          2270.594420045234,
          2394.9537671991516,
          2451.7234867403126,
          2553.781425459426,
          2517.5540113261195,
          2378.626528878815
         ]
        },
        {
         "line": {
          "width": 0
         },
         "mode": "lines",
         "name": "1 Thread upper",
         "showlegend": false,
         "type": "scatter",
         "x": [
          1024,
          4096,
          16384,
          65536,
          262144,
          1048576,
          4194304,
          16777216
         ],
         "y": [
          3213.2023587738295,
          2329.823381896122,
          2328.548941748121,
          2403.8870173230926,
          2459.2254063850146,
          2559.270074993754,
          2539.9301584700606,
          2388.5994352452044
         ]
        },
        {
         "fill": "tonexty",
         "fillcolor": "rgba(239, 85, 59, 0.30)",
         "line": {
          "width": 0
         },
         "mode": "lines",
         "name": "1 Thread lower",
         "showlegend": false,
         "type": "scatter",
         "x": [
          1024,
          4096,
          16384,
          65536,
          262144,
          1048576,
          4194304,
          16777216
         ],
         "y": [
          1258.3721882868422,
          1973.1741704622987,
          2212.6398983423474,
          2386.0205170752106,
          2444.2215670956107,
          2548.292775925098,
          2495.1778641821784,
          2368.6536225124255
         ]
        },
        {
         "line": {
          "color": "#00CC96"
         },
         "mode": "lines+markers",
         "name": "2 Threads",
         "type": "scatter",
         "x": [
          1024,
          4096,
          16384,
          65536,
          262144,
          1048576,
          4194304,
          16777216
         ],
         "y": [
          1106.2560493434125,
          1330.2288666651073,
          2097.762718680138,
          2256.709574912512,
          2308.41946730357,
          2498.867004295983,
          2404.3857059015263,
          2302.8052584069646
         ]
        },
        {
         "line": {
          "width": 0
         },
         "mode": "lines",
         "name": "2 Threads upper",
         "showlegend": false,
         "type": "scatter",
         "x": [
          1024,
          4096,
          16384,
          65536,
          262144,
          1048576,
          4194304,
          16777216
         ],
         "y": [
          1120.684739935074,
          1472.7274237522122,
          2311.235669358342,
          2277.168010442485,
          2327.772636764527,
          2504.667331793621,
          2404.955986315444,
          2303.2530804666703
         ]
        },
        {
         "fill": "tonexty",
         "fillcolor": "rgba(0, 204, 150, 0.30)",
         "line": {
          "width": 0
         },
         "mode": "lines",
         "name": "2 Threads lower",
         "showlegend": false,
         "type": "scatter",
         "x": [
          1024,
          4096,
          16384,
          65536,
          262144,
          1048576,
          4194304,
          16777216
         ],
         "y": [
          1091.827358751751,
          1187.7303095780023,
          1884.289768001934,
          2236.251139382539,
          2289.066297842613,
          2493.066676798345,
          2403.8154254876085,
          2302.357436347259
         ]
        },
        {
         "line": {
          "color": "#AB63FA"
         },
         "mode": "lines+markers",
         "name": "4 Threads",
         "type": "scatter",
         "x": [
          1024,
          4096,
          16384,
          65536,
          262144,
          1048576,
          4194304,
          16777216
         ],
         "y": [
          682.5402055173358,
          1125.8044960484358,
          1692.0623694227847,
          2070.166612045322,
          2240.7531653659494,
          2432.9491573876544,
          2390.43000197019,
          2281.0752928242337
         ]
        },
        {
         "line": {
          "width": 0
         },
         "mode": "lines",
         "name": "4 Threads upper",
         "showlegend": false,
         "type": "scatter",
         "x": [
          1024,
          4096,
          16384,
          65536,
          262144,
          1048576,
          4194304,
          16777216
         ],
         "y": [
          712.0901387672853,
          1141.0014754376953,
          1910.2831260881421,
          2093.11423778391,
          2280.6623735161315,
          2443.895428349398,
          2397.222878765027,
          2286.1053415676884
         ]
        },
        {
         "fill": "tonexty",
         "fillcolor": "rgba(171, 99, 250, 0.30)",
         "line": {
          "width": 0
         },
         "mode": "lines",
         "name": "4 Threads lower",
         "showlegend": false,
         "type": "scatter",
         "x": [
          1024,
          4096,
          16384,
          65536,
          262144,
          1048576,
          4194304,
          16777216
         ],
         "y": [
          652.9902722673863,
          1110.6075166591763,
          1473.8416127574274,
          2047.2189863067335,
          2200.843957215767,
          2422.0028864259107,
          2383.637125175353,
          2276.045244080779
         ]
        },
        {
         "line": {
          "color": "#FFA15A"
         },
         "mode": "lines+markers",
         "name": "8 Threads",
         "type": "scatter",
         "x": [
          1024,
          4096,
          16384,
          65536,
          262144,
          1048576,
          4194304,
          16777216
         ],
         "y": [
          421.38793488789497,
          731.5362905225825,
          932.4485726242879,
          1084.1111336909794,
          1117.9071762758904,
          2332.006399780595,
          2227.7894302010004,
          2202.1992289268405
         ]
        },
        {
         "line": {
          "width": 0
         },
         "mode": "lines",
         "name": "8 Threads upper",
         "showlegend": false,
         "type": "scatter",
         "x": [
          1024,
          4096,
          16384,
          65536,
          262144,
          1048576,
          4194304,
          16777216
         ],
         "y": [
          437.3898269653271,
          733.0373766273781,
          1040.4241185067413,
          1103.3820048124596,
          1119.8327203880378,
          2345.686347540483,
          2364.979172318929,
          2203.38087922436
         ]
        },
        {
         "fill": "tonexty",
         "fillcolor": "rgba(255, 161, 90, 0.30)",
         "line": {
          "width": 0
         },
         "mode": "lines",
         "name": "8 Threads lower",
         "showlegend": false,
         "type": "scatter",
         "x": [
          1024,
          4096,
          16384,
          65536,
          262144,
          1048576,
          4194304,
          16777216
         ],
         "y": [
          405.38604281046287,
          730.0352044177869,
          824.4730267418344,
          1064.8402625694991,
          1115.981632163743,
          2318.326452020707,
          2090.5996880830717,
          2201.017578629321
         ]
        },
        {
         "line": {
          "color": "#19D3F3"
         },
         "mode": "lines+markers",
         "name": "12 Threads",
         "type": "scatter",
         "x": [
          1024,
          4096,
          16384,
          65536,
          262144,
          1048576,
          4194304,
          16777216
         ],
         "y": [
          233.04318889349543,
          394.3900518720796,
          747.6353777807138,
          989.6296537428105,
          1095.4383724575514,
          1185.5147337779213,
          1168.1391045780351,
          1117.9292988454863
         ]
        },
        {
         "line": {
          "width": 0
         },
         "mode": "lines",
         "name": "12 Threads upper",
         "showlegend": false,
         "type": "scatter",
         "x": [
          1024,
          4096,
          16384,
          65536,
          262144,
          1048576,
          4194304,
          16777216
         ],
         "y": [
          342.9258204915637,
          429.3310223582031,
          905.7432098031129,
          1022.4913479854494,
          1103.1894272380634,
          1189.6529395121731,
          1171.4340363688093,
          1118.8787948521233
         ]
        },
        {
         "fill": "tonexty",
         "fillcolor": "rgba(25, 211, 243, 0.30)",
         "line": {
          "width": 0
         },
         "mode": "lines",
         "name": "12 Threads lower",
         "showlegend": false,
         "type": "scatter",
         "x": [
          1024,
          4096,
          16384,
          65536,
          262144,
          1048576,
          4194304,
          16777216
         ],
         "y": [
          123.16055729542718,
          359.4490813859561,
          589.5275457583148,
          956.7679595001717,
          1087.6873176770393,
          1181.3765280436694,
          1164.844172787261,
          1116.9798028388493
         ]
        },
        {
         "line": {
          "color": "#FF6692"
         },
         "mode": "lines+markers",
         "name": "16 Threads",
         "type": "scatter",
         "x": [
          1024,
          4096,
          16384,
          65536,
          262144,
          1048576,
          4194304,
          16777216
         ],
         "y": [
          69.54931899014126,
          192.3539431616253,
          381.6001664741028,
          769.9322849532858,
          1016.7227941973349,
          1055.3120872354293,
          1139.6172643235689,
          1086.929823036754
         ]
        },
        {
         "line": {
          "width": 0
         },
         "mode": "lines",
         "name": "16 Threads upper",
         "showlegend": false,
         "type": "scatter",
         "x": [
          1024,
          4096,
          16384,
          65536,
          262144,
          1048576,
          4194304,
          16777216
         ],
         "y": [
          106.49532214551594,
          290.83434174041605,
          448.55382382726407,
          808.8007537507923,
          1026.3015608029068,
          1071.358139170198,
          1153.8486650417162,
          1089.6582210803463
         ]
        },
        {
         "fill": "tonexty",
         "fillcolor": "rgba(255, 102, 146, 0.30)",
         "line": {
          "width": 0
         },
         "mode": "lines",
         "name": "16 Threads lower",
         "showlegend": false,
         "type": "scatter",
         "x": [
          1024,
          4096,
          16384,
          65536,
          262144,
          1048576,
          4194304,
          16777216
         ],
         "y": [
          32.603315834766576,
          93.87354458283454,
          314.6465091209416,
          731.0638161557794,
          1007.1440275917629,
          1039.2660353006606,
          1125.3858636054215,
          1084.2014249931617
         ]
        },
        {
         "line": {
          "color": "#B6E880"
         },
         "mode": "lines+markers",
         "name": "GPU 8704 Threads",
         "type": "scatter",
         "x": [
          1024,
          4096,
          16384,
          65536,
          262144,
          1048576,
          4194304,
          16777216
         ],
         "y": [
          0.17987610568836687,
          0.6629618705761819,
          2.677869687368183,
          9.74735344781823,
          32.70063936800324,
          75.88514130980869,
          102.80822568551574,
          133.6195329853544
         ]
        },
        {
         "line": {
          "width": 0
         },
         "mode": "lines",
         "name": "GPU 8704 Threads upper",
         "showlegend": false,
         "type": "scatter",
         "x": [
          1024,
          4096,
          16384,
          65536,
          262144,
          1048576,
          4194304,
          16777216
         ],
         "y": [
          0.19618831486867178,
          0.6998656847935714,
          2.840099400254347,
          10.124517486912179,
          36.80701376552523,
          81.98856196776286,
          118.20712312877922,
          142.64700337935625
         ]
        },
        {
         "fill": "tonexty",
         "fillcolor": "rgba(182, 232, 128, 0.30)",
         "line": {
          "width": 0
         },
         "mode": "lines",
         "name": "GPU 8704 Threads lower",
         "showlegend": false,
         "type": "scatter",
         "x": [
          1024,
          4096,
          16384,
          65536,
          262144,
          1048576,
          4194304,
          16777216
         ],
         "y": [
          0.16356389650806197,
          0.6260580563587925,
          2.5156399744820193,
          9.370189408724283,
          28.594264970481248,
          69.78172065185451,
          87.40932824225226,
          124.59206259135254
         ]
        }
       ],
       "layout": {
        "height": 600,
        "template": {
         "data": {
          "bar": [
           {
            "error_x": {
             "color": "#2a3f5f"
            },
            "error_y": {
             "color": "#2a3f5f"
            },
            "marker": {
             "line": {
              "color": "#E5ECF6",
              "width": 0.5
             },
             "pattern": {
              "fillmode": "overlay",
              "size": 10,
              "solidity": 0.2
             }
            },
            "type": "bar"
           }
          ],
          "barpolar": [
           {
            "marker": {
             "line": {
              "color": "#E5ECF6",
              "width": 0.5
             },
             "pattern": {
              "fillmode": "overlay",
              "size": 10,
              "solidity": 0.2
             }
            },
            "type": "barpolar"
           }
          ],
          "carpet": [
           {
            "aaxis": {
             "endlinecolor": "#2a3f5f",
             "gridcolor": "white",
             "linecolor": "white",
             "minorgridcolor": "white",
             "startlinecolor": "#2a3f5f"
            },
            "baxis": {
             "endlinecolor": "#2a3f5f",
             "gridcolor": "white",
             "linecolor": "white",
             "minorgridcolor": "white",
             "startlinecolor": "#2a3f5f"
            },
            "type": "carpet"
           }
          ],
          "choropleth": [
           {
            "colorbar": {
             "outlinewidth": 0,
             "ticks": ""
            },
            "type": "choropleth"
           }
          ],
          "contour": [
           {
            "colorbar": {
             "outlinewidth": 0,
             "ticks": ""
            },
            "colorscale": [
             [
              0,
              "#0d0887"
             ],
             [
              0.1111111111111111,
              "#46039f"
             ],
             [
              0.2222222222222222,
              "#7201a8"
             ],
             [
              0.3333333333333333,
              "#9c179e"
             ],
             [
              0.4444444444444444,
              "#bd3786"
             ],
             [
              0.5555555555555556,
              "#d8576b"
             ],
             [
              0.6666666666666666,
              "#ed7953"
             ],
             [
              0.7777777777777778,
              "#fb9f3a"
             ],
             [
              0.8888888888888888,
              "#fdca26"
             ],
             [
              1,
              "#f0f921"
             ]
            ],
            "type": "contour"
           }
          ],
          "contourcarpet": [
           {
            "colorbar": {
             "outlinewidth": 0,
             "ticks": ""
            },
            "type": "contourcarpet"
           }
          ],
          "heatmap": [
           {
            "colorbar": {
             "outlinewidth": 0,
             "ticks": ""
            },
            "colorscale": [
             [
              0,
              "#0d0887"
             ],
             [
              0.1111111111111111,
              "#46039f"
             ],
             [
              0.2222222222222222,
              "#7201a8"
             ],
             [
              0.3333333333333333,
              "#9c179e"
             ],
             [
              0.4444444444444444,
              "#bd3786"
             ],
             [
              0.5555555555555556,
              "#d8576b"
             ],
             [
              0.6666666666666666,
              "#ed7953"
             ],
             [
              0.7777777777777778,
              "#fb9f3a"
             ],
             [
              0.8888888888888888,
              "#fdca26"
             ],
             [
              1,
              "#f0f921"
             ]
            ],
            "type": "heatmap"
           }
          ],
          "heatmapgl": [
           {
            "colorbar": {
             "outlinewidth": 0,
             "ticks": ""
            },
            "colorscale": [
             [
              0,
              "#0d0887"
             ],
             [
              0.1111111111111111,
              "#46039f"
             ],
             [
              0.2222222222222222,
              "#7201a8"
             ],
             [
              0.3333333333333333,
              "#9c179e"
             ],
             [
              0.4444444444444444,
              "#bd3786"
             ],
             [
              0.5555555555555556,
              "#d8576b"
             ],
             [
              0.6666666666666666,
              "#ed7953"
             ],
             [
              0.7777777777777778,
              "#fb9f3a"
             ],
             [
              0.8888888888888888,
              "#fdca26"
             ],
             [
              1,
              "#f0f921"
             ]
            ],
            "type": "heatmapgl"
           }
          ],
          "histogram": [
           {
            "marker": {
             "pattern": {
              "fillmode": "overlay",
              "size": 10,
              "solidity": 0.2
             }
            },
            "type": "histogram"
           }
          ],
          "histogram2d": [
           {
            "colorbar": {
             "outlinewidth": 0,
             "ticks": ""
            },
            "colorscale": [
             [
              0,
              "#0d0887"
             ],
             [
              0.1111111111111111,
              "#46039f"
             ],
             [
              0.2222222222222222,
              "#7201a8"
             ],
             [
              0.3333333333333333,
              "#9c179e"
             ],
             [
              0.4444444444444444,
              "#bd3786"
             ],
             [
              0.5555555555555556,
              "#d8576b"
             ],
             [
              0.6666666666666666,
              "#ed7953"
             ],
             [
              0.7777777777777778,
              "#fb9f3a"
             ],
             [
              0.8888888888888888,
              "#fdca26"
             ],
             [
              1,
              "#f0f921"
             ]
            ],
            "type": "histogram2d"
           }
          ],
          "histogram2dcontour": [
           {
            "colorbar": {
             "outlinewidth": 0,
             "ticks": ""
            },
            "colorscale": [
             [
              0,
              "#0d0887"
             ],
             [
              0.1111111111111111,
              "#46039f"
             ],
             [
              0.2222222222222222,
              "#7201a8"
             ],
             [
              0.3333333333333333,
              "#9c179e"
             ],
             [
              0.4444444444444444,
              "#bd3786"
             ],
             [
              0.5555555555555556,
              "#d8576b"
             ],
             [
              0.6666666666666666,
              "#ed7953"
             ],
             [
              0.7777777777777778,
              "#fb9f3a"
             ],
             [
              0.8888888888888888,
              "#fdca26"
             ],
             [
              1,
              "#f0f921"
             ]
            ],
            "type": "histogram2dcontour"
           }
          ],
          "mesh3d": [
           {
            "colorbar": {
             "outlinewidth": 0,
             "ticks": ""
            },
            "type": "mesh3d"
           }
          ],
          "parcoords": [
           {
            "line": {
             "colorbar": {
              "outlinewidth": 0,
              "ticks": ""
             }
            },
            "type": "parcoords"
           }
          ],
          "pie": [
           {
            "automargin": true,
            "type": "pie"
           }
          ],
          "scatter": [
           {
            "marker": {
             "colorbar": {
              "outlinewidth": 0,
              "ticks": ""
             }
            },
            "type": "scatter"
           }
          ],
          "scatter3d": [
           {
            "line": {
             "colorbar": {
              "outlinewidth": 0,
              "ticks": ""
             }
            },
            "marker": {
             "colorbar": {
              "outlinewidth": 0,
              "ticks": ""
             }
            },
            "type": "scatter3d"
           }
          ],
          "scattercarpet": [
           {
            "marker": {
             "colorbar": {
              "outlinewidth": 0,
              "ticks": ""
             }
            },
            "type": "scattercarpet"
           }
          ],
          "scattergeo": [
           {
            "marker": {
             "colorbar": {
              "outlinewidth": 0,
              "ticks": ""
             }
            },
            "type": "scattergeo"
           }
          ],
          "scattergl": [
           {
            "marker": {
             "colorbar": {
              "outlinewidth": 0,
              "ticks": ""
             }
            },
            "type": "scattergl"
           }
          ],
          "scattermapbox": [
           {
            "marker": {
             "colorbar": {
              "outlinewidth": 0,
              "ticks": ""
             }
            },
            "type": "scattermapbox"
           }
          ],
          "scatterpolar": [
           {
            "marker": {
             "colorbar": {
              "outlinewidth": 0,
              "ticks": ""
             }
            },
            "type": "scatterpolar"
           }
          ],
          "scatterpolargl": [
           {
            "marker": {
             "colorbar": {
              "outlinewidth": 0,
              "ticks": ""
             }
            },
            "type": "scatterpolargl"
           }
          ],
          "scatterternary": [
           {
            "marker": {
             "colorbar": {
              "outlinewidth": 0,
              "ticks": ""
             }
            },
            "type": "scatterternary"
           }
          ],
          "surface": [
           {
            "colorbar": {
             "outlinewidth": 0,
             "ticks": ""
            },
            "colorscale": [
             [
              0,
              "#0d0887"
             ],
             [
              0.1111111111111111,
              "#46039f"
             ],
             [
              0.2222222222222222,
              "#7201a8"
             ],
             [
              0.3333333333333333,
              "#9c179e"
             ],
             [
              0.4444444444444444,
              "#bd3786"
             ],
             [
              0.5555555555555556,
              "#d8576b"
             ],
             [
              0.6666666666666666,
              "#ed7953"
             ],
             [
              0.7777777777777778,
              "#fb9f3a"
             ],
             [
              0.8888888888888888,
              "#fdca26"
             ],
             [
              1,
              "#f0f921"
             ]
            ],
            "type": "surface"
           }
          ],
          "table": [
           {
            "cells": {
             "fill": {
              "color": "#EBF0F8"
             },
             "line": {
              "color": "white"
             }
            },
            "header": {
             "fill": {
              "color": "#C8D4E3"
             },
             "line": {
              "color": "white"
             }
            },
            "type": "table"
           }
          ]
         },
         "layout": {
          "annotationdefaults": {
           "arrowcolor": "#2a3f5f",
           "arrowhead": 0,
           "arrowwidth": 1
          },
          "autotypenumbers": "strict",
          "coloraxis": {
           "colorbar": {
            "outlinewidth": 0,
            "ticks": ""
           }
          },
          "colorscale": {
           "diverging": [
            [
             0,
             "#8e0152"
            ],
            [
             0.1,
             "#c51b7d"
            ],
            [
             0.2,
             "#de77ae"
            ],
            [
             0.3,
             "#f1b6da"
            ],
            [
             0.4,
             "#fde0ef"
            ],
            [
             0.5,
             "#f7f7f7"
            ],
            [
             0.6,
             "#e6f5d0"
            ],
            [
             0.7,
             "#b8e186"
            ],
            [
             0.8,
             "#7fbc41"
            ],
            [
             0.9,
             "#4d9221"
            ],
            [
             1,
             "#276419"
            ]
           ],
           "sequential": [
            [
             0,
             "#0d0887"
            ],
            [
             0.1111111111111111,
             "#46039f"
            ],
            [
             0.2222222222222222,
             "#7201a8"
            ],
            [
             0.3333333333333333,
             "#9c179e"
            ],
            [
             0.4444444444444444,
             "#bd3786"
            ],
            [
             0.5555555555555556,
             "#d8576b"
            ],
            [
             0.6666666666666666,
             "#ed7953"
            ],
            [
             0.7777777777777778,
             "#fb9f3a"
            ],
            [
             0.8888888888888888,
             "#fdca26"
            ],
            [
             1,
             "#f0f921"
            ]
           ],
           "sequentialminus": [
            [
             0,
             "#0d0887"
            ],
            [
             0.1111111111111111,
             "#46039f"
            ],
            [
             0.2222222222222222,
             "#7201a8"
            ],
            [
             0.3333333333333333,
             "#9c179e"
            ],
            [
             0.4444444444444444,
             "#bd3786"
            ],
            [
             0.5555555555555556,
             "#d8576b"
            ],
            [
             0.6666666666666666,
             "#ed7953"
            ],
            [
             0.7777777777777778,
             "#fb9f3a"
            ],
            [
             0.8888888888888888,
             "#fdca26"
            ],
            [
             1,
             "#f0f921"
            ]
           ]
          },
          "colorway": [
           "#636efa",
           "#EF553B",
           "#00cc96",
           "#ab63fa",
           "#FFA15A",
           "#19d3f3",
           "#FF6692",
           "#B6E880",
           "#FF97FF",
           "#FECB52"
          ],
          "font": {
           "color": "#2a3f5f"
          },
          "geo": {
           "bgcolor": "white",
           "lakecolor": "white",
           "landcolor": "#E5ECF6",
           "showlakes": true,
           "showland": true,
           "subunitcolor": "white"
          },
          "hoverlabel": {
           "align": "left"
          },
          "hovermode": "closest",
          "mapbox": {
           "style": "light"
          },
          "paper_bgcolor": "white",
          "plot_bgcolor": "#E5ECF6",
          "polar": {
           "angularaxis": {
            "gridcolor": "white",
            "linecolor": "white",
            "ticks": ""
           },
           "bgcolor": "#E5ECF6",
           "radialaxis": {
            "gridcolor": "white",
            "linecolor": "white",
            "ticks": ""
           }
          },
          "scene": {
           "xaxis": {
            "backgroundcolor": "#E5ECF6",
            "gridcolor": "white",
            "gridwidth": 2,
            "linecolor": "white",
            "showbackground": true,
            "ticks": "",
            "zerolinecolor": "white"
           },
           "yaxis": {
            "backgroundcolor": "#E5ECF6",
            "gridcolor": "white",
            "gridwidth": 2,
            "linecolor": "white",
            "showbackground": true,
            "ticks": "",
            "zerolinecolor": "white"
           },
           "zaxis": {
            "backgroundcolor": "#E5ECF6",
            "gridcolor": "white",
            "gridwidth": 2,
            "linecolor": "white",
            "showbackground": true,
            "ticks": "",
            "zerolinecolor": "white"
           }
          },
          "shapedefaults": {
           "line": {
            "color": "#2a3f5f"
           }
          },
          "ternary": {
           "aaxis": {
            "gridcolor": "white",
            "linecolor": "white",
            "ticks": ""
           },
           "baxis": {
            "gridcolor": "white",
            "linecolor": "white",
            "ticks": ""
           },
           "bgcolor": "#E5ECF6",
           "caxis": {
            "gridcolor": "white",
            "linecolor": "white",
            "ticks": ""
           }
          },
          "title": {
           "x": 0.05
          },
          "xaxis": {
           "automargin": true,
           "gridcolor": "white",
           "linecolor": "white",
           "ticks": "",
           "title": {
            "standoff": 15
           },
           "zerolinecolor": "white",
           "zerolinewidth": 2
          },
          "yaxis": {
           "automargin": true,
           "gridcolor": "white",
           "linecolor": "white",
           "ticks": "",
           "title": {
            "standoff": 15
           },
           "zerolinecolor": "white",
           "zerolinewidth": 2
          }
         }
        },
        "title": {
         "text": "Efficiency"
        },
        "width": 1000,
        "xaxis": {
         "title": {
          "text": "Lattice Size"
         },
         "type": "log"
        },
        "yaxis": {
         "title": {
          "text": "Efficiency %"
         }
        }
       }
      }
     },
     "metadata": {}
    }
   ],
   "source": [
    "fig = go.Figure()\n",
    "\n",
    "for idx, (name, dfs, info) in enumerate(runs_gpu):\n",
    "    for i, df in enumerate(dfs):\n",
    "        dfs[i][\"efficiency\"] = 100 * (cpu_df[\"avgEvolveTime\"] / df[\"avgEvolveTime\"]) / info[0]\n",
    "    \n",
    "    df = pd.concat(dfs)\n",
    "    df[\"size\"] **= 2\n",
    "    add_mean_std_trace(fig, df, name, idx + 1, \"efficiency\")\n",
    "\n",
    "fig.update_layout(title=\"Efficiency\", xaxis_title='Lattice Size', yaxis_title=\"Efficiency %\", width=plot_width, height=plot_height)\n",
    "fig.update_xaxes(type=\"log\")\n",
    "fig.show()"
   ]
  },
  {
   "source": [
    "# Kernel Config"
   ],
   "cell_type": "markdown",
   "metadata": {}
  },
  {
   "cell_type": "code",
   "execution_count": 8,
   "metadata": {},
   "outputs": [],
   "source": [
    "k_df = pd.read_csv(\"res/36.k.hl.gpu.8704.csv\", header=0)"
   ]
  },
  {
   "cell_type": "code",
   "execution_count": 53,
   "metadata": {},
   "outputs": [
    {
     "output_type": "display_data",
     "data": {
      "application/vnd.plotly.v1+json": {
       "config": {
        "plotlyServerURL": "https://plot.ly"
       },
       "data": [
        {
         "type": "bar",
         "x": [
          32,
          64,
          96,
          128,
          160,
          192,
          224,
          256,
          288,
          320,
          352,
          384,
          416,
          448,
          480,
          512,
          544,
          576,
          608,
          640,
          672,
          704,
          736,
          768,
          800,
          832,
          864,
          896,
          928,
          960,
          992,
          1024
         ],
         "y": [
          342.213504,
          184.805785,
          143.88671,
          147.122069,
          150.639157,
          149.718215,
          156.912386,
          151.493915,
          153.555665,
          169.104873,
          158.053657,
          152.927108,
          172.419911,
          166.779336,
          160.821192,
          156.527978,
          198.026418,
          193.27359,
          187.970172,
          187.843676,
          181.481952,
          178.1601,
          174.084958,
          171.54403,
          293.892221,
          289.876147,
          277.932437,
          272.968219,
          264.269809,
          257.518184,
          258.782351,
          257.90078
         ]
        }
       ],
       "layout": {
        "barmode": "stack",
        "height": 600,
        "template": {
         "data": {
          "bar": [
           {
            "error_x": {
             "color": "#2a3f5f"
            },
            "error_y": {
             "color": "#2a3f5f"
            },
            "marker": {
             "line": {
              "color": "#E5ECF6",
              "width": 0.5
             },
             "pattern": {
              "fillmode": "overlay",
              "size": 10,
              "solidity": 0.2
             }
            },
            "type": "bar"
           }
          ],
          "barpolar": [
           {
            "marker": {
             "line": {
              "color": "#E5ECF6",
              "width": 0.5
             },
             "pattern": {
              "fillmode": "overlay",
              "size": 10,
              "solidity": 0.2
             }
            },
            "type": "barpolar"
           }
          ],
          "carpet": [
           {
            "aaxis": {
             "endlinecolor": "#2a3f5f",
             "gridcolor": "white",
             "linecolor": "white",
             "minorgridcolor": "white",
             "startlinecolor": "#2a3f5f"
            },
            "baxis": {
             "endlinecolor": "#2a3f5f",
             "gridcolor": "white",
             "linecolor": "white",
             "minorgridcolor": "white",
             "startlinecolor": "#2a3f5f"
            },
            "type": "carpet"
           }
          ],
          "choropleth": [
           {
            "colorbar": {
             "outlinewidth": 0,
             "ticks": ""
            },
            "type": "choropleth"
           }
          ],
          "contour": [
           {
            "colorbar": {
             "outlinewidth": 0,
             "ticks": ""
            },
            "colorscale": [
             [
              0,
              "#0d0887"
             ],
             [
              0.1111111111111111,
              "#46039f"
             ],
             [
              0.2222222222222222,
              "#7201a8"
             ],
             [
              0.3333333333333333,
              "#9c179e"
             ],
             [
              0.4444444444444444,
              "#bd3786"
             ],
             [
              0.5555555555555556,
              "#d8576b"
             ],
             [
              0.6666666666666666,
              "#ed7953"
             ],
             [
              0.7777777777777778,
              "#fb9f3a"
             ],
             [
              0.8888888888888888,
              "#fdca26"
             ],
             [
              1,
              "#f0f921"
             ]
            ],
            "type": "contour"
           }
          ],
          "contourcarpet": [
           {
            "colorbar": {
             "outlinewidth": 0,
             "ticks": ""
            },
            "type": "contourcarpet"
           }
          ],
          "heatmap": [
           {
            "colorbar": {
             "outlinewidth": 0,
             "ticks": ""
            },
            "colorscale": [
             [
              0,
              "#0d0887"
             ],
             [
              0.1111111111111111,
              "#46039f"
             ],
             [
              0.2222222222222222,
              "#7201a8"
             ],
             [
              0.3333333333333333,
              "#9c179e"
             ],
             [
              0.4444444444444444,
              "#bd3786"
             ],
             [
              0.5555555555555556,
              "#d8576b"
             ],
             [
              0.6666666666666666,
              "#ed7953"
             ],
             [
              0.7777777777777778,
              "#fb9f3a"
             ],
             [
              0.8888888888888888,
              "#fdca26"
             ],
             [
              1,
              "#f0f921"
             ]
            ],
            "type": "heatmap"
           }
          ],
          "heatmapgl": [
           {
            "colorbar": {
             "outlinewidth": 0,
             "ticks": ""
            },
            "colorscale": [
             [
              0,
              "#0d0887"
             ],
             [
              0.1111111111111111,
              "#46039f"
             ],
             [
              0.2222222222222222,
              "#7201a8"
             ],
             [
              0.3333333333333333,
              "#9c179e"
             ],
             [
              0.4444444444444444,
              "#bd3786"
             ],
             [
              0.5555555555555556,
              "#d8576b"
             ],
             [
              0.6666666666666666,
              "#ed7953"
             ],
             [
              0.7777777777777778,
              "#fb9f3a"
             ],
             [
              0.8888888888888888,
              "#fdca26"
             ],
             [
              1,
              "#f0f921"
             ]
            ],
            "type": "heatmapgl"
           }
          ],
          "histogram": [
           {
            "marker": {
             "pattern": {
              "fillmode": "overlay",
              "size": 10,
              "solidity": 0.2
             }
            },
            "type": "histogram"
           }
          ],
          "histogram2d": [
           {
            "colorbar": {
             "outlinewidth": 0,
             "ticks": ""
            },
            "colorscale": [
             [
              0,
              "#0d0887"
             ],
             [
              0.1111111111111111,
              "#46039f"
             ],
             [
              0.2222222222222222,
              "#7201a8"
             ],
             [
              0.3333333333333333,
              "#9c179e"
             ],
             [
              0.4444444444444444,
              "#bd3786"
             ],
             [
              0.5555555555555556,
              "#d8576b"
             ],
             [
              0.6666666666666666,
              "#ed7953"
             ],
             [
              0.7777777777777778,
              "#fb9f3a"
             ],
             [
              0.8888888888888888,
              "#fdca26"
             ],
             [
              1,
              "#f0f921"
             ]
            ],
            "type": "histogram2d"
           }
          ],
          "histogram2dcontour": [
           {
            "colorbar": {
             "outlinewidth": 0,
             "ticks": ""
            },
            "colorscale": [
             [
              0,
              "#0d0887"
             ],
             [
              0.1111111111111111,
              "#46039f"
             ],
             [
              0.2222222222222222,
              "#7201a8"
             ],
             [
              0.3333333333333333,
              "#9c179e"
             ],
             [
              0.4444444444444444,
              "#bd3786"
             ],
             [
              0.5555555555555556,
              "#d8576b"
             ],
             [
              0.6666666666666666,
              "#ed7953"
             ],
             [
              0.7777777777777778,
              "#fb9f3a"
             ],
             [
              0.8888888888888888,
              "#fdca26"
             ],
             [
              1,
              "#f0f921"
             ]
            ],
            "type": "histogram2dcontour"
           }
          ],
          "mesh3d": [
           {
            "colorbar": {
             "outlinewidth": 0,
             "ticks": ""
            },
            "type": "mesh3d"
           }
          ],
          "parcoords": [
           {
            "line": {
             "colorbar": {
              "outlinewidth": 0,
              "ticks": ""
             }
            },
            "type": "parcoords"
           }
          ],
          "pie": [
           {
            "automargin": true,
            "type": "pie"
           }
          ],
          "scatter": [
           {
            "marker": {
             "colorbar": {
              "outlinewidth": 0,
              "ticks": ""
             }
            },
            "type": "scatter"
           }
          ],
          "scatter3d": [
           {
            "line": {
             "colorbar": {
              "outlinewidth": 0,
              "ticks": ""
             }
            },
            "marker": {
             "colorbar": {
              "outlinewidth": 0,
              "ticks": ""
             }
            },
            "type": "scatter3d"
           }
          ],
          "scattercarpet": [
           {
            "marker": {
             "colorbar": {
              "outlinewidth": 0,
              "ticks": ""
             }
            },
            "type": "scattercarpet"
           }
          ],
          "scattergeo": [
           {
            "marker": {
             "colorbar": {
              "outlinewidth": 0,
              "ticks": ""
             }
            },
            "type": "scattergeo"
           }
          ],
          "scattergl": [
           {
            "marker": {
             "colorbar": {
              "outlinewidth": 0,
              "ticks": ""
             }
            },
            "type": "scattergl"
           }
          ],
          "scattermapbox": [
           {
            "marker": {
             "colorbar": {
              "outlinewidth": 0,
              "ticks": ""
             }
            },
            "type": "scattermapbox"
           }
          ],
          "scatterpolar": [
           {
            "marker": {
             "colorbar": {
              "outlinewidth": 0,
              "ticks": ""
             }
            },
            "type": "scatterpolar"
           }
          ],
          "scatterpolargl": [
           {
            "marker": {
             "colorbar": {
              "outlinewidth": 0,
              "ticks": ""
             }
            },
            "type": "scatterpolargl"
           }
          ],
          "scatterternary": [
           {
            "marker": {
             "colorbar": {
              "outlinewidth": 0,
              "ticks": ""
             }
            },
            "type": "scatterternary"
           }
          ],
          "surface": [
           {
            "colorbar": {
             "outlinewidth": 0,
             "ticks": ""
            },
            "colorscale": [
             [
              0,
              "#0d0887"
             ],
             [
              0.1111111111111111,
              "#46039f"
             ],
             [
              0.2222222222222222,
              "#7201a8"
             ],
             [
              0.3333333333333333,
              "#9c179e"
             ],
             [
              0.4444444444444444,
              "#bd3786"
             ],
             [
              0.5555555555555556,
              "#d8576b"
             ],
             [
              0.6666666666666666,
              "#ed7953"
             ],
             [
              0.7777777777777778,
              "#fb9f3a"
             ],
             [
              0.8888888888888888,
              "#fdca26"
             ],
             [
              1,
              "#f0f921"
             ]
            ],
            "type": "surface"
           }
          ],
          "table": [
           {
            "cells": {
             "fill": {
              "color": "#EBF0F8"
             },
             "line": {
              "color": "white"
             }
            },
            "header": {
             "fill": {
              "color": "#C8D4E3"
             },
             "line": {
              "color": "white"
             }
            },
            "type": "table"
           }
          ]
         },
         "layout": {
          "annotationdefaults": {
           "arrowcolor": "#2a3f5f",
           "arrowhead": 0,
           "arrowwidth": 1
          },
          "autotypenumbers": "strict",
          "coloraxis": {
           "colorbar": {
            "outlinewidth": 0,
            "ticks": ""
           }
          },
          "colorscale": {
           "diverging": [
            [
             0,
             "#8e0152"
            ],
            [
             0.1,
             "#c51b7d"
            ],
            [
             0.2,
             "#de77ae"
            ],
            [
             0.3,
             "#f1b6da"
            ],
            [
             0.4,
             "#fde0ef"
            ],
            [
             0.5,
             "#f7f7f7"
            ],
            [
             0.6,
             "#e6f5d0"
            ],
            [
             0.7,
             "#b8e186"
            ],
            [
             0.8,
             "#7fbc41"
            ],
            [
             0.9,
             "#4d9221"
            ],
            [
             1,
             "#276419"
            ]
           ],
           "sequential": [
            [
             0,
             "#0d0887"
            ],
            [
             0.1111111111111111,
             "#46039f"
            ],
            [
             0.2222222222222222,
             "#7201a8"
            ],
            [
             0.3333333333333333,
             "#9c179e"
            ],
            [
             0.4444444444444444,
             "#bd3786"
            ],
            [
             0.5555555555555556,
             "#d8576b"
            ],
            [
             0.6666666666666666,
             "#ed7953"
            ],
            [
             0.7777777777777778,
             "#fb9f3a"
            ],
            [
             0.8888888888888888,
             "#fdca26"
            ],
            [
             1,
             "#f0f921"
            ]
           ],
           "sequentialminus": [
            [
             0,
             "#0d0887"
            ],
            [
             0.1111111111111111,
             "#46039f"
            ],
            [
             0.2222222222222222,
             "#7201a8"
            ],
            [
             0.3333333333333333,
             "#9c179e"
            ],
            [
             0.4444444444444444,
             "#bd3786"
            ],
            [
             0.5555555555555556,
             "#d8576b"
            ],
            [
             0.6666666666666666,
             "#ed7953"
            ],
            [
             0.7777777777777778,
             "#fb9f3a"
            ],
            [
             0.8888888888888888,
             "#fdca26"
            ],
            [
             1,
             "#f0f921"
            ]
           ]
          },
          "colorway": [
           "#636efa",
           "#EF553B",
           "#00cc96",
           "#ab63fa",
           "#FFA15A",
           "#19d3f3",
           "#FF6692",
           "#B6E880",
           "#FF97FF",
           "#FECB52"
          ],
          "font": {
           "color": "#2a3f5f"
          },
          "geo": {
           "bgcolor": "white",
           "lakecolor": "white",
           "landcolor": "#E5ECF6",
           "showlakes": true,
           "showland": true,
           "subunitcolor": "white"
          },
          "hoverlabel": {
           "align": "left"
          },
          "hovermode": "closest",
          "mapbox": {
           "style": "light"
          },
          "paper_bgcolor": "white",
          "plot_bgcolor": "#E5ECF6",
          "polar": {
           "angularaxis": {
            "gridcolor": "white",
            "linecolor": "white",
            "ticks": ""
           },
           "bgcolor": "#E5ECF6",
           "radialaxis": {
            "gridcolor": "white",
            "linecolor": "white",
            "ticks": ""
           }
          },
          "scene": {
           "xaxis": {
            "backgroundcolor": "#E5ECF6",
            "gridcolor": "white",
            "gridwidth": 2,
            "linecolor": "white",
            "showbackground": true,
            "ticks": "",
            "zerolinecolor": "white"
           },
           "yaxis": {
            "backgroundcolor": "#E5ECF6",
            "gridcolor": "white",
            "gridwidth": 2,
            "linecolor": "white",
            "showbackground": true,
            "ticks": "",
            "zerolinecolor": "white"
           },
           "zaxis": {
            "backgroundcolor": "#E5ECF6",
            "gridcolor": "white",
            "gridwidth": 2,
            "linecolor": "white",
            "showbackground": true,
            "ticks": "",
            "zerolinecolor": "white"
           }
          },
          "shapedefaults": {
           "line": {
            "color": "#2a3f5f"
           }
          },
          "ternary": {
           "aaxis": {
            "gridcolor": "white",
            "linecolor": "white",
            "ticks": ""
           },
           "baxis": {
            "gridcolor": "white",
            "linecolor": "white",
            "ticks": ""
           },
           "bgcolor": "#E5ECF6",
           "caxis": {
            "gridcolor": "white",
            "linecolor": "white",
            "ticks": ""
           }
          },
          "title": {
           "x": 0.05
          },
          "xaxis": {
           "automargin": true,
           "gridcolor": "white",
           "linecolor": "white",
           "ticks": "",
           "title": {
            "standoff": 15
           },
           "zerolinecolor": "white",
           "zerolinewidth": 2
          },
          "yaxis": {
           "automargin": true,
           "gridcolor": "white",
           "linecolor": "white",
           "ticks": "",
           "title": {
            "standoff": 15
           },
           "zerolinecolor": "white",
           "zerolinewidth": 2
          }
         }
        },
        "title": {
         "text": "Average grid evolution time"
        },
        "width": 1000,
        "xaxis": {
         "categoryorder": "total ascending",
         "title": {
          "text": "Threads per block"
         }
        },
        "yaxis": {
         "title": {
          "text": "Time (ms)"
         }
        }
       }
      }
     },
     "metadata": {}
    }
   ],
   "source": [
    "gdf = k_df[k_df['size'] == 4096]\n",
    "fig = go.Figure(go.Bar(x=gdf['threads'], y=gdf['totalEvolveTime']/1e6))\n",
    "fig.update_layout(title=\"Average grid evolution time\", xaxis_title='Threads per block', yaxis_title=\"Time (ms)\", width=plot_width, height=plot_height, barmode='stack', xaxis={'categoryorder':'total ascending'})\n",
    "fig.show()"
   ]
  }
 ]
}