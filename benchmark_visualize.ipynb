{
 "metadata": {
  "language_info": {
   "codemirror_mode": {
    "name": "ipython",
    "version": 3
   },
   "file_extension": ".py",
   "mimetype": "text/x-python",
   "name": "python",
   "nbconvert_exporter": "python",
   "pygments_lexer": "ipython3",
   "version": "3.8.8"
  },
  "orig_nbformat": 2,
  "kernelspec": {
   "name": "python3",
   "display_name": "Python 3.8.8 64-bit ('bt_rew': conda)"
  },
  "interpreter": {
   "hash": "64d9061477c2b47e4fafdd661e486d2c0da5459afa86980e15aa54a8cb77a46c"
  }
 },
 "nbformat": 4,
 "nbformat_minor": 2,
 "cells": [
  {
   "cell_type": "code",
   "execution_count": 1,
   "metadata": {},
   "outputs": [],
   "source": [
    "import pandas as pd\n",
    "import plotly.express as px\n",
    "import plotly.graph_objects as go"
   ]
  },
  {
   "cell_type": "code",
   "execution_count": 7,
   "metadata": {},
   "outputs": [],
   "source": [
    "runs = [\n",
    "    # (  RUN NAME,                DF,                                              INFO  )\n",
    "    # CPU baseline\n",
    "    (\"CPU\", pd.read_csv(\"res/1.1.benchmark_results_cpu.csv\", header=0), (1,)),\n",
    "    (\"CPU 1 Thread\", pd.read_csv(\"res/6.benchmark_results_cpu_th_1.csv\", header=0), (1,)),\n",
    "    (\"CPU 2 Thread\", pd.read_csv(\"res/6.benchmark_results_cpu_th_2.csv\", header=0), (2,)),\n",
    "    (\"CPU 4 Thread\", pd.read_csv(\"res/6.benchmark_results_cpu_th_4.csv\", header=0), (4,)),\n",
    "    (\"CPU 8 Thread\", pd.read_csv(\"res/6.benchmark_results_cpu_th_8.csv\", header=0), (8,)),\n",
    "    (\"CPU 12 Thread\", pd.read_csv(\"res/6.benchmark_results_cpu_th_12.csv\", header=0), (12,)),\n",
    "    (\"CPU 16 Thread\", pd.read_csv(\"res/6.benchmark_results_cpu_th_16.csv\", header=0), (16,)),\n",
    "    # GPU optimizations\n",
    "    (\"GPU\", pd.read_csv(\"res/1.2.benchmark_results_gpu.csv\", header=0), (8704,)),\n",
    "    (\"GPU L1 opt\", pd.read_csv(\"res/2.benchmark_results_gpu_cache_l1.csv\", header=0), (8704,)),\n",
    "    (\"GPU No Branch\", pd.read_csv(\"res/3.benchmark_results_gpu_no_branching.csv\", header=0), (8704,)),\n",
    "    (\"GPU K Config\", pd.read_csv(\"res/4.benchmark_results_gpu_config.csv\", header=0), (8704,)),\n",
    "    (\"GPU Pre Increment\", pd.read_csv(\"res/5.benchmark_results_gpu_pre_inc.csv\", header=0), (8704,)),\n",
    "    (\"GPU 6\", pd.read_csv(\"res/6.benchmark_results_gpu.csv\", header=0), (8704,)),\n",
    "    (\"CPU Reduction\", pd.read_csv(\"res/7.1.benchmark_results_cpu_th_16.csv\", header=0), (16,)),\n",
    "    (\"CPU Critical\", pd.read_csv(\"res/7.2.benchmark_results_cpu_th_16.csv\", header=0), (16,)),\n",
    "]\n",
    "\n",
    "cpu_df = runs[0][1]\n",
    "runs_gpu = runs[1:]"
   ]
  },
  {
   "cell_type": "code",
   "execution_count": 8,
   "metadata": {},
   "outputs": [
    {
     "output_type": "display_data",
     "data": {
      "application/vnd.plotly.v1+json": {
       "config": {
        "plotlyServerURL": "https://plot.ly"
       },
       "data": [
        {
         "mode": "lines+markers",
         "name": "CPU",
         "type": "scatter",
         "x": [
          32,
          64,
          128,
          256,
          512,
          1024,
          2048,
          4096,
          8192
         ],
         "y": [
          0.02575,
          0.099936,
          0.420073,
          1.708254,
          7.018738,
          27.964208,
          112.122201,
          437.949988,
          1742.4201
         ]
        },
        {
         "mode": "lines+markers",
         "name": "CPU 1 Thread",
         "type": "scatter",
         "x": [
          32,
          64,
          128,
          256,
          512,
          1024,
          2048,
          4096,
          8192
         ],
         "y": [
          0.02027,
          0.077795,
          0.309875,
          1.252192,
          5.060115,
          20.208531,
          80.951012,
          319.49662,
          1297.91473
         ]
        },
        {
         "mode": "lines+markers",
         "name": "CPU 2 Thread",
         "type": "scatter",
         "x": [
          32,
          64,
          128,
          256,
          512,
          1024,
          2048,
          4096,
          8192
         ],
         "y": [
          0.016844,
          0.046694,
          0.158812,
          0.641746,
          2.531434,
          10.170533,
          40.568345,
          163.157445,
          651.707842
         ]
        },
        {
         "mode": "lines+markers",
         "name": "CPU 4 Thread",
         "type": "scatter",
         "x": [
          32,
          64,
          128,
          256,
          512,
          1024,
          2048,
          4096,
          8192
         ],
         "y": [
          0.011891,
          0.029124,
          0.088759,
          0.332985,
          1.315028,
          5.118765,
          20.944636,
          83.040687,
          333.930786
         ]
        },
        {
         "mode": "lines+markers",
         "name": "CPU 8 Thread",
         "type": "scatter",
         "x": [
          32,
          64,
          128,
          256,
          512,
          1024,
          2048,
          4096,
          8192
         ],
         "y": [
          0.007688,
          0.017277,
          0.068023,
          0.269032,
          0.821632,
          2.688033,
          10.736648,
          43.183366,
          172.91605
         ]
        },
        {
         "mode": "lines+markers",
         "name": "CPU 12 Thread",
         "type": "scatter",
         "x": [
          32,
          64,
          128,
          256,
          512,
          1024,
          2048,
          4096,
          8192
         ],
         "y": [
          0.008366,
          0.018142,
          0.048243,
          0.190314,
          0.747111,
          2.93187,
          11.707313,
          47.152282,
          187.455919
         ]
        },
        {
         "mode": "lines+markers",
         "name": "CPU 16 Thread",
         "type": "scatter",
         "x": [
          32,
          64,
          128,
          256,
          512,
          1024,
          2048,
          4096,
          8192
         ],
         "y": [
          0.01735,
          0.015174,
          0.046219,
          0.151317,
          0.616076,
          2.250707,
          9.139517,
          36.214577,
          144.556618
         ]
        },
        {
         "mode": "lines+markers",
         "name": "GPU",
         "type": "scatter",
         "x": [
          32,
          64,
          128,
          256,
          512,
          1024,
          2048,
          4096,
          8192
         ],
         "y": [
          0.016707,
          0.008172,
          0.009197,
          0.007928,
          0.00899,
          0.017533,
          0.045325,
          0.140599,
          0.563719
         ]
        },
        {
         "mode": "lines+markers",
         "name": "GPU L1 opt",
         "type": "scatter",
         "x": [
          32,
          64,
          128,
          256,
          512,
          1024,
          2048,
          4096,
          8192
         ],
         "y": [
          0.019168,
          0.009755,
          0.007397,
          0.009513,
          0.009844,
          0.015748,
          0.042073,
          0.135443,
          0.580479
         ]
        },
        {
         "mode": "lines+markers",
         "name": "GPU No Branch",
         "type": "scatter",
         "x": [
          32,
          64,
          128,
          256,
          512,
          1024,
          2048,
          4096,
          8192
         ],
         "y": [
          0.016148,
          0.008634,
          0.00799,
          0.008212,
          0.010013,
          0.01607,
          0.043486,
          0.130989,
          0.526354
         ]
        },
        {
         "mode": "lines+markers",
         "name": "GPU K Config",
         "type": "scatter",
         "x": [
          32,
          64,
          128,
          256,
          512,
          1024,
          2048,
          4096,
          8192
         ],
         "y": [
          0.020361,
          0.007646,
          0.0081,
          0.007817,
          0.009608,
          0.016405,
          0.052878,
          0.169847,
          0.668428
         ]
        },
        {
         "mode": "lines+markers",
         "name": "GPU Pre Increment",
         "type": "scatter",
         "x": [
          32,
          64,
          128,
          256,
          512,
          1024,
          2048,
          4096,
          8192
         ],
         "y": [
          0.015624,
          0.007396,
          0.008912,
          0.007747,
          0.008573,
          0.013733,
          0.044101,
          0.119155,
          0.469333
         ]
        },
        {
         "mode": "lines+markers",
         "name": "GPU 6",
         "type": "scatter",
         "x": [
          32,
          64,
          128,
          256,
          512,
          1024,
          2048,
          4096,
          8192
         ],
         "y": [
          0.016198,
          0.007097,
          0.007327,
          0.007363,
          0.008557,
          0.013489,
          0.033462,
          0.107821,
          0.435573
         ]
        },
        {
         "mode": "lines+markers",
         "name": "CPU Reduction",
         "type": "scatter",
         "x": [
          32,
          64,
          128,
          256,
          512,
          1024,
          2048,
          4096,
          8192
         ],
         "y": [
          0.016537,
          0.01873,
          0.079435,
          0.155176,
          0.618481,
          2.272893,
          9.439705,
          38.766485,
          159.764436
         ]
        },
        {
         "mode": "lines+markers",
         "name": "CPU Critical",
         "type": "scatter",
         "x": [
          32,
          64,
          128,
          256,
          512,
          1024,
          2048,
          4096,
          8192
         ],
         "y": [
          0.016836,
          0.024128,
          0.05281,
          0.190743,
          0.901445,
          2.807047,
          10.524442,
          41.790219,
          159.510959
         ]
        }
       ],
       "layout": {
        "height": 400,
        "template": {
         "data": {
          "bar": [
           {
            "error_x": {
             "color": "#2a3f5f"
            },
            "error_y": {
             "color": "#2a3f5f"
            },
            "marker": {
             "line": {
              "color": "#E5ECF6",
              "width": 0.5
             }
            },
            "type": "bar"
           }
          ],
          "barpolar": [
           {
            "marker": {
             "line": {
              "color": "#E5ECF6",
              "width": 0.5
             }
            },
            "type": "barpolar"
           }
          ],
          "carpet": [
           {
            "aaxis": {
             "endlinecolor": "#2a3f5f",
             "gridcolor": "white",
             "linecolor": "white",
             "minorgridcolor": "white",
             "startlinecolor": "#2a3f5f"
            },
            "baxis": {
             "endlinecolor": "#2a3f5f",
             "gridcolor": "white",
             "linecolor": "white",
             "minorgridcolor": "white",
             "startlinecolor": "#2a3f5f"
            },
            "type": "carpet"
           }
          ],
          "choropleth": [
           {
            "colorbar": {
             "outlinewidth": 0,
             "ticks": ""
            },
            "type": "choropleth"
           }
          ],
          "contour": [
           {
            "colorbar": {
             "outlinewidth": 0,
             "ticks": ""
            },
            "colorscale": [
             [
              0,
              "#0d0887"
             ],
             [
              0.1111111111111111,
              "#46039f"
             ],
             [
              0.2222222222222222,
              "#7201a8"
             ],
             [
              0.3333333333333333,
              "#9c179e"
             ],
             [
              0.4444444444444444,
              "#bd3786"
             ],
             [
              0.5555555555555556,
              "#d8576b"
             ],
             [
              0.6666666666666666,
              "#ed7953"
             ],
             [
              0.7777777777777778,
              "#fb9f3a"
             ],
             [
              0.8888888888888888,
              "#fdca26"
             ],
             [
              1,
              "#f0f921"
             ]
            ],
            "type": "contour"
           }
          ],
          "contourcarpet": [
           {
            "colorbar": {
             "outlinewidth": 0,
             "ticks": ""
            },
            "type": "contourcarpet"
           }
          ],
          "heatmap": [
           {
            "colorbar": {
             "outlinewidth": 0,
             "ticks": ""
            },
            "colorscale": [
             [
              0,
              "#0d0887"
             ],
             [
              0.1111111111111111,
              "#46039f"
             ],
             [
              0.2222222222222222,
              "#7201a8"
             ],
             [
              0.3333333333333333,
              "#9c179e"
             ],
             [
              0.4444444444444444,
              "#bd3786"
             ],
             [
              0.5555555555555556,
              "#d8576b"
             ],
             [
              0.6666666666666666,
              "#ed7953"
             ],
             [
              0.7777777777777778,
              "#fb9f3a"
             ],
             [
              0.8888888888888888,
              "#fdca26"
             ],
             [
              1,
              "#f0f921"
             ]
            ],
            "type": "heatmap"
           }
          ],
          "heatmapgl": [
           {
            "colorbar": {
             "outlinewidth": 0,
             "ticks": ""
            },
            "colorscale": [
             [
              0,
              "#0d0887"
             ],
             [
              0.1111111111111111,
              "#46039f"
             ],
             [
              0.2222222222222222,
              "#7201a8"
             ],
             [
              0.3333333333333333,
              "#9c179e"
             ],
             [
              0.4444444444444444,
              "#bd3786"
             ],
             [
              0.5555555555555556,
              "#d8576b"
             ],
             [
              0.6666666666666666,
              "#ed7953"
             ],
             [
              0.7777777777777778,
              "#fb9f3a"
             ],
             [
              0.8888888888888888,
              "#fdca26"
             ],
             [
              1,
              "#f0f921"
             ]
            ],
            "type": "heatmapgl"
           }
          ],
          "histogram": [
           {
            "marker": {
             "colorbar": {
              "outlinewidth": 0,
              "ticks": ""
             }
            },
            "type": "histogram"
           }
          ],
          "histogram2d": [
           {
            "colorbar": {
             "outlinewidth": 0,
             "ticks": ""
            },
            "colorscale": [
             [
              0,
              "#0d0887"
             ],
             [
              0.1111111111111111,
              "#46039f"
             ],
             [
              0.2222222222222222,
              "#7201a8"
             ],
             [
              0.3333333333333333,
              "#9c179e"
             ],
             [
              0.4444444444444444,
              "#bd3786"
             ],
             [
              0.5555555555555556,
              "#d8576b"
             ],
             [
              0.6666666666666666,
              "#ed7953"
             ],
             [
              0.7777777777777778,
              "#fb9f3a"
             ],
             [
              0.8888888888888888,
              "#fdca26"
             ],
             [
              1,
              "#f0f921"
             ]
            ],
            "type": "histogram2d"
           }
          ],
          "histogram2dcontour": [
           {
            "colorbar": {
             "outlinewidth": 0,
             "ticks": ""
            },
            "colorscale": [
             [
              0,
              "#0d0887"
             ],
             [
              0.1111111111111111,
              "#46039f"
             ],
             [
              0.2222222222222222,
              "#7201a8"
             ],
             [
              0.3333333333333333,
              "#9c179e"
             ],
             [
              0.4444444444444444,
              "#bd3786"
             ],
             [
              0.5555555555555556,
              "#d8576b"
             ],
             [
              0.6666666666666666,
              "#ed7953"
             ],
             [
              0.7777777777777778,
              "#fb9f3a"
             ],
             [
              0.8888888888888888,
              "#fdca26"
             ],
             [
              1,
              "#f0f921"
             ]
            ],
            "type": "histogram2dcontour"
           }
          ],
          "mesh3d": [
           {
            "colorbar": {
             "outlinewidth": 0,
             "ticks": ""
            },
            "type": "mesh3d"
           }
          ],
          "parcoords": [
           {
            "line": {
             "colorbar": {
              "outlinewidth": 0,
              "ticks": ""
             }
            },
            "type": "parcoords"
           }
          ],
          "pie": [
           {
            "automargin": true,
            "type": "pie"
           }
          ],
          "scatter": [
           {
            "marker": {
             "colorbar": {
              "outlinewidth": 0,
              "ticks": ""
             }
            },
            "type": "scatter"
           }
          ],
          "scatter3d": [
           {
            "line": {
             "colorbar": {
              "outlinewidth": 0,
              "ticks": ""
             }
            },
            "marker": {
             "colorbar": {
              "outlinewidth": 0,
              "ticks": ""
             }
            },
            "type": "scatter3d"
           }
          ],
          "scattercarpet": [
           {
            "marker": {
             "colorbar": {
              "outlinewidth": 0,
              "ticks": ""
             }
            },
            "type": "scattercarpet"
           }
          ],
          "scattergeo": [
           {
            "marker": {
             "colorbar": {
              "outlinewidth": 0,
              "ticks": ""
             }
            },
            "type": "scattergeo"
           }
          ],
          "scattergl": [
           {
            "marker": {
             "colorbar": {
              "outlinewidth": 0,
              "ticks": ""
             }
            },
            "type": "scattergl"
           }
          ],
          "scattermapbox": [
           {
            "marker": {
             "colorbar": {
              "outlinewidth": 0,
              "ticks": ""
             }
            },
            "type": "scattermapbox"
           }
          ],
          "scatterpolar": [
           {
            "marker": {
             "colorbar": {
              "outlinewidth": 0,
              "ticks": ""
             }
            },
            "type": "scatterpolar"
           }
          ],
          "scatterpolargl": [
           {
            "marker": {
             "colorbar": {
              "outlinewidth": 0,
              "ticks": ""
             }
            },
            "type": "scatterpolargl"
           }
          ],
          "scatterternary": [
           {
            "marker": {
             "colorbar": {
              "outlinewidth": 0,
              "ticks": ""
             }
            },
            "type": "scatterternary"
           }
          ],
          "surface": [
           {
            "colorbar": {
             "outlinewidth": 0,
             "ticks": ""
            },
            "colorscale": [
             [
              0,
              "#0d0887"
             ],
             [
              0.1111111111111111,
              "#46039f"
             ],
             [
              0.2222222222222222,
              "#7201a8"
             ],
             [
              0.3333333333333333,
              "#9c179e"
             ],
             [
              0.4444444444444444,
              "#bd3786"
             ],
             [
              0.5555555555555556,
              "#d8576b"
             ],
             [
              0.6666666666666666,
              "#ed7953"
             ],
             [
              0.7777777777777778,
              "#fb9f3a"
             ],
             [
              0.8888888888888888,
              "#fdca26"
             ],
             [
              1,
              "#f0f921"
             ]
            ],
            "type": "surface"
           }
          ],
          "table": [
           {
            "cells": {
             "fill": {
              "color": "#EBF0F8"
             },
             "line": {
              "color": "white"
             }
            },
            "header": {
             "fill": {
              "color": "#C8D4E3"
             },
             "line": {
              "color": "white"
             }
            },
            "type": "table"
           }
          ]
         },
         "layout": {
          "annotationdefaults": {
           "arrowcolor": "#2a3f5f",
           "arrowhead": 0,
           "arrowwidth": 1
          },
          "autotypenumbers": "strict",
          "coloraxis": {
           "colorbar": {
            "outlinewidth": 0,
            "ticks": ""
           }
          },
          "colorscale": {
           "diverging": [
            [
             0,
             "#8e0152"
            ],
            [
             0.1,
             "#c51b7d"
            ],
            [
             0.2,
             "#de77ae"
            ],
            [
             0.3,
             "#f1b6da"
            ],
            [
             0.4,
             "#fde0ef"
            ],
            [
             0.5,
             "#f7f7f7"
            ],
            [
             0.6,
             "#e6f5d0"
            ],
            [
             0.7,
             "#b8e186"
            ],
            [
             0.8,
             "#7fbc41"
            ],
            [
             0.9,
             "#4d9221"
            ],
            [
             1,
             "#276419"
            ]
           ],
           "sequential": [
            [
             0,
             "#0d0887"
            ],
            [
             0.1111111111111111,
             "#46039f"
            ],
            [
             0.2222222222222222,
             "#7201a8"
            ],
            [
             0.3333333333333333,
             "#9c179e"
            ],
            [
             0.4444444444444444,
             "#bd3786"
            ],
            [
             0.5555555555555556,
             "#d8576b"
            ],
            [
             0.6666666666666666,
             "#ed7953"
            ],
            [
             0.7777777777777778,
             "#fb9f3a"
            ],
            [
             0.8888888888888888,
             "#fdca26"
            ],
            [
             1,
             "#f0f921"
            ]
           ],
           "sequentialminus": [
            [
             0,
             "#0d0887"
            ],
            [
             0.1111111111111111,
             "#46039f"
            ],
            [
             0.2222222222222222,
             "#7201a8"
            ],
            [
             0.3333333333333333,
             "#9c179e"
            ],
            [
             0.4444444444444444,
             "#bd3786"
            ],
            [
             0.5555555555555556,
             "#d8576b"
            ],
            [
             0.6666666666666666,
             "#ed7953"
            ],
            [
             0.7777777777777778,
             "#fb9f3a"
            ],
            [
             0.8888888888888888,
             "#fdca26"
            ],
            [
             1,
             "#f0f921"
            ]
           ]
          },
          "colorway": [
           "#636efa",
           "#EF553B",
           "#00cc96",
           "#ab63fa",
           "#FFA15A",
           "#19d3f3",
           "#FF6692",
           "#B6E880",
           "#FF97FF",
           "#FECB52"
          ],
          "font": {
           "color": "#2a3f5f"
          },
          "geo": {
           "bgcolor": "white",
           "lakecolor": "white",
           "landcolor": "#E5ECF6",
           "showlakes": true,
           "showland": true,
           "subunitcolor": "white"
          },
          "hoverlabel": {
           "align": "left"
          },
          "hovermode": "closest",
          "mapbox": {
           "style": "light"
          },
          "paper_bgcolor": "white",
          "plot_bgcolor": "#E5ECF6",
          "polar": {
           "angularaxis": {
            "gridcolor": "white",
            "linecolor": "white",
            "ticks": ""
           },
           "bgcolor": "#E5ECF6",
           "radialaxis": {
            "gridcolor": "white",
            "linecolor": "white",
            "ticks": ""
           }
          },
          "scene": {
           "xaxis": {
            "backgroundcolor": "#E5ECF6",
            "gridcolor": "white",
            "gridwidth": 2,
            "linecolor": "white",
            "showbackground": true,
            "ticks": "",
            "zerolinecolor": "white"
           },
           "yaxis": {
            "backgroundcolor": "#E5ECF6",
            "gridcolor": "white",
            "gridwidth": 2,
            "linecolor": "white",
            "showbackground": true,
            "ticks": "",
            "zerolinecolor": "white"
           },
           "zaxis": {
            "backgroundcolor": "#E5ECF6",
            "gridcolor": "white",
            "gridwidth": 2,
            "linecolor": "white",
            "showbackground": true,
            "ticks": "",
            "zerolinecolor": "white"
           }
          },
          "shapedefaults": {
           "line": {
            "color": "#2a3f5f"
           }
          },
          "ternary": {
           "aaxis": {
            "gridcolor": "white",
            "linecolor": "white",
            "ticks": ""
           },
           "baxis": {
            "gridcolor": "white",
            "linecolor": "white",
            "ticks": ""
           },
           "bgcolor": "#E5ECF6",
           "caxis": {
            "gridcolor": "white",
            "linecolor": "white",
            "ticks": ""
           }
          },
          "title": {
           "x": 0.05
          },
          "xaxis": {
           "automargin": true,
           "gridcolor": "white",
           "linecolor": "white",
           "ticks": "",
           "title": {
            "standoff": 15
           },
           "zerolinecolor": "white",
           "zerolinewidth": 2
          },
          "yaxis": {
           "automargin": true,
           "gridcolor": "white",
           "linecolor": "white",
           "ticks": "",
           "title": {
            "standoff": 15
           },
           "zerolinecolor": "white",
           "zerolinewidth": 2
          }
         }
        },
        "title": {
         "text": "Average grid evolution time"
        },
        "width": 500,
        "xaxis": {
         "title": {
          "text": "Lattice Size"
         }
        },
        "yaxis": {
         "title": {
          "text": "Time (ms)"
         },
         "type": "log"
        }
       }
      }
     },
     "metadata": {}
    }
   ],
   "source": [
    "fig = go.Figure()\n",
    "for name, df, _ in runs:\n",
    "    fig.add_trace(go.Scatter(\n",
    "        x=df[\"size\"],\n",
    "        y=df[\"avgEvolveTime\"] / 1e6,  # time is originally in ns\n",
    "        mode=\"lines+markers\",\n",
    "        name=name,\n",
    "    ))\n",
    "fig.update_layout(title=\"Average grid evolution time\", xaxis_title='Lattice Size', yaxis_title=\"Time (ms)\", width=500, height=400)\n",
    "fig.update_yaxes(type=\"log\")\n",
    "fig.show()"
   ]
  },
  {
   "cell_type": "code",
   "execution_count": 9,
   "metadata": {},
   "outputs": [
    {
     "output_type": "display_data",
     "data": {
      "application/vnd.plotly.v1+json": {
       "config": {
        "plotlyServerURL": "https://plot.ly"
       },
       "data": [
        {
         "mode": "lines+markers",
         "name": "CPU 1 Thread",
         "type": "scatter",
         "x": [
          32,
          64,
          128,
          256,
          512,
          1024,
          2048,
          4096,
          8192
         ],
         "y": [
          1.2703502713369512,
          1.284606979883026,
          1.3556208148446955,
          1.3642109197311594,
          1.3870708472040656,
          1.38378232440547,
          1.3850623757489282,
          1.3707499879028455,
          1.3424765585332405
         ]
        },
        {
         "mode": "lines+markers",
         "name": "CPU 2 Thread",
         "type": "scatter",
         "x": [
          32,
          64,
          128,
          256,
          512,
          1024,
          2048,
          4096,
          8192
         ],
         "y": [
          1.528734267394918,
          2.140232149740866,
          2.645096088456792,
          2.661884920202074,
          2.7726332189581084,
          2.749532202491256,
          2.7637854341852,
          2.6842170027852545,
          2.6736215029310633
         ]
        },
        {
         "mode": "lines+markers",
         "name": "CPU 4 Thread",
         "type": "scatter",
         "x": [
          32,
          64,
          128,
          256,
          512,
          1024,
          2048,
          4096,
          8192
         ],
         "y": [
          2.1655033218400472,
          3.431396786155748,
          4.732736961885555,
          5.130122978512546,
          5.337329699443662,
          5.46307712895591,
          5.353265676233285,
          5.273920578234137,
          5.217907940958759
         ]
        },
        {
         "mode": "lines+markers",
         "name": "CPU 8 Thread",
         "type": "scatter",
         "x": [
          32,
          64,
          128,
          256,
          512,
          1024,
          2048,
          4096,
          8192
         ],
         "y": [
          3.349375650364204,
          5.784337558603925,
          6.1754553606868265,
          6.349631270629517,
          8.542435056083502,
          10.403223472330883,
          10.442942806730741,
          10.141636203162117,
          10.076682297565783
         ]
        },
        {
         "mode": "lines+markers",
         "name": "CPU 12 Thread",
         "type": "scatter",
         "x": [
          32,
          64,
          128,
          256,
          512,
          1024,
          2048,
          4096,
          8192
         ],
         "y": [
          3.0779344967726514,
          5.508543710726491,
          8.707439421263189,
          8.975976544027239,
          9.394504966464153,
          9.53801089407102,
          9.577108000785492,
          9.287991363811406,
          9.295092463844794
         ]
        },
        {
         "mode": "lines+markers",
         "name": "CPU 16 Thread",
         "type": "scatter",
         "x": [
          32,
          64,
          128,
          256,
          512,
          1024,
          2048,
          4096,
          8192
         ],
         "y": [
          1.484149855907781,
          6.586002372479241,
          9.088751379302884,
          11.289240468684946,
          11.392649608165227,
          12.424632793162326,
          12.267847524108769,
          12.09319628391628,
          12.05354776631534
         ]
        },
        {
         "mode": "lines+markers",
         "name": "GPU",
         "type": "scatter",
         "x": [
          32,
          64,
          128,
          256,
          512,
          1024,
          2048,
          4096,
          8192
         ],
         "y": [
          1.5412701262943675,
          12.22907488986784,
          45.675002718277696,
          215.4709889001009,
          780.7272525027809,
          1594.9471282724005,
          2473.7385769442913,
          3114.8869337619753,
          3090.9373287045496
         ]
        },
        {
         "mode": "lines+markers",
         "name": "GPU L1 opt",
         "type": "scatter",
         "x": [
          32,
          64,
          128,
          256,
          512,
          1024,
          2048,
          4096,
          8192
         ],
         "y": [
          1.3433848080133557,
          10.244592516658123,
          56.78964445045288,
          179.57048249763483,
          712.9965461194637,
          1775.730759461519,
          2664.9442873101516,
          3233.463434802832,
          3001.6936013189106
         ]
        },
        {
         "mode": "lines+markers",
         "name": "GPU No Branch",
         "type": "scatter",
         "x": [
          32,
          64,
          128,
          256,
          512,
          1024,
          2048,
          4096,
          8192
         ],
         "y": [
          1.5946247213277187,
          11.574704656011118,
          52.574843554443056,
          208.01924013638578,
          700.9625486867072,
          1740.149844430616,
          2578.3516764016003,
          3343.410423776042,
          3310.3578580195076
         ]
        },
        {
         "mode": "lines+markers",
         "name": "GPU K Config",
         "type": "scatter",
         "x": [
          32,
          64,
          128,
          256,
          512,
          1024,
          2048,
          4096,
          8192
         ],
         "y": [
          1.2646726585138255,
          13.070363588804604,
          51.860864197530866,
          218.53063835230907,
          730.5097835137385,
          1704.6149344711978,
          2120.394133666175,
          2578.4970473426083,
          2606.7431346382855
         ]
        },
        {
         "mode": "lines+markers",
         "name": "GPU Pre Increment",
         "type": "scatter",
         "x": [
          32,
          64,
          128,
          256,
          512,
          1024,
          2048,
          4096,
          8192
         ],
         "y": [
          1.64810547875064,
          13.512168739859383,
          47.13565978456015,
          220.50522783012778,
          818.7026711769508,
          2036.2781620913129,
          2542.395886714587,
          3675.4646301036464,
          3712.545463455585
         ]
        },
        {
         "mode": "lines+markers",
         "name": "GPU 6",
         "type": "scatter",
         "x": [
          32,
          64,
          128,
          256,
          512,
          1024,
          2048,
          4096,
          8192
         ],
         "y": [
          1.5897024323990616,
          14.081442863181627,
          57.332195987443704,
          232.0051609398343,
          820.2334930466285,
          2073.1120171991993,
          3350.732203693742,
          4061.8245796273454,
          4000.2940953640377
         ]
        },
        {
         "mode": "lines+markers",
         "name": "CPU Reduction",
         "type": "scatter",
         "x": [
          32,
          64,
          128,
          256,
          512,
          1024,
          2048,
          4096,
          8192
         ],
         "y": [
          1.5571143496402007,
          5.335611318739989,
          5.2882608421980235,
          11.008493581481673,
          11.348348615398049,
          12.303354359400112,
          11.877722979690573,
          11.297129156796135,
          10.906182524876813
         ]
        },
        {
         "mode": "lines+markers",
         "name": "CPU Critical",
         "type": "scatter",
         "x": [
          32,
          64,
          128,
          256,
          512,
          1024,
          2048,
          4096,
          8192
         ],
         "y": [
          1.5294606794963175,
          4.141909814323608,
          7.954421511077448,
          8.95578867900788,
          7.786096766857656,
          9.962144559745527,
          10.653505525518598,
          10.479724645616239,
          10.923513412015785
         ]
        }
       ],
       "layout": {
        "height": 400,
        "template": {
         "data": {
          "bar": [
           {
            "error_x": {
             "color": "#2a3f5f"
            },
            "error_y": {
             "color": "#2a3f5f"
            },
            "marker": {
             "line": {
              "color": "#E5ECF6",
              "width": 0.5
             }
            },
            "type": "bar"
           }
          ],
          "barpolar": [
           {
            "marker": {
             "line": {
              "color": "#E5ECF6",
              "width": 0.5
             }
            },
            "type": "barpolar"
           }
          ],
          "carpet": [
           {
            "aaxis": {
             "endlinecolor": "#2a3f5f",
             "gridcolor": "white",
             "linecolor": "white",
             "minorgridcolor": "white",
             "startlinecolor": "#2a3f5f"
            },
            "baxis": {
             "endlinecolor": "#2a3f5f",
             "gridcolor": "white",
             "linecolor": "white",
             "minorgridcolor": "white",
             "startlinecolor": "#2a3f5f"
            },
            "type": "carpet"
           }
          ],
          "choropleth": [
           {
            "colorbar": {
             "outlinewidth": 0,
             "ticks": ""
            },
            "type": "choropleth"
           }
          ],
          "contour": [
           {
            "colorbar": {
             "outlinewidth": 0,
             "ticks": ""
            },
            "colorscale": [
             [
              0,
              "#0d0887"
             ],
             [
              0.1111111111111111,
              "#46039f"
             ],
             [
              0.2222222222222222,
              "#7201a8"
             ],
             [
              0.3333333333333333,
              "#9c179e"
             ],
             [
              0.4444444444444444,
              "#bd3786"
             ],
             [
              0.5555555555555556,
              "#d8576b"
             ],
             [
              0.6666666666666666,
              "#ed7953"
             ],
             [
              0.7777777777777778,
              "#fb9f3a"
             ],
             [
              0.8888888888888888,
              "#fdca26"
             ],
             [
              1,
              "#f0f921"
             ]
            ],
            "type": "contour"
           }
          ],
          "contourcarpet": [
           {
            "colorbar": {
             "outlinewidth": 0,
             "ticks": ""
            },
            "type": "contourcarpet"
           }
          ],
          "heatmap": [
           {
            "colorbar": {
             "outlinewidth": 0,
             "ticks": ""
            },
            "colorscale": [
             [
              0,
              "#0d0887"
             ],
             [
              0.1111111111111111,
              "#46039f"
             ],
             [
              0.2222222222222222,
              "#7201a8"
             ],
             [
              0.3333333333333333,
              "#9c179e"
             ],
             [
              0.4444444444444444,
              "#bd3786"
             ],
             [
              0.5555555555555556,
              "#d8576b"
             ],
             [
              0.6666666666666666,
              "#ed7953"
             ],
             [
              0.7777777777777778,
              "#fb9f3a"
             ],
             [
              0.8888888888888888,
              "#fdca26"
             ],
             [
              1,
              "#f0f921"
             ]
            ],
            "type": "heatmap"
           }
          ],
          "heatmapgl": [
           {
            "colorbar": {
             "outlinewidth": 0,
             "ticks": ""
            },
            "colorscale": [
             [
              0,
              "#0d0887"
             ],
             [
              0.1111111111111111,
              "#46039f"
             ],
             [
              0.2222222222222222,
              "#7201a8"
             ],
             [
              0.3333333333333333,
              "#9c179e"
             ],
             [
              0.4444444444444444,
              "#bd3786"
             ],
             [
              0.5555555555555556,
              "#d8576b"
             ],
             [
              0.6666666666666666,
              "#ed7953"
             ],
             [
              0.7777777777777778,
              "#fb9f3a"
             ],
             [
              0.8888888888888888,
              "#fdca26"
             ],
             [
              1,
              "#f0f921"
             ]
            ],
            "type": "heatmapgl"
           }
          ],
          "histogram": [
           {
            "marker": {
             "colorbar": {
              "outlinewidth": 0,
              "ticks": ""
             }
            },
            "type": "histogram"
           }
          ],
          "histogram2d": [
           {
            "colorbar": {
             "outlinewidth": 0,
             "ticks": ""
            },
            "colorscale": [
             [
              0,
              "#0d0887"
             ],
             [
              0.1111111111111111,
              "#46039f"
             ],
             [
              0.2222222222222222,
              "#7201a8"
             ],
             [
              0.3333333333333333,
              "#9c179e"
             ],
             [
              0.4444444444444444,
              "#bd3786"
             ],
             [
              0.5555555555555556,
              "#d8576b"
             ],
             [
              0.6666666666666666,
              "#ed7953"
             ],
             [
              0.7777777777777778,
              "#fb9f3a"
             ],
             [
              0.8888888888888888,
              "#fdca26"
             ],
             [
              1,
              "#f0f921"
             ]
            ],
            "type": "histogram2d"
           }
          ],
          "histogram2dcontour": [
           {
            "colorbar": {
             "outlinewidth": 0,
             "ticks": ""
            },
            "colorscale": [
             [
              0,
              "#0d0887"
             ],
             [
              0.1111111111111111,
              "#46039f"
             ],
             [
              0.2222222222222222,
              "#7201a8"
             ],
             [
              0.3333333333333333,
              "#9c179e"
             ],
             [
              0.4444444444444444,
              "#bd3786"
             ],
             [
              0.5555555555555556,
              "#d8576b"
             ],
             [
              0.6666666666666666,
              "#ed7953"
             ],
             [
              0.7777777777777778,
              "#fb9f3a"
             ],
             [
              0.8888888888888888,
              "#fdca26"
             ],
             [
              1,
              "#f0f921"
             ]
            ],
            "type": "histogram2dcontour"
           }
          ],
          "mesh3d": [
           {
            "colorbar": {
             "outlinewidth": 0,
             "ticks": ""
            },
            "type": "mesh3d"
           }
          ],
          "parcoords": [
           {
            "line": {
             "colorbar": {
              "outlinewidth": 0,
              "ticks": ""
             }
            },
            "type": "parcoords"
           }
          ],
          "pie": [
           {
            "automargin": true,
            "type": "pie"
           }
          ],
          "scatter": [
           {
            "marker": {
             "colorbar": {
              "outlinewidth": 0,
              "ticks": ""
             }
            },
            "type": "scatter"
           }
          ],
          "scatter3d": [
           {
            "line": {
             "colorbar": {
              "outlinewidth": 0,
              "ticks": ""
             }
            },
            "marker": {
             "colorbar": {
              "outlinewidth": 0,
              "ticks": ""
             }
            },
            "type": "scatter3d"
           }
          ],
          "scattercarpet": [
           {
            "marker": {
             "colorbar": {
              "outlinewidth": 0,
              "ticks": ""
             }
            },
            "type": "scattercarpet"
           }
          ],
          "scattergeo": [
           {
            "marker": {
             "colorbar": {
              "outlinewidth": 0,
              "ticks": ""
             }
            },
            "type": "scattergeo"
           }
          ],
          "scattergl": [
           {
            "marker": {
             "colorbar": {
              "outlinewidth": 0,
              "ticks": ""
             }
            },
            "type": "scattergl"
           }
          ],
          "scattermapbox": [
           {
            "marker": {
             "colorbar": {
              "outlinewidth": 0,
              "ticks": ""
             }
            },
            "type": "scattermapbox"
           }
          ],
          "scatterpolar": [
           {
            "marker": {
             "colorbar": {
              "outlinewidth": 0,
              "ticks": ""
             }
            },
            "type": "scatterpolar"
           }
          ],
          "scatterpolargl": [
           {
            "marker": {
             "colorbar": {
              "outlinewidth": 0,
              "ticks": ""
             }
            },
            "type": "scatterpolargl"
           }
          ],
          "scatterternary": [
           {
            "marker": {
             "colorbar": {
              "outlinewidth": 0,
              "ticks": ""
             }
            },
            "type": "scatterternary"
           }
          ],
          "surface": [
           {
            "colorbar": {
             "outlinewidth": 0,
             "ticks": ""
            },
            "colorscale": [
             [
              0,
              "#0d0887"
             ],
             [
              0.1111111111111111,
              "#46039f"
             ],
             [
              0.2222222222222222,
              "#7201a8"
             ],
             [
              0.3333333333333333,
              "#9c179e"
             ],
             [
              0.4444444444444444,
              "#bd3786"
             ],
             [
              0.5555555555555556,
              "#d8576b"
             ],
             [
              0.6666666666666666,
              "#ed7953"
             ],
             [
              0.7777777777777778,
              "#fb9f3a"
             ],
             [
              0.8888888888888888,
              "#fdca26"
             ],
             [
              1,
              "#f0f921"
             ]
            ],
            "type": "surface"
           }
          ],
          "table": [
           {
            "cells": {
             "fill": {
              "color": "#EBF0F8"
             },
             "line": {
              "color": "white"
             }
            },
            "header": {
             "fill": {
              "color": "#C8D4E3"
             },
             "line": {
              "color": "white"
             }
            },
            "type": "table"
           }
          ]
         },
         "layout": {
          "annotationdefaults": {
           "arrowcolor": "#2a3f5f",
           "arrowhead": 0,
           "arrowwidth": 1
          },
          "autotypenumbers": "strict",
          "coloraxis": {
           "colorbar": {
            "outlinewidth": 0,
            "ticks": ""
           }
          },
          "colorscale": {
           "diverging": [
            [
             0,
             "#8e0152"
            ],
            [
             0.1,
             "#c51b7d"
            ],
            [
             0.2,
             "#de77ae"
            ],
            [
             0.3,
             "#f1b6da"
            ],
            [
             0.4,
             "#fde0ef"
            ],
            [
             0.5,
             "#f7f7f7"
            ],
            [
             0.6,
             "#e6f5d0"
            ],
            [
             0.7,
             "#b8e186"
            ],
            [
             0.8,
             "#7fbc41"
            ],
            [
             0.9,
             "#4d9221"
            ],
            [
             1,
             "#276419"
            ]
           ],
           "sequential": [
            [
             0,
             "#0d0887"
            ],
            [
             0.1111111111111111,
             "#46039f"
            ],
            [
             0.2222222222222222,
             "#7201a8"
            ],
            [
             0.3333333333333333,
             "#9c179e"
            ],
            [
             0.4444444444444444,
             "#bd3786"
            ],
            [
             0.5555555555555556,
             "#d8576b"
            ],
            [
             0.6666666666666666,
             "#ed7953"
            ],
            [
             0.7777777777777778,
             "#fb9f3a"
            ],
            [
             0.8888888888888888,
             "#fdca26"
            ],
            [
             1,
             "#f0f921"
            ]
           ],
           "sequentialminus": [
            [
             0,
             "#0d0887"
            ],
            [
             0.1111111111111111,
             "#46039f"
            ],
            [
             0.2222222222222222,
             "#7201a8"
            ],
            [
             0.3333333333333333,
             "#9c179e"
            ],
            [
             0.4444444444444444,
             "#bd3786"
            ],
            [
             0.5555555555555556,
             "#d8576b"
            ],
            [
             0.6666666666666666,
             "#ed7953"
            ],
            [
             0.7777777777777778,
             "#fb9f3a"
            ],
            [
             0.8888888888888888,
             "#fdca26"
            ],
            [
             1,
             "#f0f921"
            ]
           ]
          },
          "colorway": [
           "#636efa",
           "#EF553B",
           "#00cc96",
           "#ab63fa",
           "#FFA15A",
           "#19d3f3",
           "#FF6692",
           "#B6E880",
           "#FF97FF",
           "#FECB52"
          ],
          "font": {
           "color": "#2a3f5f"
          },
          "geo": {
           "bgcolor": "white",
           "lakecolor": "white",
           "landcolor": "#E5ECF6",
           "showlakes": true,
           "showland": true,
           "subunitcolor": "white"
          },
          "hoverlabel": {
           "align": "left"
          },
          "hovermode": "closest",
          "mapbox": {
           "style": "light"
          },
          "paper_bgcolor": "white",
          "plot_bgcolor": "#E5ECF6",
          "polar": {
           "angularaxis": {
            "gridcolor": "white",
            "linecolor": "white",
            "ticks": ""
           },
           "bgcolor": "#E5ECF6",
           "radialaxis": {
            "gridcolor": "white",
            "linecolor": "white",
            "ticks": ""
           }
          },
          "scene": {
           "xaxis": {
            "backgroundcolor": "#E5ECF6",
            "gridcolor": "white",
            "gridwidth": 2,
            "linecolor": "white",
            "showbackground": true,
            "ticks": "",
            "zerolinecolor": "white"
           },
           "yaxis": {
            "backgroundcolor": "#E5ECF6",
            "gridcolor": "white",
            "gridwidth": 2,
            "linecolor": "white",
            "showbackground": true,
            "ticks": "",
            "zerolinecolor": "white"
           },
           "zaxis": {
            "backgroundcolor": "#E5ECF6",
            "gridcolor": "white",
            "gridwidth": 2,
            "linecolor": "white",
            "showbackground": true,
            "ticks": "",
            "zerolinecolor": "white"
           }
          },
          "shapedefaults": {
           "line": {
            "color": "#2a3f5f"
           }
          },
          "ternary": {
           "aaxis": {
            "gridcolor": "white",
            "linecolor": "white",
            "ticks": ""
           },
           "baxis": {
            "gridcolor": "white",
            "linecolor": "white",
            "ticks": ""
           },
           "bgcolor": "#E5ECF6",
           "caxis": {
            "gridcolor": "white",
            "linecolor": "white",
            "ticks": ""
           }
          },
          "title": {
           "x": 0.05
          },
          "xaxis": {
           "automargin": true,
           "gridcolor": "white",
           "linecolor": "white",
           "ticks": "",
           "title": {
            "standoff": 15
           },
           "zerolinecolor": "white",
           "zerolinewidth": 2
          },
          "yaxis": {
           "automargin": true,
           "gridcolor": "white",
           "linecolor": "white",
           "ticks": "",
           "title": {
            "standoff": 15
           },
           "zerolinecolor": "white",
           "zerolinewidth": 2
          }
         }
        },
        "title": {
         "text": "Speedup"
        },
        "width": 500,
        "xaxis": {
         "title": {
          "text": "Lattice Size"
         }
        },
        "yaxis": {
         "title": {
          "text": "Speedup"
         }
        }
       }
      }
     },
     "metadata": {}
    }
   ],
   "source": [
    "fig = go.Figure()\n",
    "for name, df, _ in runs_gpu:\n",
    "    fig.add_trace(go.Scatter(\n",
    "        x=df[\"size\"],\n",
    "        y=cpu_df[\"avgEvolveTime\"] / df[\"avgEvolveTime\"],\n",
    "        mode=\"lines+markers\",\n",
    "        name=name,\n",
    "    ))\n",
    "fig.update_layout(title=\"Speedup\", xaxis_title='Lattice Size', yaxis_title=\"Speedup\", width=500, height=400)\n",
    "fig.update_yaxes()\n",
    "fig.show()"
   ]
  },
  {
   "cell_type": "code",
   "execution_count": 10,
   "metadata": {},
   "outputs": [
    {
     "output_type": "display_data",
     "data": {
      "application/vnd.plotly.v1+json": {
       "config": {
        "plotlyServerURL": "https://plot.ly"
       },
       "data": [
        {
         "mode": "lines+markers",
         "name": "CPU 1 Thread",
         "type": "scatter",
         "x": [
          32,
          64,
          128,
          256,
          512,
          1024,
          2048,
          4096,
          8192
         ],
         "y": [
          127.03502713369512,
          128.4606979883026,
          135.56208148446956,
          136.42109197311595,
          138.70708472040656,
          138.378232440547,
          138.50623757489282,
          137.07499879028455,
          134.24765585332406
         ]
        },
        {
         "mode": "lines+markers",
         "name": "CPU 2 Thread",
         "type": "scatter",
         "x": [
          32,
          64,
          128,
          256,
          512,
          1024,
          2048,
          4096,
          8192
         ],
         "y": [
          76.4367133697459,
          107.0116074870433,
          132.25480442283958,
          133.0942460101037,
          138.63166094790543,
          137.4766101245628,
          138.18927170926,
          134.21085013926273,
          133.68107514655316
         ]
        },
        {
         "mode": "lines+markers",
         "name": "CPU 4 Thread",
         "type": "scatter",
         "x": [
          32,
          64,
          128,
          256,
          512,
          1024,
          2048,
          4096,
          8192
         ],
         "y": [
          54.13758304600118,
          85.7849196538937,
          118.31842404713888,
          128.25307446281363,
          133.43324248609153,
          136.57692822389777,
          133.83164190583213,
          131.84801445585344,
          130.44769852396897
         ]
        },
        {
         "mode": "lines+markers",
         "name": "CPU 8 Thread",
         "type": "scatter",
         "x": [
          32,
          64,
          128,
          256,
          512,
          1024,
          2048,
          4096,
          8192
         ],
         "y": [
          41.86719562955255,
          72.30421948254906,
          77.19319200858533,
          79.37039088286896,
          106.78043820104376,
          130.04029340413604,
          130.53678508413427,
          126.77045253952646,
          125.9585287195723
         ]
        },
        {
         "mode": "lines+markers",
         "name": "CPU 12 Thread",
         "type": "scatter",
         "x": [
          32,
          64,
          128,
          256,
          512,
          1024,
          2048,
          4096,
          8192
         ],
         "y": [
          25.649454139772093,
          45.90453092272076,
          72.56199517719324,
          74.79980453356032,
          78.28754138720127,
          79.4834241172585,
          79.8092333398791,
          77.39992803176172,
          77.45910386537328
         ]
        },
        {
         "mode": "lines+markers",
         "name": "CPU 16 Thread",
         "type": "scatter",
         "x": [
          32,
          64,
          128,
          256,
          512,
          1024,
          2048,
          4096,
          8192
         ],
         "y": [
          9.275936599423632,
          41.16251482799525,
          56.80469612064303,
          70.55775292928091,
          71.20406005103267,
          77.65395495726453,
          76.6740470256798,
          75.58247677447675,
          75.33467353947087
         ]
        },
        {
         "mode": "lines+markers",
         "name": "GPU",
         "type": "scatter",
         "x": [
          32,
          64,
          128,
          256,
          512,
          1024,
          2048,
          4096,
          8192
         ],
         "y": [
          0.017707607149521687,
          0.1404994817310184,
          0.5247587628478595,
          2.475539854091233,
          8.9697524414382,
          18.324300646511954,
          28.42070975349599,
          35.78684436766975,
          35.51168805956514
         ]
        },
        {
         "mode": "lines+markers",
         "name": "GPU L1 opt",
         "type": "scatter",
         "x": [
          32,
          64,
          128,
          256,
          512,
          1024,
          2048,
          4096,
          8192
         ],
         "y": [
          0.015434108547947563,
          0.11769982211234058,
          0.6524545548075928,
          2.063079991930547,
          8.191596347879868,
          20.401318468078113,
          30.617466536192,
          37.14916630058401,
          34.48636950044704
         ]
        },
        {
         "mode": "lines+markers",
         "name": "GPU No Branch",
         "type": "scatter",
         "x": [
          32,
          64,
          128,
          256,
          512,
          1024,
          2048,
          4096,
          8192
         ],
         "y": [
          0.018320596522607063,
          0.13298144136042184,
          0.6040308312780682,
          2.389926931713991,
          8.05333810531603,
          19.99253038178557,
          29.622606576305152,
          38.41234402316225,
          38.03260406731971
         ]
        },
        {
         "mode": "lines+markers",
         "name": "GPU K Config",
         "type": "scatter",
         "x": [
          32,
          64,
          128,
          256,
          512,
          1024,
          2048,
          4096,
          8192
         ],
         "y": [
          0.01452978697741068,
          0.1501650228493176,
          0.5958279434458968,
          2.510692076657963,
          8.392805417207473,
          19.584270846406223,
          24.361145837157345,
          29.624276738770774,
          29.948795204943536
         ]
        },
        {
         "mode": "lines+markers",
         "name": "GPU Pre Increment",
         "type": "scatter",
         "x": [
          32,
          64,
          128,
          256,
          512,
          1024,
          2048,
          4096,
          8192
         ],
         "y": [
          0.01893503537167555,
          0.1552409092355168,
          0.5415402089218767,
          2.5333780770924608,
          9.406050909661658,
          23.394739913732916,
          29.209511566114283,
          42.227305033359904,
          42.65332563712758
         ]
        },
        {
         "mode": "lines+markers",
         "name": "GPU 6",
         "type": "scatter",
         "x": [
          32,
          64,
          128,
          256,
          512,
          1024,
          2048,
          4096,
          8192
         ],
         "y": [
          0.018264044489878922,
          0.16178128289500948,
          0.6586879134586823,
          2.665500470356552,
          9.423638477098212,
          23.817922991718742,
          38.496463737290235,
          46.66618312990976,
          45.95926120592874
         ]
        },
        {
         "mode": "lines+markers",
         "name": "CPU Reduction",
         "type": "scatter",
         "x": [
          32,
          64,
          128,
          256,
          512,
          1024,
          2048,
          4096,
          8192
         ],
         "y": [
          9.731964685251254,
          33.34757074212493,
          33.05163026373765,
          68.80308488426046,
          70.92717884623781,
          76.8959647462507,
          74.23576862306608,
          70.60705722997585,
          68.16364078048008
         ]
        },
        {
         "mode": "lines+markers",
         "name": "CPU Critical",
         "type": "scatter",
         "x": [
          32,
          64,
          128,
          256,
          512,
          1024,
          2048,
          4096,
          8192
         ],
         "y": [
          9.559129246851985,
          25.88693633952255,
          49.715134444234046,
          55.973679243799246,
          48.66310479286035,
          62.263403498409545,
          66.58440953449124,
          65.49827903510149,
          68.27195882509865
         ]
        }
       ],
       "layout": {
        "height": 600,
        "template": {
         "data": {
          "bar": [
           {
            "error_x": {
             "color": "#2a3f5f"
            },
            "error_y": {
             "color": "#2a3f5f"
            },
            "marker": {
             "line": {
              "color": "#E5ECF6",
              "width": 0.5
             }
            },
            "type": "bar"
           }
          ],
          "barpolar": [
           {
            "marker": {
             "line": {
              "color": "#E5ECF6",
              "width": 0.5
             }
            },
            "type": "barpolar"
           }
          ],
          "carpet": [
           {
            "aaxis": {
             "endlinecolor": "#2a3f5f",
             "gridcolor": "white",
             "linecolor": "white",
             "minorgridcolor": "white",
             "startlinecolor": "#2a3f5f"
            },
            "baxis": {
             "endlinecolor": "#2a3f5f",
             "gridcolor": "white",
             "linecolor": "white",
             "minorgridcolor": "white",
             "startlinecolor": "#2a3f5f"
            },
            "type": "carpet"
           }
          ],
          "choropleth": [
           {
            "colorbar": {
             "outlinewidth": 0,
             "ticks": ""
            },
            "type": "choropleth"
           }
          ],
          "contour": [
           {
            "colorbar": {
             "outlinewidth": 0,
             "ticks": ""
            },
            "colorscale": [
             [
              0,
              "#0d0887"
             ],
             [
              0.1111111111111111,
              "#46039f"
             ],
             [
              0.2222222222222222,
              "#7201a8"
             ],
             [
              0.3333333333333333,
              "#9c179e"
             ],
             [
              0.4444444444444444,
              "#bd3786"
             ],
             [
              0.5555555555555556,
              "#d8576b"
             ],
             [
              0.6666666666666666,
              "#ed7953"
             ],
             [
              0.7777777777777778,
              "#fb9f3a"
             ],
             [
              0.8888888888888888,
              "#fdca26"
             ],
             [
              1,
              "#f0f921"
             ]
            ],
            "type": "contour"
           }
          ],
          "contourcarpet": [
           {
            "colorbar": {
             "outlinewidth": 0,
             "ticks": ""
            },
            "type": "contourcarpet"
           }
          ],
          "heatmap": [
           {
            "colorbar": {
             "outlinewidth": 0,
             "ticks": ""
            },
            "colorscale": [
             [
              0,
              "#0d0887"
             ],
             [
              0.1111111111111111,
              "#46039f"
             ],
             [
              0.2222222222222222,
              "#7201a8"
             ],
             [
              0.3333333333333333,
              "#9c179e"
             ],
             [
              0.4444444444444444,
              "#bd3786"
             ],
             [
              0.5555555555555556,
              "#d8576b"
             ],
             [
              0.6666666666666666,
              "#ed7953"
             ],
             [
              0.7777777777777778,
              "#fb9f3a"
             ],
             [
              0.8888888888888888,
              "#fdca26"
             ],
             [
              1,
              "#f0f921"
             ]
            ],
            "type": "heatmap"
           }
          ],
          "heatmapgl": [
           {
            "colorbar": {
             "outlinewidth": 0,
             "ticks": ""
            },
            "colorscale": [
             [
              0,
              "#0d0887"
             ],
             [
              0.1111111111111111,
              "#46039f"
             ],
             [
              0.2222222222222222,
              "#7201a8"
             ],
             [
              0.3333333333333333,
              "#9c179e"
             ],
             [
              0.4444444444444444,
              "#bd3786"
             ],
             [
              0.5555555555555556,
              "#d8576b"
             ],
             [
              0.6666666666666666,
              "#ed7953"
             ],
             [
              0.7777777777777778,
              "#fb9f3a"
             ],
             [
              0.8888888888888888,
              "#fdca26"
             ],
             [
              1,
              "#f0f921"
             ]
            ],
            "type": "heatmapgl"
           }
          ],
          "histogram": [
           {
            "marker": {
             "colorbar": {
              "outlinewidth": 0,
              "ticks": ""
             }
            },
            "type": "histogram"
           }
          ],
          "histogram2d": [
           {
            "colorbar": {
             "outlinewidth": 0,
             "ticks": ""
            },
            "colorscale": [
             [
              0,
              "#0d0887"
             ],
             [
              0.1111111111111111,
              "#46039f"
             ],
             [
              0.2222222222222222,
              "#7201a8"
             ],
             [
              0.3333333333333333,
              "#9c179e"
             ],
             [
              0.4444444444444444,
              "#bd3786"
             ],
             [
              0.5555555555555556,
              "#d8576b"
             ],
             [
              0.6666666666666666,
              "#ed7953"
             ],
             [
              0.7777777777777778,
              "#fb9f3a"
             ],
             [
              0.8888888888888888,
              "#fdca26"
             ],
             [
              1,
              "#f0f921"
             ]
            ],
            "type": "histogram2d"
           }
          ],
          "histogram2dcontour": [
           {
            "colorbar": {
             "outlinewidth": 0,
             "ticks": ""
            },
            "colorscale": [
             [
              0,
              "#0d0887"
             ],
             [
              0.1111111111111111,
              "#46039f"
             ],
             [
              0.2222222222222222,
              "#7201a8"
             ],
             [
              0.3333333333333333,
              "#9c179e"
             ],
             [
              0.4444444444444444,
              "#bd3786"
             ],
             [
              0.5555555555555556,
              "#d8576b"
             ],
             [
              0.6666666666666666,
              "#ed7953"
             ],
             [
              0.7777777777777778,
              "#fb9f3a"
             ],
             [
              0.8888888888888888,
              "#fdca26"
             ],
             [
              1,
              "#f0f921"
             ]
            ],
            "type": "histogram2dcontour"
           }
          ],
          "mesh3d": [
           {
            "colorbar": {
             "outlinewidth": 0,
             "ticks": ""
            },
            "type": "mesh3d"
           }
          ],
          "parcoords": [
           {
            "line": {
             "colorbar": {
              "outlinewidth": 0,
              "ticks": ""
             }
            },
            "type": "parcoords"
           }
          ],
          "pie": [
           {
            "automargin": true,
            "type": "pie"
           }
          ],
          "scatter": [
           {
            "marker": {
             "colorbar": {
              "outlinewidth": 0,
              "ticks": ""
             }
            },
            "type": "scatter"
           }
          ],
          "scatter3d": [
           {
            "line": {
             "colorbar": {
              "outlinewidth": 0,
              "ticks": ""
             }
            },
            "marker": {
             "colorbar": {
              "outlinewidth": 0,
              "ticks": ""
             }
            },
            "type": "scatter3d"
           }
          ],
          "scattercarpet": [
           {
            "marker": {
             "colorbar": {
              "outlinewidth": 0,
              "ticks": ""
             }
            },
            "type": "scattercarpet"
           }
          ],
          "scattergeo": [
           {
            "marker": {
             "colorbar": {
              "outlinewidth": 0,
              "ticks": ""
             }
            },
            "type": "scattergeo"
           }
          ],
          "scattergl": [
           {
            "marker": {
             "colorbar": {
              "outlinewidth": 0,
              "ticks": ""
             }
            },
            "type": "scattergl"
           }
          ],
          "scattermapbox": [
           {
            "marker": {
             "colorbar": {
              "outlinewidth": 0,
              "ticks": ""
             }
            },
            "type": "scattermapbox"
           }
          ],
          "scatterpolar": [
           {
            "marker": {
             "colorbar": {
              "outlinewidth": 0,
              "ticks": ""
             }
            },
            "type": "scatterpolar"
           }
          ],
          "scatterpolargl": [
           {
            "marker": {
             "colorbar": {
              "outlinewidth": 0,
              "ticks": ""
             }
            },
            "type": "scatterpolargl"
           }
          ],
          "scatterternary": [
           {
            "marker": {
             "colorbar": {
              "outlinewidth": 0,
              "ticks": ""
             }
            },
            "type": "scatterternary"
           }
          ],
          "surface": [
           {
            "colorbar": {
             "outlinewidth": 0,
             "ticks": ""
            },
            "colorscale": [
             [
              0,
              "#0d0887"
             ],
             [
              0.1111111111111111,
              "#46039f"
             ],
             [
              0.2222222222222222,
              "#7201a8"
             ],
             [
              0.3333333333333333,
              "#9c179e"
             ],
             [
              0.4444444444444444,
              "#bd3786"
             ],
             [
              0.5555555555555556,
              "#d8576b"
             ],
             [
              0.6666666666666666,
              "#ed7953"
             ],
             [
              0.7777777777777778,
              "#fb9f3a"
             ],
             [
              0.8888888888888888,
              "#fdca26"
             ],
             [
              1,
              "#f0f921"
             ]
            ],
            "type": "surface"
           }
          ],
          "table": [
           {
            "cells": {
             "fill": {
              "color": "#EBF0F8"
             },
             "line": {
              "color": "white"
             }
            },
            "header": {
             "fill": {
              "color": "#C8D4E3"
             },
             "line": {
              "color": "white"
             }
            },
            "type": "table"
           }
          ]
         },
         "layout": {
          "annotationdefaults": {
           "arrowcolor": "#2a3f5f",
           "arrowhead": 0,
           "arrowwidth": 1
          },
          "autotypenumbers": "strict",
          "coloraxis": {
           "colorbar": {
            "outlinewidth": 0,
            "ticks": ""
           }
          },
          "colorscale": {
           "diverging": [
            [
             0,
             "#8e0152"
            ],
            [
             0.1,
             "#c51b7d"
            ],
            [
             0.2,
             "#de77ae"
            ],
            [
             0.3,
             "#f1b6da"
            ],
            [
             0.4,
             "#fde0ef"
            ],
            [
             0.5,
             "#f7f7f7"
            ],
            [
             0.6,
             "#e6f5d0"
            ],
            [
             0.7,
             "#b8e186"
            ],
            [
             0.8,
             "#7fbc41"
            ],
            [
             0.9,
             "#4d9221"
            ],
            [
             1,
             "#276419"
            ]
           ],
           "sequential": [
            [
             0,
             "#0d0887"
            ],
            [
             0.1111111111111111,
             "#46039f"
            ],
            [
             0.2222222222222222,
             "#7201a8"
            ],
            [
             0.3333333333333333,
             "#9c179e"
            ],
            [
             0.4444444444444444,
             "#bd3786"
            ],
            [
             0.5555555555555556,
             "#d8576b"
            ],
            [
             0.6666666666666666,
             "#ed7953"
            ],
            [
             0.7777777777777778,
             "#fb9f3a"
            ],
            [
             0.8888888888888888,
             "#fdca26"
            ],
            [
             1,
             "#f0f921"
            ]
           ],
           "sequentialminus": [
            [
             0,
             "#0d0887"
            ],
            [
             0.1111111111111111,
             "#46039f"
            ],
            [
             0.2222222222222222,
             "#7201a8"
            ],
            [
             0.3333333333333333,
             "#9c179e"
            ],
            [
             0.4444444444444444,
             "#bd3786"
            ],
            [
             0.5555555555555556,
             "#d8576b"
            ],
            [
             0.6666666666666666,
             "#ed7953"
            ],
            [
             0.7777777777777778,
             "#fb9f3a"
            ],
            [
             0.8888888888888888,
             "#fdca26"
            ],
            [
             1,
             "#f0f921"
            ]
           ]
          },
          "colorway": [
           "#636efa",
           "#EF553B",
           "#00cc96",
           "#ab63fa",
           "#FFA15A",
           "#19d3f3",
           "#FF6692",
           "#B6E880",
           "#FF97FF",
           "#FECB52"
          ],
          "font": {
           "color": "#2a3f5f"
          },
          "geo": {
           "bgcolor": "white",
           "lakecolor": "white",
           "landcolor": "#E5ECF6",
           "showlakes": true,
           "showland": true,
           "subunitcolor": "white"
          },
          "hoverlabel": {
           "align": "left"
          },
          "hovermode": "closest",
          "mapbox": {
           "style": "light"
          },
          "paper_bgcolor": "white",
          "plot_bgcolor": "#E5ECF6",
          "polar": {
           "angularaxis": {
            "gridcolor": "white",
            "linecolor": "white",
            "ticks": ""
           },
           "bgcolor": "#E5ECF6",
           "radialaxis": {
            "gridcolor": "white",
            "linecolor": "white",
            "ticks": ""
           }
          },
          "scene": {
           "xaxis": {
            "backgroundcolor": "#E5ECF6",
            "gridcolor": "white",
            "gridwidth": 2,
            "linecolor": "white",
            "showbackground": true,
            "ticks": "",
            "zerolinecolor": "white"
           },
           "yaxis": {
            "backgroundcolor": "#E5ECF6",
            "gridcolor": "white",
            "gridwidth": 2,
            "linecolor": "white",
            "showbackground": true,
            "ticks": "",
            "zerolinecolor": "white"
           },
           "zaxis": {
            "backgroundcolor": "#E5ECF6",
            "gridcolor": "white",
            "gridwidth": 2,
            "linecolor": "white",
            "showbackground": true,
            "ticks": "",
            "zerolinecolor": "white"
           }
          },
          "shapedefaults": {
           "line": {
            "color": "#2a3f5f"
           }
          },
          "ternary": {
           "aaxis": {
            "gridcolor": "white",
            "linecolor": "white",
            "ticks": ""
           },
           "baxis": {
            "gridcolor": "white",
            "linecolor": "white",
            "ticks": ""
           },
           "bgcolor": "#E5ECF6",
           "caxis": {
            "gridcolor": "white",
            "linecolor": "white",
            "ticks": ""
           }
          },
          "title": {
           "x": 0.05
          },
          "xaxis": {
           "automargin": true,
           "gridcolor": "white",
           "linecolor": "white",
           "ticks": "",
           "title": {
            "standoff": 15
           },
           "zerolinecolor": "white",
           "zerolinewidth": 2
          },
          "yaxis": {
           "automargin": true,
           "gridcolor": "white",
           "linecolor": "white",
           "ticks": "",
           "title": {
            "standoff": 15
           },
           "zerolinecolor": "white",
           "zerolinewidth": 2
          }
         }
        },
        "title": {
         "text": "Efficiency"
        },
        "width": 1000,
        "xaxis": {
         "title": {
          "text": "Lattice Size"
         }
        },
        "yaxis": {
         "title": {
          "text": "Efficiency %"
         }
        }
       }
      }
     },
     "metadata": {}
    }
   ],
   "source": [
    "fig = go.Figure()\n",
    "for name, df, info in runs_gpu:\n",
    "    fig.add_trace(go.Scatter(\n",
    "        x=cpu_df[\"size\"],\n",
    "        y=100 * (cpu_df[\"avgEvolveTime\"] / df[\"avgEvolveTime\"]) / info[0], # speedup / cores\n",
    "        mode=\"lines+markers\",\n",
    "        name=name,\n",
    "    ))\n",
    "fig.update_layout(title=\"Efficiency\", xaxis_title='Lattice Size', yaxis_title=\"Efficiency %\", width=1000, height=600)\n",
    "fig.update_yaxes()\n",
    "fig.show()"
   ]
  }
 ]
}