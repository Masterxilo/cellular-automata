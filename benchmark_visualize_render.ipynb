{
 "metadata": {
  "language_info": {
   "codemirror_mode": {
    "name": "ipython",
    "version": 3
   },
   "file_extension": ".py",
   "mimetype": "text/x-python",
   "name": "python",
   "nbconvert_exporter": "python",
   "pygments_lexer": "ipython3",
   "version": "3.9.5"
  },
  "orig_nbformat": 2,
  "kernelspec": {
   "name": "python3",
   "display_name": "Python 3.9.5 64-bit ('base': conda)"
  },
  "interpreter": {
   "hash": "2ca5467c35c577e79212d8652593a6c7f61455ff45bf255d080840397fc5fe23"
  }
 },
 "nbformat": 4,
 "nbformat_minor": 2,
 "cells": [
  {
   "cell_type": "code",
   "execution_count": 1,
   "metadata": {},
   "outputs": [],
   "source": [
    "import pandas as pd\n",
    "import plotly.express as px\n",
    "import plotly.graph_objects as go\n",
    "\n",
    "all_colors = px.colors.qualitative.Plotly"
   ]
  },
  {
   "cell_type": "code",
   "execution_count": 2,
   "metadata": {},
   "outputs": [],
   "source": [
    "layout_settings = {\n",
    "    \"width\": 720, \n",
    "    \"height\": 480,\n",
    "    \"font\": dict(size=16),\n",
    "    \"margin\": dict(l=10, r=10, t=10, b=10),\n",
    "}\n",
    "\n",
    "def get_rgba(hex, opacity=0.3):\n",
    "    return \"rgba(%d, %d, %d, %.2f)\" % (tuple(int(hex.lstrip('#')[i:i+2], 16) for i in (0, 2, 4)) + (opacity,))"
   ]
  },
  {
   "cell_type": "code",
   "execution_count": 3,
   "metadata": {},
   "outputs": [],
   "source": [
    "runs = [\n",
    "    # (  RUN NAME,                DF,                                              INFO  )\n",
    "    # (\"CPU Baseline\", [pd.read_csv(\"res/1.hl.cpu-gpu.baselines/1.1.benchmark_results_cpu.csv\", header=0)], (1,)),\n",
    "    # (\"GPU\", [pd.read_csv(\"res/1.hl.cpu-gpu.baselines/1.2.benchmark_results_gpu.csv\", header=0)], (8704,)),\n",
    "\n",
    "    # headless lattice size experiments\n",
    "    (\"1 CPU\", [\n",
    "        pd.read_csv(\"res/39-40.full/39.render.cpu.1.1.csv\", header=0),\n",
    "        pd.read_csv(\"res/39-40.full/39.render.cpu.1.2.csv\", header=0),\n",
    "        pd.read_csv(\"res/39-40.full/39.render.cpu.1.3.csv\", header=0),\n",
    "        pd.read_csv(\"res/39-40.full/39.render.cpu.1.4.csv\", header=0),\n",
    "        pd.read_csv(\"res/39-40.full/39.render.cpu.1.5.csv\", header=0)\n",
    "    ], (1,)),\n",
    "    (\"2 CPUs\", [\n",
    "        pd.read_csv(\"res/39-40.full/39.render.cpu.2.1.csv\", header=0),\n",
    "        pd.read_csv(\"res/39-40.full/39.render.cpu.2.2.csv\", header=0),\n",
    "        pd.read_csv(\"res/39-40.full/39.render.cpu.2.3.csv\", header=0),\n",
    "        pd.read_csv(\"res/39-40.full/39.render.cpu.2.4.csv\", header=0),\n",
    "        pd.read_csv(\"res/39-40.full/39.render.cpu.2.5.csv\", header=0)\n",
    "    ], (2,)),\n",
    "    (\"4 CPUs\", [\n",
    "        pd.read_csv(\"res/39-40.full/39.render.cpu.4.1.csv\", header=0),\n",
    "        pd.read_csv(\"res/39-40.full/39.render.cpu.4.2.csv\", header=0),\n",
    "        pd.read_csv(\"res/39-40.full/39.render.cpu.4.3.csv\", header=0),\n",
    "        pd.read_csv(\"res/39-40.full/39.render.cpu.4.4.csv\", header=0),\n",
    "        pd.read_csv(\"res/39-40.full/39.render.cpu.4.5.csv\", header=0)\n",
    "    ], (4,)),\n",
    "    # (\"6 CPUs\", [\n",
    "    #     pd.read_csv(\"res/39-40.full/39.render.cpu.6.1.csv\", header=0),\n",
    "    #     pd.read_csv(\"res/39-40.full/39.render.cpu.6.2.csv\", header=0),\n",
    "    #     pd.read_csv(\"res/39-40.full/39.render.cpu.6.3.csv\", header=0),\n",
    "    #     pd.read_csv(\"res/39-40.full/39.render.cpu.6.4.csv\", header=0),\n",
    "    #     pd.read_csv(\"res/39-40.full/39.render.cpu.6.5.csv\", header=0)\n",
    "    # ], (6,)),\n",
    "    (\"8 CPUs\", [\n",
    "        pd.read_csv(\"res/39-40.full/39.render.cpu.8.1.csv\", header=0),\n",
    "        pd.read_csv(\"res/39-40.full/39.render.cpu.8.2.csv\", header=0),\n",
    "        pd.read_csv(\"res/39-40.full/39.render.cpu.8.3.csv\", header=0),\n",
    "        pd.read_csv(\"res/39-40.full/39.render.cpu.8.4.csv\", header=0),\n",
    "        pd.read_csv(\"res/39-40.full/39.render.cpu.8.5.csv\", header=0)\n",
    "    ], (8,)),\n",
    "    # (\"10 CPUs\", [\n",
    "    #     pd.read_csv(\"res/39-40.full/39.render.cpu.10.1.csv\", header=0),\n",
    "    #     pd.read_csv(\"res/39-40.full/39.render.cpu.10.2.csv\", header=0),\n",
    "    #     pd.read_csv(\"res/39-40.full/39.render.cpu.10.3.csv\", header=0),\n",
    "    #     pd.read_csv(\"res/39-40.full/39.render.cpu.10.4.csv\", header=0),\n",
    "    #     pd.read_csv(\"res/39-40.full/39.render.cpu.10.5.csv\", header=0)\n",
    "    # ], (10,)),\n",
    "    (\"12 CPUs\", [\n",
    "        pd.read_csv(\"res/39-40.full/39.render.cpu.12.1.csv\", header=0),\n",
    "        pd.read_csv(\"res/39-40.full/39.render.cpu.12.2.csv\", header=0),\n",
    "        pd.read_csv(\"res/39-40.full/39.render.cpu.12.3.csv\", header=0),\n",
    "        pd.read_csv(\"res/39-40.full/39.render.cpu.12.4.csv\", header=0),\n",
    "        pd.read_csv(\"res/39-40.full/39.render.cpu.12.5.csv\", header=0)\n",
    "    ], (12,)),\n",
    "    # (\"14 CPUs\", [\n",
    "    #     pd.read_csv(\"res/39-40.full/39.render.cpu.14.1.csv\", header=0),\n",
    "    #     pd.read_csv(\"res/39-40.full/39.render.cpu.14.2.csv\", header=0),\n",
    "    #     pd.read_csv(\"res/39-40.full/39.render.cpu.14.3.csv\", header=0),\n",
    "    #     pd.read_csv(\"res/39-40.full/39.render.cpu.14.4.csv\", header=0),\n",
    "    #     pd.read_csv(\"res/39-40.full/39.render.cpu.14.5.csv\", header=0)\n",
    "    # ], (14,)),\n",
    "    (\"16 CPUs\", [\n",
    "        pd.read_csv(\"res/39-40.full/39.render.cpu.16.1.csv\", header=0),\n",
    "        pd.read_csv(\"res/39-40.full/39.render.cpu.16.2.csv\", header=0),\n",
    "        pd.read_csv(\"res/39-40.full/39.render.cpu.16.3.csv\", header=0),\n",
    "        pd.read_csv(\"res/39-40.full/39.render.cpu.16.4.csv\", header=0),\n",
    "        pd.read_csv(\"res/39-40.full/39.render.cpu.16.5.csv\", header=0)\n",
    "    ], (18,)),\n",
    "    (\"GPU\", [\n",
    "        pd.read_csv(\"res/39-40.full/39.render.gpu.8704.1.csv\", header=0),\n",
    "        pd.read_csv(\"res/39-40.full/39.render.gpu.8704.2.csv\", header=0),\n",
    "        pd.read_csv(\"res/39-40.full/39.render.gpu.8704.3.csv\", header=0),\n",
    "        pd.read_csv(\"res/39-40.full/39.render.gpu.8704.4.csv\", header=0),\n",
    "        pd.read_csv(\"res/39-40.full/39.render.gpu.8704.5.csv\", header=0)\n",
    "    ], (8704,)),\n",
    "]\n",
    "\n",
    "cpu_df = pd.concat(runs[0][1])\n",
    "cpu_df = cpu_df.groupby(cpu_df.index).mean() # use cpu_df mean only\n",
    "\n",
    "runs_parallel = runs[1:]"
   ]
  },
  {
   "cell_type": "code",
   "execution_count": 4,
   "metadata": {},
   "outputs": [],
   "source": [
    "def add_mean_std_trace(fig, df, name, idx, y_col, x_col=\"size\"):\n",
    "    df_mean = df.groupby(df.index).mean()\n",
    "    df_std = df.groupby(df.index).std()\n",
    "\n",
    "    color = all_colors[idx % len(all_colors)]\n",
    "    fig.add_trace(go.Scatter(\n",
    "        name=name,\n",
    "        x=df_mean[x_col],\n",
    "        y=df_mean[y_col],\n",
    "        mode=\"lines+markers\",\n",
    "        line=dict(color=color),\n",
    "    ))\n",
    "    fig.add_traces(go.Scatter(\n",
    "        name=name + \" upper\",\n",
    "        x=df_mean[x_col],\n",
    "        y=df_mean[y_col] + df_std[y_col],\n",
    "        mode=\"lines\",\n",
    "        line=dict(width=0),\n",
    "        showlegend=False\n",
    "    ))\n",
    "    fig.add_traces(go.Scatter(\n",
    "        name=name + \" lower\",\n",
    "        x=df_mean[x_col],\n",
    "        y=df_mean[y_col] - df_std[y_col],\n",
    "        line=dict(width=0),\n",
    "        mode='lines',\n",
    "        fillcolor=get_rgba(color),\n",
    "        fill='tonexty',\n",
    "        showlegend=False,\n",
    "    ))"
   ]
  },
  {
   "cell_type": "code",
   "execution_count": 5,
   "metadata": {},
   "outputs": [
    {
     "output_type": "display_data",
     "data": {
      "application/vnd.plotly.v1+json": {
       "config": {
        "plotlyServerURL": "https://plot.ly"
       },
       "data": [
        {
         "line": {
          "color": "#636EFA"
         },
         "mode": "lines+markers",
         "name": "1 CPU",
         "type": "scatter",
         "x": [
          1024,
          4096,
          16384,
          65536,
          262144,
          1048576,
          4194304,
          16777216
         ],
         "y": [
          0.003944,
          0.017151800000000002,
          0.0628848,
          0.25667199999999996,
          1.0706475999999998,
          4.3291096,
          17.8249344,
          72.19013079999999
         ]
        },
        {
         "line": {
          "width": 0
         },
         "mode": "lines",
         "name": "1 CPU upper",
         "showlegend": false,
         "type": "scatter",
         "x": [
          1024,
          4096,
          16384,
          65536,
          262144,
          1048576,
          4194304,
          16777216
         ],
         "y": [
          0.003996796780204857,
          0.020520313500047165,
          0.06364210885377104,
          0.2594598061266881,
          1.0824312020723714,
          4.3644565982219135,
          17.8505557122283,
          72.44768264304464
         ]
        },
        {
         "fill": "tonexty",
         "fillcolor": "rgba(99, 110, 250, 0.30)",
         "line": {
          "width": 0
         },
         "mode": "lines",
         "name": "1 CPU lower",
         "showlegend": false,
         "type": "scatter",
         "x": [
          1024,
          4096,
          16384,
          65536,
          262144,
          1048576,
          4194304,
          16777216
         ],
         "y": [
          0.0038912032197951424,
          0.013783286499952837,
          0.062127491146228966,
          0.2538841938733118,
          1.0588639979276282,
          4.293762601778086,
          17.7993130877717,
          71.93257895695534
         ]
        },
        {
         "line": {
          "color": "#EF553B"
         },
         "mode": "lines+markers",
         "name": "2 CPUs",
         "type": "scatter",
         "x": [
          1024,
          4096,
          16384,
          65536,
          262144,
          1048576,
          4194304,
          16777216
         ],
         "y": [
          0.0039278,
          0.0085346,
          0.033233200000000004,
          0.13088200000000003,
          0.5406884000000001,
          2.1645764,
          9.2260702,
          36.805594400000004
         ]
        },
        {
         "line": {
          "width": 0
         },
         "mode": "lines",
         "name": "2 CPUs upper",
         "showlegend": false,
         "type": "scatter",
         "x": [
          1024,
          4096,
          16384,
          65536,
          262144,
          1048576,
          4194304,
          16777216
         ],
         "y": [
          0.0053554927890831425,
          0.008917405825452017,
          0.03346171958340589,
          0.1340126334822205,
          0.5426520245313197,
          2.1729583702516773,
          9.283118731371982,
          36.98483173144019
         ]
        },
        {
         "fill": "tonexty",
         "fillcolor": "rgba(239, 85, 59, 0.30)",
         "line": {
          "width": 0
         },
         "mode": "lines",
         "name": "2 CPUs lower",
         "showlegend": false,
         "type": "scatter",
         "x": [
          1024,
          4096,
          16384,
          65536,
          262144,
          1048576,
          4194304,
          16777216
         ],
         "y": [
          0.0025001072109168587,
          0.008151794174547982,
          0.03300468041659412,
          0.12775136651777955,
          0.5387247754686805,
          2.156194429748323,
          9.16902166862802,
          36.62635706855982
         ]
        },
        {
         "line": {
          "color": "#00CC96"
         },
         "mode": "lines+markers",
         "name": "4 CPUs",
         "type": "scatter",
         "x": [
          1024,
          4096,
          16384,
          65536,
          262144,
          1048576,
          4194304,
          16777216
         ],
         "y": [
          0.0039185999999999995,
          0.0053342,
          0.017741399999999997,
          0.06624499999999998,
          0.2749184,
          1.0955366000000002,
          4.6298642,
          18.5936582
         ]
        },
        {
         "line": {
          "width": 0
         },
         "mode": "lines",
         "name": "4 CPUs upper",
         "showlegend": false,
         "type": "scatter",
         "x": [
          1024,
          4096,
          16384,
          65536,
          262144,
          1048576,
          4194304,
          16777216
         ],
         "y": [
          0.005181452247889673,
          0.005472602312119415,
          0.0179470898150128,
          0.0666952116169092,
          0.2751461636933315,
          1.0989651178722009,
          4.634708958683361,
          18.615647676624057
         ]
        },
        {
         "fill": "tonexty",
         "fillcolor": "rgba(0, 204, 150, 0.30)",
         "line": {
          "width": 0
         },
         "mode": "lines",
         "name": "4 CPUs lower",
         "showlegend": false,
         "type": "scatter",
         "x": [
          1024,
          4096,
          16384,
          65536,
          262144,
          1048576,
          4194304,
          16777216
         ],
         "y": [
          0.0026557477521103262,
          0.005195797687880584,
          0.017535710184987195,
          0.06579478838309077,
          0.2746906363066685,
          1.0921080821277995,
          4.625019441316639,
          18.571668723375943
         ]
        },
        {
         "line": {
          "color": "#AB63FA"
         },
         "mode": "lines+markers",
         "name": "8 CPUs",
         "type": "scatter",
         "x": [
          1024,
          4096,
          16384,
          65536,
          262144,
          1048576,
          4194304,
          16777216
         ],
         "y": [
          0.0044218,
          0.0047406,
          0.011817000000000001,
          0.036127000000000006,
          0.1420808,
          0.5666439999999999,
          2.3522673999999997,
          9.539446000000002
         ]
        },
        {
         "line": {
          "width": 0
         },
         "mode": "lines",
         "name": "8 CPUs upper",
         "showlegend": false,
         "type": "scatter",
         "x": [
          1024,
          4096,
          16384,
          65536,
          262144,
          1048576,
          4194304,
          16777216
         ],
         "y": [
          0.00670761685618074,
          0.0052932470844942545,
          0.012546954108146534,
          0.038004899092070714,
          0.14296063759865105,
          0.5710969414435852,
          2.356468750175836,
          9.614095483012276
         ]
        },
        {
         "fill": "tonexty",
         "fillcolor": "rgba(171, 99, 250, 0.30)",
         "line": {
          "width": 0
         },
         "mode": "lines",
         "name": "8 CPUs lower",
         "showlegend": false,
         "type": "scatter",
         "x": [
          1024,
          4096,
          16384,
          65536,
          262144,
          1048576,
          4194304,
          16777216
         ],
         "y": [
          0.0021359831438192605,
          0.004187952915505746,
          0.011087045891853468,
          0.0342491009079293,
          0.14120096240134897,
          0.5621910585564146,
          2.3480660498241632,
          9.464796516987727
         ]
        },
        {
         "line": {
          "color": "#FFA15A"
         },
         "mode": "lines+markers",
         "name": "12 CPUs",
         "type": "scatter",
         "x": [
          1024,
          4096,
          16384,
          65536,
          262144,
          1048576,
          4194304,
          16777216
         ],
         "y": [
          0.0071094,
          0.0056734,
          0.012679399999999999,
          0.045669799999999997,
          0.185197,
          0.7401179999999999,
          3.1050182,
          12.5702074
         ]
        },
        {
         "line": {
          "width": 0
         },
         "mode": "lines",
         "name": "12 CPUs upper",
         "showlegend": false,
         "type": "scatter",
         "x": [
          1024,
          4096,
          16384,
          65536,
          262144,
          1048576,
          4194304,
          16777216
         ],
         "y": [
          0.009020022490184808,
          0.006800139677121561,
          0.012888845219568266,
          0.045874588183252844,
          0.18742968302721189,
          0.7404299671457061,
          3.141527219059679,
          12.574574775962748
         ]
        },
        {
         "fill": "tonexty",
         "fillcolor": "rgba(255, 161, 90, 0.30)",
         "line": {
          "width": 0
         },
         "mode": "lines",
         "name": "12 CPUs lower",
         "showlegend": false,
         "type": "scatter",
         "x": [
          1024,
          4096,
          16384,
          65536,
          262144,
          1048576,
          4194304,
          16777216
         ],
         "y": [
          0.005198777509815191,
          0.004546660322878439,
          0.012469954780431732,
          0.04546501181674715,
          0.18296431697278812,
          0.7398060328542938,
          3.068509180940321,
          12.56584002403725
         ]
        },
        {
         "line": {
          "color": "#19D3F3"
         },
         "mode": "lines+markers",
         "name": "16 CPUs",
         "type": "scatter",
         "x": [
          1024,
          4096,
          16384,
          65536,
          262144,
          1048576,
          4194304,
          16777216
         ],
         "y": [
          0.0347896,
          0.0228644,
          0.045124000000000004,
          0.0660868,
          0.17023739999999998,
          0.6106678,
          2.4008896,
          9.4955786
         ]
        },
        {
         "line": {
          "width": 0
         },
         "mode": "lines",
         "name": "16 CPUs upper",
         "showlegend": false,
         "type": "scatter",
         "x": [
          1024,
          4096,
          16384,
          65536,
          262144,
          1048576,
          4194304,
          16777216
         ],
         "y": [
          0.042348462764993156,
          0.027557119552668794,
          0.05767862601991792,
          0.07248171944437144,
          0.17617305074781187,
          0.6273596926638054,
          2.419449631231116,
          9.50753413477683
         ]
        },
        {
         "fill": "tonexty",
         "fillcolor": "rgba(25, 211, 243, 0.30)",
         "line": {
          "width": 0
         },
         "mode": "lines",
         "name": "16 CPUs lower",
         "showlegend": false,
         "type": "scatter",
         "x": [
          1024,
          4096,
          16384,
          65536,
          262144,
          1048576,
          4194304,
          16777216
         ],
         "y": [
          0.02723073723500684,
          0.018171680447331206,
          0.03256937398008209,
          0.05969188055562855,
          0.1643017492521881,
          0.5939759073361945,
          2.3823295687688844,
          9.48362306522317
         ]
        },
        {
         "line": {
          "color": "#FF6692"
         },
         "mode": "lines+markers",
         "name": "GPU",
         "type": "scatter",
         "x": [
          1024,
          4096,
          16384,
          65536,
          262144,
          1048576,
          4194304,
          16777216
         ],
         "y": [
          0.344955,
          0.3442546,
          0.34804880000000005,
          0.3668694,
          0.4545602000000001,
          0.503077,
          0.064787,
          0.17390919999999999
         ]
        },
        {
         "line": {
          "width": 0
         },
         "mode": "lines",
         "name": "GPU upper",
         "showlegend": false,
         "type": "scatter",
         "x": [
          1024,
          4096,
          16384,
          65536,
          262144,
          1048576,
          4194304,
          16777216
         ],
         "y": [
          0.34646121296634974,
          0.34635425420962596,
          0.3521887747221451,
          0.37384339421422186,
          0.46006514715687635,
          0.5055373925499805,
          0.09051008492385779,
          0.1745113060537812
         ]
        },
        {
         "fill": "tonexty",
         "fillcolor": "rgba(255, 102, 146, 0.30)",
         "line": {
          "width": 0
         },
         "mode": "lines",
         "name": "GPU lower",
         "showlegend": false,
         "type": "scatter",
         "x": [
          1024,
          4096,
          16384,
          65536,
          262144,
          1048576,
          4194304,
          16777216
         ],
         "y": [
          0.3434487870336503,
          0.3421549457903741,
          0.343908825277855,
          0.35989540578577817,
          0.4490552528431238,
          0.5006166074500195,
          0.03906391507614221,
          0.17330709394621877
         ]
        }
       ],
       "layout": {
        "font": {
         "size": 16
        },
        "height": 480,
        "margin": {
         "b": 10,
         "l": 10,
         "r": 10,
         "t": 10
        },
        "template": {
         "data": {
          "bar": [
           {
            "error_x": {
             "color": "#2a3f5f"
            },
            "error_y": {
             "color": "#2a3f5f"
            },
            "marker": {
             "line": {
              "color": "#E5ECF6",
              "width": 0.5
             },
             "pattern": {
              "fillmode": "overlay",
              "size": 10,
              "solidity": 0.2
             }
            },
            "type": "bar"
           }
          ],
          "barpolar": [
           {
            "marker": {
             "line": {
              "color": "#E5ECF6",
              "width": 0.5
             },
             "pattern": {
              "fillmode": "overlay",
              "size": 10,
              "solidity": 0.2
             }
            },
            "type": "barpolar"
           }
          ],
          "carpet": [
           {
            "aaxis": {
             "endlinecolor": "#2a3f5f",
             "gridcolor": "white",
             "linecolor": "white",
             "minorgridcolor": "white",
             "startlinecolor": "#2a3f5f"
            },
            "baxis": {
             "endlinecolor": "#2a3f5f",
             "gridcolor": "white",
             "linecolor": "white",
             "minorgridcolor": "white",
             "startlinecolor": "#2a3f5f"
            },
            "type": "carpet"
           }
          ],
          "choropleth": [
           {
            "colorbar": {
             "outlinewidth": 0,
             "ticks": ""
            },
            "type": "choropleth"
           }
          ],
          "contour": [
           {
            "colorbar": {
             "outlinewidth": 0,
             "ticks": ""
            },
            "colorscale": [
             [
              0,
              "#0d0887"
             ],
             [
              0.1111111111111111,
              "#46039f"
             ],
             [
              0.2222222222222222,
              "#7201a8"
             ],
             [
              0.3333333333333333,
              "#9c179e"
             ],
             [
              0.4444444444444444,
              "#bd3786"
             ],
             [
              0.5555555555555556,
              "#d8576b"
             ],
             [
              0.6666666666666666,
              "#ed7953"
             ],
             [
              0.7777777777777778,
              "#fb9f3a"
             ],
             [
              0.8888888888888888,
              "#fdca26"
             ],
             [
              1,
              "#f0f921"
             ]
            ],
            "type": "contour"
           }
          ],
          "contourcarpet": [
           {
            "colorbar": {
             "outlinewidth": 0,
             "ticks": ""
            },
            "type": "contourcarpet"
           }
          ],
          "heatmap": [
           {
            "colorbar": {
             "outlinewidth": 0,
             "ticks": ""
            },
            "colorscale": [
             [
              0,
              "#0d0887"
             ],
             [
              0.1111111111111111,
              "#46039f"
             ],
             [
              0.2222222222222222,
              "#7201a8"
             ],
             [
              0.3333333333333333,
              "#9c179e"
             ],
             [
              0.4444444444444444,
              "#bd3786"
             ],
             [
              0.5555555555555556,
              "#d8576b"
             ],
             [
              0.6666666666666666,
              "#ed7953"
             ],
             [
              0.7777777777777778,
              "#fb9f3a"
             ],
             [
              0.8888888888888888,
              "#fdca26"
             ],
             [
              1,
              "#f0f921"
             ]
            ],
            "type": "heatmap"
           }
          ],
          "heatmapgl": [
           {
            "colorbar": {
             "outlinewidth": 0,
             "ticks": ""
            },
            "colorscale": [
             [
              0,
              "#0d0887"
             ],
             [
              0.1111111111111111,
              "#46039f"
             ],
             [
              0.2222222222222222,
              "#7201a8"
             ],
             [
              0.3333333333333333,
              "#9c179e"
             ],
             [
              0.4444444444444444,
              "#bd3786"
             ],
             [
              0.5555555555555556,
              "#d8576b"
             ],
             [
              0.6666666666666666,
              "#ed7953"
             ],
             [
              0.7777777777777778,
              "#fb9f3a"
             ],
             [
              0.8888888888888888,
              "#fdca26"
             ],
             [
              1,
              "#f0f921"
             ]
            ],
            "type": "heatmapgl"
           }
          ],
          "histogram": [
           {
            "marker": {
             "pattern": {
              "fillmode": "overlay",
              "size": 10,
              "solidity": 0.2
             }
            },
            "type": "histogram"
           }
          ],
          "histogram2d": [
           {
            "colorbar": {
             "outlinewidth": 0,
             "ticks": ""
            },
            "colorscale": [
             [
              0,
              "#0d0887"
             ],
             [
              0.1111111111111111,
              "#46039f"
             ],
             [
              0.2222222222222222,
              "#7201a8"
             ],
             [
              0.3333333333333333,
              "#9c179e"
             ],
             [
              0.4444444444444444,
              "#bd3786"
             ],
             [
              0.5555555555555556,
              "#d8576b"
             ],
             [
              0.6666666666666666,
              "#ed7953"
             ],
             [
              0.7777777777777778,
              "#fb9f3a"
             ],
             [
              0.8888888888888888,
              "#fdca26"
             ],
             [
              1,
              "#f0f921"
             ]
            ],
            "type": "histogram2d"
           }
          ],
          "histogram2dcontour": [
           {
            "colorbar": {
             "outlinewidth": 0,
             "ticks": ""
            },
            "colorscale": [
             [
              0,
              "#0d0887"
             ],
             [
              0.1111111111111111,
              "#46039f"
             ],
             [
              0.2222222222222222,
              "#7201a8"
             ],
             [
              0.3333333333333333,
              "#9c179e"
             ],
             [
              0.4444444444444444,
              "#bd3786"
             ],
             [
              0.5555555555555556,
              "#d8576b"
             ],
             [
              0.6666666666666666,
              "#ed7953"
             ],
             [
              0.7777777777777778,
              "#fb9f3a"
             ],
             [
              0.8888888888888888,
              "#fdca26"
             ],
             [
              1,
              "#f0f921"
             ]
            ],
            "type": "histogram2dcontour"
           }
          ],
          "mesh3d": [
           {
            "colorbar": {
             "outlinewidth": 0,
             "ticks": ""
            },
            "type": "mesh3d"
           }
          ],
          "parcoords": [
           {
            "line": {
             "colorbar": {
              "outlinewidth": 0,
              "ticks": ""
             }
            },
            "type": "parcoords"
           }
          ],
          "pie": [
           {
            "automargin": true,
            "type": "pie"
           }
          ],
          "scatter": [
           {
            "marker": {
             "colorbar": {
              "outlinewidth": 0,
              "ticks": ""
             }
            },
            "type": "scatter"
           }
          ],
          "scatter3d": [
           {
            "line": {
             "colorbar": {
              "outlinewidth": 0,
              "ticks": ""
             }
            },
            "marker": {
             "colorbar": {
              "outlinewidth": 0,
              "ticks": ""
             }
            },
            "type": "scatter3d"
           }
          ],
          "scattercarpet": [
           {
            "marker": {
             "colorbar": {
              "outlinewidth": 0,
              "ticks": ""
             }
            },
            "type": "scattercarpet"
           }
          ],
          "scattergeo": [
           {
            "marker": {
             "colorbar": {
              "outlinewidth": 0,
              "ticks": ""
             }
            },
            "type": "scattergeo"
           }
          ],
          "scattergl": [
           {
            "marker": {
             "colorbar": {
              "outlinewidth": 0,
              "ticks": ""
             }
            },
            "type": "scattergl"
           }
          ],
          "scattermapbox": [
           {
            "marker": {
             "colorbar": {
              "outlinewidth": 0,
              "ticks": ""
             }
            },
            "type": "scattermapbox"
           }
          ],
          "scatterpolar": [
           {
            "marker": {
             "colorbar": {
              "outlinewidth": 0,
              "ticks": ""
             }
            },
            "type": "scatterpolar"
           }
          ],
          "scatterpolargl": [
           {
            "marker": {
             "colorbar": {
              "outlinewidth": 0,
              "ticks": ""
             }
            },
            "type": "scatterpolargl"
           }
          ],
          "scatterternary": [
           {
            "marker": {
             "colorbar": {
              "outlinewidth": 0,
              "ticks": ""
             }
            },
            "type": "scatterternary"
           }
          ],
          "surface": [
           {
            "colorbar": {
             "outlinewidth": 0,
             "ticks": ""
            },
            "colorscale": [
             [
              0,
              "#0d0887"
             ],
             [
              0.1111111111111111,
              "#46039f"
             ],
             [
              0.2222222222222222,
              "#7201a8"
             ],
             [
              0.3333333333333333,
              "#9c179e"
             ],
             [
              0.4444444444444444,
              "#bd3786"
             ],
             [
              0.5555555555555556,
              "#d8576b"
             ],
             [
              0.6666666666666666,
              "#ed7953"
             ],
             [
              0.7777777777777778,
              "#fb9f3a"
             ],
             [
              0.8888888888888888,
              "#fdca26"
             ],
             [
              1,
              "#f0f921"
             ]
            ],
            "type": "surface"
           }
          ],
          "table": [
           {
            "cells": {
             "fill": {
              "color": "#EBF0F8"
             },
             "line": {
              "color": "white"
             }
            },
            "header": {
             "fill": {
              "color": "#C8D4E3"
             },
             "line": {
              "color": "white"
             }
            },
            "type": "table"
           }
          ]
         },
         "layout": {
          "annotationdefaults": {
           "arrowcolor": "#2a3f5f",
           "arrowhead": 0,
           "arrowwidth": 1
          },
          "autotypenumbers": "strict",
          "coloraxis": {
           "colorbar": {
            "outlinewidth": 0,
            "ticks": ""
           }
          },
          "colorscale": {
           "diverging": [
            [
             0,
             "#8e0152"
            ],
            [
             0.1,
             "#c51b7d"
            ],
            [
             0.2,
             "#de77ae"
            ],
            [
             0.3,
             "#f1b6da"
            ],
            [
             0.4,
             "#fde0ef"
            ],
            [
             0.5,
             "#f7f7f7"
            ],
            [
             0.6,
             "#e6f5d0"
            ],
            [
             0.7,
             "#b8e186"
            ],
            [
             0.8,
             "#7fbc41"
            ],
            [
             0.9,
             "#4d9221"
            ],
            [
             1,
             "#276419"
            ]
           ],
           "sequential": [
            [
             0,
             "#0d0887"
            ],
            [
             0.1111111111111111,
             "#46039f"
            ],
            [
             0.2222222222222222,
             "#7201a8"
            ],
            [
             0.3333333333333333,
             "#9c179e"
            ],
            [
             0.4444444444444444,
             "#bd3786"
            ],
            [
             0.5555555555555556,
             "#d8576b"
            ],
            [
             0.6666666666666666,
             "#ed7953"
            ],
            [
             0.7777777777777778,
             "#fb9f3a"
            ],
            [
             0.8888888888888888,
             "#fdca26"
            ],
            [
             1,
             "#f0f921"
            ]
           ],
           "sequentialminus": [
            [
             0,
             "#0d0887"
            ],
            [
             0.1111111111111111,
             "#46039f"
            ],
            [
             0.2222222222222222,
             "#7201a8"
            ],
            [
             0.3333333333333333,
             "#9c179e"
            ],
            [
             0.4444444444444444,
             "#bd3786"
            ],
            [
             0.5555555555555556,
             "#d8576b"
            ],
            [
             0.6666666666666666,
             "#ed7953"
            ],
            [
             0.7777777777777778,
             "#fb9f3a"
            ],
            [
             0.8888888888888888,
             "#fdca26"
            ],
            [
             1,
             "#f0f921"
            ]
           ]
          },
          "colorway": [
           "#636efa",
           "#EF553B",
           "#00cc96",
           "#ab63fa",
           "#FFA15A",
           "#19d3f3",
           "#FF6692",
           "#B6E880",
           "#FF97FF",
           "#FECB52"
          ],
          "font": {
           "color": "#2a3f5f"
          },
          "geo": {
           "bgcolor": "white",
           "lakecolor": "white",
           "landcolor": "#E5ECF6",
           "showlakes": true,
           "showland": true,
           "subunitcolor": "white"
          },
          "hoverlabel": {
           "align": "left"
          },
          "hovermode": "closest",
          "mapbox": {
           "style": "light"
          },
          "paper_bgcolor": "white",
          "plot_bgcolor": "#E5ECF6",
          "polar": {
           "angularaxis": {
            "gridcolor": "white",
            "linecolor": "white",
            "ticks": ""
           },
           "bgcolor": "#E5ECF6",
           "radialaxis": {
            "gridcolor": "white",
            "linecolor": "white",
            "ticks": ""
           }
          },
          "scene": {
           "xaxis": {
            "backgroundcolor": "#E5ECF6",
            "gridcolor": "white",
            "gridwidth": 2,
            "linecolor": "white",
            "showbackground": true,
            "ticks": "",
            "zerolinecolor": "white"
           },
           "yaxis": {
            "backgroundcolor": "#E5ECF6",
            "gridcolor": "white",
            "gridwidth": 2,
            "linecolor": "white",
            "showbackground": true,
            "ticks": "",
            "zerolinecolor": "white"
           },
           "zaxis": {
            "backgroundcolor": "#E5ECF6",
            "gridcolor": "white",
            "gridwidth": 2,
            "linecolor": "white",
            "showbackground": true,
            "ticks": "",
            "zerolinecolor": "white"
           }
          },
          "shapedefaults": {
           "line": {
            "color": "#2a3f5f"
           }
          },
          "ternary": {
           "aaxis": {
            "gridcolor": "white",
            "linecolor": "white",
            "ticks": ""
           },
           "baxis": {
            "gridcolor": "white",
            "linecolor": "white",
            "ticks": ""
           },
           "bgcolor": "#E5ECF6",
           "caxis": {
            "gridcolor": "white",
            "linecolor": "white",
            "ticks": ""
           }
          },
          "title": {
           "x": 0.05
          },
          "xaxis": {
           "automargin": true,
           "gridcolor": "white",
           "linecolor": "white",
           "ticks": "",
           "title": {
            "standoff": 15
           },
           "zerolinecolor": "white",
           "zerolinewidth": 2
          },
          "yaxis": {
           "automargin": true,
           "gridcolor": "white",
           "linecolor": "white",
           "ticks": "",
           "title": {
            "standoff": 15
           },
           "zerolinecolor": "white",
           "zerolinewidth": 2
          }
         }
        },
        "width": 720,
        "xaxis": {
         "title": {
          "text": "Lattice Size"
         },
         "type": "log"
        },
        "yaxis": {
         "title": {
          "text": "Time (ms)"
         },
         "type": "log"
        }
       }
      }
     },
     "metadata": {}
    }
   ],
   "source": [
    "fig = go.Figure()\n",
    "for idx, (name, dfs, _) in enumerate(runs):\n",
    "    df = pd.concat(dfs)\n",
    "    df[\"size\"] **= 2\n",
    "    df[\"avgEvolveTime\"] = df[\"avgEvolveTime\"] / 1e6 # time is originally in ns\n",
    "\n",
    "    add_mean_std_trace(fig, df, name, idx, \"avgEvolveTime\")\n",
    "\n",
    "fig.update_layout(xaxis_title='Lattice Size', yaxis_title=\"Time (ms)\", **layout_settings) # title=\"Average grid evolution time\", \n",
    "fig.update_xaxes(type=\"log\")\n",
    "fig.update_yaxes(type=\"log\")\n",
    "fig.show()\n",
    "fig.write_image(\"images/lat_render_evo_avg.eps\")"
   ]
  },
  {
   "cell_type": "code",
   "execution_count": 6,
   "metadata": {},
   "outputs": [
    {
     "output_type": "display_data",
     "data": {
      "application/vnd.plotly.v1+json": {
       "config": {
        "plotlyServerURL": "https://plot.ly"
       },
       "data": [
        {
         "line": {
          "color": "#636EFA"
         },
         "mode": "lines+markers",
         "name": "1 CPU",
         "type": "scatter",
         "x": [
          1024,
          4096,
          16384,
          65536,
          262144,
          1048576,
          4194304,
          16777216
         ],
         "y": [
          0.0228108,
          0.08256300000000001,
          0.2945976,
          1.1790126000000003,
          4.7875112,
          6.570723800000001,
          20.6924138,
          120.09936259999999
         ]
        },
        {
         "line": {
          "width": 0
         },
         "mode": "lines",
         "name": "1 CPU upper",
         "showlegend": false,
         "type": "scatter",
         "x": [
          1024,
          4096,
          16384,
          65536,
          262144,
          1048576,
          4194304,
          16777216
         ],
         "y": [
          0.023027764743679704,
          0.08838633276569355,
          0.29737777307015234,
          1.1865083393764728,
          4.803639026549166,
          6.616043757377518,
          20.725084552496693,
          120.48067993367931
         ]
        },
        {
         "fill": "tonexty",
         "fillcolor": "rgba(99, 110, 250, 0.30)",
         "line": {
          "width": 0
         },
         "mode": "lines",
         "name": "1 CPU lower",
         "showlegend": false,
         "type": "scatter",
         "x": [
          1024,
          4096,
          16384,
          65536,
          262144,
          1048576,
          4194304,
          16777216
         ],
         "y": [
          0.022593835256320294,
          0.07673966723430647,
          0.2918174269298477,
          1.1715168606235278,
          4.771383373450834,
          6.525403842622483,
          20.65974304750331,
          119.71804526632067
         ]
        },
        {
         "line": {
          "color": "#EF553B"
         },
         "mode": "lines+markers",
         "name": "2 CPUs",
         "type": "scatter",
         "x": [
          1024,
          4096,
          16384,
          65536,
          262144,
          1048576,
          4194304,
          16777216
         ],
         "y": [
          0.10160339999999998,
          0.2890954,
          1.4807478,
          5.976062399999999,
          25.108557400000002,
          32.9367484,
          68.6284128,
          308.65515459999995
         ]
        },
        {
         "line": {
          "width": 0
         },
         "mode": "lines",
         "name": "2 CPUs upper",
         "showlegend": false,
         "type": "scatter",
         "x": [
          1024,
          4096,
          16384,
          65536,
          262144,
          1048576,
          4194304,
          16777216
         ],
         "y": [
          0.11588375989742554,
          0.3821223278370516,
          1.5836862646801184,
          6.299930682222572,
          26.6696476193678,
          33.11500231214585,
          69.03471178855916,
          310.3985349867103
         ]
        },
        {
         "fill": "tonexty",
         "fillcolor": "rgba(239, 85, 59, 0.30)",
         "line": {
          "width": 0
         },
         "mode": "lines",
         "name": "2 CPUs lower",
         "showlegend": false,
         "type": "scatter",
         "x": [
          1024,
          4096,
          16384,
          65536,
          262144,
          1048576,
          4194304,
          16777216
         ],
         "y": [
          0.08732304010257443,
          0.19606847216294843,
          1.3778093353198817,
          5.652194117777427,
          23.547467180632204,
          32.75849448785415,
          68.22211381144085,
          306.9117742132896
         ]
        },
        {
         "line": {
          "color": "#00CC96"
         },
         "mode": "lines+markers",
         "name": "4 CPUs",
         "type": "scatter",
         "x": [
          1024,
          4096,
          16384,
          65536,
          262144,
          1048576,
          4194304,
          16777216
         ],
         "y": [
          0.09192039999999999,
          0.3220072,
          1.2850574,
          5.2391466,
          20.188633799999998,
          29.741238199999998,
          59.410155399999994,
          277.968951
         ]
        },
        {
         "line": {
          "width": 0
         },
         "mode": "lines",
         "name": "4 CPUs upper",
         "showlegend": false,
         "type": "scatter",
         "x": [
          1024,
          4096,
          16384,
          65536,
          262144,
          1048576,
          4194304,
          16777216
         ],
         "y": [
          0.09958140768828748,
          0.32976341658413433,
          1.3092505548542144,
          5.46969794339947,
          20.230654221894596,
          31.16608036186362,
          59.76509473769209,
          280.3295288673589
         ]
        },
        {
         "fill": "tonexty",
         "fillcolor": "rgba(0, 204, 150, 0.30)",
         "line": {
          "width": 0
         },
         "mode": "lines",
         "name": "4 CPUs lower",
         "showlegend": false,
         "type": "scatter",
         "x": [
          1024,
          4096,
          16384,
          65536,
          262144,
          1048576,
          4194304,
          16777216
         ],
         "y": [
          0.08425939231171249,
          0.31425098341586566,
          1.2608642451457854,
          5.00859525660053,
          20.1466133781054,
          28.316396038136375,
          59.0552160623079,
          275.60837313264113
         ]
        },
        {
         "line": {
          "color": "#AB63FA"
         },
         "mode": "lines+markers",
         "name": "8 CPUs",
         "type": "scatter",
         "x": [
          1024,
          4096,
          16384,
          65536,
          262144,
          1048576,
          4194304,
          16777216
         ],
         "y": [
          0.0871666,
          0.2591728,
          1.0499226,
          4.1415744000000005,
          16.318491799999997,
          22.6534596,
          48.1326232,
          227.267566
         ]
        },
        {
         "line": {
          "width": 0
         },
         "mode": "lines",
         "name": "8 CPUs upper",
         "showlegend": false,
         "type": "scatter",
         "x": [
          1024,
          4096,
          16384,
          65536,
          262144,
          1048576,
          4194304,
          16777216
         ],
         "y": [
          0.10499462352477694,
          0.2621940415825286,
          1.0721892354283713,
          4.210740465916026,
          16.371019741480698,
          22.968952962005133,
          49.47539294384709,
          233.0307311623336
         ]
        },
        {
         "fill": "tonexty",
         "fillcolor": "rgba(171, 99, 250, 0.30)",
         "line": {
          "width": 0
         },
         "mode": "lines",
         "name": "8 CPUs lower",
         "showlegend": false,
         "type": "scatter",
         "x": [
          1024,
          4096,
          16384,
          65536,
          262144,
          1048576,
          4194304,
          16777216
         ],
         "y": [
          0.06933857647522305,
          0.25615155841747134,
          1.0276559645716286,
          4.072408334083975,
          16.265963858519296,
          22.33796623799487,
          46.789853456152905,
          221.50440083766637
         ]
        },
        {
         "line": {
          "color": "#FFA15A"
         },
         "mode": "lines+markers",
         "name": "12 CPUs",
         "type": "scatter",
         "x": [
          1024,
          4096,
          16384,
          65536,
          262144,
          1048576,
          4194304,
          16777216
         ],
         "y": [
          0.095869,
          0.22181220000000001,
          0.8457336,
          3.2286610000000002,
          13.3384938,
          17.80107,
          38.7690122,
          182.4863906
         ]
        },
        {
         "line": {
          "width": 0
         },
         "mode": "lines",
         "name": "12 CPUs upper",
         "showlegend": false,
         "type": "scatter",
         "x": [
          1024,
          4096,
          16384,
          65536,
          262144,
          1048576,
          4194304,
          16777216
         ],
         "y": [
          0.11580514261837029,
          0.22814181789526036,
          0.8770718403191372,
          3.233230680787539,
          13.958045781483152,
          17.822190928945005,
          40.91725846131333,
          192.7028879371985
         ]
        },
        {
         "fill": "tonexty",
         "fillcolor": "rgba(255, 161, 90, 0.30)",
         "line": {
          "width": 0
         },
         "mode": "lines",
         "name": "12 CPUs lower",
         "showlegend": false,
         "type": "scatter",
         "x": [
          1024,
          4096,
          16384,
          65536,
          262144,
          1048576,
          4194304,
          16777216
         ],
         "y": [
          0.0759328573816297,
          0.21548258210473967,
          0.8143953596808627,
          3.2240913192124614,
          12.718941818516848,
          17.779949071054993,
          36.62076593868667,
          172.26989326280147
         ]
        },
        {
         "line": {
          "color": "#19D3F3"
         },
         "mode": "lines+markers",
         "name": "16 CPUs",
         "type": "scatter",
         "x": [
          1024,
          4096,
          16384,
          65536,
          262144,
          1048576,
          4194304,
          16777216
         ],
         "y": [
          0.20204740000000002,
          0.2463288,
          0.8247671999999999,
          2.8675903999999997,
          10.895649200000001,
          15.372546,
          33.449107,
          149.965726
         ]
        },
        {
         "line": {
          "width": 0
         },
         "mode": "lines",
         "name": "16 CPUs upper",
         "showlegend": false,
         "type": "scatter",
         "x": [
          1024,
          4096,
          16384,
          65536,
          262144,
          1048576,
          4194304,
          16777216
         ],
         "y": [
          0.22539703311917342,
          0.2535748149530621,
          0.9048175377238347,
          3.0400380121023423,
          10.929507845848587,
          16.192201725342354,
          35.69674232891759,
          150.09451830935697
         ]
        },
        {
         "fill": "tonexty",
         "fillcolor": "rgba(25, 211, 243, 0.30)",
         "line": {
          "width": 0
         },
         "mode": "lines",
         "name": "16 CPUs lower",
         "showlegend": false,
         "type": "scatter",
         "x": [
          1024,
          4096,
          16384,
          65536,
          262144,
          1048576,
          4194304,
          16777216
         ],
         "y": [
          0.17869776688082661,
          0.23908278504693786,
          0.7447168622761652,
          2.695142787897657,
          10.861790554151415,
          14.552890274657646,
          31.20147167108241,
          149.836933690643
         ]
        },
        {
         "line": {
          "color": "#FF6692"
         },
         "mode": "lines+markers",
         "name": "GPU",
         "type": "scatter",
         "x": [
          1024,
          4096,
          16384,
          65536,
          262144,
          1048576,
          4194304,
          16777216
         ],
         "y": [
          0.23700000000000002,
          0.23279160000000002,
          0.23499659999999997,
          0.2329008,
          0.23837520000000004,
          0.24043460000000003,
          0.5014564,
          0.5190918
         ]
        },
        {
         "line": {
          "width": 0
         },
         "mode": "lines",
         "name": "GPU upper",
         "showlegend": false,
         "type": "scatter",
         "x": [
          1024,
          4096,
          16384,
          65536,
          262144,
          1048576,
          4194304,
          16777216
         ],
         "y": [
          0.24247201713264863,
          0.23560538122816968,
          0.2414318658297851,
          0.23519182961569682,
          0.24134444833922664,
          0.24145314371531124,
          0.5194133279332519,
          0.5230906819937577
         ]
        },
        {
         "fill": "tonexty",
         "fillcolor": "rgba(255, 102, 146, 0.30)",
         "line": {
          "width": 0
         },
         "mode": "lines",
         "name": "GPU lower",
         "showlegend": false,
         "type": "scatter",
         "x": [
          1024,
          4096,
          16384,
          65536,
          262144,
          1048576,
          4194304,
          16777216
         ],
         "y": [
          0.2315279828673514,
          0.22997781877183035,
          0.22856133417021485,
          0.23060977038430316,
          0.23540595166077344,
          0.23941605628468882,
          0.48349947206674815,
          0.5150929180062422
         ]
        }
       ],
       "layout": {
        "font": {
         "size": 16
        },
        "height": 480,
        "margin": {
         "b": 10,
         "l": 10,
         "r": 10,
         "t": 10
        },
        "template": {
         "data": {
          "bar": [
           {
            "error_x": {
             "color": "#2a3f5f"
            },
            "error_y": {
             "color": "#2a3f5f"
            },
            "marker": {
             "line": {
              "color": "#E5ECF6",
              "width": 0.5
             },
             "pattern": {
              "fillmode": "overlay",
              "size": 10,
              "solidity": 0.2
             }
            },
            "type": "bar"
           }
          ],
          "barpolar": [
           {
            "marker": {
             "line": {
              "color": "#E5ECF6",
              "width": 0.5
             },
             "pattern": {
              "fillmode": "overlay",
              "size": 10,
              "solidity": 0.2
             }
            },
            "type": "barpolar"
           }
          ],
          "carpet": [
           {
            "aaxis": {
             "endlinecolor": "#2a3f5f",
             "gridcolor": "white",
             "linecolor": "white",
             "minorgridcolor": "white",
             "startlinecolor": "#2a3f5f"
            },
            "baxis": {
             "endlinecolor": "#2a3f5f",
             "gridcolor": "white",
             "linecolor": "white",
             "minorgridcolor": "white",
             "startlinecolor": "#2a3f5f"
            },
            "type": "carpet"
           }
          ],
          "choropleth": [
           {
            "colorbar": {
             "outlinewidth": 0,
             "ticks": ""
            },
            "type": "choropleth"
           }
          ],
          "contour": [
           {
            "colorbar": {
             "outlinewidth": 0,
             "ticks": ""
            },
            "colorscale": [
             [
              0,
              "#0d0887"
             ],
             [
              0.1111111111111111,
              "#46039f"
             ],
             [
              0.2222222222222222,
              "#7201a8"
             ],
             [
              0.3333333333333333,
              "#9c179e"
             ],
             [
              0.4444444444444444,
              "#bd3786"
             ],
             [
              0.5555555555555556,
              "#d8576b"
             ],
             [
              0.6666666666666666,
              "#ed7953"
             ],
             [
              0.7777777777777778,
              "#fb9f3a"
             ],
             [
              0.8888888888888888,
              "#fdca26"
             ],
             [
              1,
              "#f0f921"
             ]
            ],
            "type": "contour"
           }
          ],
          "contourcarpet": [
           {
            "colorbar": {
             "outlinewidth": 0,
             "ticks": ""
            },
            "type": "contourcarpet"
           }
          ],
          "heatmap": [
           {
            "colorbar": {
             "outlinewidth": 0,
             "ticks": ""
            },
            "colorscale": [
             [
              0,
              "#0d0887"
             ],
             [
              0.1111111111111111,
              "#46039f"
             ],
             [
              0.2222222222222222,
              "#7201a8"
             ],
             [
              0.3333333333333333,
              "#9c179e"
             ],
             [
              0.4444444444444444,
              "#bd3786"
             ],
             [
              0.5555555555555556,
              "#d8576b"
             ],
             [
              0.6666666666666666,
              "#ed7953"
             ],
             [
              0.7777777777777778,
              "#fb9f3a"
             ],
             [
              0.8888888888888888,
              "#fdca26"
             ],
             [
              1,
              "#f0f921"
             ]
            ],
            "type": "heatmap"
           }
          ],
          "heatmapgl": [
           {
            "colorbar": {
             "outlinewidth": 0,
             "ticks": ""
            },
            "colorscale": [
             [
              0,
              "#0d0887"
             ],
             [
              0.1111111111111111,
              "#46039f"
             ],
             [
              0.2222222222222222,
              "#7201a8"
             ],
             [
              0.3333333333333333,
              "#9c179e"
             ],
             [
              0.4444444444444444,
              "#bd3786"
             ],
             [
              0.5555555555555556,
              "#d8576b"
             ],
             [
              0.6666666666666666,
              "#ed7953"
             ],
             [
              0.7777777777777778,
              "#fb9f3a"
             ],
             [
              0.8888888888888888,
              "#fdca26"
             ],
             [
              1,
              "#f0f921"
             ]
            ],
            "type": "heatmapgl"
           }
          ],
          "histogram": [
           {
            "marker": {
             "pattern": {
              "fillmode": "overlay",
              "size": 10,
              "solidity": 0.2
             }
            },
            "type": "histogram"
           }
          ],
          "histogram2d": [
           {
            "colorbar": {
             "outlinewidth": 0,
             "ticks": ""
            },
            "colorscale": [
             [
              0,
              "#0d0887"
             ],
             [
              0.1111111111111111,
              "#46039f"
             ],
             [
              0.2222222222222222,
              "#7201a8"
             ],
             [
              0.3333333333333333,
              "#9c179e"
             ],
             [
              0.4444444444444444,
              "#bd3786"
             ],
             [
              0.5555555555555556,
              "#d8576b"
             ],
             [
              0.6666666666666666,
              "#ed7953"
             ],
             [
              0.7777777777777778,
              "#fb9f3a"
             ],
             [
              0.8888888888888888,
              "#fdca26"
             ],
             [
              1,
              "#f0f921"
             ]
            ],
            "type": "histogram2d"
           }
          ],
          "histogram2dcontour": [
           {
            "colorbar": {
             "outlinewidth": 0,
             "ticks": ""
            },
            "colorscale": [
             [
              0,
              "#0d0887"
             ],
             [
              0.1111111111111111,
              "#46039f"
             ],
             [
              0.2222222222222222,
              "#7201a8"
             ],
             [
              0.3333333333333333,
              "#9c179e"
             ],
             [
              0.4444444444444444,
              "#bd3786"
             ],
             [
              0.5555555555555556,
              "#d8576b"
             ],
             [
              0.6666666666666666,
              "#ed7953"
             ],
             [
              0.7777777777777778,
              "#fb9f3a"
             ],
             [
              0.8888888888888888,
              "#fdca26"
             ],
             [
              1,
              "#f0f921"
             ]
            ],
            "type": "histogram2dcontour"
           }
          ],
          "mesh3d": [
           {
            "colorbar": {
             "outlinewidth": 0,
             "ticks": ""
            },
            "type": "mesh3d"
           }
          ],
          "parcoords": [
           {
            "line": {
             "colorbar": {
              "outlinewidth": 0,
              "ticks": ""
             }
            },
            "type": "parcoords"
           }
          ],
          "pie": [
           {
            "automargin": true,
            "type": "pie"
           }
          ],
          "scatter": [
           {
            "marker": {
             "colorbar": {
              "outlinewidth": 0,
              "ticks": ""
             }
            },
            "type": "scatter"
           }
          ],
          "scatter3d": [
           {
            "line": {
             "colorbar": {
              "outlinewidth": 0,
              "ticks": ""
             }
            },
            "marker": {
             "colorbar": {
              "outlinewidth": 0,
              "ticks": ""
             }
            },
            "type": "scatter3d"
           }
          ],
          "scattercarpet": [
           {
            "marker": {
             "colorbar": {
              "outlinewidth": 0,
              "ticks": ""
             }
            },
            "type": "scattercarpet"
           }
          ],
          "scattergeo": [
           {
            "marker": {
             "colorbar": {
              "outlinewidth": 0,
              "ticks": ""
             }
            },
            "type": "scattergeo"
           }
          ],
          "scattergl": [
           {
            "marker": {
             "colorbar": {
              "outlinewidth": 0,
              "ticks": ""
             }
            },
            "type": "scattergl"
           }
          ],
          "scattermapbox": [
           {
            "marker": {
             "colorbar": {
              "outlinewidth": 0,
              "ticks": ""
             }
            },
            "type": "scattermapbox"
           }
          ],
          "scatterpolar": [
           {
            "marker": {
             "colorbar": {
              "outlinewidth": 0,
              "ticks": ""
             }
            },
            "type": "scatterpolar"
           }
          ],
          "scatterpolargl": [
           {
            "marker": {
             "colorbar": {
              "outlinewidth": 0,
              "ticks": ""
             }
            },
            "type": "scatterpolargl"
           }
          ],
          "scatterternary": [
           {
            "marker": {
             "colorbar": {
              "outlinewidth": 0,
              "ticks": ""
             }
            },
            "type": "scatterternary"
           }
          ],
          "surface": [
           {
            "colorbar": {
             "outlinewidth": 0,
             "ticks": ""
            },
            "colorscale": [
             [
              0,
              "#0d0887"
             ],
             [
              0.1111111111111111,
              "#46039f"
             ],
             [
              0.2222222222222222,
              "#7201a8"
             ],
             [
              0.3333333333333333,
              "#9c179e"
             ],
             [
              0.4444444444444444,
              "#bd3786"
             ],
             [
              0.5555555555555556,
              "#d8576b"
             ],
             [
              0.6666666666666666,
              "#ed7953"
             ],
             [
              0.7777777777777778,
              "#fb9f3a"
             ],
             [
              0.8888888888888888,
              "#fdca26"
             ],
             [
              1,
              "#f0f921"
             ]
            ],
            "type": "surface"
           }
          ],
          "table": [
           {
            "cells": {
             "fill": {
              "color": "#EBF0F8"
             },
             "line": {
              "color": "white"
             }
            },
            "header": {
             "fill": {
              "color": "#C8D4E3"
             },
             "line": {
              "color": "white"
             }
            },
            "type": "table"
           }
          ]
         },
         "layout": {
          "annotationdefaults": {
           "arrowcolor": "#2a3f5f",
           "arrowhead": 0,
           "arrowwidth": 1
          },
          "autotypenumbers": "strict",
          "coloraxis": {
           "colorbar": {
            "outlinewidth": 0,
            "ticks": ""
           }
          },
          "colorscale": {
           "diverging": [
            [
             0,
             "#8e0152"
            ],
            [
             0.1,
             "#c51b7d"
            ],
            [
             0.2,
             "#de77ae"
            ],
            [
             0.3,
             "#f1b6da"
            ],
            [
             0.4,
             "#fde0ef"
            ],
            [
             0.5,
             "#f7f7f7"
            ],
            [
             0.6,
             "#e6f5d0"
            ],
            [
             0.7,
             "#b8e186"
            ],
            [
             0.8,
             "#7fbc41"
            ],
            [
             0.9,
             "#4d9221"
            ],
            [
             1,
             "#276419"
            ]
           ],
           "sequential": [
            [
             0,
             "#0d0887"
            ],
            [
             0.1111111111111111,
             "#46039f"
            ],
            [
             0.2222222222222222,
             "#7201a8"
            ],
            [
             0.3333333333333333,
             "#9c179e"
            ],
            [
             0.4444444444444444,
             "#bd3786"
            ],
            [
             0.5555555555555556,
             "#d8576b"
            ],
            [
             0.6666666666666666,
             "#ed7953"
            ],
            [
             0.7777777777777778,
             "#fb9f3a"
            ],
            [
             0.8888888888888888,
             "#fdca26"
            ],
            [
             1,
             "#f0f921"
            ]
           ],
           "sequentialminus": [
            [
             0,
             "#0d0887"
            ],
            [
             0.1111111111111111,
             "#46039f"
            ],
            [
             0.2222222222222222,
             "#7201a8"
            ],
            [
             0.3333333333333333,
             "#9c179e"
            ],
            [
             0.4444444444444444,
             "#bd3786"
            ],
            [
             0.5555555555555556,
             "#d8576b"
            ],
            [
             0.6666666666666666,
             "#ed7953"
            ],
            [
             0.7777777777777778,
             "#fb9f3a"
            ],
            [
             0.8888888888888888,
             "#fdca26"
            ],
            [
             1,
             "#f0f921"
            ]
           ]
          },
          "colorway": [
           "#636efa",
           "#EF553B",
           "#00cc96",
           "#ab63fa",
           "#FFA15A",
           "#19d3f3",
           "#FF6692",
           "#B6E880",
           "#FF97FF",
           "#FECB52"
          ],
          "font": {
           "color": "#2a3f5f"
          },
          "geo": {
           "bgcolor": "white",
           "lakecolor": "white",
           "landcolor": "#E5ECF6",
           "showlakes": true,
           "showland": true,
           "subunitcolor": "white"
          },
          "hoverlabel": {
           "align": "left"
          },
          "hovermode": "closest",
          "mapbox": {
           "style": "light"
          },
          "paper_bgcolor": "white",
          "plot_bgcolor": "#E5ECF6",
          "polar": {
           "angularaxis": {
            "gridcolor": "white",
            "linecolor": "white",
            "ticks": ""
           },
           "bgcolor": "#E5ECF6",
           "radialaxis": {
            "gridcolor": "white",
            "linecolor": "white",
            "ticks": ""
           }
          },
          "scene": {
           "xaxis": {
            "backgroundcolor": "#E5ECF6",
            "gridcolor": "white",
            "gridwidth": 2,
            "linecolor": "white",
            "showbackground": true,
            "ticks": "",
            "zerolinecolor": "white"
           },
           "yaxis": {
            "backgroundcolor": "#E5ECF6",
            "gridcolor": "white",
            "gridwidth": 2,
            "linecolor": "white",
            "showbackground": true,
            "ticks": "",
            "zerolinecolor": "white"
           },
           "zaxis": {
            "backgroundcolor": "#E5ECF6",
            "gridcolor": "white",
            "gridwidth": 2,
            "linecolor": "white",
            "showbackground": true,
            "ticks": "",
            "zerolinecolor": "white"
           }
          },
          "shapedefaults": {
           "line": {
            "color": "#2a3f5f"
           }
          },
          "ternary": {
           "aaxis": {
            "gridcolor": "white",
            "linecolor": "white",
            "ticks": ""
           },
           "baxis": {
            "gridcolor": "white",
            "linecolor": "white",
            "ticks": ""
           },
           "bgcolor": "#E5ECF6",
           "caxis": {
            "gridcolor": "white",
            "linecolor": "white",
            "ticks": ""
           }
          },
          "title": {
           "x": 0.05
          },
          "xaxis": {
           "automargin": true,
           "gridcolor": "white",
           "linecolor": "white",
           "ticks": "",
           "title": {
            "standoff": 15
           },
           "zerolinecolor": "white",
           "zerolinewidth": 2
          },
          "yaxis": {
           "automargin": true,
           "gridcolor": "white",
           "linecolor": "white",
           "ticks": "",
           "title": {
            "standoff": 15
           },
           "zerolinecolor": "white",
           "zerolinewidth": 2
          }
         }
        },
        "width": 720,
        "xaxis": {
         "title": {
          "text": "Lattice Size"
         },
         "type": "log"
        },
        "yaxis": {
         "title": {
          "text": "Time (ms)"
         },
         "type": "log"
        }
       }
      }
     },
     "metadata": {}
    }
   ],
   "source": [
    "fig = go.Figure()\n",
    "for idx, (name, dfs, _) in enumerate(runs):\n",
    "    df = pd.concat(dfs)\n",
    "    df[\"size\"] **= 2\n",
    "    df[\"avgBufferTime\"] = df[\"avgBufferTime\"] / 1e6 # time is originally in ns\n",
    "\n",
    "    add_mean_std_trace(fig, df, name, idx, \"avgBufferTime\")\n",
    "\n",
    "fig.update_layout(xaxis_title='Lattice Size', yaxis_title=\"Time (ms)\", **layout_settings) # title=\"Average buffer update time\", \n",
    "fig.update_xaxes(type=\"log\")\n",
    "fig.update_yaxes(type=\"log\")\n",
    "fig.show()\n",
    "fig.write_image(\"images/lat_render_buf_avg.eps\")"
   ]
  },
  {
   "cell_type": "code",
   "execution_count": 7,
   "metadata": {},
   "outputs": [
    {
     "output_type": "display_data",
     "data": {
      "application/vnd.plotly.v1+json": {
       "config": {
        "plotlyServerURL": "https://plot.ly"
       },
       "data": [
        {
         "line": {
          "color": "#EF553B"
         },
         "mode": "lines+markers",
         "name": "2 CPUs",
         "type": "scatter",
         "x": [
          1024,
          4096,
          16384,
          65536,
          262144,
          1048576,
          4194304,
          16777216
         ],
         "y": [
          1.1054910322212532,
          2.0129964136311096,
          1.8922997925153553,
          1.9619800510371814,
          1.9801773014863566,
          2.000004014370108,
          1.9320773396097521,
          1.9614275300342556
         ]
        },
        {
         "line": {
          "width": 0
         },
         "mode": "lines",
         "name": "2 CPUs upper",
         "showlegend": false,
         "type": "scatter",
         "x": [
          1024,
          4096,
          16384,
          65536,
          262144,
          1048576,
          4194304,
          16777216
         ],
         "y": [
          1.45740638803285,
          2.105558872375394,
          1.9053046822695,
          2.0082506525359864,
          1.9873686479319326,
          2.007742278723221,
          1.9440578556284653,
          1.9710190333378772
         ]
        },
        {
         "fill": "tonexty",
         "fillcolor": "rgba(239, 85, 59, 0.30)",
         "line": {
          "width": 0
         },
         "mode": "lines",
         "name": "2 CPUs lower",
         "showlegend": false,
         "type": "scatter",
         "x": [
          1024,
          4096,
          16384,
          65536,
          262144,
          1048576,
          4194304,
          16777216
         ],
         "y": [
          0.7535756764096564,
          1.920433954886825,
          1.8792949027612107,
          1.9157094495383764,
          1.9729859550407807,
          1.9922657500169951,
          1.920096823591039,
          1.951836026730634
         ]
        },
        {
         "line": {
          "color": "#00CC96"
         },
         "mode": "lines+markers",
         "name": "4 CPUs",
         "type": "scatter",
         "x": [
          1024,
          4096,
          16384,
          65536,
          262144,
          1048576,
          4194304,
          16777216
         ],
         "y": [
          1.1040810428747,
          3.2171881093070844,
          3.5449049474176277,
          3.8747294425403482,
          3.894421717949881,
          3.9516193094593497,
          3.849994134508898,
          3.8825179427352743
         ]
        },
        {
         "line": {
          "width": 0
         },
         "mode": "lines",
         "name": "4 CPUs upper",
         "showlegend": false,
         "type": "scatter",
         "x": [
          1024,
          4096,
          16384,
          65536,
          262144,
          1048576,
          4194304,
          16777216
         ],
         "y": [
          1.4905569681409063,
          3.3014102012810733,
          3.586088395891403,
          3.900972729166138,
          3.89764668415826,
          3.964009089256185,
          3.8540226054790283,
          3.8871100599304658
         ]
        },
        {
         "fill": "tonexty",
         "fillcolor": "rgba(0, 204, 150, 0.30)",
         "line": {
          "width": 0
         },
         "mode": "lines",
         "name": "4 CPUs lower",
         "showlegend": false,
         "type": "scatter",
         "x": [
          1024,
          4096,
          16384,
          65536,
          262144,
          1048576,
          4194304,
          16777216
         ],
         "y": [
          0.7176051176084938,
          3.1329660173330955,
          3.5037214989438525,
          3.8484861559145584,
          3.8911967517415014,
          3.9392295296625144,
          3.8459656635387676,
          3.877925825540083
         ]
        },
        {
         "line": {
          "color": "#AB63FA"
         },
         "mode": "lines+markers",
         "name": "8 CPUs",
         "type": "scatter",
         "x": [
          1024,
          4096,
          16384,
          65536,
          262144,
          1048576,
          4194304,
          16777216
         ],
         "y": [
          1.0561100731309971,
          3.6610769614136442,
          5.33753335336039,
          7.11926317881427,
          7.535713593600855,
          7.6402918355741125,
          7.577786393082624,
          7.567912686531416
         ]
        },
        {
         "line": {
          "width": 0
         },
         "mode": "lines",
         "name": "8 CPUs upper",
         "showlegend": false,
         "type": "scatter",
         "x": [
          1024,
          4096,
          16384,
          65536,
          262144,
          1048576,
          4194304,
          16777216
         ],
         "y": [
          1.4672022213588747,
          4.123190671129682,
          5.660933627920943,
          7.469270011487005,
          7.582051846363923,
          7.700905744332778,
          7.591322707003618,
          7.627585781888297
         ]
        },
        {
         "fill": "tonexty",
         "fillcolor": "rgba(171, 99, 250, 0.30)",
         "line": {
          "width": 0
         },
         "mode": "lines",
         "name": "8 CPUs lower",
         "showlegend": false,
         "type": "scatter",
         "x": [
          1024,
          4096,
          16384,
          65536,
          262144,
          1048576,
          4194304,
          16777216
         ],
         "y": [
          0.6450179249031195,
          3.1989632516976068,
          5.014133078799838,
          6.769256346141535,
          7.489375340837787,
          7.579677926815447,
          7.56425007916163,
          7.508239591174536
         ]
        },
        {
         "line": {
          "color": "#FFA15A"
         },
         "mode": "lines+markers",
         "name": "12 CPUs",
         "type": "scatter",
         "x": [
          1024,
          4096,
          16384,
          65536,
          262144,
          1048576,
          4194304,
          16777216
         ],
         "y": [
          0.5902715491000697,
          3.104969141886553,
          4.9606868410882035,
          5.620259168530432,
          5.781811426850771,
          5.849216226647111,
          5.741330851554592,
          5.742955185400292
         ]
        },
        {
         "line": {
          "width": 0
         },
         "mode": "lines",
         "name": "12 CPUs upper",
         "showlegend": false,
         "type": "scatter",
         "x": [
          1024,
          4096,
          16384,
          65536,
          262144,
          1048576,
          4194304,
          16777216
         ],
         "y": [
          0.7579845407234674,
          3.623377816342065,
          5.042656310399373,
          5.645359460267675,
          5.852651624953482,
          5.851681364495915,
          5.8098890651035955,
          5.744949915020378
         ]
        },
        {
         "fill": "tonexty",
         "fillcolor": "rgba(255, 161, 90, 0.30)",
         "line": {
          "width": 0
         },
         "mode": "lines",
         "name": "12 CPUs lower",
         "showlegend": false,
         "type": "scatter",
         "x": [
          1024,
          4096,
          16384,
          65536,
          262144,
          1048576,
          4194304,
          16777216
         ],
         "y": [
          0.42255855747667204,
          2.5865604674310405,
          4.878717371777034,
          5.59515887679319,
          5.71097122874806,
          5.846751088798307,
          5.672772638005588,
          5.740960455780206
         ]
        },
        {
         "line": {
          "color": "#19D3F3"
         },
         "mode": "lines+markers",
         "name": "16 CPUs",
         "type": "scatter",
         "x": [
          1024,
          4096,
          16384,
          65536,
          262144,
          1048576,
          4194304,
          16777216
         ],
         "y": [
          0.11743991469123113,
          0.7739557585300754,
          1.4933177441164012,
          3.9132987564858865,
          6.2952898444293774,
          7.093429911381934,
          7.424658607565166,
          7.6025090633580445
         ]
        },
        {
         "line": {
          "width": 0
         },
         "mode": "lines",
         "name": "16 CPUs upper",
         "showlegend": false,
         "type": "scatter",
         "x": [
          1024,
          4096,
          16384,
          65536,
          262144,
          1048576,
          4194304,
          16777216
         ],
         "y": [
          0.14125039548190457,
          0.9216672035400801,
          1.9526821568724277,
          4.295503788384951,
          6.515697664720066,
          7.28966238774866,
          7.481988719173728,
          7.612082908008709
         ]
        },
        {
         "fill": "tonexty",
         "fillcolor": "rgba(25, 211, 243, 0.30)",
         "line": {
          "width": 0
         },
         "mode": "lines",
         "name": "16 CPUs lower",
         "showlegend": false,
         "type": "scatter",
         "x": [
          1024,
          4096,
          16384,
          65536,
          262144,
          1048576,
          4194304,
          16777216
         ],
         "y": [
          0.0936294339005577,
          0.6262443135200706,
          1.0339533313603746,
          3.531093724586822,
          6.074882024138689,
          6.897197435015208,
          7.367328495956604,
          7.59293521870738
         ]
        },
        {
         "line": {
          "color": "#FF6692"
         },
         "mode": "lines+markers",
         "name": "GPU",
         "type": "scatter",
         "x": [
          1024,
          4096,
          16384,
          65536,
          262144,
          1048576,
          4194304,
          16777216
         ],
         "y": [
          0.011433549844753348,
          0.0498244924410188,
          0.1806988804991869,
          0.6998348051418246,
          2.355625790870641,
          8.605426793973919,
          307.9662865015813,
          415.1063908051642
         ]
        },
        {
         "line": {
          "width": 0
         },
         "mode": "lines",
         "name": "GPU upper",
         "showlegend": false,
         "type": "scatter",
         "x": [
          1024,
          4096,
          16384,
          65536,
          262144,
          1048576,
          4194304,
          16777216
         ],
         "y": [
          0.011483498872031456,
          0.05012854144319417,
          0.18288143257884903,
          0.7134527829713038,
          2.3842679463929164,
          8.647440323722186,
          413.4981613619775,
          416.5379098713344
         ]
        },
        {
         "fill": "tonexty",
         "fillcolor": "rgba(255, 102, 146, 0.30)",
         "line": {
          "width": 0
         },
         "mode": "lines",
         "name": "GPU lower",
         "showlegend": false,
         "type": "scatter",
         "x": [
          1024,
          4096,
          16384,
          65536,
          262144,
          1048576,
          4194304,
          16777216
         ],
         "y": [
          0.011383600817475241,
          0.04952044343884344,
          0.17851632841952475,
          0.6862168273123455,
          2.3269836353483653,
          8.563413264225652,
          202.43441164118505,
          413.674871738994
         ]
        }
       ],
       "layout": {
        "font": {
         "size": 16
        },
        "height": 480,
        "margin": {
         "b": 10,
         "l": 10,
         "r": 10,
         "t": 10
        },
        "template": {
         "data": {
          "bar": [
           {
            "error_x": {
             "color": "#2a3f5f"
            },
            "error_y": {
             "color": "#2a3f5f"
            },
            "marker": {
             "line": {
              "color": "#E5ECF6",
              "width": 0.5
             },
             "pattern": {
              "fillmode": "overlay",
              "size": 10,
              "solidity": 0.2
             }
            },
            "type": "bar"
           }
          ],
          "barpolar": [
           {
            "marker": {
             "line": {
              "color": "#E5ECF6",
              "width": 0.5
             },
             "pattern": {
              "fillmode": "overlay",
              "size": 10,
              "solidity": 0.2
             }
            },
            "type": "barpolar"
           }
          ],
          "carpet": [
           {
            "aaxis": {
             "endlinecolor": "#2a3f5f",
             "gridcolor": "white",
             "linecolor": "white",
             "minorgridcolor": "white",
             "startlinecolor": "#2a3f5f"
            },
            "baxis": {
             "endlinecolor": "#2a3f5f",
             "gridcolor": "white",
             "linecolor": "white",
             "minorgridcolor": "white",
             "startlinecolor": "#2a3f5f"
            },
            "type": "carpet"
           }
          ],
          "choropleth": [
           {
            "colorbar": {
             "outlinewidth": 0,
             "ticks": ""
            },
            "type": "choropleth"
           }
          ],
          "contour": [
           {
            "colorbar": {
             "outlinewidth": 0,
             "ticks": ""
            },
            "colorscale": [
             [
              0,
              "#0d0887"
             ],
             [
              0.1111111111111111,
              "#46039f"
             ],
             [
              0.2222222222222222,
              "#7201a8"
             ],
             [
              0.3333333333333333,
              "#9c179e"
             ],
             [
              0.4444444444444444,
              "#bd3786"
             ],
             [
              0.5555555555555556,
              "#d8576b"
             ],
             [
              0.6666666666666666,
              "#ed7953"
             ],
             [
              0.7777777777777778,
              "#fb9f3a"
             ],
             [
              0.8888888888888888,
              "#fdca26"
             ],
             [
              1,
              "#f0f921"
             ]
            ],
            "type": "contour"
           }
          ],
          "contourcarpet": [
           {
            "colorbar": {
             "outlinewidth": 0,
             "ticks": ""
            },
            "type": "contourcarpet"
           }
          ],
          "heatmap": [
           {
            "colorbar": {
             "outlinewidth": 0,
             "ticks": ""
            },
            "colorscale": [
             [
              0,
              "#0d0887"
             ],
             [
              0.1111111111111111,
              "#46039f"
             ],
             [
              0.2222222222222222,
              "#7201a8"
             ],
             [
              0.3333333333333333,
              "#9c179e"
             ],
             [
              0.4444444444444444,
              "#bd3786"
             ],
             [
              0.5555555555555556,
              "#d8576b"
             ],
             [
              0.6666666666666666,
              "#ed7953"
             ],
             [
              0.7777777777777778,
              "#fb9f3a"
             ],
             [
              0.8888888888888888,
              "#fdca26"
             ],
             [
              1,
              "#f0f921"
             ]
            ],
            "type": "heatmap"
           }
          ],
          "heatmapgl": [
           {
            "colorbar": {
             "outlinewidth": 0,
             "ticks": ""
            },
            "colorscale": [
             [
              0,
              "#0d0887"
             ],
             [
              0.1111111111111111,
              "#46039f"
             ],
             [
              0.2222222222222222,
              "#7201a8"
             ],
             [
              0.3333333333333333,
              "#9c179e"
             ],
             [
              0.4444444444444444,
              "#bd3786"
             ],
             [
              0.5555555555555556,
              "#d8576b"
             ],
             [
              0.6666666666666666,
              "#ed7953"
             ],
             [
              0.7777777777777778,
              "#fb9f3a"
             ],
             [
              0.8888888888888888,
              "#fdca26"
             ],
             [
              1,
              "#f0f921"
             ]
            ],
            "type": "heatmapgl"
           }
          ],
          "histogram": [
           {
            "marker": {
             "pattern": {
              "fillmode": "overlay",
              "size": 10,
              "solidity": 0.2
             }
            },
            "type": "histogram"
           }
          ],
          "histogram2d": [
           {
            "colorbar": {
             "outlinewidth": 0,
             "ticks": ""
            },
            "colorscale": [
             [
              0,
              "#0d0887"
             ],
             [
              0.1111111111111111,
              "#46039f"
             ],
             [
              0.2222222222222222,
              "#7201a8"
             ],
             [
              0.3333333333333333,
              "#9c179e"
             ],
             [
              0.4444444444444444,
              "#bd3786"
             ],
             [
              0.5555555555555556,
              "#d8576b"
             ],
             [
              0.6666666666666666,
              "#ed7953"
             ],
             [
              0.7777777777777778,
              "#fb9f3a"
             ],
             [
              0.8888888888888888,
              "#fdca26"
             ],
             [
              1,
              "#f0f921"
             ]
            ],
            "type": "histogram2d"
           }
          ],
          "histogram2dcontour": [
           {
            "colorbar": {
             "outlinewidth": 0,
             "ticks": ""
            },
            "colorscale": [
             [
              0,
              "#0d0887"
             ],
             [
              0.1111111111111111,
              "#46039f"
             ],
             [
              0.2222222222222222,
              "#7201a8"
             ],
             [
              0.3333333333333333,
              "#9c179e"
             ],
             [
              0.4444444444444444,
              "#bd3786"
             ],
             [
              0.5555555555555556,
              "#d8576b"
             ],
             [
              0.6666666666666666,
              "#ed7953"
             ],
             [
              0.7777777777777778,
              "#fb9f3a"
             ],
             [
              0.8888888888888888,
              "#fdca26"
             ],
             [
              1,
              "#f0f921"
             ]
            ],
            "type": "histogram2dcontour"
           }
          ],
          "mesh3d": [
           {
            "colorbar": {
             "outlinewidth": 0,
             "ticks": ""
            },
            "type": "mesh3d"
           }
          ],
          "parcoords": [
           {
            "line": {
             "colorbar": {
              "outlinewidth": 0,
              "ticks": ""
             }
            },
            "type": "parcoords"
           }
          ],
          "pie": [
           {
            "automargin": true,
            "type": "pie"
           }
          ],
          "scatter": [
           {
            "marker": {
             "colorbar": {
              "outlinewidth": 0,
              "ticks": ""
             }
            },
            "type": "scatter"
           }
          ],
          "scatter3d": [
           {
            "line": {
             "colorbar": {
              "outlinewidth": 0,
              "ticks": ""
             }
            },
            "marker": {
             "colorbar": {
              "outlinewidth": 0,
              "ticks": ""
             }
            },
            "type": "scatter3d"
           }
          ],
          "scattercarpet": [
           {
            "marker": {
             "colorbar": {
              "outlinewidth": 0,
              "ticks": ""
             }
            },
            "type": "scattercarpet"
           }
          ],
          "scattergeo": [
           {
            "marker": {
             "colorbar": {
              "outlinewidth": 0,
              "ticks": ""
             }
            },
            "type": "scattergeo"
           }
          ],
          "scattergl": [
           {
            "marker": {
             "colorbar": {
              "outlinewidth": 0,
              "ticks": ""
             }
            },
            "type": "scattergl"
           }
          ],
          "scattermapbox": [
           {
            "marker": {
             "colorbar": {
              "outlinewidth": 0,
              "ticks": ""
             }
            },
            "type": "scattermapbox"
           }
          ],
          "scatterpolar": [
           {
            "marker": {
             "colorbar": {
              "outlinewidth": 0,
              "ticks": ""
             }
            },
            "type": "scatterpolar"
           }
          ],
          "scatterpolargl": [
           {
            "marker": {
             "colorbar": {
              "outlinewidth": 0,
              "ticks": ""
             }
            },
            "type": "scatterpolargl"
           }
          ],
          "scatterternary": [
           {
            "marker": {
             "colorbar": {
              "outlinewidth": 0,
              "ticks": ""
             }
            },
            "type": "scatterternary"
           }
          ],
          "surface": [
           {
            "colorbar": {
             "outlinewidth": 0,
             "ticks": ""
            },
            "colorscale": [
             [
              0,
              "#0d0887"
             ],
             [
              0.1111111111111111,
              "#46039f"
             ],
             [
              0.2222222222222222,
              "#7201a8"
             ],
             [
              0.3333333333333333,
              "#9c179e"
             ],
             [
              0.4444444444444444,
              "#bd3786"
             ],
             [
              0.5555555555555556,
              "#d8576b"
             ],
             [
              0.6666666666666666,
              "#ed7953"
             ],
             [
              0.7777777777777778,
              "#fb9f3a"
             ],
             [
              0.8888888888888888,
              "#fdca26"
             ],
             [
              1,
              "#f0f921"
             ]
            ],
            "type": "surface"
           }
          ],
          "table": [
           {
            "cells": {
             "fill": {
              "color": "#EBF0F8"
             },
             "line": {
              "color": "white"
             }
            },
            "header": {
             "fill": {
              "color": "#C8D4E3"
             },
             "line": {
              "color": "white"
             }
            },
            "type": "table"
           }
          ]
         },
         "layout": {
          "annotationdefaults": {
           "arrowcolor": "#2a3f5f",
           "arrowhead": 0,
           "arrowwidth": 1
          },
          "autotypenumbers": "strict",
          "coloraxis": {
           "colorbar": {
            "outlinewidth": 0,
            "ticks": ""
           }
          },
          "colorscale": {
           "diverging": [
            [
             0,
             "#8e0152"
            ],
            [
             0.1,
             "#c51b7d"
            ],
            [
             0.2,
             "#de77ae"
            ],
            [
             0.3,
             "#f1b6da"
            ],
            [
             0.4,
             "#fde0ef"
            ],
            [
             0.5,
             "#f7f7f7"
            ],
            [
             0.6,
             "#e6f5d0"
            ],
            [
             0.7,
             "#b8e186"
            ],
            [
             0.8,
             "#7fbc41"
            ],
            [
             0.9,
             "#4d9221"
            ],
            [
             1,
             "#276419"
            ]
           ],
           "sequential": [
            [
             0,
             "#0d0887"
            ],
            [
             0.1111111111111111,
             "#46039f"
            ],
            [
             0.2222222222222222,
             "#7201a8"
            ],
            [
             0.3333333333333333,
             "#9c179e"
            ],
            [
             0.4444444444444444,
             "#bd3786"
            ],
            [
             0.5555555555555556,
             "#d8576b"
            ],
            [
             0.6666666666666666,
             "#ed7953"
            ],
            [
             0.7777777777777778,
             "#fb9f3a"
            ],
            [
             0.8888888888888888,
             "#fdca26"
            ],
            [
             1,
             "#f0f921"
            ]
           ],
           "sequentialminus": [
            [
             0,
             "#0d0887"
            ],
            [
             0.1111111111111111,
             "#46039f"
            ],
            [
             0.2222222222222222,
             "#7201a8"
            ],
            [
             0.3333333333333333,
             "#9c179e"
            ],
            [
             0.4444444444444444,
             "#bd3786"
            ],
            [
             0.5555555555555556,
             "#d8576b"
            ],
            [
             0.6666666666666666,
             "#ed7953"
            ],
            [
             0.7777777777777778,
             "#fb9f3a"
            ],
            [
             0.8888888888888888,
             "#fdca26"
            ],
            [
             1,
             "#f0f921"
            ]
           ]
          },
          "colorway": [
           "#636efa",
           "#EF553B",
           "#00cc96",
           "#ab63fa",
           "#FFA15A",
           "#19d3f3",
           "#FF6692",
           "#B6E880",
           "#FF97FF",
           "#FECB52"
          ],
          "font": {
           "color": "#2a3f5f"
          },
          "geo": {
           "bgcolor": "white",
           "lakecolor": "white",
           "landcolor": "#E5ECF6",
           "showlakes": true,
           "showland": true,
           "subunitcolor": "white"
          },
          "hoverlabel": {
           "align": "left"
          },
          "hovermode": "closest",
          "mapbox": {
           "style": "light"
          },
          "paper_bgcolor": "white",
          "plot_bgcolor": "#E5ECF6",
          "polar": {
           "angularaxis": {
            "gridcolor": "white",
            "linecolor": "white",
            "ticks": ""
           },
           "bgcolor": "#E5ECF6",
           "radialaxis": {
            "gridcolor": "white",
            "linecolor": "white",
            "ticks": ""
           }
          },
          "scene": {
           "xaxis": {
            "backgroundcolor": "#E5ECF6",
            "gridcolor": "white",
            "gridwidth": 2,
            "linecolor": "white",
            "showbackground": true,
            "ticks": "",
            "zerolinecolor": "white"
           },
           "yaxis": {
            "backgroundcolor": "#E5ECF6",
            "gridcolor": "white",
            "gridwidth": 2,
            "linecolor": "white",
            "showbackground": true,
            "ticks": "",
            "zerolinecolor": "white"
           },
           "zaxis": {
            "backgroundcolor": "#E5ECF6",
            "gridcolor": "white",
            "gridwidth": 2,
            "linecolor": "white",
            "showbackground": true,
            "ticks": "",
            "zerolinecolor": "white"
           }
          },
          "shapedefaults": {
           "line": {
            "color": "#2a3f5f"
           }
          },
          "ternary": {
           "aaxis": {
            "gridcolor": "white",
            "linecolor": "white",
            "ticks": ""
           },
           "baxis": {
            "gridcolor": "white",
            "linecolor": "white",
            "ticks": ""
           },
           "bgcolor": "#E5ECF6",
           "caxis": {
            "gridcolor": "white",
            "linecolor": "white",
            "ticks": ""
           }
          },
          "title": {
           "x": 0.05
          },
          "xaxis": {
           "automargin": true,
           "gridcolor": "white",
           "linecolor": "white",
           "ticks": "",
           "title": {
            "standoff": 15
           },
           "zerolinecolor": "white",
           "zerolinewidth": 2
          },
          "yaxis": {
           "automargin": true,
           "gridcolor": "white",
           "linecolor": "white",
           "ticks": "",
           "title": {
            "standoff": 15
           },
           "zerolinecolor": "white",
           "zerolinewidth": 2
          }
         }
        },
        "width": 720,
        "xaxis": {
         "title": {
          "text": "Lattice size (cells)"
         },
         "type": "log"
        },
        "yaxis": {
         "title": {
          "text": "Speedup"
         },
         "type": "log"
        }
       }
      }
     },
     "metadata": {}
    }
   ],
   "source": [
    "fig = go.Figure()\n",
    "\n",
    "for idx, (name, dfs, _) in enumerate(runs_parallel):\n",
    "    for i, df in enumerate(dfs):\n",
    "        dfs[i][\"speedup\"] = cpu_df[\"avgEvolveTime\"] / df[\"avgEvolveTime\"]\n",
    "\n",
    "    df = pd.concat(dfs)\n",
    "    df[\"size\"] **= 2\n",
    "    add_mean_std_trace(fig, df, name, idx + 1, \"speedup\")\n",
    "\n",
    "fig.update_layout(xaxis_title='Lattice size (cells)', yaxis_title=\"Speedup\", **layout_settings) # title=\"Speedup vs 1 CPU\", \n",
    "fig.update_xaxes(type=\"log\")\n",
    "fig.update_yaxes(type=\"log\")\n",
    "fig.show()\n",
    "fig.write_image(\"images/lat_render_evo_speedup.eps\")"
   ]
  },
  {
   "cell_type": "code",
   "execution_count": 8,
   "metadata": {},
   "outputs": [
    {
     "output_type": "display_data",
     "data": {
      "application/vnd.plotly.v1+json": {
       "config": {
        "plotlyServerURL": "https://plot.ly"
       },
       "data": [
        {
         "line": {
          "color": "#EF553B"
         },
         "mode": "lines+markers",
         "name": "2 CPUs",
         "type": "scatter",
         "x": [
          1024,
          4096,
          16384,
          65536,
          262144,
          1048576,
          4194304,
          16777216
         ],
         "y": [
          0.2288303558865176,
          0.31170012947934445,
          0.19972191128488873,
          0.19773504962872865,
          0.19125141724223044,
          0.1994998802291666,
          0.30152220777840666,
          0.3891151975866981
         ]
        },
        {
         "line": {
          "width": 0
         },
         "mode": "lines",
         "name": "2 CPUs upper",
         "showlegend": false,
         "type": "scatter",
         "x": [
          1024,
          4096,
          16384,
          65536,
          262144,
          1048576,
          4194304,
          16777216
         ],
         "y": [
          0.2673610576385389,
          0.4143091704506014,
          0.21358590995214086,
          0.20802892665398293,
          0.2028912145855876,
          0.20057673223513273,
          0.3032965993885103,
          0.3913012454377108
         ]
        },
        {
         "fill": "tonexty",
         "fillcolor": "rgba(239, 85, 59, 0.30)",
         "line": {
          "width": 0
         },
         "mode": "lines",
         "name": "2 CPUs lower",
         "showlegend": false,
         "type": "scatter",
         "x": [
          1024,
          4096,
          16384,
          65536,
          262144,
          1048576,
          4194304,
          16777216
         ],
         "y": [
          0.19029965413449632,
          0.2090910885080875,
          0.1858579126176366,
          0.18744117260347437,
          0.17961161989887328,
          0.19842302822320046,
          0.29974781616830304,
          0.38692914973568543
         ]
        },
        {
         "line": {
          "color": "#00CC96"
         },
         "mode": "lines+markers",
         "name": "4 CPUs",
         "type": "scatter",
         "x": [
          1024,
          4096,
          16384,
          65536,
          262144,
          1048576,
          4194304,
          16777216
         ],
         "y": [
          0.24955060960951608,
          0.25652000152391546,
          0.22931513004357162,
          0.22536985587570305,
          0.23713976176727697,
          0.2213454732902303,
          0.3483075924917244,
          0.43208515882337295
         ]
        },
        {
         "line": {
          "width": 0
         },
         "mode": "lines",
         "name": "4 CPUs upper",
         "showlegend": false,
         "type": "scatter",
         "x": [
          1024,
          4096,
          16384,
          65536,
          262144,
          1048576,
          4194304,
          16777216
         ],
         "y": [
          0.2704652572275066,
          0.26269081800826405,
          0.23373307566776994,
          0.23476748331622876,
          0.237633859786696,
          0.23219542245867378,
          0.35040090833323245,
          0.43573673346558417
         ]
        },
        {
         "fill": "tonexty",
         "fillcolor": "rgba(0, 204, 150, 0.30)",
         "line": {
          "width": 0
         },
         "mode": "lines",
         "name": "4 CPUs lower",
         "showlegend": false,
         "type": "scatter",
         "x": [
          1024,
          4096,
          16384,
          65536,
          262144,
          1048576,
          4194304,
          16777216
         ],
         "y": [
          0.22863596199152558,
          0.2503491850395669,
          0.2248971844193733,
          0.21597222843517733,
          0.23664566374785795,
          0.21049552412178682,
          0.3462142766502163,
          0.42843358418116173
         ]
        },
        {
         "line": {
          "color": "#AB63FA"
         },
         "mode": "lines+markers",
         "name": "8 CPUs",
         "type": "scatter",
         "x": [
          1024,
          4096,
          16384,
          65536,
          262144,
          1048576,
          4194304,
          16777216
         ],
         "y": [
          0.2701024010537939,
          0.3185986284204204,
          0.2806911673088708,
          0.2847405475219868,
          0.29338193985720007,
          0.29009808424550093,
          0.4301622984101948,
          0.5287122524929513
         ]
        },
        {
         "line": {
          "width": 0
         },
         "mode": "lines",
         "name": "8 CPUs upper",
         "showlegend": false,
         "type": "scatter",
         "x": [
          1024,
          4096,
          16384,
          65536,
          262144,
          1048576,
          4194304,
          16777216
         ],
         "y": [
          0.32167072608044367,
          0.3223631221886669,
          0.2866646262472155,
          0.2894676278781266,
          0.2943238179093729,
          0.29406582144488563,
          0.44172983157379203,
          0.5416791279429727
         ]
        },
        {
         "fill": "tonexty",
         "fillcolor": "rgba(171, 99, 250, 0.30)",
         "line": {
          "width": 0
         },
         "mode": "lines",
         "name": "8 CPUs lower",
         "showlegend": false,
         "type": "scatter",
         "x": [
          1024,
          4096,
          16384,
          65536,
          262144,
          1048576,
          4194304,
          16777216
         ],
         "y": [
          0.21853407602714417,
          0.3148341346521739,
          0.27471770837052606,
          0.280013467165847,
          0.29244006180502724,
          0.28613034704611623,
          0.4185947652465976,
          0.5157453770429299
         ]
        },
        {
         "line": {
          "color": "#FFA15A"
         },
         "mode": "lines+markers",
         "name": "12 CPUs",
         "type": "scatter",
         "x": [
          1024,
          4096,
          16384,
          65536,
          262144,
          1048576,
          4194304,
          16777216
         ],
         "y": [
          0.2467667418905887,
          0.37245700680660787,
          0.34869872047237344,
          0.3651713481193982,
          0.35953448319633063,
          0.3691200134429403,
          0.5349591763149876,
          0.6596663128233173
         ]
        },
        {
         "line": {
          "width": 0
         },
         "mode": "lines",
         "name": "12 CPUs upper",
         "showlegend": false,
         "type": "scatter",
         "x": [
          1024,
          4096,
          16384,
          65536,
          262144,
          1048576,
          4194304,
          16777216
         ],
         "y": [
          0.30027646815536657,
          0.3828289052044609,
          0.3610089636585586,
          0.3656883402358692,
          0.3759522643282413,
          0.3695578316814083,
          0.5625545340968645,
          0.6940178528511178
         ]
        },
        {
         "fill": "tonexty",
         "fillcolor": "rgba(255, 161, 90, 0.30)",
         "line": {
          "width": 0
         },
         "mode": "lines",
         "name": "12 CPUs lower",
         "showlegend": false,
         "type": "scatter",
         "x": [
          1024,
          4096,
          16384,
          65536,
          262144,
          1048576,
          4194304,
          16777216
         ],
         "y": [
          0.1932570156258108,
          0.36208510840875485,
          0.33638847728618826,
          0.3646543560029272,
          0.34311670206441997,
          0.3686821952044723,
          0.5073638185331106,
          0.6253147727955168
         ]
        },
        {
         "line": {
          "color": "#19D3F3"
         },
         "mode": "lines+markers",
         "name": "16 CPUs",
         "type": "scatter",
         "x": [
          1024,
          4096,
          16384,
          65536,
          262144,
          1048576,
          4194304,
          16777216
         ],
         "y": [
          0.11407789050464294,
          0.3354111744052539,
          0.35964365654363,
          0.4122563391133717,
          0.43939998744696684,
          0.4283416001504207,
          0.6206805277913439,
          0.8008458778581545
         ]
        },
        {
         "line": {
          "width": 0
         },
         "mode": "lines",
         "name": "16 CPUs upper",
         "showlegend": false,
         "type": "scatter",
         "x": [
          1024,
          4096,
          16384,
          65536,
          262144,
          1048576,
          4194304,
          16777216
         ],
         "y": [
          0.12687740115893742,
          0.3454929308678823,
          0.3913025931487391,
          0.4352339454155257,
          0.44076307428319983,
          0.4496572393435664,
          0.658940612663074,
          0.8015338761630479
         ]
        },
        {
         "fill": "tonexty",
         "fillcolor": "rgba(25, 211, 243, 0.30)",
         "line": {
          "width": 0
         },
         "mode": "lines",
         "name": "16 CPUs lower",
         "showlegend": false,
         "type": "scatter",
         "x": [
          1024,
          4096,
          16384,
          65536,
          262144,
          1048576,
          4194304,
          16777216
         ],
         "y": [
          0.10127837985034847,
          0.32532941794262554,
          0.3279847199385209,
          0.38927873281121766,
          0.43803690061073386,
          0.40702596095727506,
          0.5824204429196137,
          0.8001578795532611
         ]
        },
        {
         "line": {
          "color": "#FF6692"
         },
         "mode": "lines+markers",
         "name": "GPU",
         "type": "scatter",
         "x": [
          1024,
          4096,
          16384,
          65536,
          262144,
          1048576,
          4194304,
          16777216
         ],
         "y": [
          0.09628878625747253,
          0.35470608522711433,
          1.2543553391518114,
          5.0626861136335135,
          20.08640873579505,
          27.328922095066485,
          41.307840093199346,
          231.37529734038836
         ]
        },
        {
         "line": {
          "width": 0
         },
         "mode": "lines",
         "name": "GPU upper",
         "showlegend": false,
         "type": "scatter",
         "x": [
          1024,
          4096,
          16384,
          65536,
          262144,
          1048576,
          4194304,
          16777216
         ],
         "y": [
          0.09849171907828566,
          0.35896961041062797,
          1.2876987334528043,
          5.112363976217342,
          20.335016087500332,
          27.445084018743717,
          42.81655344450286,
          233.14361309460034
         ]
        },
        {
         "fill": "tonexty",
         "fillcolor": "rgba(255, 102, 146, 0.30)",
         "line": {
          "width": 0
         },
         "mode": "lines",
         "name": "GPU lower",
         "showlegend": false,
         "type": "scatter",
         "x": [
          1024,
          4096,
          16384,
          65536,
          262144,
          1048576,
          4194304,
          16777216
         ],
         "y": [
          0.0940858534366594,
          0.3504425600436007,
          1.2210119448508185,
          5.013008251049685,
          19.83780138408977,
          27.212760171389252,
          39.79912674189583,
          229.60698158617637
         ]
        }
       ],
       "layout": {
        "font": {
         "size": 16
        },
        "height": 480,
        "margin": {
         "b": 10,
         "l": 10,
         "r": 10,
         "t": 10
        },
        "template": {
         "data": {
          "bar": [
           {
            "error_x": {
             "color": "#2a3f5f"
            },
            "error_y": {
             "color": "#2a3f5f"
            },
            "marker": {
             "line": {
              "color": "#E5ECF6",
              "width": 0.5
             },
             "pattern": {
              "fillmode": "overlay",
              "size": 10,
              "solidity": 0.2
             }
            },
            "type": "bar"
           }
          ],
          "barpolar": [
           {
            "marker": {
             "line": {
              "color": "#E5ECF6",
              "width": 0.5
             },
             "pattern": {
              "fillmode": "overlay",
              "size": 10,
              "solidity": 0.2
             }
            },
            "type": "barpolar"
           }
          ],
          "carpet": [
           {
            "aaxis": {
             "endlinecolor": "#2a3f5f",
             "gridcolor": "white",
             "linecolor": "white",
             "minorgridcolor": "white",
             "startlinecolor": "#2a3f5f"
            },
            "baxis": {
             "endlinecolor": "#2a3f5f",
             "gridcolor": "white",
             "linecolor": "white",
             "minorgridcolor": "white",
             "startlinecolor": "#2a3f5f"
            },
            "type": "carpet"
           }
          ],
          "choropleth": [
           {
            "colorbar": {
             "outlinewidth": 0,
             "ticks": ""
            },
            "type": "choropleth"
           }
          ],
          "contour": [
           {
            "colorbar": {
             "outlinewidth": 0,
             "ticks": ""
            },
            "colorscale": [
             [
              0,
              "#0d0887"
             ],
             [
              0.1111111111111111,
              "#46039f"
             ],
             [
              0.2222222222222222,
              "#7201a8"
             ],
             [
              0.3333333333333333,
              "#9c179e"
             ],
             [
              0.4444444444444444,
              "#bd3786"
             ],
             [
              0.5555555555555556,
              "#d8576b"
             ],
             [
              0.6666666666666666,
              "#ed7953"
             ],
             [
              0.7777777777777778,
              "#fb9f3a"
             ],
             [
              0.8888888888888888,
              "#fdca26"
             ],
             [
              1,
              "#f0f921"
             ]
            ],
            "type": "contour"
           }
          ],
          "contourcarpet": [
           {
            "colorbar": {
             "outlinewidth": 0,
             "ticks": ""
            },
            "type": "contourcarpet"
           }
          ],
          "heatmap": [
           {
            "colorbar": {
             "outlinewidth": 0,
             "ticks": ""
            },
            "colorscale": [
             [
              0,
              "#0d0887"
             ],
             [
              0.1111111111111111,
              "#46039f"
             ],
             [
              0.2222222222222222,
              "#7201a8"
             ],
             [
              0.3333333333333333,
              "#9c179e"
             ],
             [
              0.4444444444444444,
              "#bd3786"
             ],
             [
              0.5555555555555556,
              "#d8576b"
             ],
             [
              0.6666666666666666,
              "#ed7953"
             ],
             [
              0.7777777777777778,
              "#fb9f3a"
             ],
             [
              0.8888888888888888,
              "#fdca26"
             ],
             [
              1,
              "#f0f921"
             ]
            ],
            "type": "heatmap"
           }
          ],
          "heatmapgl": [
           {
            "colorbar": {
             "outlinewidth": 0,
             "ticks": ""
            },
            "colorscale": [
             [
              0,
              "#0d0887"
             ],
             [
              0.1111111111111111,
              "#46039f"
             ],
             [
              0.2222222222222222,
              "#7201a8"
             ],
             [
              0.3333333333333333,
              "#9c179e"
             ],
             [
              0.4444444444444444,
              "#bd3786"
             ],
             [
              0.5555555555555556,
              "#d8576b"
             ],
             [
              0.6666666666666666,
              "#ed7953"
             ],
             [
              0.7777777777777778,
              "#fb9f3a"
             ],
             [
              0.8888888888888888,
              "#fdca26"
             ],
             [
              1,
              "#f0f921"
             ]
            ],
            "type": "heatmapgl"
           }
          ],
          "histogram": [
           {
            "marker": {
             "pattern": {
              "fillmode": "overlay",
              "size": 10,
              "solidity": 0.2
             }
            },
            "type": "histogram"
           }
          ],
          "histogram2d": [
           {
            "colorbar": {
             "outlinewidth": 0,
             "ticks": ""
            },
            "colorscale": [
             [
              0,
              "#0d0887"
             ],
             [
              0.1111111111111111,
              "#46039f"
             ],
             [
              0.2222222222222222,
              "#7201a8"
             ],
             [
              0.3333333333333333,
              "#9c179e"
             ],
             [
              0.4444444444444444,
              "#bd3786"
             ],
             [
              0.5555555555555556,
              "#d8576b"
             ],
             [
              0.6666666666666666,
              "#ed7953"
             ],
             [
              0.7777777777777778,
              "#fb9f3a"
             ],
             [
              0.8888888888888888,
              "#fdca26"
             ],
             [
              1,
              "#f0f921"
             ]
            ],
            "type": "histogram2d"
           }
          ],
          "histogram2dcontour": [
           {
            "colorbar": {
             "outlinewidth": 0,
             "ticks": ""
            },
            "colorscale": [
             [
              0,
              "#0d0887"
             ],
             [
              0.1111111111111111,
              "#46039f"
             ],
             [
              0.2222222222222222,
              "#7201a8"
             ],
             [
              0.3333333333333333,
              "#9c179e"
             ],
             [
              0.4444444444444444,
              "#bd3786"
             ],
             [
              0.5555555555555556,
              "#d8576b"
             ],
             [
              0.6666666666666666,
              "#ed7953"
             ],
             [
              0.7777777777777778,
              "#fb9f3a"
             ],
             [
              0.8888888888888888,
              "#fdca26"
             ],
             [
              1,
              "#f0f921"
             ]
            ],
            "type": "histogram2dcontour"
           }
          ],
          "mesh3d": [
           {
            "colorbar": {
             "outlinewidth": 0,
             "ticks": ""
            },
            "type": "mesh3d"
           }
          ],
          "parcoords": [
           {
            "line": {
             "colorbar": {
              "outlinewidth": 0,
              "ticks": ""
             }
            },
            "type": "parcoords"
           }
          ],
          "pie": [
           {
            "automargin": true,
            "type": "pie"
           }
          ],
          "scatter": [
           {
            "marker": {
             "colorbar": {
              "outlinewidth": 0,
              "ticks": ""
             }
            },
            "type": "scatter"
           }
          ],
          "scatter3d": [
           {
            "line": {
             "colorbar": {
              "outlinewidth": 0,
              "ticks": ""
             }
            },
            "marker": {
             "colorbar": {
              "outlinewidth": 0,
              "ticks": ""
             }
            },
            "type": "scatter3d"
           }
          ],
          "scattercarpet": [
           {
            "marker": {
             "colorbar": {
              "outlinewidth": 0,
              "ticks": ""
             }
            },
            "type": "scattercarpet"
           }
          ],
          "scattergeo": [
           {
            "marker": {
             "colorbar": {
              "outlinewidth": 0,
              "ticks": ""
             }
            },
            "type": "scattergeo"
           }
          ],
          "scattergl": [
           {
            "marker": {
             "colorbar": {
              "outlinewidth": 0,
              "ticks": ""
             }
            },
            "type": "scattergl"
           }
          ],
          "scattermapbox": [
           {
            "marker": {
             "colorbar": {
              "outlinewidth": 0,
              "ticks": ""
             }
            },
            "type": "scattermapbox"
           }
          ],
          "scatterpolar": [
           {
            "marker": {
             "colorbar": {
              "outlinewidth": 0,
              "ticks": ""
             }
            },
            "type": "scatterpolar"
           }
          ],
          "scatterpolargl": [
           {
            "marker": {
             "colorbar": {
              "outlinewidth": 0,
              "ticks": ""
             }
            },
            "type": "scatterpolargl"
           }
          ],
          "scatterternary": [
           {
            "marker": {
             "colorbar": {
              "outlinewidth": 0,
              "ticks": ""
             }
            },
            "type": "scatterternary"
           }
          ],
          "surface": [
           {
            "colorbar": {
             "outlinewidth": 0,
             "ticks": ""
            },
            "colorscale": [
             [
              0,
              "#0d0887"
             ],
             [
              0.1111111111111111,
              "#46039f"
             ],
             [
              0.2222222222222222,
              "#7201a8"
             ],
             [
              0.3333333333333333,
              "#9c179e"
             ],
             [
              0.4444444444444444,
              "#bd3786"
             ],
             [
              0.5555555555555556,
              "#d8576b"
             ],
             [
              0.6666666666666666,
              "#ed7953"
             ],
             [
              0.7777777777777778,
              "#fb9f3a"
             ],
             [
              0.8888888888888888,
              "#fdca26"
             ],
             [
              1,
              "#f0f921"
             ]
            ],
            "type": "surface"
           }
          ],
          "table": [
           {
            "cells": {
             "fill": {
              "color": "#EBF0F8"
             },
             "line": {
              "color": "white"
             }
            },
            "header": {
             "fill": {
              "color": "#C8D4E3"
             },
             "line": {
              "color": "white"
             }
            },
            "type": "table"
           }
          ]
         },
         "layout": {
          "annotationdefaults": {
           "arrowcolor": "#2a3f5f",
           "arrowhead": 0,
           "arrowwidth": 1
          },
          "autotypenumbers": "strict",
          "coloraxis": {
           "colorbar": {
            "outlinewidth": 0,
            "ticks": ""
           }
          },
          "colorscale": {
           "diverging": [
            [
             0,
             "#8e0152"
            ],
            [
             0.1,
             "#c51b7d"
            ],
            [
             0.2,
             "#de77ae"
            ],
            [
             0.3,
             "#f1b6da"
            ],
            [
             0.4,
             "#fde0ef"
            ],
            [
             0.5,
             "#f7f7f7"
            ],
            [
             0.6,
             "#e6f5d0"
            ],
            [
             0.7,
             "#b8e186"
            ],
            [
             0.8,
             "#7fbc41"
            ],
            [
             0.9,
             "#4d9221"
            ],
            [
             1,
             "#276419"
            ]
           ],
           "sequential": [
            [
             0,
             "#0d0887"
            ],
            [
             0.1111111111111111,
             "#46039f"
            ],
            [
             0.2222222222222222,
             "#7201a8"
            ],
            [
             0.3333333333333333,
             "#9c179e"
            ],
            [
             0.4444444444444444,
             "#bd3786"
            ],
            [
             0.5555555555555556,
             "#d8576b"
            ],
            [
             0.6666666666666666,
             "#ed7953"
            ],
            [
             0.7777777777777778,
             "#fb9f3a"
            ],
            [
             0.8888888888888888,
             "#fdca26"
            ],
            [
             1,
             "#f0f921"
            ]
           ],
           "sequentialminus": [
            [
             0,
             "#0d0887"
            ],
            [
             0.1111111111111111,
             "#46039f"
            ],
            [
             0.2222222222222222,
             "#7201a8"
            ],
            [
             0.3333333333333333,
             "#9c179e"
            ],
            [
             0.4444444444444444,
             "#bd3786"
            ],
            [
             0.5555555555555556,
             "#d8576b"
            ],
            [
             0.6666666666666666,
             "#ed7953"
            ],
            [
             0.7777777777777778,
             "#fb9f3a"
            ],
            [
             0.8888888888888888,
             "#fdca26"
            ],
            [
             1,
             "#f0f921"
            ]
           ]
          },
          "colorway": [
           "#636efa",
           "#EF553B",
           "#00cc96",
           "#ab63fa",
           "#FFA15A",
           "#19d3f3",
           "#FF6692",
           "#B6E880",
           "#FF97FF",
           "#FECB52"
          ],
          "font": {
           "color": "#2a3f5f"
          },
          "geo": {
           "bgcolor": "white",
           "lakecolor": "white",
           "landcolor": "#E5ECF6",
           "showlakes": true,
           "showland": true,
           "subunitcolor": "white"
          },
          "hoverlabel": {
           "align": "left"
          },
          "hovermode": "closest",
          "mapbox": {
           "style": "light"
          },
          "paper_bgcolor": "white",
          "plot_bgcolor": "#E5ECF6",
          "polar": {
           "angularaxis": {
            "gridcolor": "white",
            "linecolor": "white",
            "ticks": ""
           },
           "bgcolor": "#E5ECF6",
           "radialaxis": {
            "gridcolor": "white",
            "linecolor": "white",
            "ticks": ""
           }
          },
          "scene": {
           "xaxis": {
            "backgroundcolor": "#E5ECF6",
            "gridcolor": "white",
            "gridwidth": 2,
            "linecolor": "white",
            "showbackground": true,
            "ticks": "",
            "zerolinecolor": "white"
           },
           "yaxis": {
            "backgroundcolor": "#E5ECF6",
            "gridcolor": "white",
            "gridwidth": 2,
            "linecolor": "white",
            "showbackground": true,
            "ticks": "",
            "zerolinecolor": "white"
           },
           "zaxis": {
            "backgroundcolor": "#E5ECF6",
            "gridcolor": "white",
            "gridwidth": 2,
            "linecolor": "white",
            "showbackground": true,
            "ticks": "",
            "zerolinecolor": "white"
           }
          },
          "shapedefaults": {
           "line": {
            "color": "#2a3f5f"
           }
          },
          "ternary": {
           "aaxis": {
            "gridcolor": "white",
            "linecolor": "white",
            "ticks": ""
           },
           "baxis": {
            "gridcolor": "white",
            "linecolor": "white",
            "ticks": ""
           },
           "bgcolor": "#E5ECF6",
           "caxis": {
            "gridcolor": "white",
            "linecolor": "white",
            "ticks": ""
           }
          },
          "title": {
           "x": 0.05
          },
          "xaxis": {
           "automargin": true,
           "gridcolor": "white",
           "linecolor": "white",
           "ticks": "",
           "title": {
            "standoff": 15
           },
           "zerolinecolor": "white",
           "zerolinewidth": 2
          },
          "yaxis": {
           "automargin": true,
           "gridcolor": "white",
           "linecolor": "white",
           "ticks": "",
           "title": {
            "standoff": 15
           },
           "zerolinecolor": "white",
           "zerolinewidth": 2
          }
         }
        },
        "width": 720,
        "xaxis": {
         "title": {
          "text": "Lattice size (cells)"
         },
         "type": "log"
        },
        "yaxis": {
         "title": {
          "text": "Speedup"
         },
         "type": "log"
        }
       }
      }
     },
     "metadata": {}
    }
   ],
   "source": [
    "fig = go.Figure()\n",
    "\n",
    "for idx, (name, dfs, _) in enumerate(runs_parallel):\n",
    "    for i, df in enumerate(dfs):\n",
    "        dfs[i][\"speedup\"] = cpu_df[\"avgBufferTime\"] / df[\"avgBufferTime\"]\n",
    "\n",
    "    df = pd.concat(dfs)\n",
    "    df[\"size\"] **= 2\n",
    "    add_mean_std_trace(fig, df, name, idx + 1, \"speedup\")\n",
    "\n",
    "fig.update_layout(xaxis_title='Lattice size (cells)', yaxis_title=\"Speedup\", **layout_settings) # title=\"Buffer Time Speedup vs 1 CPU\", \n",
    "fig.update_xaxes(type=\"log\")\n",
    "fig.update_yaxes(type=\"log\")\n",
    "fig.show()\n",
    "fig.write_image(\"images/lat_render_buf_speedup.eps\")"
   ]
  },
  {
   "cell_type": "code",
   "execution_count": 9,
   "metadata": {},
   "outputs": [
    {
     "output_type": "display_data",
     "data": {
      "application/vnd.plotly.v1+json": {
       "config": {
        "plotlyServerURL": "https://plot.ly"
       },
       "data": [
        {
         "line": {
          "color": "#EF553B"
         },
         "mode": "lines+markers",
         "name": "2 CPUs",
         "type": "scatter",
         "x": [
          1024,
          4096,
          16384,
          65536,
          262144,
          1048576,
          4194304,
          16777216
         ],
         "y": [
          55.274551611062655,
          100.64982068155545,
          94.61498962576775,
          98.09900255185906,
          99.00886507431782,
          100.00020071850538,
          96.60386698048761,
          98.07137650171278
         ]
        },
        {
         "line": {
          "width": 0
         },
         "mode": "lines",
         "name": "2 CPUs upper",
         "showlegend": false,
         "type": "scatter",
         "x": [
          1024,
          4096,
          16384,
          65536,
          262144,
          1048576,
          4194304,
          16777216
         ],
         "y": [
          72.8703194016425,
          105.27794361876968,
          95.26523411347497,
          100.4125326267993,
          99.36843239659662,
          100.38711393616103,
          97.20289278142327,
          98.55095166689385
         ]
        },
        {
         "fill": "tonexty",
         "fillcolor": "rgba(239, 85, 59, 0.30)",
         "line": {
          "width": 0
         },
         "mode": "lines",
         "name": "2 CPUs lower",
         "showlegend": false,
         "type": "scatter",
         "x": [
          1024,
          4096,
          16384,
          65536,
          262144,
          1048576,
          4194304,
          16777216
         ],
         "y": [
          37.678783820482806,
          96.02169774434122,
          93.96474513806052,
          95.78547247691881,
          98.64929775203903,
          99.61328750084974,
          96.00484117955195,
          97.5918013365317
         ]
        },
        {
         "line": {
          "color": "#00CC96"
         },
         "mode": "lines+markers",
         "name": "4 CPUs",
         "type": "scatter",
         "x": [
          1024,
          4096,
          16384,
          65536,
          262144,
          1048576,
          4194304,
          16777216
         ],
         "y": [
          27.602026071867506,
          80.4297027326771,
          88.62262368544069,
          96.8682360635087,
          97.36054294874704,
          98.79048273648374,
          96.24985336272243,
          97.06294856838187
         ]
        },
        {
         "line": {
          "width": 0
         },
         "mode": "lines",
         "name": "4 CPUs upper",
         "showlegend": false,
         "type": "scatter",
         "x": [
          1024,
          4096,
          16384,
          65536,
          262144,
          1048576,
          4194304,
          16777216
         ],
         "y": [
          37.26392420352267,
          82.53525503202683,
          89.65220989728508,
          97.52431822915344,
          97.44116710395653,
          99.10022723140463,
          96.35056513697569,
          97.17775149826166
         ]
        },
        {
         "fill": "tonexty",
         "fillcolor": "rgba(0, 204, 150, 0.30)",
         "line": {
          "width": 0
         },
         "mode": "lines",
         "name": "4 CPUs lower",
         "showlegend": false,
         "type": "scatter",
         "x": [
          1024,
          4096,
          16384,
          65536,
          262144,
          1048576,
          4194304,
          16777216
         ],
         "y": [
          17.940127940212342,
          78.32415043332738,
          87.5930374735963,
          96.21215389786397,
          97.27991879353755,
          98.48073824156285,
          96.14914158846918,
          96.94814563850208
         ]
        },
        {
         "line": {
          "color": "#AB63FA"
         },
         "mode": "lines+markers",
         "name": "8 CPUs",
         "type": "scatter",
         "x": [
          1024,
          4096,
          16384,
          65536,
          262144,
          1048576,
          4194304,
          16777216
         ],
         "y": [
          13.201375914137461,
          45.763462017670555,
          66.71916691700487,
          88.9907897351784,
          94.19641992001068,
          95.5036479446764,
          94.7223299135328,
          94.59890858164269
         ]
        },
        {
         "line": {
          "width": 0
         },
         "mode": "lines",
         "name": "8 CPUs upper",
         "showlegend": false,
         "type": "scatter",
         "x": [
          1024,
          4096,
          16384,
          65536,
          262144,
          1048576,
          4194304,
          16777216
         ],
         "y": [
          18.34002776698593,
          51.53988338912102,
          70.76167034901178,
          93.36587514358759,
          94.77564807954901,
          96.26132180415973,
          94.89153383754524,
          95.3448222736037
         ]
        },
        {
         "fill": "tonexty",
         "fillcolor": "rgba(171, 99, 250, 0.30)",
         "line": {
          "width": 0
         },
         "mode": "lines",
         "name": "8 CPUs lower",
         "showlegend": false,
         "type": "scatter",
         "x": [
          1024,
          4096,
          16384,
          65536,
          262144,
          1048576,
          4194304,
          16777216
         ],
         "y": [
          8.062724061288993,
          39.98704064622009,
          62.67666348499797,
          84.6157043267692,
          93.61719176047235,
          94.74597408519307,
          94.55312598952037,
          93.85299488968168
         ]
        },
        {
         "line": {
          "color": "#FFA15A"
         },
         "mode": "lines+markers",
         "name": "12 CPUs",
         "type": "scatter",
         "x": [
          1024,
          4096,
          16384,
          65536,
          262144,
          1048576,
          4194304,
          16777216
         ],
         "y": [
          4.918929575833914,
          25.874742849054606,
          41.33905700906836,
          46.83549307108694,
          48.18176189042309,
          48.743468555392596,
          47.84442376295494,
          47.85795987833576
         ]
        },
        {
         "line": {
          "width": 0
         },
         "mode": "lines",
         "name": "12 CPUs upper",
         "showlegend": false,
         "type": "scatter",
         "x": [
          1024,
          4096,
          16384,
          65536,
          262144,
          1048576,
          4194304,
          16777216
         ],
         "y": [
          6.316537839362228,
          30.194815136183873,
          42.022135919994774,
          47.04466216889729,
          48.772096874612345,
          48.7640113707993,
          48.41574220919664,
          47.874582625169815
         ]
        },
        {
         "fill": "tonexty",
         "fillcolor": "rgba(255, 161, 90, 0.30)",
         "line": {
          "width": 0
         },
         "mode": "lines",
         "name": "12 CPUs lower",
         "showlegend": false,
         "type": "scatter",
         "x": [
          1024,
          4096,
          16384,
          65536,
          262144,
          1048576,
          4194304,
          16777216
         ],
         "y": [
          3.5213213123056,
          21.554670561925338,
          40.65597809814195,
          46.626323973276584,
          47.591426906233835,
          48.72292573998589,
          47.27310531671324,
          47.84133713150171
         ]
        },
        {
         "line": {
          "color": "#19D3F3"
         },
         "mode": "lines+markers",
         "name": "16 CPUs",
         "type": "scatter",
         "x": [
          1024,
          4096,
          16384,
          65536,
          262144,
          1048576,
          4194304,
          16777216
         ],
         "y": [
          0.6524439705068397,
          4.299754214055975,
          8.296209689535562,
          21.74054864714381,
          34.9738324690521,
          39.40794395212185,
          41.24810337536203,
          42.236161463100245
         ]
        },
        {
         "line": {
          "width": 0
         },
         "mode": "lines",
         "name": "16 CPUs upper",
         "showlegend": false,
         "type": "scatter",
         "x": [
          1024,
          4096,
          16384,
          65536,
          262144,
          1048576,
          4194304,
          16777216
         ],
         "y": [
          0.7847244193439143,
          5.120373353000446,
          10.848234204846822,
          23.86390993547195,
          36.19832035955592,
          40.49812437638144,
          41.566603995409594,
          42.28934948893727
         ]
        },
        {
         "fill": "tonexty",
         "fillcolor": "rgba(25, 211, 243, 0.30)",
         "line": {
          "width": 0
         },
         "mode": "lines",
         "name": "16 CPUs lower",
         "showlegend": false,
         "type": "scatter",
         "x": [
          1024,
          4096,
          16384,
          65536,
          262144,
          1048576,
          4194304,
          16777216
         ],
         "y": [
          0.520163521669765,
          3.479135075111504,
          5.744185174224303,
          19.617187358815674,
          33.749344578548275,
          38.317763527862255,
          40.92960275531446,
          42.18297343726322
         ]
        },
        {
         "line": {
          "color": "#FF6692"
         },
         "mode": "lines+markers",
         "name": "GPU",
         "type": "scatter",
         "x": [
          1024,
          4096,
          16384,
          65536,
          262144,
          1048576,
          4194304,
          16777216
         ],
         "y": [
          0.00013135971788549346,
          0.0005724321282286168,
          0.002076044123382202,
          0.008040381492897802,
          0.02706371542820129,
          0.09886749533517829,
          3.5382156077847116,
          4.769145114949037
         ]
        },
        {
         "line": {
          "width": 0
         },
         "mode": "lines",
         "name": "GPU upper",
         "showlegend": false,
         "type": "scatter",
         "x": [
          1024,
          4096,
          16384,
          65536,
          262144,
          1048576,
          4194304,
          16777216
         ],
         "y": [
          0.00013193358079080256,
          0.0005759253382719918,
          0.0021011194000327325,
          0.008196838039651929,
          0.027392784310580374,
          0.09935018754276408,
          4.750668214177131,
          4.785591795396765
         ]
        },
        {
         "fill": "tonexty",
         "fillcolor": "rgba(255, 102, 146, 0.30)",
         "line": {
          "width": 0
         },
         "mode": "lines",
         "name": "GPU lower",
         "showlegend": false,
         "type": "scatter",
         "x": [
          1024,
          4096,
          16384,
          65536,
          262144,
          1048576,
          4194304,
          16777216
         ],
         "y": [
          0.00013078585498018435,
          0.0005689389181852419,
          0.0020509688467316716,
          0.007883924946143674,
          0.026734646545822204,
          0.0983848031275925,
          2.325763001392292,
          4.752698434501309
         ]
        }
       ],
       "layout": {
        "font": {
         "size": 16
        },
        "height": 480,
        "margin": {
         "b": 10,
         "l": 10,
         "r": 10,
         "t": 10
        },
        "template": {
         "data": {
          "bar": [
           {
            "error_x": {
             "color": "#2a3f5f"
            },
            "error_y": {
             "color": "#2a3f5f"
            },
            "marker": {
             "line": {
              "color": "#E5ECF6",
              "width": 0.5
             },
             "pattern": {
              "fillmode": "overlay",
              "size": 10,
              "solidity": 0.2
             }
            },
            "type": "bar"
           }
          ],
          "barpolar": [
           {
            "marker": {
             "line": {
              "color": "#E5ECF6",
              "width": 0.5
             },
             "pattern": {
              "fillmode": "overlay",
              "size": 10,
              "solidity": 0.2
             }
            },
            "type": "barpolar"
           }
          ],
          "carpet": [
           {
            "aaxis": {
             "endlinecolor": "#2a3f5f",
             "gridcolor": "white",
             "linecolor": "white",
             "minorgridcolor": "white",
             "startlinecolor": "#2a3f5f"
            },
            "baxis": {
             "endlinecolor": "#2a3f5f",
             "gridcolor": "white",
             "linecolor": "white",
             "minorgridcolor": "white",
             "startlinecolor": "#2a3f5f"
            },
            "type": "carpet"
           }
          ],
          "choropleth": [
           {
            "colorbar": {
             "outlinewidth": 0,
             "ticks": ""
            },
            "type": "choropleth"
           }
          ],
          "contour": [
           {
            "colorbar": {
             "outlinewidth": 0,
             "ticks": ""
            },
            "colorscale": [
             [
              0,
              "#0d0887"
             ],
             [
              0.1111111111111111,
              "#46039f"
             ],
             [
              0.2222222222222222,
              "#7201a8"
             ],
             [
              0.3333333333333333,
              "#9c179e"
             ],
             [
              0.4444444444444444,
              "#bd3786"
             ],
             [
              0.5555555555555556,
              "#d8576b"
             ],
             [
              0.6666666666666666,
              "#ed7953"
             ],
             [
              0.7777777777777778,
              "#fb9f3a"
             ],
             [
              0.8888888888888888,
              "#fdca26"
             ],
             [
              1,
              "#f0f921"
             ]
            ],
            "type": "contour"
           }
          ],
          "contourcarpet": [
           {
            "colorbar": {
             "outlinewidth": 0,
             "ticks": ""
            },
            "type": "contourcarpet"
           }
          ],
          "heatmap": [
           {
            "colorbar": {
             "outlinewidth": 0,
             "ticks": ""
            },
            "colorscale": [
             [
              0,
              "#0d0887"
             ],
             [
              0.1111111111111111,
              "#46039f"
             ],
             [
              0.2222222222222222,
              "#7201a8"
             ],
             [
              0.3333333333333333,
              "#9c179e"
             ],
             [
              0.4444444444444444,
              "#bd3786"
             ],
             [
              0.5555555555555556,
              "#d8576b"
             ],
             [
              0.6666666666666666,
              "#ed7953"
             ],
             [
              0.7777777777777778,
              "#fb9f3a"
             ],
             [
              0.8888888888888888,
              "#fdca26"
             ],
             [
              1,
              "#f0f921"
             ]
            ],
            "type": "heatmap"
           }
          ],
          "heatmapgl": [
           {
            "colorbar": {
             "outlinewidth": 0,
             "ticks": ""
            },
            "colorscale": [
             [
              0,
              "#0d0887"
             ],
             [
              0.1111111111111111,
              "#46039f"
             ],
             [
              0.2222222222222222,
              "#7201a8"
             ],
             [
              0.3333333333333333,
              "#9c179e"
             ],
             [
              0.4444444444444444,
              "#bd3786"
             ],
             [
              0.5555555555555556,
              "#d8576b"
             ],
             [
              0.6666666666666666,
              "#ed7953"
             ],
             [
              0.7777777777777778,
              "#fb9f3a"
             ],
             [
              0.8888888888888888,
              "#fdca26"
             ],
             [
              1,
              "#f0f921"
             ]
            ],
            "type": "heatmapgl"
           }
          ],
          "histogram": [
           {
            "marker": {
             "pattern": {
              "fillmode": "overlay",
              "size": 10,
              "solidity": 0.2
             }
            },
            "type": "histogram"
           }
          ],
          "histogram2d": [
           {
            "colorbar": {
             "outlinewidth": 0,
             "ticks": ""
            },
            "colorscale": [
             [
              0,
              "#0d0887"
             ],
             [
              0.1111111111111111,
              "#46039f"
             ],
             [
              0.2222222222222222,
              "#7201a8"
             ],
             [
              0.3333333333333333,
              "#9c179e"
             ],
             [
              0.4444444444444444,
              "#bd3786"
             ],
             [
              0.5555555555555556,
              "#d8576b"
             ],
             [
              0.6666666666666666,
              "#ed7953"
             ],
             [
              0.7777777777777778,
              "#fb9f3a"
             ],
             [
              0.8888888888888888,
              "#fdca26"
             ],
             [
              1,
              "#f0f921"
             ]
            ],
            "type": "histogram2d"
           }
          ],
          "histogram2dcontour": [
           {
            "colorbar": {
             "outlinewidth": 0,
             "ticks": ""
            },
            "colorscale": [
             [
              0,
              "#0d0887"
             ],
             [
              0.1111111111111111,
              "#46039f"
             ],
             [
              0.2222222222222222,
              "#7201a8"
             ],
             [
              0.3333333333333333,
              "#9c179e"
             ],
             [
              0.4444444444444444,
              "#bd3786"
             ],
             [
              0.5555555555555556,
              "#d8576b"
             ],
             [
              0.6666666666666666,
              "#ed7953"
             ],
             [
              0.7777777777777778,
              "#fb9f3a"
             ],
             [
              0.8888888888888888,
              "#fdca26"
             ],
             [
              1,
              "#f0f921"
             ]
            ],
            "type": "histogram2dcontour"
           }
          ],
          "mesh3d": [
           {
            "colorbar": {
             "outlinewidth": 0,
             "ticks": ""
            },
            "type": "mesh3d"
           }
          ],
          "parcoords": [
           {
            "line": {
             "colorbar": {
              "outlinewidth": 0,
              "ticks": ""
             }
            },
            "type": "parcoords"
           }
          ],
          "pie": [
           {
            "automargin": true,
            "type": "pie"
           }
          ],
          "scatter": [
           {
            "marker": {
             "colorbar": {
              "outlinewidth": 0,
              "ticks": ""
             }
            },
            "type": "scatter"
           }
          ],
          "scatter3d": [
           {
            "line": {
             "colorbar": {
              "outlinewidth": 0,
              "ticks": ""
             }
            },
            "marker": {
             "colorbar": {
              "outlinewidth": 0,
              "ticks": ""
             }
            },
            "type": "scatter3d"
           }
          ],
          "scattercarpet": [
           {
            "marker": {
             "colorbar": {
              "outlinewidth": 0,
              "ticks": ""
             }
            },
            "type": "scattercarpet"
           }
          ],
          "scattergeo": [
           {
            "marker": {
             "colorbar": {
              "outlinewidth": 0,
              "ticks": ""
             }
            },
            "type": "scattergeo"
           }
          ],
          "scattergl": [
           {
            "marker": {
             "colorbar": {
              "outlinewidth": 0,
              "ticks": ""
             }
            },
            "type": "scattergl"
           }
          ],
          "scattermapbox": [
           {
            "marker": {
             "colorbar": {
              "outlinewidth": 0,
              "ticks": ""
             }
            },
            "type": "scattermapbox"
           }
          ],
          "scatterpolar": [
           {
            "marker": {
             "colorbar": {
              "outlinewidth": 0,
              "ticks": ""
             }
            },
            "type": "scatterpolar"
           }
          ],
          "scatterpolargl": [
           {
            "marker": {
             "colorbar": {
              "outlinewidth": 0,
              "ticks": ""
             }
            },
            "type": "scatterpolargl"
           }
          ],
          "scatterternary": [
           {
            "marker": {
             "colorbar": {
              "outlinewidth": 0,
              "ticks": ""
             }
            },
            "type": "scatterternary"
           }
          ],
          "surface": [
           {
            "colorbar": {
             "outlinewidth": 0,
             "ticks": ""
            },
            "colorscale": [
             [
              0,
              "#0d0887"
             ],
             [
              0.1111111111111111,
              "#46039f"
             ],
             [
              0.2222222222222222,
              "#7201a8"
             ],
             [
              0.3333333333333333,
              "#9c179e"
             ],
             [
              0.4444444444444444,
              "#bd3786"
             ],
             [
              0.5555555555555556,
              "#d8576b"
             ],
             [
              0.6666666666666666,
              "#ed7953"
             ],
             [
              0.7777777777777778,
              "#fb9f3a"
             ],
             [
              0.8888888888888888,
              "#fdca26"
             ],
             [
              1,
              "#f0f921"
             ]
            ],
            "type": "surface"
           }
          ],
          "table": [
           {
            "cells": {
             "fill": {
              "color": "#EBF0F8"
             },
             "line": {
              "color": "white"
             }
            },
            "header": {
             "fill": {
              "color": "#C8D4E3"
             },
             "line": {
              "color": "white"
             }
            },
            "type": "table"
           }
          ]
         },
         "layout": {
          "annotationdefaults": {
           "arrowcolor": "#2a3f5f",
           "arrowhead": 0,
           "arrowwidth": 1
          },
          "autotypenumbers": "strict",
          "coloraxis": {
           "colorbar": {
            "outlinewidth": 0,
            "ticks": ""
           }
          },
          "colorscale": {
           "diverging": [
            [
             0,
             "#8e0152"
            ],
            [
             0.1,
             "#c51b7d"
            ],
            [
             0.2,
             "#de77ae"
            ],
            [
             0.3,
             "#f1b6da"
            ],
            [
             0.4,
             "#fde0ef"
            ],
            [
             0.5,
             "#f7f7f7"
            ],
            [
             0.6,
             "#e6f5d0"
            ],
            [
             0.7,
             "#b8e186"
            ],
            [
             0.8,
             "#7fbc41"
            ],
            [
             0.9,
             "#4d9221"
            ],
            [
             1,
             "#276419"
            ]
           ],
           "sequential": [
            [
             0,
             "#0d0887"
            ],
            [
             0.1111111111111111,
             "#46039f"
            ],
            [
             0.2222222222222222,
             "#7201a8"
            ],
            [
             0.3333333333333333,
             "#9c179e"
            ],
            [
             0.4444444444444444,
             "#bd3786"
            ],
            [
             0.5555555555555556,
             "#d8576b"
            ],
            [
             0.6666666666666666,
             "#ed7953"
            ],
            [
             0.7777777777777778,
             "#fb9f3a"
            ],
            [
             0.8888888888888888,
             "#fdca26"
            ],
            [
             1,
             "#f0f921"
            ]
           ],
           "sequentialminus": [
            [
             0,
             "#0d0887"
            ],
            [
             0.1111111111111111,
             "#46039f"
            ],
            [
             0.2222222222222222,
             "#7201a8"
            ],
            [
             0.3333333333333333,
             "#9c179e"
            ],
            [
             0.4444444444444444,
             "#bd3786"
            ],
            [
             0.5555555555555556,
             "#d8576b"
            ],
            [
             0.6666666666666666,
             "#ed7953"
            ],
            [
             0.7777777777777778,
             "#fb9f3a"
            ],
            [
             0.8888888888888888,
             "#fdca26"
            ],
            [
             1,
             "#f0f921"
            ]
           ]
          },
          "colorway": [
           "#636efa",
           "#EF553B",
           "#00cc96",
           "#ab63fa",
           "#FFA15A",
           "#19d3f3",
           "#FF6692",
           "#B6E880",
           "#FF97FF",
           "#FECB52"
          ],
          "font": {
           "color": "#2a3f5f"
          },
          "geo": {
           "bgcolor": "white",
           "lakecolor": "white",
           "landcolor": "#E5ECF6",
           "showlakes": true,
           "showland": true,
           "subunitcolor": "white"
          },
          "hoverlabel": {
           "align": "left"
          },
          "hovermode": "closest",
          "mapbox": {
           "style": "light"
          },
          "paper_bgcolor": "white",
          "plot_bgcolor": "#E5ECF6",
          "polar": {
           "angularaxis": {
            "gridcolor": "white",
            "linecolor": "white",
            "ticks": ""
           },
           "bgcolor": "#E5ECF6",
           "radialaxis": {
            "gridcolor": "white",
            "linecolor": "white",
            "ticks": ""
           }
          },
          "scene": {
           "xaxis": {
            "backgroundcolor": "#E5ECF6",
            "gridcolor": "white",
            "gridwidth": 2,
            "linecolor": "white",
            "showbackground": true,
            "ticks": "",
            "zerolinecolor": "white"
           },
           "yaxis": {
            "backgroundcolor": "#E5ECF6",
            "gridcolor": "white",
            "gridwidth": 2,
            "linecolor": "white",
            "showbackground": true,
            "ticks": "",
            "zerolinecolor": "white"
           },
           "zaxis": {
            "backgroundcolor": "#E5ECF6",
            "gridcolor": "white",
            "gridwidth": 2,
            "linecolor": "white",
            "showbackground": true,
            "ticks": "",
            "zerolinecolor": "white"
           }
          },
          "shapedefaults": {
           "line": {
            "color": "#2a3f5f"
           }
          },
          "ternary": {
           "aaxis": {
            "gridcolor": "white",
            "linecolor": "white",
            "ticks": ""
           },
           "baxis": {
            "gridcolor": "white",
            "linecolor": "white",
            "ticks": ""
           },
           "bgcolor": "#E5ECF6",
           "caxis": {
            "gridcolor": "white",
            "linecolor": "white",
            "ticks": ""
           }
          },
          "title": {
           "x": 0.05
          },
          "xaxis": {
           "automargin": true,
           "gridcolor": "white",
           "linecolor": "white",
           "ticks": "",
           "title": {
            "standoff": 15
           },
           "zerolinecolor": "white",
           "zerolinewidth": 2
          },
          "yaxis": {
           "automargin": true,
           "gridcolor": "white",
           "linecolor": "white",
           "ticks": "",
           "title": {
            "standoff": 15
           },
           "zerolinecolor": "white",
           "zerolinewidth": 2
          }
         }
        },
        "width": 720,
        "xaxis": {
         "title": {
          "text": "Lattice Size"
         },
         "type": "log"
        },
        "yaxis": {
         "title": {
          "text": "Efficiency %"
         }
        }
       }
      }
     },
     "metadata": {}
    }
   ],
   "source": [
    "fig = go.Figure()\n",
    "\n",
    "for idx, (name, dfs, info) in enumerate(runs_parallel):\n",
    "    for i, df in enumerate(dfs):\n",
    "        dfs[i][\"efficiency\"] = 100 * (cpu_df[\"avgEvolveTime\"] / df[\"avgEvolveTime\"]) / info[0]\n",
    "    \n",
    "    df = pd.concat(dfs)\n",
    "    df[\"size\"] **= 2\n",
    "    add_mean_std_trace(fig, df, name, idx + 1, \"efficiency\")\n",
    "\n",
    "fig.update_layout(xaxis_title='Lattice Size', yaxis_title=\"Efficiency %\", **layout_settings) # title=\"Efficiency\", \n",
    "fig.update_xaxes(type=\"log\")\n",
    "fig.show()\n",
    "fig.write_image(\"images/lat_render_evo_efficiency.eps\")"
   ]
  },
  {
   "cell_type": "code",
   "execution_count": 10,
   "metadata": {},
   "outputs": [
    {
     "output_type": "display_data",
     "data": {
      "application/vnd.plotly.v1+json": {
       "config": {
        "plotlyServerURL": "https://plot.ly"
       },
       "data": [
        {
         "line": {
          "color": "#EF553B"
         },
         "mode": "lines+markers",
         "name": "2 CPUs",
         "type": "scatter",
         "x": [
          1024,
          4096,
          16384,
          65536,
          262144,
          1048576,
          4194304,
          16777216
         ],
         "y": [
          11.44151779432588,
          15.585006473967223,
          9.986095564244435,
          9.886752481436435,
          9.562570862111523,
          9.974994011458332,
          15.076110388920336,
          19.45575987933491
         ]
        },
        {
         "line": {
          "width": 0
         },
         "mode": "lines",
         "name": "2 CPUs upper",
         "showlegend": false,
         "type": "scatter",
         "x": [
          1024,
          4096,
          16384,
          65536,
          262144,
          1048576,
          4194304,
          16777216
         ],
         "y": [
          13.368052881926944,
          20.71545852253007,
          10.679295497607042,
          10.401446332699148,
          10.14456072927938,
          10.028836611756638,
          15.164829969425519,
          19.56506227188554
         ]
        },
        {
         "fill": "tonexty",
         "fillcolor": "rgba(239, 85, 59, 0.30)",
         "line": {
          "width": 0
         },
         "mode": "lines",
         "name": "2 CPUs lower",
         "showlegend": false,
         "type": "scatter",
         "x": [
          1024,
          4096,
          16384,
          65536,
          262144,
          1048576,
          4194304,
          16777216
         ],
         "y": [
          9.514982706724817,
          10.454554425404375,
          9.292895630881828,
          9.372058630173722,
          8.980580994943665,
          9.921151411160025,
          14.987390808415153,
          19.346457486784278
         ]
        },
        {
         "line": {
          "color": "#00CC96"
         },
         "mode": "lines+markers",
         "name": "4 CPUs",
         "type": "scatter",
         "x": [
          1024,
          4096,
          16384,
          65536,
          262144,
          1048576,
          4194304,
          16777216
         ],
         "y": [
          6.2387652402379015,
          6.413000038097887,
          5.73287825108929,
          5.634246396892577,
          5.9284940441819245,
          5.533636832255757,
          8.707689812293108,
          10.802128970584324
         ]
        },
        {
         "line": {
          "width": 0
         },
         "mode": "lines",
         "name": "4 CPUs upper",
         "showlegend": false,
         "type": "scatter",
         "x": [
          1024,
          4096,
          16384,
          65536,
          262144,
          1048576,
          4194304,
          16777216
         ],
         "y": [
          6.761631430687664,
          6.5672704502066015,
          5.843326891694248,
          5.86918708290572,
          5.9408464946674,
          5.804885561466844,
          8.760022708330808,
          10.893418336639604
         ]
        },
        {
         "fill": "tonexty",
         "fillcolor": "rgba(0, 204, 150, 0.30)",
         "line": {
          "width": 0
         },
         "mode": "lines",
         "name": "4 CPUs lower",
         "showlegend": false,
         "type": "scatter",
         "x": [
          1024,
          4096,
          16384,
          65536,
          262144,
          1048576,
          4194304,
          16777216
         ],
         "y": [
          5.715899049788139,
          6.258729625989172,
          5.622429610484333,
          5.399305710879434,
          5.916141593696449,
          5.26238810304467,
          8.655356916255407,
          10.710839604529044
         ]
        },
        {
         "line": {
          "color": "#AB63FA"
         },
         "mode": "lines+markers",
         "name": "8 CPUs",
         "type": "scatter",
         "x": [
          1024,
          4096,
          16384,
          65536,
          262144,
          1048576,
          4194304,
          16777216
         ],
         "y": [
          3.376280013172424,
          3.9824828552552547,
          3.5086395913608848,
          3.5592568440248344,
          3.6672742482150005,
          3.6262260530687613,
          5.377028730127436,
          6.608903156161892
         ]
        },
        {
         "line": {
          "width": 0
         },
         "mode": "lines",
         "name": "8 CPUs upper",
         "showlegend": false,
         "type": "scatter",
         "x": [
          1024,
          4096,
          16384,
          65536,
          262144,
          1048576,
          4194304,
          16777216
         ],
         "y": [
          4.0208840760055455,
          4.029539027358336,
          3.5833078280901938,
          3.618345348476582,
          3.679047723867161,
          3.67582276806107,
          5.521622894672401,
          6.77098909928716
         ]
        },
        {
         "fill": "tonexty",
         "fillcolor": "rgba(171, 99, 250, 0.30)",
         "line": {
          "width": 0
         },
         "mode": "lines",
         "name": "8 CPUs lower",
         "showlegend": false,
         "type": "scatter",
         "x": [
          1024,
          4096,
          16384,
          65536,
          262144,
          1048576,
          4194304,
          16777216
         ],
         "y": [
          2.7316759503393024,
          3.935426683152174,
          3.4339713546315758,
          3.500168339573087,
          3.65550077256284,
          3.5766293380764527,
          5.232434565582471,
          6.446817213036624
         ]
        },
        {
         "line": {
          "color": "#FFA15A"
         },
         "mode": "lines+markers",
         "name": "12 CPUs",
         "type": "scatter",
         "x": [
          1024,
          4096,
          16384,
          65536,
          262144,
          1048576,
          4194304,
          16777216
         ],
         "y": [
          2.0563895157549057,
          3.103808390055065,
          2.905822670603112,
          3.0430945676616523,
          2.996120693302755,
          3.0760001120245026,
          4.457993135958229,
          5.497219273527644
         ]
        },
        {
         "line": {
          "width": 0
         },
         "mode": "lines",
         "name": "12 CPUs upper",
         "showlegend": false,
         "type": "scatter",
         "x": [
          1024,
          4096,
          16384,
          65536,
          262144,
          1048576,
          4194304,
          16777216
         ],
         "y": [
          2.502303901294722,
          3.1902408767038404,
          3.0084080304879883,
          3.0474028352989104,
          3.1329355360686773,
          3.079648597345069,
          4.6879544508072035,
          5.783482107092648
         ]
        },
        {
         "fill": "tonexty",
         "fillcolor": "rgba(255, 161, 90, 0.30)",
         "line": {
          "width": 0
         },
         "mode": "lines",
         "name": "12 CPUs lower",
         "showlegend": false,
         "type": "scatter",
         "x": [
          1024,
          4096,
          16384,
          65536,
          262144,
          1048576,
          4194304,
          16777216
         ],
         "y": [
          1.6104751302150897,
          3.0173759034062897,
          2.8032373107182353,
          3.038786300024394,
          2.859305850536833,
          3.072351626703936,
          4.228031821109254,
          5.210956439962641
         ]
        },
        {
         "line": {
          "color": "#19D3F3"
         },
         "mode": "lines+markers",
         "name": "16 CPUs",
         "type": "scatter",
         "x": [
          1024,
          4096,
          16384,
          65536,
          262144,
          1048576,
          4194304,
          16777216
         ],
         "y": [
          0.6337660583591275,
          1.8633954133625217,
          1.9980203141312778,
          2.290312995074287,
          2.441111041372038,
          2.379675556391226,
          3.448225154396355,
          4.4491437658786355
         ]
        },
        {
         "line": {
          "width": 0
         },
         "mode": "lines",
         "name": "16 CPUs upper",
         "showlegend": false,
         "type": "scatter",
         "x": [
          1024,
          4096,
          16384,
          65536,
          262144,
          1048576,
          4194304,
          16777216
         ],
         "y": [
          0.7048744508829856,
          1.919405171488235,
          2.173903295270773,
          2.417966363419587,
          2.448683746017777,
          2.4980957741309244,
          3.6607811814615228,
          4.452965978683599
         ]
        },
        {
         "fill": "tonexty",
         "fillcolor": "rgba(25, 211, 243, 0.30)",
         "line": {
          "width": 0
         },
         "mode": "lines",
         "name": "16 CPUs lower",
         "showlegend": false,
         "type": "scatter",
         "x": [
          1024,
          4096,
          16384,
          65536,
          262144,
          1048576,
          4194304,
          16777216
         ],
         "y": [
          0.5626576658352693,
          1.8073856552368084,
          1.8221373329917827,
          2.162659626728987,
          2.4335383367262993,
          2.261255338651528,
          3.2356691273311875,
          4.445321553073672
         ]
        },
        {
         "line": {
          "color": "#FF6692"
         },
         "mode": "lines+markers",
         "name": "GPU",
         "type": "scatter",
         "x": [
          1024,
          4096,
          16384,
          65536,
          262144,
          1048576,
          4194304,
          16777216
         ],
         "y": [
          0.0011062590332889769,
          0.004075207780642398,
          0.014411251598711067,
          0.05816505185700268,
          0.2307721591888218,
          0.31398118215839255,
          0.474584559894294,
          2.658263985987918
         ]
        },
        {
         "line": {
          "width": 0
         },
         "mode": "lines",
         "name": "GPU upper",
         "showlegend": false,
         "type": "scatter",
         "x": [
          1024,
          4096,
          16384,
          65536,
          262144,
          1048576,
          4194304,
          16777216
         ],
         "y": [
          0.0011315684636751572,
          0.004124191296077987,
          0.014794332875147108,
          0.05873579935911468,
          0.23362840174058283,
          0.3153157630829931,
          0.4919181232134979,
          2.6785801136787724
         ]
        },
        {
         "fill": "tonexty",
         "fillcolor": "rgba(255, 102, 146, 0.30)",
         "line": {
          "width": 0
         },
         "mode": "lines",
         "name": "GPU lower",
         "showlegend": false,
         "type": "scatter",
         "x": [
          1024,
          4096,
          16384,
          65536,
          262144,
          1048576,
          4194304,
          16777216
         ],
         "y": [
          0.0010809496029027966,
          0.004026224265206809,
          0.014028170322275026,
          0.05759430435489068,
          0.22791591663706076,
          0.312646601233792,
          0.45725099657509005,
          2.6379478582970632
         ]
        }
       ],
       "layout": {
        "font": {
         "size": 16
        },
        "height": 480,
        "margin": {
         "b": 10,
         "l": 10,
         "r": 10,
         "t": 10
        },
        "template": {
         "data": {
          "bar": [
           {
            "error_x": {
             "color": "#2a3f5f"
            },
            "error_y": {
             "color": "#2a3f5f"
            },
            "marker": {
             "line": {
              "color": "#E5ECF6",
              "width": 0.5
             },
             "pattern": {
              "fillmode": "overlay",
              "size": 10,
              "solidity": 0.2
             }
            },
            "type": "bar"
           }
          ],
          "barpolar": [
           {
            "marker": {
             "line": {
              "color": "#E5ECF6",
              "width": 0.5
             },
             "pattern": {
              "fillmode": "overlay",
              "size": 10,
              "solidity": 0.2
             }
            },
            "type": "barpolar"
           }
          ],
          "carpet": [
           {
            "aaxis": {
             "endlinecolor": "#2a3f5f",
             "gridcolor": "white",
             "linecolor": "white",
             "minorgridcolor": "white",
             "startlinecolor": "#2a3f5f"
            },
            "baxis": {
             "endlinecolor": "#2a3f5f",
             "gridcolor": "white",
             "linecolor": "white",
             "minorgridcolor": "white",
             "startlinecolor": "#2a3f5f"
            },
            "type": "carpet"
           }
          ],
          "choropleth": [
           {
            "colorbar": {
             "outlinewidth": 0,
             "ticks": ""
            },
            "type": "choropleth"
           }
          ],
          "contour": [
           {
            "colorbar": {
             "outlinewidth": 0,
             "ticks": ""
            },
            "colorscale": [
             [
              0,
              "#0d0887"
             ],
             [
              0.1111111111111111,
              "#46039f"
             ],
             [
              0.2222222222222222,
              "#7201a8"
             ],
             [
              0.3333333333333333,
              "#9c179e"
             ],
             [
              0.4444444444444444,
              "#bd3786"
             ],
             [
              0.5555555555555556,
              "#d8576b"
             ],
             [
              0.6666666666666666,
              "#ed7953"
             ],
             [
              0.7777777777777778,
              "#fb9f3a"
             ],
             [
              0.8888888888888888,
              "#fdca26"
             ],
             [
              1,
              "#f0f921"
             ]
            ],
            "type": "contour"
           }
          ],
          "contourcarpet": [
           {
            "colorbar": {
             "outlinewidth": 0,
             "ticks": ""
            },
            "type": "contourcarpet"
           }
          ],
          "heatmap": [
           {
            "colorbar": {
             "outlinewidth": 0,
             "ticks": ""
            },
            "colorscale": [
             [
              0,
              "#0d0887"
             ],
             [
              0.1111111111111111,
              "#46039f"
             ],
             [
              0.2222222222222222,
              "#7201a8"
             ],
             [
              0.3333333333333333,
              "#9c179e"
             ],
             [
              0.4444444444444444,
              "#bd3786"
             ],
             [
              0.5555555555555556,
              "#d8576b"
             ],
             [
              0.6666666666666666,
              "#ed7953"
             ],
             [
              0.7777777777777778,
              "#fb9f3a"
             ],
             [
              0.8888888888888888,
              "#fdca26"
             ],
             [
              1,
              "#f0f921"
             ]
            ],
            "type": "heatmap"
           }
          ],
          "heatmapgl": [
           {
            "colorbar": {
             "outlinewidth": 0,
             "ticks": ""
            },
            "colorscale": [
             [
              0,
              "#0d0887"
             ],
             [
              0.1111111111111111,
              "#46039f"
             ],
             [
              0.2222222222222222,
              "#7201a8"
             ],
             [
              0.3333333333333333,
              "#9c179e"
             ],
             [
              0.4444444444444444,
              "#bd3786"
             ],
             [
              0.5555555555555556,
              "#d8576b"
             ],
             [
              0.6666666666666666,
              "#ed7953"
             ],
             [
              0.7777777777777778,
              "#fb9f3a"
             ],
             [
              0.8888888888888888,
              "#fdca26"
             ],
             [
              1,
              "#f0f921"
             ]
            ],
            "type": "heatmapgl"
           }
          ],
          "histogram": [
           {
            "marker": {
             "pattern": {
              "fillmode": "overlay",
              "size": 10,
              "solidity": 0.2
             }
            },
            "type": "histogram"
           }
          ],
          "histogram2d": [
           {
            "colorbar": {
             "outlinewidth": 0,
             "ticks": ""
            },
            "colorscale": [
             [
              0,
              "#0d0887"
             ],
             [
              0.1111111111111111,
              "#46039f"
             ],
             [
              0.2222222222222222,
              "#7201a8"
             ],
             [
              0.3333333333333333,
              "#9c179e"
             ],
             [
              0.4444444444444444,
              "#bd3786"
             ],
             [
              0.5555555555555556,
              "#d8576b"
             ],
             [
              0.6666666666666666,
              "#ed7953"
             ],
             [
              0.7777777777777778,
              "#fb9f3a"
             ],
             [
              0.8888888888888888,
              "#fdca26"
             ],
             [
              1,
              "#f0f921"
             ]
            ],
            "type": "histogram2d"
           }
          ],
          "histogram2dcontour": [
           {
            "colorbar": {
             "outlinewidth": 0,
             "ticks": ""
            },
            "colorscale": [
             [
              0,
              "#0d0887"
             ],
             [
              0.1111111111111111,
              "#46039f"
             ],
             [
              0.2222222222222222,
              "#7201a8"
             ],
             [
              0.3333333333333333,
              "#9c179e"
             ],
             [
              0.4444444444444444,
              "#bd3786"
             ],
             [
              0.5555555555555556,
              "#d8576b"
             ],
             [
              0.6666666666666666,
              "#ed7953"
             ],
             [
              0.7777777777777778,
              "#fb9f3a"
             ],
             [
              0.8888888888888888,
              "#fdca26"
             ],
             [
              1,
              "#f0f921"
             ]
            ],
            "type": "histogram2dcontour"
           }
          ],
          "mesh3d": [
           {
            "colorbar": {
             "outlinewidth": 0,
             "ticks": ""
            },
            "type": "mesh3d"
           }
          ],
          "parcoords": [
           {
            "line": {
             "colorbar": {
              "outlinewidth": 0,
              "ticks": ""
             }
            },
            "type": "parcoords"
           }
          ],
          "pie": [
           {
            "automargin": true,
            "type": "pie"
           }
          ],
          "scatter": [
           {
            "marker": {
             "colorbar": {
              "outlinewidth": 0,
              "ticks": ""
             }
            },
            "type": "scatter"
           }
          ],
          "scatter3d": [
           {
            "line": {
             "colorbar": {
              "outlinewidth": 0,
              "ticks": ""
             }
            },
            "marker": {
             "colorbar": {
              "outlinewidth": 0,
              "ticks": ""
             }
            },
            "type": "scatter3d"
           }
          ],
          "scattercarpet": [
           {
            "marker": {
             "colorbar": {
              "outlinewidth": 0,
              "ticks": ""
             }
            },
            "type": "scattercarpet"
           }
          ],
          "scattergeo": [
           {
            "marker": {
             "colorbar": {
              "outlinewidth": 0,
              "ticks": ""
             }
            },
            "type": "scattergeo"
           }
          ],
          "scattergl": [
           {
            "marker": {
             "colorbar": {
              "outlinewidth": 0,
              "ticks": ""
             }
            },
            "type": "scattergl"
           }
          ],
          "scattermapbox": [
           {
            "marker": {
             "colorbar": {
              "outlinewidth": 0,
              "ticks": ""
             }
            },
            "type": "scattermapbox"
           }
          ],
          "scatterpolar": [
           {
            "marker": {
             "colorbar": {
              "outlinewidth": 0,
              "ticks": ""
             }
            },
            "type": "scatterpolar"
           }
          ],
          "scatterpolargl": [
           {
            "marker": {
             "colorbar": {
              "outlinewidth": 0,
              "ticks": ""
             }
            },
            "type": "scatterpolargl"
           }
          ],
          "scatterternary": [
           {
            "marker": {
             "colorbar": {
              "outlinewidth": 0,
              "ticks": ""
             }
            },
            "type": "scatterternary"
           }
          ],
          "surface": [
           {
            "colorbar": {
             "outlinewidth": 0,
             "ticks": ""
            },
            "colorscale": [
             [
              0,
              "#0d0887"
             ],
             [
              0.1111111111111111,
              "#46039f"
             ],
             [
              0.2222222222222222,
              "#7201a8"
             ],
             [
              0.3333333333333333,
              "#9c179e"
             ],
             [
              0.4444444444444444,
              "#bd3786"
             ],
             [
              0.5555555555555556,
              "#d8576b"
             ],
             [
              0.6666666666666666,
              "#ed7953"
             ],
             [
              0.7777777777777778,
              "#fb9f3a"
             ],
             [
              0.8888888888888888,
              "#fdca26"
             ],
             [
              1,
              "#f0f921"
             ]
            ],
            "type": "surface"
           }
          ],
          "table": [
           {
            "cells": {
             "fill": {
              "color": "#EBF0F8"
             },
             "line": {
              "color": "white"
             }
            },
            "header": {
             "fill": {
              "color": "#C8D4E3"
             },
             "line": {
              "color": "white"
             }
            },
            "type": "table"
           }
          ]
         },
         "layout": {
          "annotationdefaults": {
           "arrowcolor": "#2a3f5f",
           "arrowhead": 0,
           "arrowwidth": 1
          },
          "autotypenumbers": "strict",
          "coloraxis": {
           "colorbar": {
            "outlinewidth": 0,
            "ticks": ""
           }
          },
          "colorscale": {
           "diverging": [
            [
             0,
             "#8e0152"
            ],
            [
             0.1,
             "#c51b7d"
            ],
            [
             0.2,
             "#de77ae"
            ],
            [
             0.3,
             "#f1b6da"
            ],
            [
             0.4,
             "#fde0ef"
            ],
            [
             0.5,
             "#f7f7f7"
            ],
            [
             0.6,
             "#e6f5d0"
            ],
            [
             0.7,
             "#b8e186"
            ],
            [
             0.8,
             "#7fbc41"
            ],
            [
             0.9,
             "#4d9221"
            ],
            [
             1,
             "#276419"
            ]
           ],
           "sequential": [
            [
             0,
             "#0d0887"
            ],
            [
             0.1111111111111111,
             "#46039f"
            ],
            [
             0.2222222222222222,
             "#7201a8"
            ],
            [
             0.3333333333333333,
             "#9c179e"
            ],
            [
             0.4444444444444444,
             "#bd3786"
            ],
            [
             0.5555555555555556,
             "#d8576b"
            ],
            [
             0.6666666666666666,
             "#ed7953"
            ],
            [
             0.7777777777777778,
             "#fb9f3a"
            ],
            [
             0.8888888888888888,
             "#fdca26"
            ],
            [
             1,
             "#f0f921"
            ]
           ],
           "sequentialminus": [
            [
             0,
             "#0d0887"
            ],
            [
             0.1111111111111111,
             "#46039f"
            ],
            [
             0.2222222222222222,
             "#7201a8"
            ],
            [
             0.3333333333333333,
             "#9c179e"
            ],
            [
             0.4444444444444444,
             "#bd3786"
            ],
            [
             0.5555555555555556,
             "#d8576b"
            ],
            [
             0.6666666666666666,
             "#ed7953"
            ],
            [
             0.7777777777777778,
             "#fb9f3a"
            ],
            [
             0.8888888888888888,
             "#fdca26"
            ],
            [
             1,
             "#f0f921"
            ]
           ]
          },
          "colorway": [
           "#636efa",
           "#EF553B",
           "#00cc96",
           "#ab63fa",
           "#FFA15A",
           "#19d3f3",
           "#FF6692",
           "#B6E880",
           "#FF97FF",
           "#FECB52"
          ],
          "font": {
           "color": "#2a3f5f"
          },
          "geo": {
           "bgcolor": "white",
           "lakecolor": "white",
           "landcolor": "#E5ECF6",
           "showlakes": true,
           "showland": true,
           "subunitcolor": "white"
          },
          "hoverlabel": {
           "align": "left"
          },
          "hovermode": "closest",
          "mapbox": {
           "style": "light"
          },
          "paper_bgcolor": "white",
          "plot_bgcolor": "#E5ECF6",
          "polar": {
           "angularaxis": {
            "gridcolor": "white",
            "linecolor": "white",
            "ticks": ""
           },
           "bgcolor": "#E5ECF6",
           "radialaxis": {
            "gridcolor": "white",
            "linecolor": "white",
            "ticks": ""
           }
          },
          "scene": {
           "xaxis": {
            "backgroundcolor": "#E5ECF6",
            "gridcolor": "white",
            "gridwidth": 2,
            "linecolor": "white",
            "showbackground": true,
            "ticks": "",
            "zerolinecolor": "white"
           },
           "yaxis": {
            "backgroundcolor": "#E5ECF6",
            "gridcolor": "white",
            "gridwidth": 2,
            "linecolor": "white",
            "showbackground": true,
            "ticks": "",
            "zerolinecolor": "white"
           },
           "zaxis": {
            "backgroundcolor": "#E5ECF6",
            "gridcolor": "white",
            "gridwidth": 2,
            "linecolor": "white",
            "showbackground": true,
            "ticks": "",
            "zerolinecolor": "white"
           }
          },
          "shapedefaults": {
           "line": {
            "color": "#2a3f5f"
           }
          },
          "ternary": {
           "aaxis": {
            "gridcolor": "white",
            "linecolor": "white",
            "ticks": ""
           },
           "baxis": {
            "gridcolor": "white",
            "linecolor": "white",
            "ticks": ""
           },
           "bgcolor": "#E5ECF6",
           "caxis": {
            "gridcolor": "white",
            "linecolor": "white",
            "ticks": ""
           }
          },
          "title": {
           "x": 0.05
          },
          "xaxis": {
           "automargin": true,
           "gridcolor": "white",
           "linecolor": "white",
           "ticks": "",
           "title": {
            "standoff": 15
           },
           "zerolinecolor": "white",
           "zerolinewidth": 2
          },
          "yaxis": {
           "automargin": true,
           "gridcolor": "white",
           "linecolor": "white",
           "ticks": "",
           "title": {
            "standoff": 15
           },
           "zerolinecolor": "white",
           "zerolinewidth": 2
          }
         }
        },
        "width": 720,
        "xaxis": {
         "title": {
          "text": "Lattice Size"
         },
         "type": "log"
        },
        "yaxis": {
         "title": {
          "text": "Efficiency %"
         }
        }
       }
      }
     },
     "metadata": {}
    }
   ],
   "source": [
    "fig = go.Figure()\n",
    "\n",
    "for idx, (name, dfs, info) in enumerate(runs_parallel):\n",
    "    for i, df in enumerate(dfs):\n",
    "        dfs[i][\"efficiency\"] = 100 * (cpu_df[\"avgBufferTime\"] / df[\"avgBufferTime\"]) / info[0]\n",
    "    \n",
    "    df = pd.concat(dfs)\n",
    "    df[\"size\"] **= 2\n",
    "    add_mean_std_trace(fig, df, name, idx + 1, \"efficiency\")\n",
    "\n",
    "fig.update_layout(xaxis_title='Lattice Size', yaxis_title=\"Efficiency %\", **layout_settings) # title=\"Efficiency\", \n",
    "fig.update_xaxes(type=\"log\")\n",
    "fig.show()\n",
    "fig.write_image(\"images/lat_render_buf_efficiency.eps\")"
   ]
  }
 ]
}