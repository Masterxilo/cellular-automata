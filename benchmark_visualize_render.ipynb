{
 "metadata": {
  "language_info": {
   "codemirror_mode": {
    "name": "ipython",
    "version": 3
   },
   "file_extension": ".py",
   "mimetype": "text/x-python",
   "name": "python",
   "nbconvert_exporter": "python",
   "pygments_lexer": "ipython3",
   "version": "3.8.10"
  },
  "orig_nbformat": 2,
  "kernelspec": {
   "name": "python3",
   "display_name": "Python 3.8.10 64-bit ('bt_rew': conda)"
  },
  "interpreter": {
   "hash": "64d9061477c2b47e4fafdd661e486d2c0da5459afa86980e15aa54a8cb77a46c"
  }
 },
 "nbformat": 4,
 "nbformat_minor": 2,
 "cells": [
  {
   "cell_type": "code",
   "execution_count": 1,
   "metadata": {},
   "outputs": [],
   "source": [
    "import pandas as pd\n",
    "import plotly.express as px\n",
    "import plotly.graph_objects as go\n",
    "\n",
    "all_colors = px.colors.qualitative.Plotly"
   ]
  },
  {
   "cell_type": "code",
   "execution_count": 2,
   "metadata": {},
   "outputs": [],
   "source": [
    "plot_width=1000\n",
    "plot_height=600\n",
    "\n",
    "def get_rgba(hex, opacity=0.3):\n",
    "    return \"rgba(%d, %d, %d, %.2f)\" % (tuple(int(hex.lstrip('#')[i:i+2], 16) for i in (0, 2, 4)) + (opacity,))"
   ]
  },
  {
   "cell_type": "code",
   "execution_count": 3,
   "metadata": {},
   "outputs": [],
   "source": [
    "runs = [\n",
    "    # (  RUN NAME,                DF,                                              INFO  )\n",
    "    # (\"CPU Baseline\", [pd.read_csv(\"res/1.hl.cpu-gpu.baselines/1.1.benchmark_results_cpu.csv\", header=0)], (1,)),\n",
    "    # (\"GPU\", [pd.read_csv(\"res/1.hl.cpu-gpu.baselines/1.2.benchmark_results_gpu.csv\", header=0)], (8704,)),\n",
    "\n",
    "    # headless lattice size experiments\n",
    "    (\"1 CPU\", [\n",
    "        pd.read_csv(\"res/39-40.full/39.render.cpu.1.1.csv\", header=0),\n",
    "        pd.read_csv(\"res/39-40.full/39.render.cpu.1.2.csv\", header=0),\n",
    "        pd.read_csv(\"res/39-40.full/39.render.cpu.1.3.csv\", header=0),\n",
    "        pd.read_csv(\"res/39-40.full/39.render.cpu.1.4.csv\", header=0),\n",
    "        pd.read_csv(\"res/39-40.full/39.render.cpu.1.5.csv\", header=0)\n",
    "    ], (1,)),\n",
    "    (\"2 CPUs\", [\n",
    "        pd.read_csv(\"res/39-40.full/39.render.cpu.2.1.csv\", header=0),\n",
    "        pd.read_csv(\"res/39-40.full/39.render.cpu.2.2.csv\", header=0),\n",
    "        pd.read_csv(\"res/39-40.full/39.render.cpu.2.3.csv\", header=0),\n",
    "        pd.read_csv(\"res/39-40.full/39.render.cpu.2.4.csv\", header=0),\n",
    "        pd.read_csv(\"res/39-40.full/39.render.cpu.2.5.csv\", header=0)\n",
    "    ], (2,)),\n",
    "    (\"4 CPUs\", [\n",
    "        pd.read_csv(\"res/39-40.full/39.render.cpu.4.1.csv\", header=0),\n",
    "        pd.read_csv(\"res/39-40.full/39.render.cpu.4.2.csv\", header=0),\n",
    "        pd.read_csv(\"res/39-40.full/39.render.cpu.4.3.csv\", header=0),\n",
    "        pd.read_csv(\"res/39-40.full/39.render.cpu.4.4.csv\", header=0),\n",
    "        pd.read_csv(\"res/39-40.full/39.render.cpu.4.5.csv\", header=0)\n",
    "    ], (4,)),\n",
    "    (\"6 CPUs\", [\n",
    "        pd.read_csv(\"res/39-40.full/39.render.cpu.6.1.csv\", header=0),\n",
    "        pd.read_csv(\"res/39-40.full/39.render.cpu.6.2.csv\", header=0),\n",
    "        pd.read_csv(\"res/39-40.full/39.render.cpu.6.3.csv\", header=0),\n",
    "        pd.read_csv(\"res/39-40.full/39.render.cpu.6.4.csv\", header=0),\n",
    "        pd.read_csv(\"res/39-40.full/39.render.cpu.6.5.csv\", header=0)\n",
    "    ], (6,)),\n",
    "    (\"8 CPUs\", [\n",
    "        pd.read_csv(\"res/39-40.full/39.render.cpu.8.1.csv\", header=0),\n",
    "        pd.read_csv(\"res/39-40.full/39.render.cpu.8.2.csv\", header=0),\n",
    "        pd.read_csv(\"res/39-40.full/39.render.cpu.8.3.csv\", header=0),\n",
    "        pd.read_csv(\"res/39-40.full/39.render.cpu.8.4.csv\", header=0),\n",
    "        pd.read_csv(\"res/39-40.full/39.render.cpu.8.5.csv\", header=0)\n",
    "    ], (8,)),\n",
    "    (\"10 CPUs\", [\n",
    "        pd.read_csv(\"res/39-40.full/39.render.cpu.10.1.csv\", header=0),\n",
    "        pd.read_csv(\"res/39-40.full/39.render.cpu.10.2.csv\", header=0),\n",
    "        pd.read_csv(\"res/39-40.full/39.render.cpu.10.3.csv\", header=0),\n",
    "        pd.read_csv(\"res/39-40.full/39.render.cpu.10.4.csv\", header=0),\n",
    "        pd.read_csv(\"res/39-40.full/39.render.cpu.10.5.csv\", header=0)\n",
    "    ], (10,)),\n",
    "    (\"12 CPUs\", [\n",
    "        pd.read_csv(\"res/39-40.full/39.render.cpu.12.1.csv\", header=0),\n",
    "        pd.read_csv(\"res/39-40.full/39.render.cpu.12.2.csv\", header=0),\n",
    "        pd.read_csv(\"res/39-40.full/39.render.cpu.12.3.csv\", header=0),\n",
    "        pd.read_csv(\"res/39-40.full/39.render.cpu.12.4.csv\", header=0),\n",
    "        pd.read_csv(\"res/39-40.full/39.render.cpu.12.5.csv\", header=0)\n",
    "    ], (12,)),\n",
    "    (\"14 CPUs\", [\n",
    "        pd.read_csv(\"res/39-40.full/39.render.cpu.14.1.csv\", header=0),\n",
    "        pd.read_csv(\"res/39-40.full/39.render.cpu.14.2.csv\", header=0),\n",
    "        pd.read_csv(\"res/39-40.full/39.render.cpu.14.3.csv\", header=0),\n",
    "        pd.read_csv(\"res/39-40.full/39.render.cpu.14.4.csv\", header=0),\n",
    "        pd.read_csv(\"res/39-40.full/39.render.cpu.14.5.csv\", header=0)\n",
    "    ], (14,)),\n",
    "    (\"16 CPUs\", [\n",
    "        pd.read_csv(\"res/39-40.full/39.render.cpu.16.1.csv\", header=0),\n",
    "        pd.read_csv(\"res/39-40.full/39.render.cpu.16.2.csv\", header=0),\n",
    "        pd.read_csv(\"res/39-40.full/39.render.cpu.16.3.csv\", header=0),\n",
    "        pd.read_csv(\"res/39-40.full/39.render.cpu.16.4.csv\", header=0),\n",
    "        pd.read_csv(\"res/39-40.full/39.render.cpu.16.5.csv\", header=0)\n",
    "    ], (18,)),\n",
    "    (\"GPU\", [\n",
    "        pd.read_csv(\"res/39-40.full/39.render.gpu.8704.1.csv\", header=0),\n",
    "        pd.read_csv(\"res/39-40.full/39.render.gpu.8704.2.csv\", header=0),\n",
    "        pd.read_csv(\"res/39-40.full/39.render.gpu.8704.3.csv\", header=0),\n",
    "        pd.read_csv(\"res/39-40.full/39.render.gpu.8704.4.csv\", header=0),\n",
    "        pd.read_csv(\"res/39-40.full/39.render.gpu.8704.5.csv\", header=0)\n",
    "    ], (8704,)),\n",
    "]\n",
    "\n",
    "cpu_df = pd.concat(runs[0][1])\n",
    "cpu_df = cpu_df.groupby(cpu_df.index).mean() # use cpu_df mean only\n",
    "\n",
    "runs_parallel = runs[1:]"
   ]
  },
  {
   "cell_type": "code",
   "execution_count": 4,
   "metadata": {},
   "outputs": [],
   "source": [
    "def add_mean_std_trace(fig, df, name, idx, y_col, x_col=\"size\"):\n",
    "    df_mean = df.groupby(df.index).mean()\n",
    "    df_std = df.groupby(df.index).std()\n",
    "\n",
    "    color = all_colors[idx % len(all_colors)]\n",
    "    fig.add_trace(go.Scatter(\n",
    "        name=name,\n",
    "        x=df_mean[x_col],\n",
    "        y=df_mean[y_col],\n",
    "        mode=\"lines+markers\",\n",
    "        line=dict(color=color),\n",
    "    ))\n",
    "    fig.add_traces(go.Scatter(\n",
    "        name=name + \" upper\",\n",
    "        x=df_mean[x_col],\n",
    "        y=df_mean[y_col] + df_std[y_col],\n",
    "        mode=\"lines\",\n",
    "        line=dict(width=0),\n",
    "        showlegend=False\n",
    "    ))\n",
    "    fig.add_traces(go.Scatter(\n",
    "        name=name + \" lower\",\n",
    "        x=df_mean[x_col],\n",
    "        y=df_mean[y_col] - df_std[y_col],\n",
    "        line=dict(width=0),\n",
    "        mode='lines',\n",
    "        fillcolor=get_rgba(color),\n",
    "        fill='tonexty',\n",
    "        showlegend=False,\n",
    "    ))"
   ]
  },
  {
   "cell_type": "code",
   "execution_count": 5,
   "metadata": {},
   "outputs": [
    {
     "output_type": "display_data",
     "data": {
      "application/vnd.plotly.v1+json": {
       "config": {
        "plotlyServerURL": "https://plot.ly"
       },
       "data": [
        {
         "line": {
          "color": "#636EFA"
         },
         "mode": "lines+markers",
         "name": "1 CPU",
         "type": "scatter",
         "x": [
          1024,
          4096,
          16384,
          65536,
          262144,
          1048576,
          4194304,
          16777216
         ],
         "y": [
          0.003944,
          0.017151800000000002,
          0.0628848,
          0.25667199999999996,
          1.0706475999999998,
          4.3291096,
          17.8249344,
          72.19013079999999
         ]
        },
        {
         "line": {
          "width": 0
         },
         "mode": "lines",
         "name": "1 CPU upper",
         "showlegend": false,
         "type": "scatter",
         "x": [
          1024,
          4096,
          16384,
          65536,
          262144,
          1048576,
          4194304,
          16777216
         ],
         "y": [
          0.003996796780204857,
          0.020520313500047165,
          0.06364210885377104,
          0.2594598061266881,
          1.0824312020723714,
          4.3644565982219135,
          17.8505557122283,
          72.44768264304464
         ]
        },
        {
         "fill": "tonexty",
         "fillcolor": "rgba(99, 110, 250, 0.30)",
         "line": {
          "width": 0
         },
         "mode": "lines",
         "name": "1 CPU lower",
         "showlegend": false,
         "type": "scatter",
         "x": [
          1024,
          4096,
          16384,
          65536,
          262144,
          1048576,
          4194304,
          16777216
         ],
         "y": [
          0.0038912032197951424,
          0.013783286499952837,
          0.062127491146228966,
          0.2538841938733118,
          1.0588639979276282,
          4.293762601778086,
          17.7993130877717,
          71.93257895695534
         ]
        },
        {
         "line": {
          "color": "#EF553B"
         },
         "mode": "lines+markers",
         "name": "2 CPUs",
         "type": "scatter",
         "x": [
          1024,
          4096,
          16384,
          65536,
          262144,
          1048576,
          4194304,
          16777216
         ],
         "y": [
          0.0039278,
          0.0085346,
          0.033233200000000004,
          0.13088200000000003,
          0.5406884000000001,
          2.1645764,
          9.2260702,
          36.805594400000004
         ]
        },
        {
         "line": {
          "width": 0
         },
         "mode": "lines",
         "name": "2 CPUs upper",
         "showlegend": false,
         "type": "scatter",
         "x": [
          1024,
          4096,
          16384,
          65536,
          262144,
          1048576,
          4194304,
          16777216
         ],
         "y": [
          0.0053554927890831425,
          0.008917405825452017,
          0.03346171958340589,
          0.1340126334822205,
          0.5426520245313197,
          2.1729583702516773,
          9.283118731371982,
          36.98483173144019
         ]
        },
        {
         "fill": "tonexty",
         "fillcolor": "rgba(239, 85, 59, 0.30)",
         "line": {
          "width": 0
         },
         "mode": "lines",
         "name": "2 CPUs lower",
         "showlegend": false,
         "type": "scatter",
         "x": [
          1024,
          4096,
          16384,
          65536,
          262144,
          1048576,
          4194304,
          16777216
         ],
         "y": [
          0.0025001072109168587,
          0.008151794174547982,
          0.03300468041659412,
          0.12775136651777955,
          0.5387247754686805,
          2.156194429748323,
          9.16902166862802,
          36.62635706855982
         ]
        },
        {
         "line": {
          "color": "#00CC96"
         },
         "mode": "lines+markers",
         "name": "4 CPUs",
         "type": "scatter",
         "x": [
          1024,
          4096,
          16384,
          65536,
          262144,
          1048576,
          4194304,
          16777216
         ],
         "y": [
          0.0039185999999999995,
          0.0053342,
          0.017741399999999997,
          0.06624499999999998,
          0.2749184,
          1.0955366000000002,
          4.6298642,
          18.5936582
         ]
        },
        {
         "line": {
          "width": 0
         },
         "mode": "lines",
         "name": "4 CPUs upper",
         "showlegend": false,
         "type": "scatter",
         "x": [
          1024,
          4096,
          16384,
          65536,
          262144,
          1048576,
          4194304,
          16777216
         ],
         "y": [
          0.005181452247889673,
          0.005472602312119415,
          0.0179470898150128,
          0.0666952116169092,
          0.2751461636933315,
          1.0989651178722009,
          4.634708958683361,
          18.615647676624057
         ]
        },
        {
         "fill": "tonexty",
         "fillcolor": "rgba(0, 204, 150, 0.30)",
         "line": {
          "width": 0
         },
         "mode": "lines",
         "name": "4 CPUs lower",
         "showlegend": false,
         "type": "scatter",
         "x": [
          1024,
          4096,
          16384,
          65536,
          262144,
          1048576,
          4194304,
          16777216
         ],
         "y": [
          0.0026557477521103262,
          0.005195797687880584,
          0.017535710184987195,
          0.06579478838309077,
          0.2746906363066685,
          1.0921080821277995,
          4.625019441316639,
          18.571668723375943
         ]
        },
        {
         "line": {
          "color": "#AB63FA"
         },
         "mode": "lines+markers",
         "name": "6 CPUs",
         "type": "scatter",
         "x": [
          1024,
          4096,
          16384,
          65536,
          262144,
          1048576,
          4194304,
          16777216
         ],
         "y": [
          0.0051554,
          0.004716,
          0.013149600000000001,
          0.045629,
          0.185615,
          0.7405874,
          3.1064246,
          12.489830800000002
         ]
        },
        {
         "line": {
          "width": 0
         },
         "mode": "lines",
         "name": "6 CPUs upper",
         "showlegend": false,
         "type": "scatter",
         "x": [
          1024,
          4096,
          16384,
          65536,
          262144,
          1048576,
          4194304,
          16777216
         ],
         "y": [
          0.007559723771874329,
          0.005037108237203595,
          0.013521168028764588,
          0.04600727833667817,
          0.18626027629741065,
          0.7446706115179109,
          3.1089103964116154,
          12.54406877654043
         ]
        },
        {
         "fill": "tonexty",
         "fillcolor": "rgba(171, 99, 250, 0.30)",
         "line": {
          "width": 0
         },
         "mode": "lines",
         "name": "6 CPUs lower",
         "showlegend": false,
         "type": "scatter",
         "x": [
          1024,
          4096,
          16384,
          65536,
          262144,
          1048576,
          4194304,
          16777216
         ],
         "y": [
          0.002751076228125671,
          0.004394891762796405,
          0.012778031971235414,
          0.045250721663321836,
          0.18496972370258935,
          0.7365041884820891,
          3.1039388035883846,
          12.435592823459574
         ]
        },
        {
         "line": {
          "color": "#FFA15A"
         },
         "mode": "lines+markers",
         "name": "8 CPUs",
         "type": "scatter",
         "x": [
          1024,
          4096,
          16384,
          65536,
          262144,
          1048576,
          4194304,
          16777216
         ],
         "y": [
          0.0044218,
          0.0047406,
          0.011817000000000001,
          0.036127000000000006,
          0.1420808,
          0.5666439999999999,
          2.3522673999999997,
          9.539446000000002
         ]
        },
        {
         "line": {
          "width": 0
         },
         "mode": "lines",
         "name": "8 CPUs upper",
         "showlegend": false,
         "type": "scatter",
         "x": [
          1024,
          4096,
          16384,
          65536,
          262144,
          1048576,
          4194304,
          16777216
         ],
         "y": [
          0.00670761685618074,
          0.0052932470844942545,
          0.012546954108146534,
          0.038004899092070714,
          0.14296063759865105,
          0.5710969414435852,
          2.356468750175836,
          9.614095483012276
         ]
        },
        {
         "fill": "tonexty",
         "fillcolor": "rgba(255, 161, 90, 0.30)",
         "line": {
          "width": 0
         },
         "mode": "lines",
         "name": "8 CPUs lower",
         "showlegend": false,
         "type": "scatter",
         "x": [
          1024,
          4096,
          16384,
          65536,
          262144,
          1048576,
          4194304,
          16777216
         ],
         "y": [
          0.0021359831438192605,
          0.004187952915505746,
          0.011087045891853468,
          0.0342491009079293,
          0.14120096240134897,
          0.5621910585564146,
          2.3480660498241632,
          9.464796516987727
         ]
        },
        {
         "line": {
          "color": "#19D3F3"
         },
         "mode": "lines+markers",
         "name": "10 CPUs",
         "type": "scatter",
         "x": [
          1024,
          4096,
          16384,
          65536,
          262144,
          1048576,
          4194304,
          16777216
         ],
         "y": [
          0.0056526,
          0.0051722,
          0.0147336,
          0.0535056,
          0.22012520000000002,
          0.8866325999999999,
          3.7019352,
          14.929042
         ]
        },
        {
         "line": {
          "width": 0
         },
         "mode": "lines",
         "name": "10 CPUs upper",
         "showlegend": false,
         "type": "scatter",
         "x": [
          1024,
          4096,
          16384,
          65536,
          262144,
          1048576,
          4194304,
          16777216
         ],
         "y": [
          0.008262239975168988,
          0.005627417200905238,
          0.015054584890610134,
          0.054164896063995535,
          0.22351186136482526,
          0.8868980125091248,
          3.7673026633453066,
          14.975485522879946
         ]
        },
        {
         "fill": "tonexty",
         "fillcolor": "rgba(25, 211, 243, 0.30)",
         "line": {
          "width": 0
         },
         "mode": "lines",
         "name": "10 CPUs lower",
         "showlegend": false,
         "type": "scatter",
         "x": [
          1024,
          4096,
          16384,
          65536,
          262144,
          1048576,
          4194304,
          16777216
         ],
         "y": [
          0.0030429600248310113,
          0.004716982799094762,
          0.014412615109389865,
          0.052846303936004466,
          0.21673853863517478,
          0.886367187490875,
          3.636567736654693,
          14.882598477120055
         ]
        },
        {
         "line": {
          "color": "#FF6692"
         },
         "mode": "lines+markers",
         "name": "12 CPUs",
         "type": "scatter",
         "x": [
          1024,
          4096,
          16384,
          65536,
          262144,
          1048576,
          4194304,
          16777216
         ],
         "y": [
          0.0071094,
          0.0056734,
          0.012679399999999999,
          0.045669799999999997,
          0.185197,
          0.7401179999999999,
          3.1050182,
          12.5702074
         ]
        },
        {
         "line": {
          "width": 0
         },
         "mode": "lines",
         "name": "12 CPUs upper",
         "showlegend": false,
         "type": "scatter",
         "x": [
          1024,
          4096,
          16384,
          65536,
          262144,
          1048576,
          4194304,
          16777216
         ],
         "y": [
          0.009020022490184808,
          0.006800139677121561,
          0.012888845219568266,
          0.045874588183252844,
          0.18742968302721189,
          0.7404299671457061,
          3.141527219059679,
          12.574574775962748
         ]
        },
        {
         "fill": "tonexty",
         "fillcolor": "rgba(255, 102, 146, 0.30)",
         "line": {
          "width": 0
         },
         "mode": "lines",
         "name": "12 CPUs lower",
         "showlegend": false,
         "type": "scatter",
         "x": [
          1024,
          4096,
          16384,
          65536,
          262144,
          1048576,
          4194304,
          16777216
         ],
         "y": [
          0.005198777509815191,
          0.004546660322878439,
          0.012469954780431732,
          0.04546501181674715,
          0.18296431697278812,
          0.7398060328542938,
          3.068509180940321,
          12.56584002403725
         ]
        },
        {
         "line": {
          "color": "#B6E880"
         },
         "mode": "lines+markers",
         "name": "14 CPUs",
         "type": "scatter",
         "x": [
          1024,
          4096,
          16384,
          65536,
          262144,
          1048576,
          4194304,
          16777216
         ],
         "y": [
          0.0094486,
          0.0078134,
          0.0130382,
          0.0448824,
          0.1584484,
          0.6390452,
          2.6580736,
          10.77446
         ]
        },
        {
         "line": {
          "width": 0
         },
         "mode": "lines",
         "name": "14 CPUs upper",
         "showlegend": false,
         "type": "scatter",
         "x": [
          1024,
          4096,
          16384,
          65536,
          262144,
          1048576,
          4194304,
          16777216
         ],
         "y": [
          0.011767273823546554,
          0.011517585511013183,
          0.015482544840647488,
          0.04933389107603284,
          0.16069388542636107,
          0.6416056898359493,
          2.6952603018341232,
          10.780009071543962
         ]
        },
        {
         "fill": "tonexty",
         "fillcolor": "rgba(182, 232, 128, 0.30)",
         "line": {
          "width": 0
         },
         "mode": "lines",
         "name": "14 CPUs lower",
         "showlegend": false,
         "type": "scatter",
         "x": [
          1024,
          4096,
          16384,
          65536,
          262144,
          1048576,
          4194304,
          16777216
         ],
         "y": [
          0.007129926176453446,
          0.004109214488986816,
          0.010593855159352511,
          0.04043090892396717,
          0.1562029145736389,
          0.6364847101640506,
          2.6208868981658764,
          10.768910928456037
         ]
        },
        {
         "line": {
          "color": "#FF97FF"
         },
         "mode": "lines+markers",
         "name": "16 CPUs",
         "type": "scatter",
         "x": [
          1024,
          4096,
          16384,
          65536,
          262144,
          1048576,
          4194304,
          16777216
         ],
         "y": [
          0.0347896,
          0.0228644,
          0.045124000000000004,
          0.0660868,
          0.17023739999999998,
          0.6106678,
          2.4008896,
          9.4955786
         ]
        },
        {
         "line": {
          "width": 0
         },
         "mode": "lines",
         "name": "16 CPUs upper",
         "showlegend": false,
         "type": "scatter",
         "x": [
          1024,
          4096,
          16384,
          65536,
          262144,
          1048576,
          4194304,
          16777216
         ],
         "y": [
          0.042348462764993156,
          0.027557119552668794,
          0.05767862601991792,
          0.07248171944437144,
          0.17617305074781187,
          0.6273596926638054,
          2.419449631231116,
          9.50753413477683
         ]
        },
        {
         "fill": "tonexty",
         "fillcolor": "rgba(255, 151, 255, 0.30)",
         "line": {
          "width": 0
         },
         "mode": "lines",
         "name": "16 CPUs lower",
         "showlegend": false,
         "type": "scatter",
         "x": [
          1024,
          4096,
          16384,
          65536,
          262144,
          1048576,
          4194304,
          16777216
         ],
         "y": [
          0.02723073723500684,
          0.018171680447331206,
          0.03256937398008209,
          0.05969188055562855,
          0.1643017492521881,
          0.5939759073361945,
          2.3823295687688844,
          9.48362306522317
         ]
        },
        {
         "line": {
          "color": "#FECB52"
         },
         "mode": "lines+markers",
         "name": "GPU",
         "type": "scatter",
         "x": [
          1024,
          4096,
          16384,
          65536,
          262144,
          1048576,
          4194304,
          16777216
         ],
         "y": [
          0.344955,
          0.3442546,
          0.34804880000000005,
          0.3668694,
          0.4545602000000001,
          0.503077,
          0.064787,
          0.17390919999999999
         ]
        },
        {
         "line": {
          "width": 0
         },
         "mode": "lines",
         "name": "GPU upper",
         "showlegend": false,
         "type": "scatter",
         "x": [
          1024,
          4096,
          16384,
          65536,
          262144,
          1048576,
          4194304,
          16777216
         ],
         "y": [
          0.34646121296634974,
          0.34635425420962596,
          0.3521887747221451,
          0.37384339421422186,
          0.46006514715687635,
          0.5055373925499805,
          0.09051008492385779,
          0.1745113060537812
         ]
        },
        {
         "fill": "tonexty",
         "fillcolor": "rgba(254, 203, 82, 0.30)",
         "line": {
          "width": 0
         },
         "mode": "lines",
         "name": "GPU lower",
         "showlegend": false,
         "type": "scatter",
         "x": [
          1024,
          4096,
          16384,
          65536,
          262144,
          1048576,
          4194304,
          16777216
         ],
         "y": [
          0.3434487870336503,
          0.3421549457903741,
          0.343908825277855,
          0.35989540578577817,
          0.4490552528431238,
          0.5006166074500195,
          0.03906391507614221,
          0.17330709394621877
         ]
        }
       ],
       "layout": {
        "height": 600,
        "template": {
         "data": {
          "bar": [
           {
            "error_x": {
             "color": "#2a3f5f"
            },
            "error_y": {
             "color": "#2a3f5f"
            },
            "marker": {
             "line": {
              "color": "#E5ECF6",
              "width": 0.5
             },
             "pattern": {
              "fillmode": "overlay",
              "size": 10,
              "solidity": 0.2
             }
            },
            "type": "bar"
           }
          ],
          "barpolar": [
           {
            "marker": {
             "line": {
              "color": "#E5ECF6",
              "width": 0.5
             },
             "pattern": {
              "fillmode": "overlay",
              "size": 10,
              "solidity": 0.2
             }
            },
            "type": "barpolar"
           }
          ],
          "carpet": [
           {
            "aaxis": {
             "endlinecolor": "#2a3f5f",
             "gridcolor": "white",
             "linecolor": "white",
             "minorgridcolor": "white",
             "startlinecolor": "#2a3f5f"
            },
            "baxis": {
             "endlinecolor": "#2a3f5f",
             "gridcolor": "white",
             "linecolor": "white",
             "minorgridcolor": "white",
             "startlinecolor": "#2a3f5f"
            },
            "type": "carpet"
           }
          ],
          "choropleth": [
           {
            "colorbar": {
             "outlinewidth": 0,
             "ticks": ""
            },
            "type": "choropleth"
           }
          ],
          "contour": [
           {
            "colorbar": {
             "outlinewidth": 0,
             "ticks": ""
            },
            "colorscale": [
             [
              0,
              "#0d0887"
             ],
             [
              0.1111111111111111,
              "#46039f"
             ],
             [
              0.2222222222222222,
              "#7201a8"
             ],
             [
              0.3333333333333333,
              "#9c179e"
             ],
             [
              0.4444444444444444,
              "#bd3786"
             ],
             [
              0.5555555555555556,
              "#d8576b"
             ],
             [
              0.6666666666666666,
              "#ed7953"
             ],
             [
              0.7777777777777778,
              "#fb9f3a"
             ],
             [
              0.8888888888888888,
              "#fdca26"
             ],
             [
              1,
              "#f0f921"
             ]
            ],
            "type": "contour"
           }
          ],
          "contourcarpet": [
           {
            "colorbar": {
             "outlinewidth": 0,
             "ticks": ""
            },
            "type": "contourcarpet"
           }
          ],
          "heatmap": [
           {
            "colorbar": {
             "outlinewidth": 0,
             "ticks": ""
            },
            "colorscale": [
             [
              0,
              "#0d0887"
             ],
             [
              0.1111111111111111,
              "#46039f"
             ],
             [
              0.2222222222222222,
              "#7201a8"
             ],
             [
              0.3333333333333333,
              "#9c179e"
             ],
             [
              0.4444444444444444,
              "#bd3786"
             ],
             [
              0.5555555555555556,
              "#d8576b"
             ],
             [
              0.6666666666666666,
              "#ed7953"
             ],
             [
              0.7777777777777778,
              "#fb9f3a"
             ],
             [
              0.8888888888888888,
              "#fdca26"
             ],
             [
              1,
              "#f0f921"
             ]
            ],
            "type": "heatmap"
           }
          ],
          "heatmapgl": [
           {
            "colorbar": {
             "outlinewidth": 0,
             "ticks": ""
            },
            "colorscale": [
             [
              0,
              "#0d0887"
             ],
             [
              0.1111111111111111,
              "#46039f"
             ],
             [
              0.2222222222222222,
              "#7201a8"
             ],
             [
              0.3333333333333333,
              "#9c179e"
             ],
             [
              0.4444444444444444,
              "#bd3786"
             ],
             [
              0.5555555555555556,
              "#d8576b"
             ],
             [
              0.6666666666666666,
              "#ed7953"
             ],
             [
              0.7777777777777778,
              "#fb9f3a"
             ],
             [
              0.8888888888888888,
              "#fdca26"
             ],
             [
              1,
              "#f0f921"
             ]
            ],
            "type": "heatmapgl"
           }
          ],
          "histogram": [
           {
            "marker": {
             "pattern": {
              "fillmode": "overlay",
              "size": 10,
              "solidity": 0.2
             }
            },
            "type": "histogram"
           }
          ],
          "histogram2d": [
           {
            "colorbar": {
             "outlinewidth": 0,
             "ticks": ""
            },
            "colorscale": [
             [
              0,
              "#0d0887"
             ],
             [
              0.1111111111111111,
              "#46039f"
             ],
             [
              0.2222222222222222,
              "#7201a8"
             ],
             [
              0.3333333333333333,
              "#9c179e"
             ],
             [
              0.4444444444444444,
              "#bd3786"
             ],
             [
              0.5555555555555556,
              "#d8576b"
             ],
             [
              0.6666666666666666,
              "#ed7953"
             ],
             [
              0.7777777777777778,
              "#fb9f3a"
             ],
             [
              0.8888888888888888,
              "#fdca26"
             ],
             [
              1,
              "#f0f921"
             ]
            ],
            "type": "histogram2d"
           }
          ],
          "histogram2dcontour": [
           {
            "colorbar": {
             "outlinewidth": 0,
             "ticks": ""
            },
            "colorscale": [
             [
              0,
              "#0d0887"
             ],
             [
              0.1111111111111111,
              "#46039f"
             ],
             [
              0.2222222222222222,
              "#7201a8"
             ],
             [
              0.3333333333333333,
              "#9c179e"
             ],
             [
              0.4444444444444444,
              "#bd3786"
             ],
             [
              0.5555555555555556,
              "#d8576b"
             ],
             [
              0.6666666666666666,
              "#ed7953"
             ],
             [
              0.7777777777777778,
              "#fb9f3a"
             ],
             [
              0.8888888888888888,
              "#fdca26"
             ],
             [
              1,
              "#f0f921"
             ]
            ],
            "type": "histogram2dcontour"
           }
          ],
          "mesh3d": [
           {
            "colorbar": {
             "outlinewidth": 0,
             "ticks": ""
            },
            "type": "mesh3d"
           }
          ],
          "parcoords": [
           {
            "line": {
             "colorbar": {
              "outlinewidth": 0,
              "ticks": ""
             }
            },
            "type": "parcoords"
           }
          ],
          "pie": [
           {
            "automargin": true,
            "type": "pie"
           }
          ],
          "scatter": [
           {
            "marker": {
             "colorbar": {
              "outlinewidth": 0,
              "ticks": ""
             }
            },
            "type": "scatter"
           }
          ],
          "scatter3d": [
           {
            "line": {
             "colorbar": {
              "outlinewidth": 0,
              "ticks": ""
             }
            },
            "marker": {
             "colorbar": {
              "outlinewidth": 0,
              "ticks": ""
             }
            },
            "type": "scatter3d"
           }
          ],
          "scattercarpet": [
           {
            "marker": {
             "colorbar": {
              "outlinewidth": 0,
              "ticks": ""
             }
            },
            "type": "scattercarpet"
           }
          ],
          "scattergeo": [
           {
            "marker": {
             "colorbar": {
              "outlinewidth": 0,
              "ticks": ""
             }
            },
            "type": "scattergeo"
           }
          ],
          "scattergl": [
           {
            "marker": {
             "colorbar": {
              "outlinewidth": 0,
              "ticks": ""
             }
            },
            "type": "scattergl"
           }
          ],
          "scattermapbox": [
           {
            "marker": {
             "colorbar": {
              "outlinewidth": 0,
              "ticks": ""
             }
            },
            "type": "scattermapbox"
           }
          ],
          "scatterpolar": [
           {
            "marker": {
             "colorbar": {
              "outlinewidth": 0,
              "ticks": ""
             }
            },
            "type": "scatterpolar"
           }
          ],
          "scatterpolargl": [
           {
            "marker": {
             "colorbar": {
              "outlinewidth": 0,
              "ticks": ""
             }
            },
            "type": "scatterpolargl"
           }
          ],
          "scatterternary": [
           {
            "marker": {
             "colorbar": {
              "outlinewidth": 0,
              "ticks": ""
             }
            },
            "type": "scatterternary"
           }
          ],
          "surface": [
           {
            "colorbar": {
             "outlinewidth": 0,
             "ticks": ""
            },
            "colorscale": [
             [
              0,
              "#0d0887"
             ],
             [
              0.1111111111111111,
              "#46039f"
             ],
             [
              0.2222222222222222,
              "#7201a8"
             ],
             [
              0.3333333333333333,
              "#9c179e"
             ],
             [
              0.4444444444444444,
              "#bd3786"
             ],
             [
              0.5555555555555556,
              "#d8576b"
             ],
             [
              0.6666666666666666,
              "#ed7953"
             ],
             [
              0.7777777777777778,
              "#fb9f3a"
             ],
             [
              0.8888888888888888,
              "#fdca26"
             ],
             [
              1,
              "#f0f921"
             ]
            ],
            "type": "surface"
           }
          ],
          "table": [
           {
            "cells": {
             "fill": {
              "color": "#EBF0F8"
             },
             "line": {
              "color": "white"
             }
            },
            "header": {
             "fill": {
              "color": "#C8D4E3"
             },
             "line": {
              "color": "white"
             }
            },
            "type": "table"
           }
          ]
         },
         "layout": {
          "annotationdefaults": {
           "arrowcolor": "#2a3f5f",
           "arrowhead": 0,
           "arrowwidth": 1
          },
          "autotypenumbers": "strict",
          "coloraxis": {
           "colorbar": {
            "outlinewidth": 0,
            "ticks": ""
           }
          },
          "colorscale": {
           "diverging": [
            [
             0,
             "#8e0152"
            ],
            [
             0.1,
             "#c51b7d"
            ],
            [
             0.2,
             "#de77ae"
            ],
            [
             0.3,
             "#f1b6da"
            ],
            [
             0.4,
             "#fde0ef"
            ],
            [
             0.5,
             "#f7f7f7"
            ],
            [
             0.6,
             "#e6f5d0"
            ],
            [
             0.7,
             "#b8e186"
            ],
            [
             0.8,
             "#7fbc41"
            ],
            [
             0.9,
             "#4d9221"
            ],
            [
             1,
             "#276419"
            ]
           ],
           "sequential": [
            [
             0,
             "#0d0887"
            ],
            [
             0.1111111111111111,
             "#46039f"
            ],
            [
             0.2222222222222222,
             "#7201a8"
            ],
            [
             0.3333333333333333,
             "#9c179e"
            ],
            [
             0.4444444444444444,
             "#bd3786"
            ],
            [
             0.5555555555555556,
             "#d8576b"
            ],
            [
             0.6666666666666666,
             "#ed7953"
            ],
            [
             0.7777777777777778,
             "#fb9f3a"
            ],
            [
             0.8888888888888888,
             "#fdca26"
            ],
            [
             1,
             "#f0f921"
            ]
           ],
           "sequentialminus": [
            [
             0,
             "#0d0887"
            ],
            [
             0.1111111111111111,
             "#46039f"
            ],
            [
             0.2222222222222222,
             "#7201a8"
            ],
            [
             0.3333333333333333,
             "#9c179e"
            ],
            [
             0.4444444444444444,
             "#bd3786"
            ],
            [
             0.5555555555555556,
             "#d8576b"
            ],
            [
             0.6666666666666666,
             "#ed7953"
            ],
            [
             0.7777777777777778,
             "#fb9f3a"
            ],
            [
             0.8888888888888888,
             "#fdca26"
            ],
            [
             1,
             "#f0f921"
            ]
           ]
          },
          "colorway": [
           "#636efa",
           "#EF553B",
           "#00cc96",
           "#ab63fa",
           "#FFA15A",
           "#19d3f3",
           "#FF6692",
           "#B6E880",
           "#FF97FF",
           "#FECB52"
          ],
          "font": {
           "color": "#2a3f5f"
          },
          "geo": {
           "bgcolor": "white",
           "lakecolor": "white",
           "landcolor": "#E5ECF6",
           "showlakes": true,
           "showland": true,
           "subunitcolor": "white"
          },
          "hoverlabel": {
           "align": "left"
          },
          "hovermode": "closest",
          "mapbox": {
           "style": "light"
          },
          "paper_bgcolor": "white",
          "plot_bgcolor": "#E5ECF6",
          "polar": {
           "angularaxis": {
            "gridcolor": "white",
            "linecolor": "white",
            "ticks": ""
           },
           "bgcolor": "#E5ECF6",
           "radialaxis": {
            "gridcolor": "white",
            "linecolor": "white",
            "ticks": ""
           }
          },
          "scene": {
           "xaxis": {
            "backgroundcolor": "#E5ECF6",
            "gridcolor": "white",
            "gridwidth": 2,
            "linecolor": "white",
            "showbackground": true,
            "ticks": "",
            "zerolinecolor": "white"
           },
           "yaxis": {
            "backgroundcolor": "#E5ECF6",
            "gridcolor": "white",
            "gridwidth": 2,
            "linecolor": "white",
            "showbackground": true,
            "ticks": "",
            "zerolinecolor": "white"
           },
           "zaxis": {
            "backgroundcolor": "#E5ECF6",
            "gridcolor": "white",
            "gridwidth": 2,
            "linecolor": "white",
            "showbackground": true,
            "ticks": "",
            "zerolinecolor": "white"
           }
          },
          "shapedefaults": {
           "line": {
            "color": "#2a3f5f"
           }
          },
          "ternary": {
           "aaxis": {
            "gridcolor": "white",
            "linecolor": "white",
            "ticks": ""
           },
           "baxis": {
            "gridcolor": "white",
            "linecolor": "white",
            "ticks": ""
           },
           "bgcolor": "#E5ECF6",
           "caxis": {
            "gridcolor": "white",
            "linecolor": "white",
            "ticks": ""
           }
          },
          "title": {
           "x": 0.05
          },
          "xaxis": {
           "automargin": true,
           "gridcolor": "white",
           "linecolor": "white",
           "ticks": "",
           "title": {
            "standoff": 15
           },
           "zerolinecolor": "white",
           "zerolinewidth": 2
          },
          "yaxis": {
           "automargin": true,
           "gridcolor": "white",
           "linecolor": "white",
           "ticks": "",
           "title": {
            "standoff": 15
           },
           "zerolinecolor": "white",
           "zerolinewidth": 2
          }
         }
        },
        "title": {
         "text": "Average grid evolution time"
        },
        "width": 1000,
        "xaxis": {
         "title": {
          "text": "Lattice Size"
         },
         "type": "log"
        },
        "yaxis": {
         "title": {
          "text": "Time (ms)"
         },
         "type": "log"
        }
       }
      }
     },
     "metadata": {}
    }
   ],
   "source": [
    "fig = go.Figure()\n",
    "for idx, (name, dfs, _) in enumerate(runs):\n",
    "    df = pd.concat(dfs)\n",
    "    df[\"size\"] **= 2\n",
    "    df[\"avgEvolveTime\"] = df[\"avgEvolveTime\"] / 1e6 # time is originally in ns\n",
    "\n",
    "    add_mean_std_trace(fig, df, name, idx, \"avgEvolveTime\")\n",
    "\n",
    "fig.update_layout(title=\"Average grid evolution time\", xaxis_title='Lattice Size', yaxis_title=\"Time (ms)\", width=plot_width, height=plot_height)\n",
    "fig.update_xaxes(type=\"log\")\n",
    "fig.update_yaxes(type=\"log\")\n",
    "fig.show()"
   ]
  },
  {
   "cell_type": "code",
   "execution_count": 8,
   "metadata": {},
   "outputs": [
    {
     "output_type": "display_data",
     "data": {
      "application/vnd.plotly.v1+json": {
       "config": {
        "plotlyServerURL": "https://plot.ly"
       },
       "data": [
        {
         "line": {
          "color": "#636EFA"
         },
         "mode": "lines+markers",
         "name": "1 CPU",
         "type": "scatter",
         "x": [
          1024,
          4096,
          16384,
          65536,
          262144,
          1048576,
          4194304,
          16777216
         ],
         "y": [
          0.0228108,
          0.08256300000000001,
          0.2945976,
          1.1790126000000003,
          4.7875112,
          6.570723800000001,
          20.6924138,
          120.09936259999999
         ]
        },
        {
         "line": {
          "width": 0
         },
         "mode": "lines",
         "name": "1 CPU upper",
         "showlegend": false,
         "type": "scatter",
         "x": [
          1024,
          4096,
          16384,
          65536,
          262144,
          1048576,
          4194304,
          16777216
         ],
         "y": [
          0.023027764743679704,
          0.08838633276569355,
          0.29737777307015234,
          1.1865083393764728,
          4.803639026549166,
          6.616043757377518,
          20.725084552496693,
          120.48067993367931
         ]
        },
        {
         "fill": "tonexty",
         "fillcolor": "rgba(99, 110, 250, 0.30)",
         "line": {
          "width": 0
         },
         "mode": "lines",
         "name": "1 CPU lower",
         "showlegend": false,
         "type": "scatter",
         "x": [
          1024,
          4096,
          16384,
          65536,
          262144,
          1048576,
          4194304,
          16777216
         ],
         "y": [
          0.022593835256320294,
          0.07673966723430647,
          0.2918174269298477,
          1.1715168606235278,
          4.771383373450834,
          6.525403842622483,
          20.65974304750331,
          119.71804526632067
         ]
        },
        {
         "line": {
          "color": "#EF553B"
         },
         "mode": "lines+markers",
         "name": "2 CPUs",
         "type": "scatter",
         "x": [
          1024,
          4096,
          16384,
          65536,
          262144,
          1048576,
          4194304,
          16777216
         ],
         "y": [
          0.10160339999999998,
          0.2890954,
          1.4807478,
          5.976062399999999,
          25.108557400000002,
          32.9367484,
          68.6284128,
          308.65515459999995
         ]
        },
        {
         "line": {
          "width": 0
         },
         "mode": "lines",
         "name": "2 CPUs upper",
         "showlegend": false,
         "type": "scatter",
         "x": [
          1024,
          4096,
          16384,
          65536,
          262144,
          1048576,
          4194304,
          16777216
         ],
         "y": [
          0.11588375989742554,
          0.3821223278370516,
          1.5836862646801184,
          6.299930682222572,
          26.6696476193678,
          33.11500231214585,
          69.03471178855916,
          310.3985349867103
         ]
        },
        {
         "fill": "tonexty",
         "fillcolor": "rgba(239, 85, 59, 0.30)",
         "line": {
          "width": 0
         },
         "mode": "lines",
         "name": "2 CPUs lower",
         "showlegend": false,
         "type": "scatter",
         "x": [
          1024,
          4096,
          16384,
          65536,
          262144,
          1048576,
          4194304,
          16777216
         ],
         "y": [
          0.08732304010257443,
          0.19606847216294843,
          1.3778093353198817,
          5.652194117777427,
          23.547467180632204,
          32.75849448785415,
          68.22211381144085,
          306.9117742132896
         ]
        },
        {
         "line": {
          "color": "#00CC96"
         },
         "mode": "lines+markers",
         "name": "4 CPUs",
         "type": "scatter",
         "x": [
          1024,
          4096,
          16384,
          65536,
          262144,
          1048576,
          4194304,
          16777216
         ],
         "y": [
          0.09192039999999999,
          0.3220072,
          1.2850574,
          5.2391466,
          20.188633799999998,
          29.741238199999998,
          59.410155399999994,
          277.968951
         ]
        },
        {
         "line": {
          "width": 0
         },
         "mode": "lines",
         "name": "4 CPUs upper",
         "showlegend": false,
         "type": "scatter",
         "x": [
          1024,
          4096,
          16384,
          65536,
          262144,
          1048576,
          4194304,
          16777216
         ],
         "y": [
          0.09958140768828748,
          0.32976341658413433,
          1.3092505548542144,
          5.46969794339947,
          20.230654221894596,
          31.16608036186362,
          59.76509473769209,
          280.3295288673589
         ]
        },
        {
         "fill": "tonexty",
         "fillcolor": "rgba(0, 204, 150, 0.30)",
         "line": {
          "width": 0
         },
         "mode": "lines",
         "name": "4 CPUs lower",
         "showlegend": false,
         "type": "scatter",
         "x": [
          1024,
          4096,
          16384,
          65536,
          262144,
          1048576,
          4194304,
          16777216
         ],
         "y": [
          0.08425939231171249,
          0.31425098341586566,
          1.2608642451457854,
          5.00859525660053,
          20.1466133781054,
          28.316396038136375,
          59.0552160623079,
          275.60837313264113
         ]
        },
        {
         "line": {
          "color": "#AB63FA"
         },
         "mode": "lines+markers",
         "name": "6 CPUs",
         "type": "scatter",
         "x": [
          1024,
          4096,
          16384,
          65536,
          262144,
          1048576,
          4194304,
          16777216
         ],
         "y": [
          0.08932920000000001,
          0.2812036,
          1.14044,
          4.473880599999999,
          18.058076800000002,
          24.8218046,
          50.793133,
          226.6301728
         ]
        },
        {
         "line": {
          "width": 0
         },
         "mode": "lines",
         "name": "6 CPUs upper",
         "showlegend": false,
         "type": "scatter",
         "x": [
          1024,
          4096,
          16384,
          65536,
          262144,
          1048576,
          4194304,
          16777216
         ],
         "y": [
          0.10106680764380888,
          0.2959549183241363,
          1.1774967248485344,
          4.487767172986161,
          18.298318977007288,
          25.175200806755676,
          52.53834712718139,
          233.77562258531685
         ]
        },
        {
         "fill": "tonexty",
         "fillcolor": "rgba(171, 99, 250, 0.30)",
         "line": {
          "width": 0
         },
         "mode": "lines",
         "name": "6 CPUs lower",
         "showlegend": false,
         "type": "scatter",
         "x": [
          1024,
          4096,
          16384,
          65536,
          262144,
          1048576,
          4194304,
          16777216
         ],
         "y": [
          0.07759159235619115,
          0.2664522816758637,
          1.1033832751514654,
          4.459994027013837,
          17.817834622992716,
          24.468408393244324,
          49.047918872818606,
          219.48472301468314
         ]
        },
        {
         "line": {
          "color": "#FFA15A"
         },
         "mode": "lines+markers",
         "name": "8 CPUs",
         "type": "scatter",
         "x": [
          1024,
          4096,
          16384,
          65536,
          262144,
          1048576,
          4194304,
          16777216
         ],
         "y": [
          0.0871666,
          0.2591728,
          1.0499226,
          4.1415744000000005,
          16.318491799999997,
          22.6534596,
          48.1326232,
          227.267566
         ]
        },
        {
         "line": {
          "width": 0
         },
         "mode": "lines",
         "name": "8 CPUs upper",
         "showlegend": false,
         "type": "scatter",
         "x": [
          1024,
          4096,
          16384,
          65536,
          262144,
          1048576,
          4194304,
          16777216
         ],
         "y": [
          0.10499462352477694,
          0.2621940415825286,
          1.0721892354283713,
          4.210740465916026,
          16.371019741480698,
          22.968952962005133,
          49.47539294384709,
          233.0307311623336
         ]
        },
        {
         "fill": "tonexty",
         "fillcolor": "rgba(255, 161, 90, 0.30)",
         "line": {
          "width": 0
         },
         "mode": "lines",
         "name": "8 CPUs lower",
         "showlegend": false,
         "type": "scatter",
         "x": [
          1024,
          4096,
          16384,
          65536,
          262144,
          1048576,
          4194304,
          16777216
         ],
         "y": [
          0.06933857647522305,
          0.25615155841747134,
          1.0276559645716286,
          4.072408334083975,
          16.265963858519296,
          22.33796623799487,
          46.789853456152905,
          221.50440083766637
         ]
        },
        {
         "line": {
          "color": "#19D3F3"
         },
         "mode": "lines+markers",
         "name": "10 CPUs",
         "type": "scatter",
         "x": [
          1024,
          4096,
          16384,
          65536,
          262144,
          1048576,
          4194304,
          16777216
         ],
         "y": [
          0.085954,
          0.24570979999999998,
          0.9162623999999999,
          3.7133185999999996,
          14.616163199999999,
          20.172888399999998,
          41.985783399999995,
          199.64482719999998
         ]
        },
        {
         "line": {
          "width": 0
         },
         "mode": "lines",
         "name": "10 CPUs upper",
         "showlegend": false,
         "type": "scatter",
         "x": [
          1024,
          4096,
          16384,
          65536,
          262144,
          1048576,
          4194304,
          16777216
         ],
         "y": [
          0.10357657955011128,
          0.25396883915113616,
          0.9257276886538128,
          3.827207490436249,
          15.03039569611263,
          20.68894032952967,
          42.03540116438232,
          199.88926081042968
         ]
        },
        {
         "fill": "tonexty",
         "fillcolor": "rgba(25, 211, 243, 0.30)",
         "line": {
          "width": 0
         },
         "mode": "lines",
         "name": "10 CPUs lower",
         "showlegend": false,
         "type": "scatter",
         "x": [
          1024,
          4096,
          16384,
          65536,
          262144,
          1048576,
          4194304,
          16777216
         ],
         "y": [
          0.06833142044988873,
          0.23745076084886382,
          0.906797111346187,
          3.59942970956375,
          14.201930703887369,
          19.656836470470324,
          41.93616563561767,
          199.40039358957029
         ]
        },
        {
         "line": {
          "color": "#FF6692"
         },
         "mode": "lines+markers",
         "name": "12 CPUs",
         "type": "scatter",
         "x": [
          1024,
          4096,
          16384,
          65536,
          262144,
          1048576,
          4194304,
          16777216
         ],
         "y": [
          0.095869,
          0.22181220000000001,
          0.8457336,
          3.2286610000000002,
          13.3384938,
          17.80107,
          38.7690122,
          182.4863906
         ]
        },
        {
         "line": {
          "width": 0
         },
         "mode": "lines",
         "name": "12 CPUs upper",
         "showlegend": false,
         "type": "scatter",
         "x": [
          1024,
          4096,
          16384,
          65536,
          262144,
          1048576,
          4194304,
          16777216
         ],
         "y": [
          0.11580514261837029,
          0.22814181789526036,
          0.8770718403191372,
          3.233230680787539,
          13.958045781483152,
          17.822190928945005,
          40.91725846131333,
          192.7028879371985
         ]
        },
        {
         "fill": "tonexty",
         "fillcolor": "rgba(255, 102, 146, 0.30)",
         "line": {
          "width": 0
         },
         "mode": "lines",
         "name": "12 CPUs lower",
         "showlegend": false,
         "type": "scatter",
         "x": [
          1024,
          4096,
          16384,
          65536,
          262144,
          1048576,
          4194304,
          16777216
         ],
         "y": [
          0.0759328573816297,
          0.21548258210473967,
          0.8143953596808627,
          3.2240913192124614,
          12.718941818516848,
          17.779949071054993,
          36.62076593868667,
          172.26989326280147
         ]
        },
        {
         "line": {
          "color": "#B6E880"
         },
         "mode": "lines+markers",
         "name": "14 CPUs",
         "type": "scatter",
         "x": [
          1024,
          4096,
          16384,
          65536,
          262144,
          1048576,
          4194304,
          16777216
         ],
         "y": [
          0.0970488,
          0.2212154,
          0.7499942,
          2.9657402,
          11.746534800000001,
          16.9017282,
          35.753085000000006,
          162.2966442
         ]
        },
        {
         "line": {
          "width": 0
         },
         "mode": "lines",
         "name": "14 CPUs upper",
         "showlegend": false,
         "type": "scatter",
         "x": [
          1024,
          4096,
          16384,
          65536,
          262144,
          1048576,
          4194304,
          16777216
         ],
         "y": [
          0.12320100289382904,
          0.22862853444502393,
          0.759943273585013,
          2.9904640672885128,
          11.779806990665781,
          17.77397622012083,
          37.97542364479483,
          162.48693905724184
         ]
        },
        {
         "fill": "tonexty",
         "fillcolor": "rgba(182, 232, 128, 0.30)",
         "line": {
          "width": 0
         },
         "mode": "lines",
         "name": "14 CPUs lower",
         "showlegend": false,
         "type": "scatter",
         "x": [
          1024,
          4096,
          16384,
          65536,
          262144,
          1048576,
          4194304,
          16777216
         ],
         "y": [
          0.07089659710617097,
          0.21380226555497608,
          0.7400451264149871,
          2.941016332711487,
          11.71326260933422,
          16.029480179879172,
          33.53074635520518,
          162.10634934275816
         ]
        },
        {
         "line": {
          "color": "#FF97FF"
         },
         "mode": "lines+markers",
         "name": "16 CPUs",
         "type": "scatter",
         "x": [
          1024,
          4096,
          16384,
          65536,
          262144,
          1048576,
          4194304,
          16777216
         ],
         "y": [
          0.20204740000000002,
          0.2463288,
          0.8247671999999999,
          2.8675903999999997,
          10.895649200000001,
          15.372546,
          33.449107,
          149.965726
         ]
        },
        {
         "line": {
          "width": 0
         },
         "mode": "lines",
         "name": "16 CPUs upper",
         "showlegend": false,
         "type": "scatter",
         "x": [
          1024,
          4096,
          16384,
          65536,
          262144,
          1048576,
          4194304,
          16777216
         ],
         "y": [
          0.22539703311917342,
          0.2535748149530621,
          0.9048175377238347,
          3.0400380121023423,
          10.929507845848587,
          16.192201725342354,
          35.69674232891759,
          150.09451830935697
         ]
        },
        {
         "fill": "tonexty",
         "fillcolor": "rgba(255, 151, 255, 0.30)",
         "line": {
          "width": 0
         },
         "mode": "lines",
         "name": "16 CPUs lower",
         "showlegend": false,
         "type": "scatter",
         "x": [
          1024,
          4096,
          16384,
          65536,
          262144,
          1048576,
          4194304,
          16777216
         ],
         "y": [
          0.17869776688082661,
          0.23908278504693786,
          0.7447168622761652,
          2.695142787897657,
          10.861790554151415,
          14.552890274657646,
          31.20147167108241,
          149.836933690643
         ]
        },
        {
         "line": {
          "color": "#FECB52"
         },
         "mode": "lines+markers",
         "name": "GPU",
         "type": "scatter",
         "x": [
          1024,
          4096,
          16384,
          65536,
          262144,
          1048576,
          4194304,
          16777216
         ],
         "y": [
          0.23700000000000002,
          0.23279160000000002,
          0.23499659999999997,
          0.2329008,
          0.23837520000000004,
          0.24043460000000003,
          0.5014564,
          0.5190918
         ]
        },
        {
         "line": {
          "width": 0
         },
         "mode": "lines",
         "name": "GPU upper",
         "showlegend": false,
         "type": "scatter",
         "x": [
          1024,
          4096,
          16384,
          65536,
          262144,
          1048576,
          4194304,
          16777216
         ],
         "y": [
          0.24247201713264863,
          0.23560538122816968,
          0.2414318658297851,
          0.23519182961569682,
          0.24134444833922664,
          0.24145314371531124,
          0.5194133279332519,
          0.5230906819937577
         ]
        },
        {
         "fill": "tonexty",
         "fillcolor": "rgba(254, 203, 82, 0.30)",
         "line": {
          "width": 0
         },
         "mode": "lines",
         "name": "GPU lower",
         "showlegend": false,
         "type": "scatter",
         "x": [
          1024,
          4096,
          16384,
          65536,
          262144,
          1048576,
          4194304,
          16777216
         ],
         "y": [
          0.2315279828673514,
          0.22997781877183035,
          0.22856133417021485,
          0.23060977038430316,
          0.23540595166077344,
          0.23941605628468882,
          0.48349947206674815,
          0.5150929180062422
         ]
        }
       ],
       "layout": {
        "height": 600,
        "template": {
         "data": {
          "bar": [
           {
            "error_x": {
             "color": "#2a3f5f"
            },
            "error_y": {
             "color": "#2a3f5f"
            },
            "marker": {
             "line": {
              "color": "#E5ECF6",
              "width": 0.5
             },
             "pattern": {
              "fillmode": "overlay",
              "size": 10,
              "solidity": 0.2
             }
            },
            "type": "bar"
           }
          ],
          "barpolar": [
           {
            "marker": {
             "line": {
              "color": "#E5ECF6",
              "width": 0.5
             },
             "pattern": {
              "fillmode": "overlay",
              "size": 10,
              "solidity": 0.2
             }
            },
            "type": "barpolar"
           }
          ],
          "carpet": [
           {
            "aaxis": {
             "endlinecolor": "#2a3f5f",
             "gridcolor": "white",
             "linecolor": "white",
             "minorgridcolor": "white",
             "startlinecolor": "#2a3f5f"
            },
            "baxis": {
             "endlinecolor": "#2a3f5f",
             "gridcolor": "white",
             "linecolor": "white",
             "minorgridcolor": "white",
             "startlinecolor": "#2a3f5f"
            },
            "type": "carpet"
           }
          ],
          "choropleth": [
           {
            "colorbar": {
             "outlinewidth": 0,
             "ticks": ""
            },
            "type": "choropleth"
           }
          ],
          "contour": [
           {
            "colorbar": {
             "outlinewidth": 0,
             "ticks": ""
            },
            "colorscale": [
             [
              0,
              "#0d0887"
             ],
             [
              0.1111111111111111,
              "#46039f"
             ],
             [
              0.2222222222222222,
              "#7201a8"
             ],
             [
              0.3333333333333333,
              "#9c179e"
             ],
             [
              0.4444444444444444,
              "#bd3786"
             ],
             [
              0.5555555555555556,
              "#d8576b"
             ],
             [
              0.6666666666666666,
              "#ed7953"
             ],
             [
              0.7777777777777778,
              "#fb9f3a"
             ],
             [
              0.8888888888888888,
              "#fdca26"
             ],
             [
              1,
              "#f0f921"
             ]
            ],
            "type": "contour"
           }
          ],
          "contourcarpet": [
           {
            "colorbar": {
             "outlinewidth": 0,
             "ticks": ""
            },
            "type": "contourcarpet"
           }
          ],
          "heatmap": [
           {
            "colorbar": {
             "outlinewidth": 0,
             "ticks": ""
            },
            "colorscale": [
             [
              0,
              "#0d0887"
             ],
             [
              0.1111111111111111,
              "#46039f"
             ],
             [
              0.2222222222222222,
              "#7201a8"
             ],
             [
              0.3333333333333333,
              "#9c179e"
             ],
             [
              0.4444444444444444,
              "#bd3786"
             ],
             [
              0.5555555555555556,
              "#d8576b"
             ],
             [
              0.6666666666666666,
              "#ed7953"
             ],
             [
              0.7777777777777778,
              "#fb9f3a"
             ],
             [
              0.8888888888888888,
              "#fdca26"
             ],
             [
              1,
              "#f0f921"
             ]
            ],
            "type": "heatmap"
           }
          ],
          "heatmapgl": [
           {
            "colorbar": {
             "outlinewidth": 0,
             "ticks": ""
            },
            "colorscale": [
             [
              0,
              "#0d0887"
             ],
             [
              0.1111111111111111,
              "#46039f"
             ],
             [
              0.2222222222222222,
              "#7201a8"
             ],
             [
              0.3333333333333333,
              "#9c179e"
             ],
             [
              0.4444444444444444,
              "#bd3786"
             ],
             [
              0.5555555555555556,
              "#d8576b"
             ],
             [
              0.6666666666666666,
              "#ed7953"
             ],
             [
              0.7777777777777778,
              "#fb9f3a"
             ],
             [
              0.8888888888888888,
              "#fdca26"
             ],
             [
              1,
              "#f0f921"
             ]
            ],
            "type": "heatmapgl"
           }
          ],
          "histogram": [
           {
            "marker": {
             "pattern": {
              "fillmode": "overlay",
              "size": 10,
              "solidity": 0.2
             }
            },
            "type": "histogram"
           }
          ],
          "histogram2d": [
           {
            "colorbar": {
             "outlinewidth": 0,
             "ticks": ""
            },
            "colorscale": [
             [
              0,
              "#0d0887"
             ],
             [
              0.1111111111111111,
              "#46039f"
             ],
             [
              0.2222222222222222,
              "#7201a8"
             ],
             [
              0.3333333333333333,
              "#9c179e"
             ],
             [
              0.4444444444444444,
              "#bd3786"
             ],
             [
              0.5555555555555556,
              "#d8576b"
             ],
             [
              0.6666666666666666,
              "#ed7953"
             ],
             [
              0.7777777777777778,
              "#fb9f3a"
             ],
             [
              0.8888888888888888,
              "#fdca26"
             ],
             [
              1,
              "#f0f921"
             ]
            ],
            "type": "histogram2d"
           }
          ],
          "histogram2dcontour": [
           {
            "colorbar": {
             "outlinewidth": 0,
             "ticks": ""
            },
            "colorscale": [
             [
              0,
              "#0d0887"
             ],
             [
              0.1111111111111111,
              "#46039f"
             ],
             [
              0.2222222222222222,
              "#7201a8"
             ],
             [
              0.3333333333333333,
              "#9c179e"
             ],
             [
              0.4444444444444444,
              "#bd3786"
             ],
             [
              0.5555555555555556,
              "#d8576b"
             ],
             [
              0.6666666666666666,
              "#ed7953"
             ],
             [
              0.7777777777777778,
              "#fb9f3a"
             ],
             [
              0.8888888888888888,
              "#fdca26"
             ],
             [
              1,
              "#f0f921"
             ]
            ],
            "type": "histogram2dcontour"
           }
          ],
          "mesh3d": [
           {
            "colorbar": {
             "outlinewidth": 0,
             "ticks": ""
            },
            "type": "mesh3d"
           }
          ],
          "parcoords": [
           {
            "line": {
             "colorbar": {
              "outlinewidth": 0,
              "ticks": ""
             }
            },
            "type": "parcoords"
           }
          ],
          "pie": [
           {
            "automargin": true,
            "type": "pie"
           }
          ],
          "scatter": [
           {
            "marker": {
             "colorbar": {
              "outlinewidth": 0,
              "ticks": ""
             }
            },
            "type": "scatter"
           }
          ],
          "scatter3d": [
           {
            "line": {
             "colorbar": {
              "outlinewidth": 0,
              "ticks": ""
             }
            },
            "marker": {
             "colorbar": {
              "outlinewidth": 0,
              "ticks": ""
             }
            },
            "type": "scatter3d"
           }
          ],
          "scattercarpet": [
           {
            "marker": {
             "colorbar": {
              "outlinewidth": 0,
              "ticks": ""
             }
            },
            "type": "scattercarpet"
           }
          ],
          "scattergeo": [
           {
            "marker": {
             "colorbar": {
              "outlinewidth": 0,
              "ticks": ""
             }
            },
            "type": "scattergeo"
           }
          ],
          "scattergl": [
           {
            "marker": {
             "colorbar": {
              "outlinewidth": 0,
              "ticks": ""
             }
            },
            "type": "scattergl"
           }
          ],
          "scattermapbox": [
           {
            "marker": {
             "colorbar": {
              "outlinewidth": 0,
              "ticks": ""
             }
            },
            "type": "scattermapbox"
           }
          ],
          "scatterpolar": [
           {
            "marker": {
             "colorbar": {
              "outlinewidth": 0,
              "ticks": ""
             }
            },
            "type": "scatterpolar"
           }
          ],
          "scatterpolargl": [
           {
            "marker": {
             "colorbar": {
              "outlinewidth": 0,
              "ticks": ""
             }
            },
            "type": "scatterpolargl"
           }
          ],
          "scatterternary": [
           {
            "marker": {
             "colorbar": {
              "outlinewidth": 0,
              "ticks": ""
             }
            },
            "type": "scatterternary"
           }
          ],
          "surface": [
           {
            "colorbar": {
             "outlinewidth": 0,
             "ticks": ""
            },
            "colorscale": [
             [
              0,
              "#0d0887"
             ],
             [
              0.1111111111111111,
              "#46039f"
             ],
             [
              0.2222222222222222,
              "#7201a8"
             ],
             [
              0.3333333333333333,
              "#9c179e"
             ],
             [
              0.4444444444444444,
              "#bd3786"
             ],
             [
              0.5555555555555556,
              "#d8576b"
             ],
             [
              0.6666666666666666,
              "#ed7953"
             ],
             [
              0.7777777777777778,
              "#fb9f3a"
             ],
             [
              0.8888888888888888,
              "#fdca26"
             ],
             [
              1,
              "#f0f921"
             ]
            ],
            "type": "surface"
           }
          ],
          "table": [
           {
            "cells": {
             "fill": {
              "color": "#EBF0F8"
             },
             "line": {
              "color": "white"
             }
            },
            "header": {
             "fill": {
              "color": "#C8D4E3"
             },
             "line": {
              "color": "white"
             }
            },
            "type": "table"
           }
          ]
         },
         "layout": {
          "annotationdefaults": {
           "arrowcolor": "#2a3f5f",
           "arrowhead": 0,
           "arrowwidth": 1
          },
          "autotypenumbers": "strict",
          "coloraxis": {
           "colorbar": {
            "outlinewidth": 0,
            "ticks": ""
           }
          },
          "colorscale": {
           "diverging": [
            [
             0,
             "#8e0152"
            ],
            [
             0.1,
             "#c51b7d"
            ],
            [
             0.2,
             "#de77ae"
            ],
            [
             0.3,
             "#f1b6da"
            ],
            [
             0.4,
             "#fde0ef"
            ],
            [
             0.5,
             "#f7f7f7"
            ],
            [
             0.6,
             "#e6f5d0"
            ],
            [
             0.7,
             "#b8e186"
            ],
            [
             0.8,
             "#7fbc41"
            ],
            [
             0.9,
             "#4d9221"
            ],
            [
             1,
             "#276419"
            ]
           ],
           "sequential": [
            [
             0,
             "#0d0887"
            ],
            [
             0.1111111111111111,
             "#46039f"
            ],
            [
             0.2222222222222222,
             "#7201a8"
            ],
            [
             0.3333333333333333,
             "#9c179e"
            ],
            [
             0.4444444444444444,
             "#bd3786"
            ],
            [
             0.5555555555555556,
             "#d8576b"
            ],
            [
             0.6666666666666666,
             "#ed7953"
            ],
            [
             0.7777777777777778,
             "#fb9f3a"
            ],
            [
             0.8888888888888888,
             "#fdca26"
            ],
            [
             1,
             "#f0f921"
            ]
           ],
           "sequentialminus": [
            [
             0,
             "#0d0887"
            ],
            [
             0.1111111111111111,
             "#46039f"
            ],
            [
             0.2222222222222222,
             "#7201a8"
            ],
            [
             0.3333333333333333,
             "#9c179e"
            ],
            [
             0.4444444444444444,
             "#bd3786"
            ],
            [
             0.5555555555555556,
             "#d8576b"
            ],
            [
             0.6666666666666666,
             "#ed7953"
            ],
            [
             0.7777777777777778,
             "#fb9f3a"
            ],
            [
             0.8888888888888888,
             "#fdca26"
            ],
            [
             1,
             "#f0f921"
            ]
           ]
          },
          "colorway": [
           "#636efa",
           "#EF553B",
           "#00cc96",
           "#ab63fa",
           "#FFA15A",
           "#19d3f3",
           "#FF6692",
           "#B6E880",
           "#FF97FF",
           "#FECB52"
          ],
          "font": {
           "color": "#2a3f5f"
          },
          "geo": {
           "bgcolor": "white",
           "lakecolor": "white",
           "landcolor": "#E5ECF6",
           "showlakes": true,
           "showland": true,
           "subunitcolor": "white"
          },
          "hoverlabel": {
           "align": "left"
          },
          "hovermode": "closest",
          "mapbox": {
           "style": "light"
          },
          "paper_bgcolor": "white",
          "plot_bgcolor": "#E5ECF6",
          "polar": {
           "angularaxis": {
            "gridcolor": "white",
            "linecolor": "white",
            "ticks": ""
           },
           "bgcolor": "#E5ECF6",
           "radialaxis": {
            "gridcolor": "white",
            "linecolor": "white",
            "ticks": ""
           }
          },
          "scene": {
           "xaxis": {
            "backgroundcolor": "#E5ECF6",
            "gridcolor": "white",
            "gridwidth": 2,
            "linecolor": "white",
            "showbackground": true,
            "ticks": "",
            "zerolinecolor": "white"
           },
           "yaxis": {
            "backgroundcolor": "#E5ECF6",
            "gridcolor": "white",
            "gridwidth": 2,
            "linecolor": "white",
            "showbackground": true,
            "ticks": "",
            "zerolinecolor": "white"
           },
           "zaxis": {
            "backgroundcolor": "#E5ECF6",
            "gridcolor": "white",
            "gridwidth": 2,
            "linecolor": "white",
            "showbackground": true,
            "ticks": "",
            "zerolinecolor": "white"
           }
          },
          "shapedefaults": {
           "line": {
            "color": "#2a3f5f"
           }
          },
          "ternary": {
           "aaxis": {
            "gridcolor": "white",
            "linecolor": "white",
            "ticks": ""
           },
           "baxis": {
            "gridcolor": "white",
            "linecolor": "white",
            "ticks": ""
           },
           "bgcolor": "#E5ECF6",
           "caxis": {
            "gridcolor": "white",
            "linecolor": "white",
            "ticks": ""
           }
          },
          "title": {
           "x": 0.05
          },
          "xaxis": {
           "automargin": true,
           "gridcolor": "white",
           "linecolor": "white",
           "ticks": "",
           "title": {
            "standoff": 15
           },
           "zerolinecolor": "white",
           "zerolinewidth": 2
          },
          "yaxis": {
           "automargin": true,
           "gridcolor": "white",
           "linecolor": "white",
           "ticks": "",
           "title": {
            "standoff": 15
           },
           "zerolinecolor": "white",
           "zerolinewidth": 2
          }
         }
        },
        "title": {
         "text": "Average buffer update time"
        },
        "width": 1000,
        "xaxis": {
         "title": {
          "text": "Lattice Size"
         },
         "type": "log"
        },
        "yaxis": {
         "title": {
          "text": "Time (ms)"
         },
         "type": "log"
        }
       }
      }
     },
     "metadata": {}
    }
   ],
   "source": [
    "fig = go.Figure()\n",
    "for idx, (name, dfs, _) in enumerate(runs):\n",
    "    df = pd.concat(dfs)\n",
    "    df[\"size\"] **= 2\n",
    "    df[\"avgBufferTime\"] = df[\"avgBufferTime\"] / 1e6 # time is originally in ns\n",
    "\n",
    "    add_mean_std_trace(fig, df, name, idx, \"avgBufferTime\")\n",
    "\n",
    "fig.update_layout(title=\"Average buffer update time\", xaxis_title='Lattice Size', yaxis_title=\"Time (ms)\", width=plot_width, height=plot_height)\n",
    "fig.update_xaxes(type=\"log\")\n",
    "fig.update_yaxes(type=\"log\")\n",
    "fig.show()"
   ]
  },
  {
   "cell_type": "code",
   "execution_count": 6,
   "metadata": {},
   "outputs": [
    {
     "output_type": "display_data",
     "data": {
      "application/vnd.plotly.v1+json": {
       "config": {
        "plotlyServerURL": "https://plot.ly"
       },
       "data": [
        {
         "line": {
          "color": "#EF553B"
         },
         "mode": "lines+markers",
         "name": "2 CPUs",
         "type": "scatter",
         "x": [
          1024,
          4096,
          16384,
          65536,
          262144,
          1048576,
          4194304,
          16777216
         ],
         "y": [
          1.1054910322212532,
          2.0129964136311096,
          1.8922997925153553,
          1.9619800510371814,
          1.9801773014863566,
          2.000004014370108,
          1.9320773396097521,
          1.9614275300342556
         ]
        },
        {
         "line": {
          "width": 0
         },
         "mode": "lines",
         "name": "2 CPUs upper",
         "showlegend": false,
         "type": "scatter",
         "x": [
          1024,
          4096,
          16384,
          65536,
          262144,
          1048576,
          4194304,
          16777216
         ],
         "y": [
          1.45740638803285,
          2.105558872375394,
          1.9053046822695,
          2.0082506525359864,
          1.9873686479319326,
          2.007742278723221,
          1.9440578556284653,
          1.9710190333378772
         ]
        },
        {
         "fill": "tonexty",
         "fillcolor": "rgba(239, 85, 59, 0.30)",
         "line": {
          "width": 0
         },
         "mode": "lines",
         "name": "2 CPUs lower",
         "showlegend": false,
         "type": "scatter",
         "x": [
          1024,
          4096,
          16384,
          65536,
          262144,
          1048576,
          4194304,
          16777216
         ],
         "y": [
          0.7535756764096564,
          1.920433954886825,
          1.8792949027612107,
          1.9157094495383764,
          1.9729859550407807,
          1.9922657500169951,
          1.920096823591039,
          1.951836026730634
         ]
        },
        {
         "line": {
          "color": "#00CC96"
         },
         "mode": "lines+markers",
         "name": "4 CPUs",
         "type": "scatter",
         "x": [
          1024,
          4096,
          16384,
          65536,
          262144,
          1048576,
          4194304,
          16777216
         ],
         "y": [
          1.1040810428747,
          3.2171881093070844,
          3.5449049474176277,
          3.8747294425403482,
          3.894421717949881,
          3.9516193094593497,
          3.849994134508898,
          3.8825179427352743
         ]
        },
        {
         "line": {
          "width": 0
         },
         "mode": "lines",
         "name": "4 CPUs upper",
         "showlegend": false,
         "type": "scatter",
         "x": [
          1024,
          4096,
          16384,
          65536,
          262144,
          1048576,
          4194304,
          16777216
         ],
         "y": [
          1.4905569681409063,
          3.3014102012810733,
          3.586088395891403,
          3.900972729166138,
          3.89764668415826,
          3.964009089256185,
          3.8540226054790283,
          3.8871100599304658
         ]
        },
        {
         "fill": "tonexty",
         "fillcolor": "rgba(0, 204, 150, 0.30)",
         "line": {
          "width": 0
         },
         "mode": "lines",
         "name": "4 CPUs lower",
         "showlegend": false,
         "type": "scatter",
         "x": [
          1024,
          4096,
          16384,
          65536,
          262144,
          1048576,
          4194304,
          16777216
         ],
         "y": [
          0.7176051176084938,
          3.1329660173330955,
          3.5037214989438525,
          3.8484861559145584,
          3.8911967517415014,
          3.9392295296625144,
          3.8459656635387676,
          3.877925825540083
         ]
        },
        {
         "line": {
          "color": "#AB63FA"
         },
         "mode": "lines+markers",
         "name": "6 CPUs",
         "type": "scatter",
         "x": [
          1024,
          4096,
          16384,
          65536,
          262144,
          1048576,
          4194304,
          16777216
         ],
         "y": [
          0.9613599309565307,
          3.650160725945594,
          4.785259603891488,
          5.625502026066186,
          5.768164801376,
          5.845649178972645,
          5.738089871421861,
          5.779999354995018
         ]
        },
        {
         "line": {
          "width": 0
         },
         "mode": "lines",
         "name": "6 CPUs upper",
         "showlegend": false,
         "type": "scatter",
         "x": [
          1024,
          4096,
          16384,
          65536,
          262144,
          1048576,
          4194304,
          16777216
         ],
         "y": [
          1.4907642036763806,
          3.893248001660118,
          4.918009338988362,
          5.671870726580594,
          5.788136133237805,
          5.877648146877294,
          5.742682763697155,
          5.804962701302803
         ]
        },
        {
         "fill": "tonexty",
         "fillcolor": "rgba(171, 99, 250, 0.30)",
         "line": {
          "width": 0
         },
         "mode": "lines",
         "name": "6 CPUs lower",
         "showlegend": false,
         "type": "scatter",
         "x": [
          1024,
          4096,
          16384,
          65536,
          262144,
          1048576,
          4194304,
          16777216
         ],
         "y": [
          0.4319556582366807,
          3.4070734502310698,
          4.652509868794613,
          5.579133325551777,
          5.748193469514194,
          5.813650211067995,
          5.733496979146568,
          5.755036008687234
         ]
        },
        {
         "line": {
          "color": "#FFA15A"
         },
         "mode": "lines+markers",
         "name": "8 CPUs",
         "type": "scatter",
         "x": [
          1024,
          4096,
          16384,
          65536,
          262144,
          1048576,
          4194304,
          16777216
         ],
         "y": [
          1.0561100731309971,
          3.6610769614136442,
          5.33753335336039,
          7.11926317881427,
          7.535713593600855,
          7.6402918355741125,
          7.577786393082624,
          7.567912686531416
         ]
        },
        {
         "line": {
          "width": 0
         },
         "mode": "lines",
         "name": "8 CPUs upper",
         "showlegend": false,
         "type": "scatter",
         "x": [
          1024,
          4096,
          16384,
          65536,
          262144,
          1048576,
          4194304,
          16777216
         ],
         "y": [
          1.4672022213588747,
          4.123190671129682,
          5.660933627920943,
          7.469270011487005,
          7.582051846363923,
          7.700905744332778,
          7.591322707003618,
          7.627585781888297
         ]
        },
        {
         "fill": "tonexty",
         "fillcolor": "rgba(255, 161, 90, 0.30)",
         "line": {
          "width": 0
         },
         "mode": "lines",
         "name": "8 CPUs lower",
         "showlegend": false,
         "type": "scatter",
         "x": [
          1024,
          4096,
          16384,
          65536,
          262144,
          1048576,
          4194304,
          16777216
         ],
         "y": [
          0.6450179249031195,
          3.1989632516976068,
          5.014133078799838,
          6.769256346141535,
          7.489375340837787,
          7.579677926815447,
          7.56425007916163,
          7.508239591174536
         ]
        },
        {
         "line": {
          "color": "#19D3F3"
         },
         "mode": "lines+markers",
         "name": "10 CPUs",
         "type": "scatter",
         "x": [
          1024,
          4096,
          16384,
          65536,
          262144,
          1048576,
          4194304,
          16777216
         ],
         "y": [
          0.8741116240012061,
          3.3364668346555275,
          4.269732902793123,
          4.797690650351564,
          4.864738807694191,
          4.8826423822547955,
          4.8162405124266,
          4.835587609324538
         ]
        },
        {
         "line": {
          "width": 0
         },
         "mode": "lines",
         "name": "10 CPUs upper",
         "showlegend": false,
         "type": "scatter",
         "x": [
          1024,
          4096,
          16384,
          65536,
          262144,
          1048576,
          4194304,
          16777216
         ],
         "y": [
          1.3534178120789992,
          3.6252092045106075,
          4.362180473000815,
          4.857066306142614,
          4.9400357562436925,
          4.88410354534729,
          4.9018315298512825,
          4.850652046250146
         ]
        },
        {
         "fill": "tonexty",
         "fillcolor": "rgba(25, 211, 243, 0.30)",
         "line": {
          "width": 0
         },
         "mode": "lines",
         "name": "10 CPUs lower",
         "showlegend": false,
         "type": "scatter",
         "x": [
          1024,
          4096,
          16384,
          65536,
          262144,
          1048576,
          4194304,
          16777216
         ],
         "y": [
          0.39480543592341305,
          3.0477244648004476,
          4.1772853325854316,
          4.738314994560514,
          4.789441859144689,
          4.881181219162301,
          4.730649495001918,
          4.8205231723989295
         ]
        },
        {
         "line": {
          "color": "#FF6692"
         },
         "mode": "lines+markers",
         "name": "12 CPUs",
         "type": "scatter",
         "x": [
          1024,
          4096,
          16384,
          65536,
          262144,
          1048576,
          4194304,
          16777216
         ],
         "y": [
          0.5902715491000697,
          3.104969141886553,
          4.9606868410882035,
          5.620259168530432,
          5.781811426850771,
          5.849216226647111,
          5.741330851554592,
          5.742955185400292
         ]
        },
        {
         "line": {
          "width": 0
         },
         "mode": "lines",
         "name": "12 CPUs upper",
         "showlegend": false,
         "type": "scatter",
         "x": [
          1024,
          4096,
          16384,
          65536,
          262144,
          1048576,
          4194304,
          16777216
         ],
         "y": [
          0.7579845407234674,
          3.623377816342065,
          5.042656310399373,
          5.645359460267675,
          5.852651624953482,
          5.851681364495915,
          5.8098890651035955,
          5.744949915020378
         ]
        },
        {
         "fill": "tonexty",
         "fillcolor": "rgba(255, 102, 146, 0.30)",
         "line": {
          "width": 0
         },
         "mode": "lines",
         "name": "12 CPUs lower",
         "showlegend": false,
         "type": "scatter",
         "x": [
          1024,
          4096,
          16384,
          65536,
          262144,
          1048576,
          4194304,
          16777216
         ],
         "y": [
          0.42255855747667204,
          2.5865604674310405,
          4.878717371777034,
          5.59515887679319,
          5.71097122874806,
          5.846751088798307,
          5.672772638005588,
          5.740960455780206
         ]
        },
        {
         "line": {
          "color": "#B6E880"
         },
         "mode": "lines+markers",
         "name": "14 CPUs",
         "type": "scatter",
         "x": [
          1024,
          4096,
          16384,
          65536,
          262144,
          1048576,
          4194304,
          16777216
         ],
         "y": [
          0.43385439608823234,
          2.49230987030703,
          4.935877835364015,
          5.763778241932063,
          6.758165679862375,
          6.774426856647111,
          6.707013228899619,
          6.700117325524519
         ]
        },
        {
         "line": {
          "width": 0
         },
         "mode": "lines",
         "name": "14 CPUs upper",
         "showlegend": false,
         "type": "scatter",
         "x": [
          1024,
          4096,
          16384,
          65536,
          262144,
          1048576,
          4194304,
          16777216
         ],
         "y": [
          0.5181497877405861,
          3.2957079166781647,
          5.6894642748620345,
          6.33253508017738,
          6.854436039336755,
          6.801455689008768,
          6.801148295253121,
          6.703568166642132
         ]
        },
        {
         "fill": "tonexty",
         "fillcolor": "rgba(182, 232, 128, 0.30)",
         "line": {
          "width": 0
         },
         "mode": "lines",
         "name": "14 CPUs lower",
         "showlegend": false,
         "type": "scatter",
         "x": [
          1024,
          4096,
          16384,
          65536,
          262144,
          1048576,
          4194304,
          16777216
         ],
         "y": [
          0.34955900443587856,
          1.6889118239358958,
          4.182291395865995,
          5.195021403686746,
          6.661895320387996,
          6.747398024285453,
          6.612878162546117,
          6.696666484406906
         ]
        },
        {
         "line": {
          "color": "#FF97FF"
         },
         "mode": "lines+markers",
         "name": "16 CPUs",
         "type": "scatter",
         "x": [
          1024,
          4096,
          16384,
          65536,
          262144,
          1048576,
          4194304,
          16777216
         ],
         "y": [
          0.11743991469123113,
          0.7739557585300754,
          1.4933177441164012,
          3.9132987564858865,
          6.2952898444293774,
          7.093429911381934,
          7.424658607565166,
          7.6025090633580445
         ]
        },
        {
         "line": {
          "width": 0
         },
         "mode": "lines",
         "name": "16 CPUs upper",
         "showlegend": false,
         "type": "scatter",
         "x": [
          1024,
          4096,
          16384,
          65536,
          262144,
          1048576,
          4194304,
          16777216
         ],
         "y": [
          0.14125039548190457,
          0.9216672035400801,
          1.9526821568724277,
          4.295503788384951,
          6.515697664720066,
          7.28966238774866,
          7.481988719173728,
          7.612082908008709
         ]
        },
        {
         "fill": "tonexty",
         "fillcolor": "rgba(255, 151, 255, 0.30)",
         "line": {
          "width": 0
         },
         "mode": "lines",
         "name": "16 CPUs lower",
         "showlegend": false,
         "type": "scatter",
         "x": [
          1024,
          4096,
          16384,
          65536,
          262144,
          1048576,
          4194304,
          16777216
         ],
         "y": [
          0.0936294339005577,
          0.6262443135200706,
          1.0339533313603746,
          3.531093724586822,
          6.074882024138689,
          6.897197435015208,
          7.367328495956604,
          7.59293521870738
         ]
        },
        {
         "line": {
          "color": "#FECB52"
         },
         "mode": "lines+markers",
         "name": "GPU",
         "type": "scatter",
         "x": [
          1024,
          4096,
          16384,
          65536,
          262144,
          1048576,
          4194304,
          16777216
         ],
         "y": [
          0.011433549844753348,
          0.0498244924410188,
          0.1806988804991869,
          0.6998348051418246,
          2.355625790870641,
          8.605426793973919,
          307.9662865015813,
          415.1063908051642
         ]
        },
        {
         "line": {
          "width": 0
         },
         "mode": "lines",
         "name": "GPU upper",
         "showlegend": false,
         "type": "scatter",
         "x": [
          1024,
          4096,
          16384,
          65536,
          262144,
          1048576,
          4194304,
          16777216
         ],
         "y": [
          0.011483498872031456,
          0.05012854144319417,
          0.18288143257884903,
          0.7134527829713038,
          2.3842679463929164,
          8.647440323722186,
          413.4981613619775,
          416.5379098713344
         ]
        },
        {
         "fill": "tonexty",
         "fillcolor": "rgba(254, 203, 82, 0.30)",
         "line": {
          "width": 0
         },
         "mode": "lines",
         "name": "GPU lower",
         "showlegend": false,
         "type": "scatter",
         "x": [
          1024,
          4096,
          16384,
          65536,
          262144,
          1048576,
          4194304,
          16777216
         ],
         "y": [
          0.011383600817475241,
          0.04952044343884344,
          0.17851632841952475,
          0.6862168273123455,
          2.3269836353483653,
          8.563413264225652,
          202.43441164118505,
          413.674871738994
         ]
        }
       ],
       "layout": {
        "height": 600,
        "template": {
         "data": {
          "bar": [
           {
            "error_x": {
             "color": "#2a3f5f"
            },
            "error_y": {
             "color": "#2a3f5f"
            },
            "marker": {
             "line": {
              "color": "#E5ECF6",
              "width": 0.5
             },
             "pattern": {
              "fillmode": "overlay",
              "size": 10,
              "solidity": 0.2
             }
            },
            "type": "bar"
           }
          ],
          "barpolar": [
           {
            "marker": {
             "line": {
              "color": "#E5ECF6",
              "width": 0.5
             },
             "pattern": {
              "fillmode": "overlay",
              "size": 10,
              "solidity": 0.2
             }
            },
            "type": "barpolar"
           }
          ],
          "carpet": [
           {
            "aaxis": {
             "endlinecolor": "#2a3f5f",
             "gridcolor": "white",
             "linecolor": "white",
             "minorgridcolor": "white",
             "startlinecolor": "#2a3f5f"
            },
            "baxis": {
             "endlinecolor": "#2a3f5f",
             "gridcolor": "white",
             "linecolor": "white",
             "minorgridcolor": "white",
             "startlinecolor": "#2a3f5f"
            },
            "type": "carpet"
           }
          ],
          "choropleth": [
           {
            "colorbar": {
             "outlinewidth": 0,
             "ticks": ""
            },
            "type": "choropleth"
           }
          ],
          "contour": [
           {
            "colorbar": {
             "outlinewidth": 0,
             "ticks": ""
            },
            "colorscale": [
             [
              0,
              "#0d0887"
             ],
             [
              0.1111111111111111,
              "#46039f"
             ],
             [
              0.2222222222222222,
              "#7201a8"
             ],
             [
              0.3333333333333333,
              "#9c179e"
             ],
             [
              0.4444444444444444,
              "#bd3786"
             ],
             [
              0.5555555555555556,
              "#d8576b"
             ],
             [
              0.6666666666666666,
              "#ed7953"
             ],
             [
              0.7777777777777778,
              "#fb9f3a"
             ],
             [
              0.8888888888888888,
              "#fdca26"
             ],
             [
              1,
              "#f0f921"
             ]
            ],
            "type": "contour"
           }
          ],
          "contourcarpet": [
           {
            "colorbar": {
             "outlinewidth": 0,
             "ticks": ""
            },
            "type": "contourcarpet"
           }
          ],
          "heatmap": [
           {
            "colorbar": {
             "outlinewidth": 0,
             "ticks": ""
            },
            "colorscale": [
             [
              0,
              "#0d0887"
             ],
             [
              0.1111111111111111,
              "#46039f"
             ],
             [
              0.2222222222222222,
              "#7201a8"
             ],
             [
              0.3333333333333333,
              "#9c179e"
             ],
             [
              0.4444444444444444,
              "#bd3786"
             ],
             [
              0.5555555555555556,
              "#d8576b"
             ],
             [
              0.6666666666666666,
              "#ed7953"
             ],
             [
              0.7777777777777778,
              "#fb9f3a"
             ],
             [
              0.8888888888888888,
              "#fdca26"
             ],
             [
              1,
              "#f0f921"
             ]
            ],
            "type": "heatmap"
           }
          ],
          "heatmapgl": [
           {
            "colorbar": {
             "outlinewidth": 0,
             "ticks": ""
            },
            "colorscale": [
             [
              0,
              "#0d0887"
             ],
             [
              0.1111111111111111,
              "#46039f"
             ],
             [
              0.2222222222222222,
              "#7201a8"
             ],
             [
              0.3333333333333333,
              "#9c179e"
             ],
             [
              0.4444444444444444,
              "#bd3786"
             ],
             [
              0.5555555555555556,
              "#d8576b"
             ],
             [
              0.6666666666666666,
              "#ed7953"
             ],
             [
              0.7777777777777778,
              "#fb9f3a"
             ],
             [
              0.8888888888888888,
              "#fdca26"
             ],
             [
              1,
              "#f0f921"
             ]
            ],
            "type": "heatmapgl"
           }
          ],
          "histogram": [
           {
            "marker": {
             "pattern": {
              "fillmode": "overlay",
              "size": 10,
              "solidity": 0.2
             }
            },
            "type": "histogram"
           }
          ],
          "histogram2d": [
           {
            "colorbar": {
             "outlinewidth": 0,
             "ticks": ""
            },
            "colorscale": [
             [
              0,
              "#0d0887"
             ],
             [
              0.1111111111111111,
              "#46039f"
             ],
             [
              0.2222222222222222,
              "#7201a8"
             ],
             [
              0.3333333333333333,
              "#9c179e"
             ],
             [
              0.4444444444444444,
              "#bd3786"
             ],
             [
              0.5555555555555556,
              "#d8576b"
             ],
             [
              0.6666666666666666,
              "#ed7953"
             ],
             [
              0.7777777777777778,
              "#fb9f3a"
             ],
             [
              0.8888888888888888,
              "#fdca26"
             ],
             [
              1,
              "#f0f921"
             ]
            ],
            "type": "histogram2d"
           }
          ],
          "histogram2dcontour": [
           {
            "colorbar": {
             "outlinewidth": 0,
             "ticks": ""
            },
            "colorscale": [
             [
              0,
              "#0d0887"
             ],
             [
              0.1111111111111111,
              "#46039f"
             ],
             [
              0.2222222222222222,
              "#7201a8"
             ],
             [
              0.3333333333333333,
              "#9c179e"
             ],
             [
              0.4444444444444444,
              "#bd3786"
             ],
             [
              0.5555555555555556,
              "#d8576b"
             ],
             [
              0.6666666666666666,
              "#ed7953"
             ],
             [
              0.7777777777777778,
              "#fb9f3a"
             ],
             [
              0.8888888888888888,
              "#fdca26"
             ],
             [
              1,
              "#f0f921"
             ]
            ],
            "type": "histogram2dcontour"
           }
          ],
          "mesh3d": [
           {
            "colorbar": {
             "outlinewidth": 0,
             "ticks": ""
            },
            "type": "mesh3d"
           }
          ],
          "parcoords": [
           {
            "line": {
             "colorbar": {
              "outlinewidth": 0,
              "ticks": ""
             }
            },
            "type": "parcoords"
           }
          ],
          "pie": [
           {
            "automargin": true,
            "type": "pie"
           }
          ],
          "scatter": [
           {
            "marker": {
             "colorbar": {
              "outlinewidth": 0,
              "ticks": ""
             }
            },
            "type": "scatter"
           }
          ],
          "scatter3d": [
           {
            "line": {
             "colorbar": {
              "outlinewidth": 0,
              "ticks": ""
             }
            },
            "marker": {
             "colorbar": {
              "outlinewidth": 0,
              "ticks": ""
             }
            },
            "type": "scatter3d"
           }
          ],
          "scattercarpet": [
           {
            "marker": {
             "colorbar": {
              "outlinewidth": 0,
              "ticks": ""
             }
            },
            "type": "scattercarpet"
           }
          ],
          "scattergeo": [
           {
            "marker": {
             "colorbar": {
              "outlinewidth": 0,
              "ticks": ""
             }
            },
            "type": "scattergeo"
           }
          ],
          "scattergl": [
           {
            "marker": {
             "colorbar": {
              "outlinewidth": 0,
              "ticks": ""
             }
            },
            "type": "scattergl"
           }
          ],
          "scattermapbox": [
           {
            "marker": {
             "colorbar": {
              "outlinewidth": 0,
              "ticks": ""
             }
            },
            "type": "scattermapbox"
           }
          ],
          "scatterpolar": [
           {
            "marker": {
             "colorbar": {
              "outlinewidth": 0,
              "ticks": ""
             }
            },
            "type": "scatterpolar"
           }
          ],
          "scatterpolargl": [
           {
            "marker": {
             "colorbar": {
              "outlinewidth": 0,
              "ticks": ""
             }
            },
            "type": "scatterpolargl"
           }
          ],
          "scatterternary": [
           {
            "marker": {
             "colorbar": {
              "outlinewidth": 0,
              "ticks": ""
             }
            },
            "type": "scatterternary"
           }
          ],
          "surface": [
           {
            "colorbar": {
             "outlinewidth": 0,
             "ticks": ""
            },
            "colorscale": [
             [
              0,
              "#0d0887"
             ],
             [
              0.1111111111111111,
              "#46039f"
             ],
             [
              0.2222222222222222,
              "#7201a8"
             ],
             [
              0.3333333333333333,
              "#9c179e"
             ],
             [
              0.4444444444444444,
              "#bd3786"
             ],
             [
              0.5555555555555556,
              "#d8576b"
             ],
             [
              0.6666666666666666,
              "#ed7953"
             ],
             [
              0.7777777777777778,
              "#fb9f3a"
             ],
             [
              0.8888888888888888,
              "#fdca26"
             ],
             [
              1,
              "#f0f921"
             ]
            ],
            "type": "surface"
           }
          ],
          "table": [
           {
            "cells": {
             "fill": {
              "color": "#EBF0F8"
             },
             "line": {
              "color": "white"
             }
            },
            "header": {
             "fill": {
              "color": "#C8D4E3"
             },
             "line": {
              "color": "white"
             }
            },
            "type": "table"
           }
          ]
         },
         "layout": {
          "annotationdefaults": {
           "arrowcolor": "#2a3f5f",
           "arrowhead": 0,
           "arrowwidth": 1
          },
          "autotypenumbers": "strict",
          "coloraxis": {
           "colorbar": {
            "outlinewidth": 0,
            "ticks": ""
           }
          },
          "colorscale": {
           "diverging": [
            [
             0,
             "#8e0152"
            ],
            [
             0.1,
             "#c51b7d"
            ],
            [
             0.2,
             "#de77ae"
            ],
            [
             0.3,
             "#f1b6da"
            ],
            [
             0.4,
             "#fde0ef"
            ],
            [
             0.5,
             "#f7f7f7"
            ],
            [
             0.6,
             "#e6f5d0"
            ],
            [
             0.7,
             "#b8e186"
            ],
            [
             0.8,
             "#7fbc41"
            ],
            [
             0.9,
             "#4d9221"
            ],
            [
             1,
             "#276419"
            ]
           ],
           "sequential": [
            [
             0,
             "#0d0887"
            ],
            [
             0.1111111111111111,
             "#46039f"
            ],
            [
             0.2222222222222222,
             "#7201a8"
            ],
            [
             0.3333333333333333,
             "#9c179e"
            ],
            [
             0.4444444444444444,
             "#bd3786"
            ],
            [
             0.5555555555555556,
             "#d8576b"
            ],
            [
             0.6666666666666666,
             "#ed7953"
            ],
            [
             0.7777777777777778,
             "#fb9f3a"
            ],
            [
             0.8888888888888888,
             "#fdca26"
            ],
            [
             1,
             "#f0f921"
            ]
           ],
           "sequentialminus": [
            [
             0,
             "#0d0887"
            ],
            [
             0.1111111111111111,
             "#46039f"
            ],
            [
             0.2222222222222222,
             "#7201a8"
            ],
            [
             0.3333333333333333,
             "#9c179e"
            ],
            [
             0.4444444444444444,
             "#bd3786"
            ],
            [
             0.5555555555555556,
             "#d8576b"
            ],
            [
             0.6666666666666666,
             "#ed7953"
            ],
            [
             0.7777777777777778,
             "#fb9f3a"
            ],
            [
             0.8888888888888888,
             "#fdca26"
            ],
            [
             1,
             "#f0f921"
            ]
           ]
          },
          "colorway": [
           "#636efa",
           "#EF553B",
           "#00cc96",
           "#ab63fa",
           "#FFA15A",
           "#19d3f3",
           "#FF6692",
           "#B6E880",
           "#FF97FF",
           "#FECB52"
          ],
          "font": {
           "color": "#2a3f5f"
          },
          "geo": {
           "bgcolor": "white",
           "lakecolor": "white",
           "landcolor": "#E5ECF6",
           "showlakes": true,
           "showland": true,
           "subunitcolor": "white"
          },
          "hoverlabel": {
           "align": "left"
          },
          "hovermode": "closest",
          "mapbox": {
           "style": "light"
          },
          "paper_bgcolor": "white",
          "plot_bgcolor": "#E5ECF6",
          "polar": {
           "angularaxis": {
            "gridcolor": "white",
            "linecolor": "white",
            "ticks": ""
           },
           "bgcolor": "#E5ECF6",
           "radialaxis": {
            "gridcolor": "white",
            "linecolor": "white",
            "ticks": ""
           }
          },
          "scene": {
           "xaxis": {
            "backgroundcolor": "#E5ECF6",
            "gridcolor": "white",
            "gridwidth": 2,
            "linecolor": "white",
            "showbackground": true,
            "ticks": "",
            "zerolinecolor": "white"
           },
           "yaxis": {
            "backgroundcolor": "#E5ECF6",
            "gridcolor": "white",
            "gridwidth": 2,
            "linecolor": "white",
            "showbackground": true,
            "ticks": "",
            "zerolinecolor": "white"
           },
           "zaxis": {
            "backgroundcolor": "#E5ECF6",
            "gridcolor": "white",
            "gridwidth": 2,
            "linecolor": "white",
            "showbackground": true,
            "ticks": "",
            "zerolinecolor": "white"
           }
          },
          "shapedefaults": {
           "line": {
            "color": "#2a3f5f"
           }
          },
          "ternary": {
           "aaxis": {
            "gridcolor": "white",
            "linecolor": "white",
            "ticks": ""
           },
           "baxis": {
            "gridcolor": "white",
            "linecolor": "white",
            "ticks": ""
           },
           "bgcolor": "#E5ECF6",
           "caxis": {
            "gridcolor": "white",
            "linecolor": "white",
            "ticks": ""
           }
          },
          "title": {
           "x": 0.05
          },
          "xaxis": {
           "automargin": true,
           "gridcolor": "white",
           "linecolor": "white",
           "ticks": "",
           "title": {
            "standoff": 15
           },
           "zerolinecolor": "white",
           "zerolinewidth": 2
          },
          "yaxis": {
           "automargin": true,
           "gridcolor": "white",
           "linecolor": "white",
           "ticks": "",
           "title": {
            "standoff": 15
           },
           "zerolinecolor": "white",
           "zerolinewidth": 2
          }
         }
        },
        "title": {
         "text": "Speedup vs 1 CPU"
        },
        "width": 1000,
        "xaxis": {
         "title": {
          "text": "Lattice size (cells)"
         },
         "type": "log"
        },
        "yaxis": {
         "title": {
          "text": "Speedup"
         },
         "type": "log"
        }
       }
      }
     },
     "metadata": {}
    }
   ],
   "source": [
    "fig = go.Figure()\n",
    "\n",
    "for idx, (name, dfs, _) in enumerate(runs_parallel):\n",
    "    for i, df in enumerate(dfs):\n",
    "        dfs[i][\"speedup\"] = cpu_df[\"avgEvolveTime\"] / df[\"avgEvolveTime\"]\n",
    "\n",
    "    df = pd.concat(dfs)\n",
    "    df[\"size\"] **= 2\n",
    "    add_mean_std_trace(fig, df, name, idx + 1, \"speedup\")\n",
    "\n",
    "fig.update_layout(title=\"Speedup vs 1 CPU\", xaxis_title='Lattice size (cells)', yaxis_title=\"Speedup\", width=plot_width, height=plot_height)\n",
    "fig.update_xaxes(type=\"log\")\n",
    "fig.update_yaxes(type=\"log\")\n",
    "fig.show()"
   ]
  },
  {
   "cell_type": "code",
   "execution_count": 10,
   "metadata": {},
   "outputs": [
    {
     "output_type": "display_data",
     "data": {
      "application/vnd.plotly.v1+json": {
       "config": {
        "plotlyServerURL": "https://plot.ly"
       },
       "data": [
        {
         "line": {
          "color": "#EF553B"
         },
         "mode": "lines+markers",
         "name": "2 CPUs",
         "type": "scatter",
         "x": [
          1024,
          4096,
          16384,
          65536,
          262144,
          1048576,
          4194304,
          16777216
         ],
         "y": [
          0.2288303558865176,
          0.31170012947934445,
          0.19972191128488873,
          0.19773504962872865,
          0.19125141724223044,
          0.1994998802291666,
          0.30152220777840666,
          0.3891151975866981
         ]
        },
        {
         "line": {
          "width": 0
         },
         "mode": "lines",
         "name": "2 CPUs upper",
         "showlegend": false,
         "type": "scatter",
         "x": [
          1024,
          4096,
          16384,
          65536,
          262144,
          1048576,
          4194304,
          16777216
         ],
         "y": [
          0.2673610576385389,
          0.4143091704506014,
          0.21358590995214086,
          0.20802892665398293,
          0.2028912145855876,
          0.20057673223513273,
          0.3032965993885103,
          0.3913012454377108
         ]
        },
        {
         "fill": "tonexty",
         "fillcolor": "rgba(239, 85, 59, 0.30)",
         "line": {
          "width": 0
         },
         "mode": "lines",
         "name": "2 CPUs lower",
         "showlegend": false,
         "type": "scatter",
         "x": [
          1024,
          4096,
          16384,
          65536,
          262144,
          1048576,
          4194304,
          16777216
         ],
         "y": [
          0.19029965413449632,
          0.2090910885080875,
          0.1858579126176366,
          0.18744117260347437,
          0.17961161989887328,
          0.19842302822320046,
          0.29974781616830304,
          0.38692914973568543
         ]
        },
        {
         "line": {
          "color": "#00CC96"
         },
         "mode": "lines+markers",
         "name": "4 CPUs",
         "type": "scatter",
         "x": [
          1024,
          4096,
          16384,
          65536,
          262144,
          1048576,
          4194304,
          16777216
         ],
         "y": [
          0.24955060960951608,
          0.25652000152391546,
          0.22931513004357162,
          0.22536985587570305,
          0.23713976176727697,
          0.2213454732902303,
          0.3483075924917244,
          0.43208515882337295
         ]
        },
        {
         "line": {
          "width": 0
         },
         "mode": "lines",
         "name": "4 CPUs upper",
         "showlegend": false,
         "type": "scatter",
         "x": [
          1024,
          4096,
          16384,
          65536,
          262144,
          1048576,
          4194304,
          16777216
         ],
         "y": [
          0.2704652572275066,
          0.26269081800826405,
          0.23373307566776994,
          0.23476748331622876,
          0.237633859786696,
          0.23219542245867378,
          0.35040090833323245,
          0.43573673346558417
         ]
        },
        {
         "fill": "tonexty",
         "fillcolor": "rgba(0, 204, 150, 0.30)",
         "line": {
          "width": 0
         },
         "mode": "lines",
         "name": "4 CPUs lower",
         "showlegend": false,
         "type": "scatter",
         "x": [
          1024,
          4096,
          16384,
          65536,
          262144,
          1048576,
          4194304,
          16777216
         ],
         "y": [
          0.22863596199152558,
          0.2503491850395669,
          0.2248971844193733,
          0.21597222843517733,
          0.23664566374785795,
          0.21049552412178682,
          0.3462142766502163,
          0.42843358418116173
         ]
        },
        {
         "line": {
          "color": "#AB63FA"
         },
         "mode": "lines+markers",
         "name": "6 CPUs",
         "type": "scatter",
         "x": [
          1024,
          4096,
          16384,
          65536,
          262144,
          1048576,
          4194304,
          16777216
         ],
         "y": [
          0.2590377723011984,
          0.2942482901489445,
          0.25853634475610177,
          0.2635344573903147,
          0.26515446431791045,
          0.26475798937484185,
          0.4077544684825683,
          0.5303401515781905
         ]
        },
        {
         "line": {
          "width": 0
         },
         "mode": "lines",
         "name": "6 CPUs upper",
         "showlegend": false,
         "type": "scatter",
         "x": [
          1024,
          4096,
          16384,
          65536,
          262144,
          1048576,
          4194304,
          16777216
         ],
         "y": [
          0.29419819485244514,
          0.3095704020295243,
          0.2668920208305696,
          0.2643532679499386,
          0.26863274393983455,
          0.2684623851944596,
          0.4211579201423124,
          0.546384960603777
         ]
        },
        {
         "fill": "tonexty",
         "fillcolor": "rgba(171, 99, 250, 0.30)",
         "line": {
          "width": 0
         },
         "mode": "lines",
         "name": "6 CPUs lower",
         "showlegend": false,
         "type": "scatter",
         "x": [
          1024,
          4096,
          16384,
          65536,
          262144,
          1048576,
          4194304,
          16777216
         ],
         "y": [
          0.22387734974995166,
          0.2789261782683647,
          0.2501806686816339,
          0.2627156468306909,
          0.26167618469598636,
          0.2610535935552241,
          0.3943510168228242,
          0.514295342552604
         ]
        },
        {
         "line": {
          "color": "#FFA15A"
         },
         "mode": "lines+markers",
         "name": "8 CPUs",
         "type": "scatter",
         "x": [
          1024,
          4096,
          16384,
          65536,
          262144,
          1048576,
          4194304,
          16777216
         ],
         "y": [
          0.2701024010537939,
          0.3185986284204204,
          0.2806911673088708,
          0.2847405475219868,
          0.29338193985720007,
          0.29009808424550093,
          0.4301622984101948,
          0.5287122524929513
         ]
        },
        {
         "line": {
          "width": 0
         },
         "mode": "lines",
         "name": "8 CPUs upper",
         "showlegend": false,
         "type": "scatter",
         "x": [
          1024,
          4096,
          16384,
          65536,
          262144,
          1048576,
          4194304,
          16777216
         ],
         "y": [
          0.32167072608044367,
          0.3223631221886669,
          0.2866646262472155,
          0.2894676278781266,
          0.2943238179093729,
          0.29406582144488563,
          0.44172983157379203,
          0.5416791279429727
         ]
        },
        {
         "fill": "tonexty",
         "fillcolor": "rgba(255, 161, 90, 0.30)",
         "line": {
          "width": 0
         },
         "mode": "lines",
         "name": "8 CPUs lower",
         "showlegend": false,
         "type": "scatter",
         "x": [
          1024,
          4096,
          16384,
          65536,
          262144,
          1048576,
          4194304,
          16777216
         ],
         "y": [
          0.21853407602714417,
          0.3148341346521739,
          0.27471770837052606,
          0.280013467165847,
          0.29244006180502724,
          0.28613034704611623,
          0.4185947652465976,
          0.5157453770429299
         ]
        },
        {
         "line": {
          "color": "#19D3F3"
         },
         "mode": "lines+markers",
         "name": "10 CPUs",
         "type": "scatter",
         "x": [
          1024,
          4096,
          16384,
          65536,
          262144,
          1048576,
          4194304,
          16777216
         ],
         "y": [
          0.2749342986953816,
          0.33631556532732976,
          0.3215486694432421,
          0.3177458059104786,
          0.32775202380730983,
          0.32588550977665875,
          0.4928438926784155,
          0.6015658318435922
         ]
        },
        {
         "line": {
          "width": 0
         },
         "mode": "lines",
         "name": "10 CPUs upper",
         "showlegend": false,
         "type": "scatter",
         "x": [
          1024,
          4096,
          16384,
          65536,
          262144,
          1048576,
          4194304,
          16777216
         ],
         "y": [
          0.33339874482119797,
          0.3473733673071117,
          0.3248972365274913,
          0.3273915389970068,
          0.3367019475795724,
          0.33394727914715217,
          0.4934265473531814,
          0.6023019614284368
         ]
        },
        {
         "fill": "tonexty",
         "fillcolor": "rgba(25, 211, 243, 0.30)",
         "line": {
          "width": 0
         },
         "mode": "lines",
         "name": "10 CPUs lower",
         "showlegend": false,
         "type": "scatter",
         "x": [
          1024,
          4096,
          16384,
          65536,
          262144,
          1048576,
          4194304,
          16777216
         ],
         "y": [
          0.21646985256956525,
          0.3252577633475478,
          0.31820010235899293,
          0.30810007282395035,
          0.3188021000350473,
          0.31782374040616534,
          0.49226123800364957,
          0.6008297022587477
         ]
        },
        {
         "line": {
          "color": "#FF6692"
         },
         "mode": "lines+markers",
         "name": "12 CPUs",
         "type": "scatter",
         "x": [
          1024,
          4096,
          16384,
          65536,
          262144,
          1048576,
          4194304,
          16777216
         ],
         "y": [
          0.2467667418905887,
          0.37245700680660787,
          0.34869872047237344,
          0.3651713481193982,
          0.35953448319633063,
          0.3691200134429403,
          0.5349591763149876,
          0.6596663128233173
         ]
        },
        {
         "line": {
          "width": 0
         },
         "mode": "lines",
         "name": "12 CPUs upper",
         "showlegend": false,
         "type": "scatter",
         "x": [
          1024,
          4096,
          16384,
          65536,
          262144,
          1048576,
          4194304,
          16777216
         ],
         "y": [
          0.30027646815536657,
          0.3828289052044609,
          0.3610089636585586,
          0.3656883402358692,
          0.3759522643282413,
          0.3695578316814083,
          0.5625545340968645,
          0.6940178528511178
         ]
        },
        {
         "fill": "tonexty",
         "fillcolor": "rgba(255, 102, 146, 0.30)",
         "line": {
          "width": 0
         },
         "mode": "lines",
         "name": "12 CPUs lower",
         "showlegend": false,
         "type": "scatter",
         "x": [
          1024,
          4096,
          16384,
          65536,
          262144,
          1048576,
          4194304,
          16777216
         ],
         "y": [
          0.1932570156258108,
          0.36208510840875485,
          0.33638847728618826,
          0.3646543560029272,
          0.34311670206441997,
          0.3686821952044723,
          0.5073638185331106,
          0.6253147727955168
         ]
        },
        {
         "line": {
          "color": "#B6E880"
         },
         "mode": "lines+markers",
         "name": "14 CPUs",
         "type": "scatter",
         "x": [
          1024,
          4096,
          16384,
          65536,
          262144,
          1048576,
          4194304,
          16777216
         ],
         "y": [
          0.25127620436399706,
          0.3735696155229615,
          0.39285424356818965,
          0.39756621535904424,
          0.4075705672694993,
          0.38957532517393695,
          0.5804148356983386,
          0.7399998635080066
         ]
        },
        {
         "line": {
          "width": 0
         },
         "mode": "lines",
         "name": "14 CPUs upper",
         "showlegend": false,
         "type": "scatter",
         "x": [
          1024,
          4096,
          16384,
          65536,
          262144,
          1048576,
          4194304,
          16777216
         ],
         "y": [
          0.32767037118689873,
          0.38644851734778757,
          0.3979809216731507,
          0.40087818413935,
          0.4087221274791359,
          0.4093124987365904,
          0.6137172094395354,
          0.7408666489634211
         ]
        },
        {
         "fill": "tonexty",
         "fillcolor": "rgba(182, 232, 128, 0.30)",
         "line": {
          "width": 0
         },
         "mode": "lines",
         "name": "14 CPUs lower",
         "showlegend": false,
         "type": "scatter",
         "x": [
          1024,
          4096,
          16384,
          65536,
          262144,
          1048576,
          4194304,
          16777216
         ],
         "y": [
          0.17488203754109538,
          0.3606907136981354,
          0.3877275654632286,
          0.3942542465787385,
          0.4064190070598627,
          0.36983815161128347,
          0.5471124619571418,
          0.7391330780525921
         ]
        },
        {
         "line": {
          "color": "#FF97FF"
         },
         "mode": "lines+markers",
         "name": "16 CPUs",
         "type": "scatter",
         "x": [
          1024,
          4096,
          16384,
          65536,
          262144,
          1048576,
          4194304,
          16777216
         ],
         "y": [
          0.11407789050464294,
          0.3354111744052539,
          0.35964365654363,
          0.4122563391133717,
          0.43939998744696684,
          0.4283416001504207,
          0.6206805277913439,
          0.8008458778581545
         ]
        },
        {
         "line": {
          "width": 0
         },
         "mode": "lines",
         "name": "16 CPUs upper",
         "showlegend": false,
         "type": "scatter",
         "x": [
          1024,
          4096,
          16384,
          65536,
          262144,
          1048576,
          4194304,
          16777216
         ],
         "y": [
          0.12687740115893742,
          0.3454929308678823,
          0.3913025931487391,
          0.4352339454155257,
          0.44076307428319983,
          0.4496572393435664,
          0.658940612663074,
          0.8015338761630479
         ]
        },
        {
         "fill": "tonexty",
         "fillcolor": "rgba(255, 151, 255, 0.30)",
         "line": {
          "width": 0
         },
         "mode": "lines",
         "name": "16 CPUs lower",
         "showlegend": false,
         "type": "scatter",
         "x": [
          1024,
          4096,
          16384,
          65536,
          262144,
          1048576,
          4194304,
          16777216
         ],
         "y": [
          0.10127837985034847,
          0.32532941794262554,
          0.3279847199385209,
          0.38927873281121766,
          0.43803690061073386,
          0.40702596095727506,
          0.5824204429196137,
          0.8001578795532611
         ]
        },
        {
         "line": {
          "color": "#FECB52"
         },
         "mode": "lines+markers",
         "name": "GPU",
         "type": "scatter",
         "x": [
          1024,
          4096,
          16384,
          65536,
          262144,
          1048576,
          4194304,
          16777216
         ],
         "y": [
          0.09628878625747253,
          0.35470608522711433,
          1.2543553391518114,
          5.0626861136335135,
          20.08640873579505,
          27.328922095066485,
          41.307840093199346,
          231.37529734038836
         ]
        },
        {
         "line": {
          "width": 0
         },
         "mode": "lines",
         "name": "GPU upper",
         "showlegend": false,
         "type": "scatter",
         "x": [
          1024,
          4096,
          16384,
          65536,
          262144,
          1048576,
          4194304,
          16777216
         ],
         "y": [
          0.09849171907828566,
          0.35896961041062797,
          1.2876987334528043,
          5.112363976217342,
          20.335016087500332,
          27.445084018743717,
          42.81655344450286,
          233.14361309460034
         ]
        },
        {
         "fill": "tonexty",
         "fillcolor": "rgba(254, 203, 82, 0.30)",
         "line": {
          "width": 0
         },
         "mode": "lines",
         "name": "GPU lower",
         "showlegend": false,
         "type": "scatter",
         "x": [
          1024,
          4096,
          16384,
          65536,
          262144,
          1048576,
          4194304,
          16777216
         ],
         "y": [
          0.0940858534366594,
          0.3504425600436007,
          1.2210119448508185,
          5.013008251049685,
          19.83780138408977,
          27.212760171389252,
          39.79912674189583,
          229.60698158617637
         ]
        }
       ],
       "layout": {
        "height": 600,
        "template": {
         "data": {
          "bar": [
           {
            "error_x": {
             "color": "#2a3f5f"
            },
            "error_y": {
             "color": "#2a3f5f"
            },
            "marker": {
             "line": {
              "color": "#E5ECF6",
              "width": 0.5
             },
             "pattern": {
              "fillmode": "overlay",
              "size": 10,
              "solidity": 0.2
             }
            },
            "type": "bar"
           }
          ],
          "barpolar": [
           {
            "marker": {
             "line": {
              "color": "#E5ECF6",
              "width": 0.5
             },
             "pattern": {
              "fillmode": "overlay",
              "size": 10,
              "solidity": 0.2
             }
            },
            "type": "barpolar"
           }
          ],
          "carpet": [
           {
            "aaxis": {
             "endlinecolor": "#2a3f5f",
             "gridcolor": "white",
             "linecolor": "white",
             "minorgridcolor": "white",
             "startlinecolor": "#2a3f5f"
            },
            "baxis": {
             "endlinecolor": "#2a3f5f",
             "gridcolor": "white",
             "linecolor": "white",
             "minorgridcolor": "white",
             "startlinecolor": "#2a3f5f"
            },
            "type": "carpet"
           }
          ],
          "choropleth": [
           {
            "colorbar": {
             "outlinewidth": 0,
             "ticks": ""
            },
            "type": "choropleth"
           }
          ],
          "contour": [
           {
            "colorbar": {
             "outlinewidth": 0,
             "ticks": ""
            },
            "colorscale": [
             [
              0,
              "#0d0887"
             ],
             [
              0.1111111111111111,
              "#46039f"
             ],
             [
              0.2222222222222222,
              "#7201a8"
             ],
             [
              0.3333333333333333,
              "#9c179e"
             ],
             [
              0.4444444444444444,
              "#bd3786"
             ],
             [
              0.5555555555555556,
              "#d8576b"
             ],
             [
              0.6666666666666666,
              "#ed7953"
             ],
             [
              0.7777777777777778,
              "#fb9f3a"
             ],
             [
              0.8888888888888888,
              "#fdca26"
             ],
             [
              1,
              "#f0f921"
             ]
            ],
            "type": "contour"
           }
          ],
          "contourcarpet": [
           {
            "colorbar": {
             "outlinewidth": 0,
             "ticks": ""
            },
            "type": "contourcarpet"
           }
          ],
          "heatmap": [
           {
            "colorbar": {
             "outlinewidth": 0,
             "ticks": ""
            },
            "colorscale": [
             [
              0,
              "#0d0887"
             ],
             [
              0.1111111111111111,
              "#46039f"
             ],
             [
              0.2222222222222222,
              "#7201a8"
             ],
             [
              0.3333333333333333,
              "#9c179e"
             ],
             [
              0.4444444444444444,
              "#bd3786"
             ],
             [
              0.5555555555555556,
              "#d8576b"
             ],
             [
              0.6666666666666666,
              "#ed7953"
             ],
             [
              0.7777777777777778,
              "#fb9f3a"
             ],
             [
              0.8888888888888888,
              "#fdca26"
             ],
             [
              1,
              "#f0f921"
             ]
            ],
            "type": "heatmap"
           }
          ],
          "heatmapgl": [
           {
            "colorbar": {
             "outlinewidth": 0,
             "ticks": ""
            },
            "colorscale": [
             [
              0,
              "#0d0887"
             ],
             [
              0.1111111111111111,
              "#46039f"
             ],
             [
              0.2222222222222222,
              "#7201a8"
             ],
             [
              0.3333333333333333,
              "#9c179e"
             ],
             [
              0.4444444444444444,
              "#bd3786"
             ],
             [
              0.5555555555555556,
              "#d8576b"
             ],
             [
              0.6666666666666666,
              "#ed7953"
             ],
             [
              0.7777777777777778,
              "#fb9f3a"
             ],
             [
              0.8888888888888888,
              "#fdca26"
             ],
             [
              1,
              "#f0f921"
             ]
            ],
            "type": "heatmapgl"
           }
          ],
          "histogram": [
           {
            "marker": {
             "pattern": {
              "fillmode": "overlay",
              "size": 10,
              "solidity": 0.2
             }
            },
            "type": "histogram"
           }
          ],
          "histogram2d": [
           {
            "colorbar": {
             "outlinewidth": 0,
             "ticks": ""
            },
            "colorscale": [
             [
              0,
              "#0d0887"
             ],
             [
              0.1111111111111111,
              "#46039f"
             ],
             [
              0.2222222222222222,
              "#7201a8"
             ],
             [
              0.3333333333333333,
              "#9c179e"
             ],
             [
              0.4444444444444444,
              "#bd3786"
             ],
             [
              0.5555555555555556,
              "#d8576b"
             ],
             [
              0.6666666666666666,
              "#ed7953"
             ],
             [
              0.7777777777777778,
              "#fb9f3a"
             ],
             [
              0.8888888888888888,
              "#fdca26"
             ],
             [
              1,
              "#f0f921"
             ]
            ],
            "type": "histogram2d"
           }
          ],
          "histogram2dcontour": [
           {
            "colorbar": {
             "outlinewidth": 0,
             "ticks": ""
            },
            "colorscale": [
             [
              0,
              "#0d0887"
             ],
             [
              0.1111111111111111,
              "#46039f"
             ],
             [
              0.2222222222222222,
              "#7201a8"
             ],
             [
              0.3333333333333333,
              "#9c179e"
             ],
             [
              0.4444444444444444,
              "#bd3786"
             ],
             [
              0.5555555555555556,
              "#d8576b"
             ],
             [
              0.6666666666666666,
              "#ed7953"
             ],
             [
              0.7777777777777778,
              "#fb9f3a"
             ],
             [
              0.8888888888888888,
              "#fdca26"
             ],
             [
              1,
              "#f0f921"
             ]
            ],
            "type": "histogram2dcontour"
           }
          ],
          "mesh3d": [
           {
            "colorbar": {
             "outlinewidth": 0,
             "ticks": ""
            },
            "type": "mesh3d"
           }
          ],
          "parcoords": [
           {
            "line": {
             "colorbar": {
              "outlinewidth": 0,
              "ticks": ""
             }
            },
            "type": "parcoords"
           }
          ],
          "pie": [
           {
            "automargin": true,
            "type": "pie"
           }
          ],
          "scatter": [
           {
            "marker": {
             "colorbar": {
              "outlinewidth": 0,
              "ticks": ""
             }
            },
            "type": "scatter"
           }
          ],
          "scatter3d": [
           {
            "line": {
             "colorbar": {
              "outlinewidth": 0,
              "ticks": ""
             }
            },
            "marker": {
             "colorbar": {
              "outlinewidth": 0,
              "ticks": ""
             }
            },
            "type": "scatter3d"
           }
          ],
          "scattercarpet": [
           {
            "marker": {
             "colorbar": {
              "outlinewidth": 0,
              "ticks": ""
             }
            },
            "type": "scattercarpet"
           }
          ],
          "scattergeo": [
           {
            "marker": {
             "colorbar": {
              "outlinewidth": 0,
              "ticks": ""
             }
            },
            "type": "scattergeo"
           }
          ],
          "scattergl": [
           {
            "marker": {
             "colorbar": {
              "outlinewidth": 0,
              "ticks": ""
             }
            },
            "type": "scattergl"
           }
          ],
          "scattermapbox": [
           {
            "marker": {
             "colorbar": {
              "outlinewidth": 0,
              "ticks": ""
             }
            },
            "type": "scattermapbox"
           }
          ],
          "scatterpolar": [
           {
            "marker": {
             "colorbar": {
              "outlinewidth": 0,
              "ticks": ""
             }
            },
            "type": "scatterpolar"
           }
          ],
          "scatterpolargl": [
           {
            "marker": {
             "colorbar": {
              "outlinewidth": 0,
              "ticks": ""
             }
            },
            "type": "scatterpolargl"
           }
          ],
          "scatterternary": [
           {
            "marker": {
             "colorbar": {
              "outlinewidth": 0,
              "ticks": ""
             }
            },
            "type": "scatterternary"
           }
          ],
          "surface": [
           {
            "colorbar": {
             "outlinewidth": 0,
             "ticks": ""
            },
            "colorscale": [
             [
              0,
              "#0d0887"
             ],
             [
              0.1111111111111111,
              "#46039f"
             ],
             [
              0.2222222222222222,
              "#7201a8"
             ],
             [
              0.3333333333333333,
              "#9c179e"
             ],
             [
              0.4444444444444444,
              "#bd3786"
             ],
             [
              0.5555555555555556,
              "#d8576b"
             ],
             [
              0.6666666666666666,
              "#ed7953"
             ],
             [
              0.7777777777777778,
              "#fb9f3a"
             ],
             [
              0.8888888888888888,
              "#fdca26"
             ],
             [
              1,
              "#f0f921"
             ]
            ],
            "type": "surface"
           }
          ],
          "table": [
           {
            "cells": {
             "fill": {
              "color": "#EBF0F8"
             },
             "line": {
              "color": "white"
             }
            },
            "header": {
             "fill": {
              "color": "#C8D4E3"
             },
             "line": {
              "color": "white"
             }
            },
            "type": "table"
           }
          ]
         },
         "layout": {
          "annotationdefaults": {
           "arrowcolor": "#2a3f5f",
           "arrowhead": 0,
           "arrowwidth": 1
          },
          "autotypenumbers": "strict",
          "coloraxis": {
           "colorbar": {
            "outlinewidth": 0,
            "ticks": ""
           }
          },
          "colorscale": {
           "diverging": [
            [
             0,
             "#8e0152"
            ],
            [
             0.1,
             "#c51b7d"
            ],
            [
             0.2,
             "#de77ae"
            ],
            [
             0.3,
             "#f1b6da"
            ],
            [
             0.4,
             "#fde0ef"
            ],
            [
             0.5,
             "#f7f7f7"
            ],
            [
             0.6,
             "#e6f5d0"
            ],
            [
             0.7,
             "#b8e186"
            ],
            [
             0.8,
             "#7fbc41"
            ],
            [
             0.9,
             "#4d9221"
            ],
            [
             1,
             "#276419"
            ]
           ],
           "sequential": [
            [
             0,
             "#0d0887"
            ],
            [
             0.1111111111111111,
             "#46039f"
            ],
            [
             0.2222222222222222,
             "#7201a8"
            ],
            [
             0.3333333333333333,
             "#9c179e"
            ],
            [
             0.4444444444444444,
             "#bd3786"
            ],
            [
             0.5555555555555556,
             "#d8576b"
            ],
            [
             0.6666666666666666,
             "#ed7953"
            ],
            [
             0.7777777777777778,
             "#fb9f3a"
            ],
            [
             0.8888888888888888,
             "#fdca26"
            ],
            [
             1,
             "#f0f921"
            ]
           ],
           "sequentialminus": [
            [
             0,
             "#0d0887"
            ],
            [
             0.1111111111111111,
             "#46039f"
            ],
            [
             0.2222222222222222,
             "#7201a8"
            ],
            [
             0.3333333333333333,
             "#9c179e"
            ],
            [
             0.4444444444444444,
             "#bd3786"
            ],
            [
             0.5555555555555556,
             "#d8576b"
            ],
            [
             0.6666666666666666,
             "#ed7953"
            ],
            [
             0.7777777777777778,
             "#fb9f3a"
            ],
            [
             0.8888888888888888,
             "#fdca26"
            ],
            [
             1,
             "#f0f921"
            ]
           ]
          },
          "colorway": [
           "#636efa",
           "#EF553B",
           "#00cc96",
           "#ab63fa",
           "#FFA15A",
           "#19d3f3",
           "#FF6692",
           "#B6E880",
           "#FF97FF",
           "#FECB52"
          ],
          "font": {
           "color": "#2a3f5f"
          },
          "geo": {
           "bgcolor": "white",
           "lakecolor": "white",
           "landcolor": "#E5ECF6",
           "showlakes": true,
           "showland": true,
           "subunitcolor": "white"
          },
          "hoverlabel": {
           "align": "left"
          },
          "hovermode": "closest",
          "mapbox": {
           "style": "light"
          },
          "paper_bgcolor": "white",
          "plot_bgcolor": "#E5ECF6",
          "polar": {
           "angularaxis": {
            "gridcolor": "white",
            "linecolor": "white",
            "ticks": ""
           },
           "bgcolor": "#E5ECF6",
           "radialaxis": {
            "gridcolor": "white",
            "linecolor": "white",
            "ticks": ""
           }
          },
          "scene": {
           "xaxis": {
            "backgroundcolor": "#E5ECF6",
            "gridcolor": "white",
            "gridwidth": 2,
            "linecolor": "white",
            "showbackground": true,
            "ticks": "",
            "zerolinecolor": "white"
           },
           "yaxis": {
            "backgroundcolor": "#E5ECF6",
            "gridcolor": "white",
            "gridwidth": 2,
            "linecolor": "white",
            "showbackground": true,
            "ticks": "",
            "zerolinecolor": "white"
           },
           "zaxis": {
            "backgroundcolor": "#E5ECF6",
            "gridcolor": "white",
            "gridwidth": 2,
            "linecolor": "white",
            "showbackground": true,
            "ticks": "",
            "zerolinecolor": "white"
           }
          },
          "shapedefaults": {
           "line": {
            "color": "#2a3f5f"
           }
          },
          "ternary": {
           "aaxis": {
            "gridcolor": "white",
            "linecolor": "white",
            "ticks": ""
           },
           "baxis": {
            "gridcolor": "white",
            "linecolor": "white",
            "ticks": ""
           },
           "bgcolor": "#E5ECF6",
           "caxis": {
            "gridcolor": "white",
            "linecolor": "white",
            "ticks": ""
           }
          },
          "title": {
           "x": 0.05
          },
          "xaxis": {
           "automargin": true,
           "gridcolor": "white",
           "linecolor": "white",
           "ticks": "",
           "title": {
            "standoff": 15
           },
           "zerolinecolor": "white",
           "zerolinewidth": 2
          },
          "yaxis": {
           "automargin": true,
           "gridcolor": "white",
           "linecolor": "white",
           "ticks": "",
           "title": {
            "standoff": 15
           },
           "zerolinecolor": "white",
           "zerolinewidth": 2
          }
         }
        },
        "title": {
         "text": "Buffer Time Speedup vs 1 CPU"
        },
        "width": 1000,
        "xaxis": {
         "title": {
          "text": "Lattice size (cells)"
         },
         "type": "log"
        },
        "yaxis": {
         "title": {
          "text": "Speedup"
         },
         "type": "log"
        }
       }
      }
     },
     "metadata": {}
    }
   ],
   "source": [
    "fig = go.Figure()\n",
    "\n",
    "for idx, (name, dfs, _) in enumerate(runs_parallel):\n",
    "    for i, df in enumerate(dfs):\n",
    "        dfs[i][\"speedup\"] = cpu_df[\"avgBufferTime\"] / df[\"avgBufferTime\"]\n",
    "\n",
    "    df = pd.concat(dfs)\n",
    "    df[\"size\"] **= 2\n",
    "    add_mean_std_trace(fig, df, name, idx + 1, \"speedup\")\n",
    "\n",
    "fig.update_layout(title=\"Buffer Time Speedup vs 1 CPU\", xaxis_title='Lattice size (cells)', yaxis_title=\"Speedup\", width=plot_width, height=plot_height)\n",
    "fig.update_xaxes(type=\"log\")\n",
    "fig.update_yaxes(type=\"log\")\n",
    "fig.show()"
   ]
  },
  {
   "cell_type": "code",
   "execution_count": 7,
   "metadata": {},
   "outputs": [
    {
     "output_type": "display_data",
     "data": {
      "application/vnd.plotly.v1+json": {
       "config": {
        "plotlyServerURL": "https://plot.ly"
       },
       "data": [
        {
         "line": {
          "color": "#EF553B"
         },
         "mode": "lines+markers",
         "name": "2 CPUs",
         "type": "scatter",
         "x": [
          1024,
          4096,
          16384,
          65536,
          262144,
          1048576,
          4194304,
          16777216
         ],
         "y": [
          55.274551611062655,
          100.64982068155545,
          94.61498962576775,
          98.09900255185906,
          99.00886507431782,
          100.00020071850538,
          96.60386698048761,
          98.07137650171278
         ]
        },
        {
         "line": {
          "width": 0
         },
         "mode": "lines",
         "name": "2 CPUs upper",
         "showlegend": false,
         "type": "scatter",
         "x": [
          1024,
          4096,
          16384,
          65536,
          262144,
          1048576,
          4194304,
          16777216
         ],
         "y": [
          72.8703194016425,
          105.27794361876968,
          95.26523411347497,
          100.4125326267993,
          99.36843239659662,
          100.38711393616103,
          97.20289278142327,
          98.55095166689385
         ]
        },
        {
         "fill": "tonexty",
         "fillcolor": "rgba(239, 85, 59, 0.30)",
         "line": {
          "width": 0
         },
         "mode": "lines",
         "name": "2 CPUs lower",
         "showlegend": false,
         "type": "scatter",
         "x": [
          1024,
          4096,
          16384,
          65536,
          262144,
          1048576,
          4194304,
          16777216
         ],
         "y": [
          37.678783820482806,
          96.02169774434122,
          93.96474513806052,
          95.78547247691881,
          98.64929775203903,
          99.61328750084974,
          96.00484117955195,
          97.5918013365317
         ]
        },
        {
         "line": {
          "color": "#00CC96"
         },
         "mode": "lines+markers",
         "name": "4 CPUs",
         "type": "scatter",
         "x": [
          1024,
          4096,
          16384,
          65536,
          262144,
          1048576,
          4194304,
          16777216
         ],
         "y": [
          27.602026071867506,
          80.4297027326771,
          88.62262368544069,
          96.8682360635087,
          97.36054294874704,
          98.79048273648374,
          96.24985336272243,
          97.06294856838187
         ]
        },
        {
         "line": {
          "width": 0
         },
         "mode": "lines",
         "name": "4 CPUs upper",
         "showlegend": false,
         "type": "scatter",
         "x": [
          1024,
          4096,
          16384,
          65536,
          262144,
          1048576,
          4194304,
          16777216
         ],
         "y": [
          37.26392420352267,
          82.53525503202683,
          89.65220989728508,
          97.52431822915344,
          97.44116710395653,
          99.10022723140463,
          96.35056513697569,
          97.17775149826166
         ]
        },
        {
         "fill": "tonexty",
         "fillcolor": "rgba(0, 204, 150, 0.30)",
         "line": {
          "width": 0
         },
         "mode": "lines",
         "name": "4 CPUs lower",
         "showlegend": false,
         "type": "scatter",
         "x": [
          1024,
          4096,
          16384,
          65536,
          262144,
          1048576,
          4194304,
          16777216
         ],
         "y": [
          17.940127940212342,
          78.32415043332738,
          87.5930374735963,
          96.21215389786397,
          97.27991879353755,
          98.48073824156285,
          96.14914158846918,
          96.94814563850208
         ]
        },
        {
         "line": {
          "color": "#AB63FA"
         },
         "mode": "lines+markers",
         "name": "6 CPUs",
         "type": "scatter",
         "x": [
          1024,
          4096,
          16384,
          65536,
          262144,
          1048576,
          4194304,
          16777216
         ],
         "y": [
          16.02266551594218,
          60.836012099093224,
          79.75432673152478,
          93.75836710110309,
          96.13608002293333,
          97.42748631621075,
          95.63483119036434,
          96.33332258325032
         ]
        },
        {
         "line": {
          "width": 0
         },
         "mode": "lines",
         "name": "6 CPUs upper",
         "showlegend": false,
         "type": "scatter",
         "x": [
          1024,
          4096,
          16384,
          65536,
          262144,
          1048576,
          4194304,
          16777216
         ],
         "y": [
          24.84607006127301,
          64.88746669433529,
          81.96682231647269,
          94.53117877634324,
          96.46893555396342,
          97.9608024479549,
          95.71137939495257,
          96.74937835504673
         ]
        },
        {
         "fill": "tonexty",
         "fillcolor": "rgba(171, 99, 250, 0.30)",
         "line": {
          "width": 0
         },
         "mode": "lines",
         "name": "6 CPUs lower",
         "showlegend": false,
         "type": "scatter",
         "x": [
          1024,
          4096,
          16384,
          65536,
          262144,
          1048576,
          4194304,
          16777216
         ],
         "y": [
          7.199260970611347,
          56.78455750385116,
          77.54183114657688,
          92.98555542586294,
          95.80322449190324,
          96.89417018446659,
          95.5582829857761,
          95.91726681145391
         ]
        },
        {
         "line": {
          "color": "#FFA15A"
         },
         "mode": "lines+markers",
         "name": "8 CPUs",
         "type": "scatter",
         "x": [
          1024,
          4096,
          16384,
          65536,
          262144,
          1048576,
          4194304,
          16777216
         ],
         "y": [
          13.201375914137461,
          45.763462017670555,
          66.71916691700487,
          88.9907897351784,
          94.19641992001068,
          95.5036479446764,
          94.7223299135328,
          94.59890858164269
         ]
        },
        {
         "line": {
          "width": 0
         },
         "mode": "lines",
         "name": "8 CPUs upper",
         "showlegend": false,
         "type": "scatter",
         "x": [
          1024,
          4096,
          16384,
          65536,
          262144,
          1048576,
          4194304,
          16777216
         ],
         "y": [
          18.34002776698593,
          51.53988338912102,
          70.76167034901178,
          93.36587514358759,
          94.77564807954901,
          96.26132180415973,
          94.89153383754524,
          95.3448222736037
         ]
        },
        {
         "fill": "tonexty",
         "fillcolor": "rgba(255, 161, 90, 0.30)",
         "line": {
          "width": 0
         },
         "mode": "lines",
         "name": "8 CPUs lower",
         "showlegend": false,
         "type": "scatter",
         "x": [
          1024,
          4096,
          16384,
          65536,
          262144,
          1048576,
          4194304,
          16777216
         ],
         "y": [
          8.062724061288993,
          39.98704064622009,
          62.67666348499797,
          84.6157043267692,
          93.61719176047235,
          94.74597408519307,
          94.55312598952037,
          93.85299488968168
         ]
        },
        {
         "line": {
          "color": "#19D3F3"
         },
         "mode": "lines+markers",
         "name": "10 CPUs",
         "type": "scatter",
         "x": [
          1024,
          4096,
          16384,
          65536,
          262144,
          1048576,
          4194304,
          16777216
         ],
         "y": [
          8.741116240012062,
          33.36466834655528,
          42.69732902793123,
          47.976906503515636,
          48.6473880769419,
          48.82642382254796,
          48.162405124266,
          48.35587609324538
         ]
        },
        {
         "line": {
          "width": 0
         },
         "mode": "lines",
         "name": "10 CPUs upper",
         "showlegend": false,
         "type": "scatter",
         "x": [
          1024,
          4096,
          16384,
          65536,
          262144,
          1048576,
          4194304,
          16777216
         ],
         "y": [
          13.534178120789992,
          36.252092045106075,
          43.62180473000815,
          48.57066306142614,
          49.40035756243692,
          48.841035453472905,
          49.018315298512825,
          48.506520462501456
         ]
        },
        {
         "fill": "tonexty",
         "fillcolor": "rgba(25, 211, 243, 0.30)",
         "line": {
          "width": 0
         },
         "mode": "lines",
         "name": "10 CPUs lower",
         "showlegend": false,
         "type": "scatter",
         "x": [
          1024,
          4096,
          16384,
          65536,
          262144,
          1048576,
          4194304,
          16777216
         ],
         "y": [
          3.9480543592341313,
          30.477244648004476,
          41.772853325854314,
          47.38314994560513,
          47.89441859144688,
          48.81181219162301,
          47.30649495001918,
          48.2052317239893
         ]
        },
        {
         "line": {
          "color": "#FF6692"
         },
         "mode": "lines+markers",
         "name": "12 CPUs",
         "type": "scatter",
         "x": [
          1024,
          4096,
          16384,
          65536,
          262144,
          1048576,
          4194304,
          16777216
         ],
         "y": [
          4.918929575833914,
          25.874742849054606,
          41.33905700906836,
          46.83549307108694,
          48.18176189042309,
          48.743468555392596,
          47.84442376295494,
          47.85795987833576
         ]
        },
        {
         "line": {
          "width": 0
         },
         "mode": "lines",
         "name": "12 CPUs upper",
         "showlegend": false,
         "type": "scatter",
         "x": [
          1024,
          4096,
          16384,
          65536,
          262144,
          1048576,
          4194304,
          16777216
         ],
         "y": [
          6.316537839362228,
          30.194815136183873,
          42.022135919994774,
          47.04466216889729,
          48.772096874612345,
          48.7640113707993,
          48.41574220919664,
          47.874582625169815
         ]
        },
        {
         "fill": "tonexty",
         "fillcolor": "rgba(255, 102, 146, 0.30)",
         "line": {
          "width": 0
         },
         "mode": "lines",
         "name": "12 CPUs lower",
         "showlegend": false,
         "type": "scatter",
         "x": [
          1024,
          4096,
          16384,
          65536,
          262144,
          1048576,
          4194304,
          16777216
         ],
         "y": [
          3.5213213123056,
          21.554670561925338,
          40.65597809814195,
          46.626323973276584,
          47.591426906233835,
          48.72292573998589,
          47.27310531671324,
          47.84133713150171
         ]
        },
        {
         "line": {
          "color": "#B6E880"
         },
         "mode": "lines+markers",
         "name": "14 CPUs",
         "type": "scatter",
         "x": [
          1024,
          4096,
          16384,
          65536,
          262144,
          1048576,
          4194304,
          16777216
         ],
         "y": [
          3.0989599720588026,
          17.802213359335934,
          35.25627025260011,
          41.16984458522902,
          48.272611999016966,
          48.38876326176508,
          47.907237349282994,
          47.857980896603706
         ]
        },
        {
         "line": {
          "width": 0
         },
         "mode": "lines",
         "name": "14 CPUs upper",
         "showlegend": false,
         "type": "scatter",
         "x": [
          1024,
          4096,
          16384,
          65536,
          262144,
          1048576,
          4194304,
          16777216
         ],
         "y": [
          3.7010699124327577,
          23.540770833415465,
          40.63903053472882,
          45.23239342983843,
          48.960257423833966,
          48.581826350062634,
          48.57963068037944,
          47.88262976172952
         ]
        },
        {
         "fill": "tonexty",
         "fillcolor": "rgba(182, 232, 128, 0.30)",
         "line": {
          "width": 0
         },
         "mode": "lines",
         "name": "14 CPUs lower",
         "showlegend": false,
         "type": "scatter",
         "x": [
          1024,
          4096,
          16384,
          65536,
          262144,
          1048576,
          4194304,
          16777216
         ],
         "y": [
          2.4968500316848474,
          12.063655885256402,
          29.873509970471403,
          37.10729574061961,
          47.58496657419997,
          48.19570017346752,
          47.23484401818655,
          47.833332031477894
         ]
        },
        {
         "line": {
          "color": "#FF97FF"
         },
         "mode": "lines+markers",
         "name": "16 CPUs",
         "type": "scatter",
         "x": [
          1024,
          4096,
          16384,
          65536,
          262144,
          1048576,
          4194304,
          16777216
         ],
         "y": [
          0.6524439705068397,
          4.299754214055975,
          8.296209689535562,
          21.74054864714381,
          34.9738324690521,
          39.40794395212185,
          41.24810337536203,
          42.236161463100245
         ]
        },
        {
         "line": {
          "width": 0
         },
         "mode": "lines",
         "name": "16 CPUs upper",
         "showlegend": false,
         "type": "scatter",
         "x": [
          1024,
          4096,
          16384,
          65536,
          262144,
          1048576,
          4194304,
          16777216
         ],
         "y": [
          0.7847244193439143,
          5.120373353000446,
          10.848234204846822,
          23.86390993547195,
          36.19832035955592,
          40.49812437638144,
          41.566603995409594,
          42.28934948893727
         ]
        },
        {
         "fill": "tonexty",
         "fillcolor": "rgba(255, 151, 255, 0.30)",
         "line": {
          "width": 0
         },
         "mode": "lines",
         "name": "16 CPUs lower",
         "showlegend": false,
         "type": "scatter",
         "x": [
          1024,
          4096,
          16384,
          65536,
          262144,
          1048576,
          4194304,
          16777216
         ],
         "y": [
          0.520163521669765,
          3.479135075111504,
          5.744185174224303,
          19.617187358815674,
          33.749344578548275,
          38.317763527862255,
          40.92960275531446,
          42.18297343726322
         ]
        },
        {
         "line": {
          "color": "#FECB52"
         },
         "mode": "lines+markers",
         "name": "GPU",
         "type": "scatter",
         "x": [
          1024,
          4096,
          16384,
          65536,
          262144,
          1048576,
          4194304,
          16777216
         ],
         "y": [
          0.00013135971788549346,
          0.0005724321282286168,
          0.002076044123382202,
          0.008040381492897802,
          0.02706371542820129,
          0.09886749533517829,
          3.5382156077847116,
          4.769145114949037
         ]
        },
        {
         "line": {
          "width": 0
         },
         "mode": "lines",
         "name": "GPU upper",
         "showlegend": false,
         "type": "scatter",
         "x": [
          1024,
          4096,
          16384,
          65536,
          262144,
          1048576,
          4194304,
          16777216
         ],
         "y": [
          0.00013193358079080256,
          0.0005759253382719918,
          0.0021011194000327325,
          0.008196838039651929,
          0.027392784310580374,
          0.09935018754276408,
          4.750668214177131,
          4.785591795396765
         ]
        },
        {
         "fill": "tonexty",
         "fillcolor": "rgba(254, 203, 82, 0.30)",
         "line": {
          "width": 0
         },
         "mode": "lines",
         "name": "GPU lower",
         "showlegend": false,
         "type": "scatter",
         "x": [
          1024,
          4096,
          16384,
          65536,
          262144,
          1048576,
          4194304,
          16777216
         ],
         "y": [
          0.00013078585498018435,
          0.0005689389181852419,
          0.0020509688467316716,
          0.007883924946143674,
          0.026734646545822204,
          0.0983848031275925,
          2.325763001392292,
          4.752698434501309
         ]
        }
       ],
       "layout": {
        "height": 600,
        "template": {
         "data": {
          "bar": [
           {
            "error_x": {
             "color": "#2a3f5f"
            },
            "error_y": {
             "color": "#2a3f5f"
            },
            "marker": {
             "line": {
              "color": "#E5ECF6",
              "width": 0.5
             },
             "pattern": {
              "fillmode": "overlay",
              "size": 10,
              "solidity": 0.2
             }
            },
            "type": "bar"
           }
          ],
          "barpolar": [
           {
            "marker": {
             "line": {
              "color": "#E5ECF6",
              "width": 0.5
             },
             "pattern": {
              "fillmode": "overlay",
              "size": 10,
              "solidity": 0.2
             }
            },
            "type": "barpolar"
           }
          ],
          "carpet": [
           {
            "aaxis": {
             "endlinecolor": "#2a3f5f",
             "gridcolor": "white",
             "linecolor": "white",
             "minorgridcolor": "white",
             "startlinecolor": "#2a3f5f"
            },
            "baxis": {
             "endlinecolor": "#2a3f5f",
             "gridcolor": "white",
             "linecolor": "white",
             "minorgridcolor": "white",
             "startlinecolor": "#2a3f5f"
            },
            "type": "carpet"
           }
          ],
          "choropleth": [
           {
            "colorbar": {
             "outlinewidth": 0,
             "ticks": ""
            },
            "type": "choropleth"
           }
          ],
          "contour": [
           {
            "colorbar": {
             "outlinewidth": 0,
             "ticks": ""
            },
            "colorscale": [
             [
              0,
              "#0d0887"
             ],
             [
              0.1111111111111111,
              "#46039f"
             ],
             [
              0.2222222222222222,
              "#7201a8"
             ],
             [
              0.3333333333333333,
              "#9c179e"
             ],
             [
              0.4444444444444444,
              "#bd3786"
             ],
             [
              0.5555555555555556,
              "#d8576b"
             ],
             [
              0.6666666666666666,
              "#ed7953"
             ],
             [
              0.7777777777777778,
              "#fb9f3a"
             ],
             [
              0.8888888888888888,
              "#fdca26"
             ],
             [
              1,
              "#f0f921"
             ]
            ],
            "type": "contour"
           }
          ],
          "contourcarpet": [
           {
            "colorbar": {
             "outlinewidth": 0,
             "ticks": ""
            },
            "type": "contourcarpet"
           }
          ],
          "heatmap": [
           {
            "colorbar": {
             "outlinewidth": 0,
             "ticks": ""
            },
            "colorscale": [
             [
              0,
              "#0d0887"
             ],
             [
              0.1111111111111111,
              "#46039f"
             ],
             [
              0.2222222222222222,
              "#7201a8"
             ],
             [
              0.3333333333333333,
              "#9c179e"
             ],
             [
              0.4444444444444444,
              "#bd3786"
             ],
             [
              0.5555555555555556,
              "#d8576b"
             ],
             [
              0.6666666666666666,
              "#ed7953"
             ],
             [
              0.7777777777777778,
              "#fb9f3a"
             ],
             [
              0.8888888888888888,
              "#fdca26"
             ],
             [
              1,
              "#f0f921"
             ]
            ],
            "type": "heatmap"
           }
          ],
          "heatmapgl": [
           {
            "colorbar": {
             "outlinewidth": 0,
             "ticks": ""
            },
            "colorscale": [
             [
              0,
              "#0d0887"
             ],
             [
              0.1111111111111111,
              "#46039f"
             ],
             [
              0.2222222222222222,
              "#7201a8"
             ],
             [
              0.3333333333333333,
              "#9c179e"
             ],
             [
              0.4444444444444444,
              "#bd3786"
             ],
             [
              0.5555555555555556,
              "#d8576b"
             ],
             [
              0.6666666666666666,
              "#ed7953"
             ],
             [
              0.7777777777777778,
              "#fb9f3a"
             ],
             [
              0.8888888888888888,
              "#fdca26"
             ],
             [
              1,
              "#f0f921"
             ]
            ],
            "type": "heatmapgl"
           }
          ],
          "histogram": [
           {
            "marker": {
             "pattern": {
              "fillmode": "overlay",
              "size": 10,
              "solidity": 0.2
             }
            },
            "type": "histogram"
           }
          ],
          "histogram2d": [
           {
            "colorbar": {
             "outlinewidth": 0,
             "ticks": ""
            },
            "colorscale": [
             [
              0,
              "#0d0887"
             ],
             [
              0.1111111111111111,
              "#46039f"
             ],
             [
              0.2222222222222222,
              "#7201a8"
             ],
             [
              0.3333333333333333,
              "#9c179e"
             ],
             [
              0.4444444444444444,
              "#bd3786"
             ],
             [
              0.5555555555555556,
              "#d8576b"
             ],
             [
              0.6666666666666666,
              "#ed7953"
             ],
             [
              0.7777777777777778,
              "#fb9f3a"
             ],
             [
              0.8888888888888888,
              "#fdca26"
             ],
             [
              1,
              "#f0f921"
             ]
            ],
            "type": "histogram2d"
           }
          ],
          "histogram2dcontour": [
           {
            "colorbar": {
             "outlinewidth": 0,
             "ticks": ""
            },
            "colorscale": [
             [
              0,
              "#0d0887"
             ],
             [
              0.1111111111111111,
              "#46039f"
             ],
             [
              0.2222222222222222,
              "#7201a8"
             ],
             [
              0.3333333333333333,
              "#9c179e"
             ],
             [
              0.4444444444444444,
              "#bd3786"
             ],
             [
              0.5555555555555556,
              "#d8576b"
             ],
             [
              0.6666666666666666,
              "#ed7953"
             ],
             [
              0.7777777777777778,
              "#fb9f3a"
             ],
             [
              0.8888888888888888,
              "#fdca26"
             ],
             [
              1,
              "#f0f921"
             ]
            ],
            "type": "histogram2dcontour"
           }
          ],
          "mesh3d": [
           {
            "colorbar": {
             "outlinewidth": 0,
             "ticks": ""
            },
            "type": "mesh3d"
           }
          ],
          "parcoords": [
           {
            "line": {
             "colorbar": {
              "outlinewidth": 0,
              "ticks": ""
             }
            },
            "type": "parcoords"
           }
          ],
          "pie": [
           {
            "automargin": true,
            "type": "pie"
           }
          ],
          "scatter": [
           {
            "marker": {
             "colorbar": {
              "outlinewidth": 0,
              "ticks": ""
             }
            },
            "type": "scatter"
           }
          ],
          "scatter3d": [
           {
            "line": {
             "colorbar": {
              "outlinewidth": 0,
              "ticks": ""
             }
            },
            "marker": {
             "colorbar": {
              "outlinewidth": 0,
              "ticks": ""
             }
            },
            "type": "scatter3d"
           }
          ],
          "scattercarpet": [
           {
            "marker": {
             "colorbar": {
              "outlinewidth": 0,
              "ticks": ""
             }
            },
            "type": "scattercarpet"
           }
          ],
          "scattergeo": [
           {
            "marker": {
             "colorbar": {
              "outlinewidth": 0,
              "ticks": ""
             }
            },
            "type": "scattergeo"
           }
          ],
          "scattergl": [
           {
            "marker": {
             "colorbar": {
              "outlinewidth": 0,
              "ticks": ""
             }
            },
            "type": "scattergl"
           }
          ],
          "scattermapbox": [
           {
            "marker": {
             "colorbar": {
              "outlinewidth": 0,
              "ticks": ""
             }
            },
            "type": "scattermapbox"
           }
          ],
          "scatterpolar": [
           {
            "marker": {
             "colorbar": {
              "outlinewidth": 0,
              "ticks": ""
             }
            },
            "type": "scatterpolar"
           }
          ],
          "scatterpolargl": [
           {
            "marker": {
             "colorbar": {
              "outlinewidth": 0,
              "ticks": ""
             }
            },
            "type": "scatterpolargl"
           }
          ],
          "scatterternary": [
           {
            "marker": {
             "colorbar": {
              "outlinewidth": 0,
              "ticks": ""
             }
            },
            "type": "scatterternary"
           }
          ],
          "surface": [
           {
            "colorbar": {
             "outlinewidth": 0,
             "ticks": ""
            },
            "colorscale": [
             [
              0,
              "#0d0887"
             ],
             [
              0.1111111111111111,
              "#46039f"
             ],
             [
              0.2222222222222222,
              "#7201a8"
             ],
             [
              0.3333333333333333,
              "#9c179e"
             ],
             [
              0.4444444444444444,
              "#bd3786"
             ],
             [
              0.5555555555555556,
              "#d8576b"
             ],
             [
              0.6666666666666666,
              "#ed7953"
             ],
             [
              0.7777777777777778,
              "#fb9f3a"
             ],
             [
              0.8888888888888888,
              "#fdca26"
             ],
             [
              1,
              "#f0f921"
             ]
            ],
            "type": "surface"
           }
          ],
          "table": [
           {
            "cells": {
             "fill": {
              "color": "#EBF0F8"
             },
             "line": {
              "color": "white"
             }
            },
            "header": {
             "fill": {
              "color": "#C8D4E3"
             },
             "line": {
              "color": "white"
             }
            },
            "type": "table"
           }
          ]
         },
         "layout": {
          "annotationdefaults": {
           "arrowcolor": "#2a3f5f",
           "arrowhead": 0,
           "arrowwidth": 1
          },
          "autotypenumbers": "strict",
          "coloraxis": {
           "colorbar": {
            "outlinewidth": 0,
            "ticks": ""
           }
          },
          "colorscale": {
           "diverging": [
            [
             0,
             "#8e0152"
            ],
            [
             0.1,
             "#c51b7d"
            ],
            [
             0.2,
             "#de77ae"
            ],
            [
             0.3,
             "#f1b6da"
            ],
            [
             0.4,
             "#fde0ef"
            ],
            [
             0.5,
             "#f7f7f7"
            ],
            [
             0.6,
             "#e6f5d0"
            ],
            [
             0.7,
             "#b8e186"
            ],
            [
             0.8,
             "#7fbc41"
            ],
            [
             0.9,
             "#4d9221"
            ],
            [
             1,
             "#276419"
            ]
           ],
           "sequential": [
            [
             0,
             "#0d0887"
            ],
            [
             0.1111111111111111,
             "#46039f"
            ],
            [
             0.2222222222222222,
             "#7201a8"
            ],
            [
             0.3333333333333333,
             "#9c179e"
            ],
            [
             0.4444444444444444,
             "#bd3786"
            ],
            [
             0.5555555555555556,
             "#d8576b"
            ],
            [
             0.6666666666666666,
             "#ed7953"
            ],
            [
             0.7777777777777778,
             "#fb9f3a"
            ],
            [
             0.8888888888888888,
             "#fdca26"
            ],
            [
             1,
             "#f0f921"
            ]
           ],
           "sequentialminus": [
            [
             0,
             "#0d0887"
            ],
            [
             0.1111111111111111,
             "#46039f"
            ],
            [
             0.2222222222222222,
             "#7201a8"
            ],
            [
             0.3333333333333333,
             "#9c179e"
            ],
            [
             0.4444444444444444,
             "#bd3786"
            ],
            [
             0.5555555555555556,
             "#d8576b"
            ],
            [
             0.6666666666666666,
             "#ed7953"
            ],
            [
             0.7777777777777778,
             "#fb9f3a"
            ],
            [
             0.8888888888888888,
             "#fdca26"
            ],
            [
             1,
             "#f0f921"
            ]
           ]
          },
          "colorway": [
           "#636efa",
           "#EF553B",
           "#00cc96",
           "#ab63fa",
           "#FFA15A",
           "#19d3f3",
           "#FF6692",
           "#B6E880",
           "#FF97FF",
           "#FECB52"
          ],
          "font": {
           "color": "#2a3f5f"
          },
          "geo": {
           "bgcolor": "white",
           "lakecolor": "white",
           "landcolor": "#E5ECF6",
           "showlakes": true,
           "showland": true,
           "subunitcolor": "white"
          },
          "hoverlabel": {
           "align": "left"
          },
          "hovermode": "closest",
          "mapbox": {
           "style": "light"
          },
          "paper_bgcolor": "white",
          "plot_bgcolor": "#E5ECF6",
          "polar": {
           "angularaxis": {
            "gridcolor": "white",
            "linecolor": "white",
            "ticks": ""
           },
           "bgcolor": "#E5ECF6",
           "radialaxis": {
            "gridcolor": "white",
            "linecolor": "white",
            "ticks": ""
           }
          },
          "scene": {
           "xaxis": {
            "backgroundcolor": "#E5ECF6",
            "gridcolor": "white",
            "gridwidth": 2,
            "linecolor": "white",
            "showbackground": true,
            "ticks": "",
            "zerolinecolor": "white"
           },
           "yaxis": {
            "backgroundcolor": "#E5ECF6",
            "gridcolor": "white",
            "gridwidth": 2,
            "linecolor": "white",
            "showbackground": true,
            "ticks": "",
            "zerolinecolor": "white"
           },
           "zaxis": {
            "backgroundcolor": "#E5ECF6",
            "gridcolor": "white",
            "gridwidth": 2,
            "linecolor": "white",
            "showbackground": true,
            "ticks": "",
            "zerolinecolor": "white"
           }
          },
          "shapedefaults": {
           "line": {
            "color": "#2a3f5f"
           }
          },
          "ternary": {
           "aaxis": {
            "gridcolor": "white",
            "linecolor": "white",
            "ticks": ""
           },
           "baxis": {
            "gridcolor": "white",
            "linecolor": "white",
            "ticks": ""
           },
           "bgcolor": "#E5ECF6",
           "caxis": {
            "gridcolor": "white",
            "linecolor": "white",
            "ticks": ""
           }
          },
          "title": {
           "x": 0.05
          },
          "xaxis": {
           "automargin": true,
           "gridcolor": "white",
           "linecolor": "white",
           "ticks": "",
           "title": {
            "standoff": 15
           },
           "zerolinecolor": "white",
           "zerolinewidth": 2
          },
          "yaxis": {
           "automargin": true,
           "gridcolor": "white",
           "linecolor": "white",
           "ticks": "",
           "title": {
            "standoff": 15
           },
           "zerolinecolor": "white",
           "zerolinewidth": 2
          }
         }
        },
        "title": {
         "text": "Efficiency"
        },
        "width": 1000,
        "xaxis": {
         "title": {
          "text": "Lattice Size"
         },
         "type": "log"
        },
        "yaxis": {
         "title": {
          "text": "Efficiency %"
         }
        }
       }
      }
     },
     "metadata": {}
    }
   ],
   "source": [
    "fig = go.Figure()\n",
    "\n",
    "for idx, (name, dfs, info) in enumerate(runs_parallel):\n",
    "    for i, df in enumerate(dfs):\n",
    "        dfs[i][\"efficiency\"] = 100 * (cpu_df[\"avgEvolveTime\"] / df[\"avgEvolveTime\"]) / info[0]\n",
    "    \n",
    "    df = pd.concat(dfs)\n",
    "    df[\"size\"] **= 2\n",
    "    add_mean_std_trace(fig, df, name, idx + 1, \"efficiency\")\n",
    "\n",
    "fig.update_layout(title=\"Efficiency\", xaxis_title='Lattice Size', yaxis_title=\"Efficiency %\", width=plot_width, height=plot_height)\n",
    "fig.update_xaxes(type=\"log\")\n",
    "fig.show()"
   ]
  }
 ]
}