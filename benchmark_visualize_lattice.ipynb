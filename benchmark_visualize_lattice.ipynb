{
 "metadata": {
  "language_info": {
   "codemirror_mode": {
    "name": "ipython",
    "version": 3
   },
   "file_extension": ".py",
   "mimetype": "text/x-python",
   "name": "python",
   "nbconvert_exporter": "python",
   "pygments_lexer": "ipython3",
   "version": "3.8.10"
  },
  "orig_nbformat": 2,
  "kernelspec": {
   "name": "python3",
   "display_name": "Python 3.8.10 64-bit ('bt_rew': conda)"
  },
  "interpreter": {
   "hash": "64d9061477c2b47e4fafdd661e486d2c0da5459afa86980e15aa54a8cb77a46c"
  }
 },
 "nbformat": 4,
 "nbformat_minor": 2,
 "cells": [
  {
   "cell_type": "code",
   "execution_count": 2,
   "metadata": {},
   "outputs": [],
   "source": [
    "import pandas as pd\n",
    "import plotly.express as px\n",
    "import plotly.graph_objects as go\n",
    "\n",
    "all_colors = px.colors.qualitative.Plotly"
   ]
  },
  {
   "cell_type": "code",
   "execution_count": 58,
   "metadata": {},
   "outputs": [],
   "source": [
    "layout_settings = {\n",
    "    \"width\": 1500, \n",
    "    \"height\": 900,\n",
    "    \"font\": dict(size=20)\n",
    "}\n",
    "\n",
    "def get_rgba(hex, opacity=0.3):\n",
    "    return \"rgba(%d, %d, %d, %.2f)\" % (tuple(int(hex.lstrip('#')[i:i+2], 16) for i in (0, 2, 4)) + (opacity,))"
   ]
  },
  {
   "cell_type": "code",
   "execution_count": 51,
   "metadata": {},
   "outputs": [],
   "source": [
    "runs = [\n",
    "    # (  RUN NAME,                DF,                                              INFO  )\n",
    "    # (\"CPU Baseline\", [pd.read_csv(\"res/1.hl.cpu-gpu.baselines/1.1.benchmark_results_cpu.csv\", header=0)], (1,)),\n",
    "    # (\"GPU\", [pd.read_csv(\"res/1.hl.cpu-gpu.baselines/1.2.benchmark_results_gpu.csv\", header=0)], (8704,)),\n",
    "\n",
    "    # headless lattice size experiments\n",
    "    (\"1 CPU\", [\n",
    "        pd.read_csv(\"res/39-40.full/40.lat.hl.cpu.1.1.csv\", header=0),\n",
    "        pd.read_csv(\"res/39-40.full/40.lat.hl.cpu.1.2.csv\", header=0),\n",
    "        pd.read_csv(\"res/39-40.full/40.lat.hl.cpu.1.3.csv\", header=0),\n",
    "        pd.read_csv(\"res/39-40.full/40.lat.hl.cpu.1.4.csv\", header=0),\n",
    "        pd.read_csv(\"res/39-40.full/40.lat.hl.cpu.1.5.csv\", header=0)\n",
    "    ], (1,)),\n",
    "    (\"2 CPUs\", [\n",
    "        pd.read_csv(\"res/39-40.full/40.lat.hl.cpu.2.1.csv\", header=0),\n",
    "        pd.read_csv(\"res/39-40.full/40.lat.hl.cpu.2.2.csv\", header=0),\n",
    "        pd.read_csv(\"res/39-40.full/40.lat.hl.cpu.2.3.csv\", header=0),\n",
    "        pd.read_csv(\"res/39-40.full/40.lat.hl.cpu.2.4.csv\", header=0),\n",
    "        pd.read_csv(\"res/39-40.full/40.lat.hl.cpu.2.5.csv\", header=0)\n",
    "    ], (2,)),\n",
    "    (\"4 CPUs\", [\n",
    "        pd.read_csv(\"res/39-40.full/40.lat.hl.cpu.4.1.csv\", header=0),\n",
    "        pd.read_csv(\"res/39-40.full/40.lat.hl.cpu.4.2.csv\", header=0),\n",
    "        pd.read_csv(\"res/39-40.full/40.lat.hl.cpu.4.3.csv\", header=0),\n",
    "        pd.read_csv(\"res/39-40.full/40.lat.hl.cpu.4.4.csv\", header=0),\n",
    "        pd.read_csv(\"res/39-40.full/40.lat.hl.cpu.4.5.csv\", header=0)\n",
    "    ], (4,)),\n",
    "    # (\"6 CPUs\", [\n",
    "    #     pd.read_csv(\"res/39-40.full/40.lat.hl.cpu.6.1.csv\", header=0),\n",
    "    #     pd.read_csv(\"res/39-40.full/40.lat.hl.cpu.6.2.csv\", header=0),\n",
    "    #     pd.read_csv(\"res/39-40.full/40.lat.hl.cpu.6.3.csv\", header=0),\n",
    "    #     pd.read_csv(\"res/39-40.full/40.lat.hl.cpu.6.4.csv\", header=0),\n",
    "    #     pd.read_csv(\"res/39-40.full/40.lat.hl.cpu.6.5.csv\", header=0)\n",
    "    # ], (6,)),\n",
    "    (\"8 CPUs\", [\n",
    "        pd.read_csv(\"res/39-40.full/40.lat.hl.cpu.8.1.csv\", header=0),\n",
    "        pd.read_csv(\"res/39-40.full/40.lat.hl.cpu.8.2.csv\", header=0),\n",
    "        pd.read_csv(\"res/39-40.full/40.lat.hl.cpu.8.3.csv\", header=0),\n",
    "        pd.read_csv(\"res/39-40.full/40.lat.hl.cpu.8.4.csv\", header=0),\n",
    "        pd.read_csv(\"res/39-40.full/40.lat.hl.cpu.8.5.csv\", header=0)\n",
    "    ], (8,)),\n",
    "    # (\"10 CPUs\", [\n",
    "    #     pd.read_csv(\"res/39-40.full/40.lat.hl.cpu.10.1.csv\", header=0),\n",
    "    #     pd.read_csv(\"res/39-40.full/40.lat.hl.cpu.10.2.csv\", header=0),\n",
    "    #     pd.read_csv(\"res/39-40.full/40.lat.hl.cpu.10.3.csv\", header=0),\n",
    "    #     pd.read_csv(\"res/39-40.full/40.lat.hl.cpu.10.4.csv\", header=0),\n",
    "    #     pd.read_csv(\"res/39-40.full/40.lat.hl.cpu.10.5.csv\", header=0)\n",
    "    # ], (10,)),\n",
    "    (\"12 CPUs\", [\n",
    "        pd.read_csv(\"res/39-40.full/40.lat.hl.cpu.12.1.csv\", header=0),\n",
    "        pd.read_csv(\"res/39-40.full/40.lat.hl.cpu.12.2.csv\", header=0),\n",
    "        pd.read_csv(\"res/39-40.full/40.lat.hl.cpu.12.3.csv\", header=0),\n",
    "        pd.read_csv(\"res/39-40.full/40.lat.hl.cpu.12.4.csv\", header=0),\n",
    "        pd.read_csv(\"res/39-40.full/40.lat.hl.cpu.12.5.csv\", header=0)\n",
    "    ], (12,)),\n",
    "    # (\"14 CPUs\", [\n",
    "    #     pd.read_csv(\"res/39-40.full/40.lat.hl.cpu.14.1.csv\", header=0),\n",
    "    #     pd.read_csv(\"res/39-40.full/40.lat.hl.cpu.14.2.csv\", header=0),\n",
    "    #     pd.read_csv(\"res/39-40.full/40.lat.hl.cpu.14.3.csv\", header=0),\n",
    "    #     pd.read_csv(\"res/39-40.full/40.lat.hl.cpu.14.4.csv\", header=0),\n",
    "    #     pd.read_csv(\"res/39-40.full/40.lat.hl.cpu.14.5.csv\", header=0)\n",
    "    # ], (14,)),\n",
    "    (\"16 CPUs\", [\n",
    "        pd.read_csv(\"res/39-40.full/40.lat.hl.cpu.16.1.csv\", header=0),\n",
    "        pd.read_csv(\"res/39-40.full/40.lat.hl.cpu.16.2.csv\", header=0),\n",
    "        pd.read_csv(\"res/39-40.full/40.lat.hl.cpu.16.3.csv\", header=0),\n",
    "        pd.read_csv(\"res/39-40.full/40.lat.hl.cpu.16.4.csv\", header=0),\n",
    "        pd.read_csv(\"res/39-40.full/40.lat.hl.cpu.16.5.csv\", header=0)\n",
    "    ], (18,)),\n",
    "    (\"GPU\", [\n",
    "        pd.read_csv(\"res/39-40.full/40.lat.hl.gpu.8704.1.csv\", header=0),\n",
    "        pd.read_csv(\"res/39-40.full/40.lat.hl.gpu.8704.2.csv\", header=0),\n",
    "        pd.read_csv(\"res/39-40.full/40.lat.hl.gpu.8704.3.csv\", header=0),\n",
    "        pd.read_csv(\"res/39-40.full/40.lat.hl.gpu.8704.4.csv\", header=0),\n",
    "        pd.read_csv(\"res/39-40.full/40.lat.hl.gpu.8704.5.csv\", header=0)\n",
    "    ], (8704,)),\n",
    "]\n",
    "\n",
    "cpu_df = pd.concat(runs[0][1])\n",
    "cpu_df = cpu_df.groupby(cpu_df.index).mean() # use cpu_df mean only\n",
    "\n",
    "runs_parallel = runs[1:]"
   ]
  },
  {
   "cell_type": "code",
   "execution_count": 52,
   "metadata": {},
   "outputs": [],
   "source": [
    "def add_mean_std_trace(fig, df, name, idx, y_col, x_col=\"size\"):\n",
    "    df_mean = df.groupby(df.index).mean()\n",
    "    df_std = df.groupby(df.index).std()\n",
    "\n",
    "    color = all_colors[idx % len(all_colors)]\n",
    "    fig.add_trace(go.Scatter(\n",
    "        name=name,\n",
    "        x=df_mean[x_col],\n",
    "        y=df_mean[y_col],\n",
    "        mode=\"lines+markers\",\n",
    "        line=dict(color=color),\n",
    "    ))\n",
    "    fig.add_traces(go.Scatter(\n",
    "        name=name + \" upper\",\n",
    "        x=df_mean[x_col],\n",
    "        y=df_mean[y_col] + df_std[y_col],\n",
    "        mode=\"lines\",\n",
    "        line=dict(width=0),\n",
    "        showlegend=False\n",
    "    ))\n",
    "    fig.add_traces(go.Scatter(\n",
    "        name=name + \" lower\",\n",
    "        x=df_mean[x_col],\n",
    "        y=df_mean[y_col] - df_std[y_col],\n",
    "        line=dict(width=0),\n",
    "        mode='lines',\n",
    "        fillcolor=get_rgba(color),\n",
    "        fill='tonexty',\n",
    "        showlegend=False,\n",
    "    ))"
   ]
  },
  {
   "cell_type": "code",
   "execution_count": 62,
   "metadata": {},
   "outputs": [
    {
     "output_type": "display_data",
     "data": {
      "application/vnd.plotly.v1+json": {
       "config": {
        "plotlyServerURL": "https://plot.ly"
       },
       "data": [
        {
         "line": {
          "color": "#636EFA"
         },
         "mode": "lines+markers",
         "name": "1 CPU",
         "type": "scatter",
         "x": [
          1024,
          4096,
          16384,
          65536,
          262144,
          1048576,
          4194304,
          16777216
         ],
         "y": [
          0.0041598,
          0.018673600000000002,
          0.06611099999999999,
          0.2568636000000001,
          1.0565412,
          4.248933,
          17.6815022,
          71.7358396
         ]
        },
        {
         "line": {
          "width": 0
         },
         "mode": "lines",
         "name": "1 CPU upper",
         "showlegend": false,
         "type": "scatter",
         "x": [
          1024,
          4096,
          16384,
          65536,
          262144,
          1048576,
          4194304,
          16777216
         ],
         "y": [
          0.005132995612402769,
          0.020564230661974995,
          0.06857864351153078,
          0.25841328377419404,
          1.066674225668575,
          4.2818978688530684,
          17.81898996368354,
          72.15676373386655
         ]
        },
        {
         "fill": "tonexty",
         "fillcolor": "rgba(99, 110, 250, 0.30)",
         "line": {
          "width": 0
         },
         "mode": "lines",
         "name": "1 CPU lower",
         "showlegend": false,
         "type": "scatter",
         "x": [
          1024,
          4096,
          16384,
          65536,
          262144,
          1048576,
          4194304,
          16777216
         ],
         "y": [
          0.0031866043875972312,
          0.01678296933802501,
          0.0636433564884692,
          0.2553139162258061,
          1.046408174331425,
          4.215968131146932,
          17.544014436316463,
          71.31491546613346
         ]
        },
        {
         "line": {
          "color": "#EF553B"
         },
         "mode": "lines+markers",
         "name": "2 CPUs",
         "type": "scatter",
         "x": [
          1024,
          4096,
          16384,
          65536,
          262144,
          1048576,
          4194304,
          16777216
         ],
         "y": [
          0.0051416,
          0.0149778,
          0.037075000000000004,
          0.1374696,
          0.5606444,
          2.1961952,
          9.211057799999999,
          36.7796862
         ]
        },
        {
         "line": {
          "width": 0
         },
         "mode": "lines",
         "name": "2 CPUs upper",
         "showlegend": false,
         "type": "scatter",
         "x": [
          1024,
          4096,
          16384,
          65536,
          262144,
          1048576,
          4194304,
          16777216
         ],
         "y": [
          0.00533667767683669,
          0.015919280323745535,
          0.040485075365736076,
          0.14242176198240727,
          0.5676113717811974,
          2.205863835436296,
          9.26785137308446,
          37.07632493401446
         ]
        },
        {
         "fill": "tonexty",
         "fillcolor": "rgba(239, 85, 59, 0.30)",
         "line": {
          "width": 0
         },
         "mode": "lines",
         "name": "2 CPUs lower",
         "showlegend": false,
         "type": "scatter",
         "x": [
          1024,
          4096,
          16384,
          65536,
          262144,
          1048576,
          4194304,
          16777216
         ],
         "y": [
          0.0049465223231633096,
          0.014036319676254462,
          0.03366492463426393,
          0.13251743801759272,
          0.5536774282188027,
          2.186526564563704,
          9.154264226915538,
          36.48304746598554
         ]
        },
        {
         "line": {
          "color": "#00CC96"
         },
         "mode": "lines+markers",
         "name": "4 CPUs",
         "type": "scatter",
         "x": [
          1024,
          4096,
          16384,
          65536,
          262144,
          1048576,
          4194304,
          16777216
         ],
         "y": [
          0.003742,
          0.0097266,
          0.025101799999999997,
          0.0742052,
          0.288106,
          1.1208732,
          4.681959600000001,
          18.6417486
         ]
        },
        {
         "line": {
          "width": 0
         },
         "mode": "lines",
         "name": "4 CPUs upper",
         "showlegend": false,
         "type": "scatter",
         "x": [
          1024,
          4096,
          16384,
          65536,
          262144,
          1048576,
          4194304,
          16777216
         ],
         "y": [
          0.0038843411395205196,
          0.010630017290071427,
          0.026051511903684477,
          0.07563943680053191,
          0.2922687851253698,
          1.126396871532595,
          4.691650638298347,
          18.675030484866994
         ]
        },
        {
         "fill": "tonexty",
         "fillcolor": "rgba(0, 204, 150, 0.30)",
         "line": {
          "width": 0
         },
         "mode": "lines",
         "name": "4 CPUs lower",
         "showlegend": false,
         "type": "scatter",
         "x": [
          1024,
          4096,
          16384,
          65536,
          262144,
          1048576,
          4194304,
          16777216
         ],
         "y": [
          0.0035996588604794806,
          0.008823182709928573,
          0.024152088096315517,
          0.07277096319946809,
          0.28394321487463015,
          1.1153495284674049,
          4.672268561701655,
          18.608466715133005
         ]
        },
        {
         "line": {
          "color": "#AB63FA"
         },
         "mode": "lines+markers",
         "name": "8 CPUs",
         "type": "scatter",
         "x": [
          1024,
          4096,
          16384,
          65536,
          262144,
          1048576,
          4194304,
          16777216
         ],
         "y": [
          0.0034386,
          0.007817,
          0.0170484,
          0.061321400000000005,
          0.2408334,
          0.5986402,
          2.394989,
          9.547895399999998
         ]
        },
        {
         "line": {
          "width": 0
         },
         "mode": "lines",
         "name": "8 CPUs upper",
         "showlegend": false,
         "type": "scatter",
         "x": [
          1024,
          4096,
          16384,
          65536,
          262144,
          1048576,
          4194304,
          16777216
         ],
         "y": [
          0.003834851561511119,
          0.008967976107484425,
          0.018295644282408218,
          0.07367696074405368,
          0.293698158604386,
          0.6198843634502279,
          2.396203409527301,
          9.552306909922917
         ]
        },
        {
         "fill": "tonexty",
         "fillcolor": "rgba(171, 99, 250, 0.30)",
         "line": {
          "width": 0
         },
         "mode": "lines",
         "name": "8 CPUs lower",
         "showlegend": false,
         "type": "scatter",
         "x": [
          1024,
          4096,
          16384,
          65536,
          262144,
          1048576,
          4194304,
          16777216
         ],
         "y": [
          0.003042348438488881,
          0.006666023892515574,
          0.01580115571759178,
          0.04896583925594633,
          0.18796864139561403,
          0.577396036549772,
          2.393774590472699,
          9.543483890077079
         ]
        },
        {
         "line": {
          "color": "#FFA15A"
         },
         "mode": "lines+markers",
         "name": "12 CPUs",
         "type": "scatter",
         "x": [
          1024,
          4096,
          16384,
          65536,
          262144,
          1048576,
          4194304,
          16777216
         ],
         "y": [
          0.004066800000000001,
          0.0074466,
          0.017047800000000002,
          0.0504336,
          0.19540200000000002,
          0.7593316,
          3.1771452000000004,
          12.716623
         ]
        },
        {
         "line": {
          "width": 0
         },
         "mode": "lines",
         "name": "12 CPUs upper",
         "showlegend": false,
         "type": "scatter",
         "x": [
          1024,
          4096,
          16384,
          65536,
          262144,
          1048576,
          4194304,
          16777216
         ],
         "y": [
          0.005189754451436032,
          0.007951794319049611,
          0.019035276716844757,
          0.052804173938943905,
          0.197409714247596,
          0.7616983159314121,
          3.185473300935988,
          12.73275575387217
         ]
        },
        {
         "fill": "tonexty",
         "fillcolor": "rgba(255, 161, 90, 0.30)",
         "line": {
          "width": 0
         },
         "mode": "lines",
         "name": "12 CPUs lower",
         "showlegend": false,
         "type": "scatter",
         "x": [
          1024,
          4096,
          16384,
          65536,
          262144,
          1048576,
          4194304,
          16777216
         ],
         "y": [
          0.0029438455485639686,
          0.006941405680950389,
          0.015060323283155248,
          0.0480630260610561,
          0.19339428575240403,
          0.7569648840685879,
          3.1688170990640128,
          12.700490246127831
         ]
        },
        {
         "line": {
          "color": "#19D3F3"
         },
         "mode": "lines+markers",
         "name": "16 CPUs",
         "type": "scatter",
         "x": [
          1024,
          4096,
          16384,
          65536,
          262144,
          1048576,
          4194304,
          16777216
         ],
         "y": [
          0.022422,
          0.0163932,
          0.0222586,
          0.04907740000000001,
          0.1543688,
          0.6608074,
          2.3948105999999996,
          9.6612896
         ]
        },
        {
         "line": {
          "width": 0
         },
         "mode": "lines",
         "name": "16 CPUs upper",
         "showlegend": false,
         "type": "scatter",
         "x": [
          1024,
          4096,
          16384,
          65536,
          262144,
          1048576,
          4194304,
          16777216
         ],
         "y": [
          0.02487702963322238,
          0.016781340696139943,
          0.0231665013162233,
          0.051207330937847524,
          0.15827618521264541,
          0.6811670240584152,
          2.4396181750772117,
          9.692756993700463
         ]
        },
        {
         "fill": "tonexty",
         "fillcolor": "rgba(25, 211, 243, 0.30)",
         "line": {
          "width": 0
         },
         "mode": "lines",
         "name": "16 CPUs lower",
         "showlegend": false,
         "type": "scatter",
         "x": [
          1024,
          4096,
          16384,
          65536,
          262144,
          1048576,
          4194304,
          16777216
         ],
         "y": [
          0.019966970366777623,
          0.016005059303860057,
          0.0213506986837767,
          0.04694746906215249,
          0.15046141478735459,
          0.6404477759415849,
          2.3500030249227875,
          9.629822206299536
         ]
        },
        {
         "line": {
          "color": "#FF6692"
         },
         "mode": "lines+markers",
         "name": "GPU",
         "type": "scatter",
         "x": [
          1024,
          4096,
          16384,
          65536,
          262144,
          1048576,
          4194304,
          16777216
         ],
         "y": [
          0.0061248000000000006,
          0.0061222,
          0.0061714000000000005,
          0.0064888,
          0.0078886,
          0.0134766,
          0.0356602,
          0.11439200000000001
         ]
        },
        {
         "line": {
          "width": 0
         },
         "mode": "lines",
         "name": "GPU upper",
         "showlegend": false,
         "type": "scatter",
         "x": [
          1024,
          4096,
          16384,
          65536,
          262144,
          1048576,
          4194304,
          16777216
         ],
         "y": [
          0.00623598992760138,
          0.006252885500343383,
          0.0063109503493367185,
          0.006636673932794121,
          0.008116797940393862,
          0.013945685599864246,
          0.03676077039756665,
          0.11581758216178514
         ]
        },
        {
         "fill": "tonexty",
         "fillcolor": "rgba(255, 102, 146, 0.30)",
         "line": {
          "width": 0
         },
         "mode": "lines",
         "name": "GPU lower",
         "showlegend": false,
         "type": "scatter",
         "x": [
          1024,
          4096,
          16384,
          65536,
          262144,
          1048576,
          4194304,
          16777216
         ],
         "y": [
          0.006013610072398621,
          0.005991514499656618,
          0.0060318496506632825,
          0.00634092606720588,
          0.00766040205960614,
          0.013007514400135754,
          0.034559629602433355,
          0.11296641783821487
         ]
        }
       ],
       "layout": {
        "font": {
         "size": 20
        },
        "height": 900,
        "template": {
         "data": {
          "bar": [
           {
            "error_x": {
             "color": "#2a3f5f"
            },
            "error_y": {
             "color": "#2a3f5f"
            },
            "marker": {
             "line": {
              "color": "#E5ECF6",
              "width": 0.5
             },
             "pattern": {
              "fillmode": "overlay",
              "size": 10,
              "solidity": 0.2
             }
            },
            "type": "bar"
           }
          ],
          "barpolar": [
           {
            "marker": {
             "line": {
              "color": "#E5ECF6",
              "width": 0.5
             },
             "pattern": {
              "fillmode": "overlay",
              "size": 10,
              "solidity": 0.2
             }
            },
            "type": "barpolar"
           }
          ],
          "carpet": [
           {
            "aaxis": {
             "endlinecolor": "#2a3f5f",
             "gridcolor": "white",
             "linecolor": "white",
             "minorgridcolor": "white",
             "startlinecolor": "#2a3f5f"
            },
            "baxis": {
             "endlinecolor": "#2a3f5f",
             "gridcolor": "white",
             "linecolor": "white",
             "minorgridcolor": "white",
             "startlinecolor": "#2a3f5f"
            },
            "type": "carpet"
           }
          ],
          "choropleth": [
           {
            "colorbar": {
             "outlinewidth": 0,
             "ticks": ""
            },
            "type": "choropleth"
           }
          ],
          "contour": [
           {
            "colorbar": {
             "outlinewidth": 0,
             "ticks": ""
            },
            "colorscale": [
             [
              0,
              "#0d0887"
             ],
             [
              0.1111111111111111,
              "#46039f"
             ],
             [
              0.2222222222222222,
              "#7201a8"
             ],
             [
              0.3333333333333333,
              "#9c179e"
             ],
             [
              0.4444444444444444,
              "#bd3786"
             ],
             [
              0.5555555555555556,
              "#d8576b"
             ],
             [
              0.6666666666666666,
              "#ed7953"
             ],
             [
              0.7777777777777778,
              "#fb9f3a"
             ],
             [
              0.8888888888888888,
              "#fdca26"
             ],
             [
              1,
              "#f0f921"
             ]
            ],
            "type": "contour"
           }
          ],
          "contourcarpet": [
           {
            "colorbar": {
             "outlinewidth": 0,
             "ticks": ""
            },
            "type": "contourcarpet"
           }
          ],
          "heatmap": [
           {
            "colorbar": {
             "outlinewidth": 0,
             "ticks": ""
            },
            "colorscale": [
             [
              0,
              "#0d0887"
             ],
             [
              0.1111111111111111,
              "#46039f"
             ],
             [
              0.2222222222222222,
              "#7201a8"
             ],
             [
              0.3333333333333333,
              "#9c179e"
             ],
             [
              0.4444444444444444,
              "#bd3786"
             ],
             [
              0.5555555555555556,
              "#d8576b"
             ],
             [
              0.6666666666666666,
              "#ed7953"
             ],
             [
              0.7777777777777778,
              "#fb9f3a"
             ],
             [
              0.8888888888888888,
              "#fdca26"
             ],
             [
              1,
              "#f0f921"
             ]
            ],
            "type": "heatmap"
           }
          ],
          "heatmapgl": [
           {
            "colorbar": {
             "outlinewidth": 0,
             "ticks": ""
            },
            "colorscale": [
             [
              0,
              "#0d0887"
             ],
             [
              0.1111111111111111,
              "#46039f"
             ],
             [
              0.2222222222222222,
              "#7201a8"
             ],
             [
              0.3333333333333333,
              "#9c179e"
             ],
             [
              0.4444444444444444,
              "#bd3786"
             ],
             [
              0.5555555555555556,
              "#d8576b"
             ],
             [
              0.6666666666666666,
              "#ed7953"
             ],
             [
              0.7777777777777778,
              "#fb9f3a"
             ],
             [
              0.8888888888888888,
              "#fdca26"
             ],
             [
              1,
              "#f0f921"
             ]
            ],
            "type": "heatmapgl"
           }
          ],
          "histogram": [
           {
            "marker": {
             "pattern": {
              "fillmode": "overlay",
              "size": 10,
              "solidity": 0.2
             }
            },
            "type": "histogram"
           }
          ],
          "histogram2d": [
           {
            "colorbar": {
             "outlinewidth": 0,
             "ticks": ""
            },
            "colorscale": [
             [
              0,
              "#0d0887"
             ],
             [
              0.1111111111111111,
              "#46039f"
             ],
             [
              0.2222222222222222,
              "#7201a8"
             ],
             [
              0.3333333333333333,
              "#9c179e"
             ],
             [
              0.4444444444444444,
              "#bd3786"
             ],
             [
              0.5555555555555556,
              "#d8576b"
             ],
             [
              0.6666666666666666,
              "#ed7953"
             ],
             [
              0.7777777777777778,
              "#fb9f3a"
             ],
             [
              0.8888888888888888,
              "#fdca26"
             ],
             [
              1,
              "#f0f921"
             ]
            ],
            "type": "histogram2d"
           }
          ],
          "histogram2dcontour": [
           {
            "colorbar": {
             "outlinewidth": 0,
             "ticks": ""
            },
            "colorscale": [
             [
              0,
              "#0d0887"
             ],
             [
              0.1111111111111111,
              "#46039f"
             ],
             [
              0.2222222222222222,
              "#7201a8"
             ],
             [
              0.3333333333333333,
              "#9c179e"
             ],
             [
              0.4444444444444444,
              "#bd3786"
             ],
             [
              0.5555555555555556,
              "#d8576b"
             ],
             [
              0.6666666666666666,
              "#ed7953"
             ],
             [
              0.7777777777777778,
              "#fb9f3a"
             ],
             [
              0.8888888888888888,
              "#fdca26"
             ],
             [
              1,
              "#f0f921"
             ]
            ],
            "type": "histogram2dcontour"
           }
          ],
          "mesh3d": [
           {
            "colorbar": {
             "outlinewidth": 0,
             "ticks": ""
            },
            "type": "mesh3d"
           }
          ],
          "parcoords": [
           {
            "line": {
             "colorbar": {
              "outlinewidth": 0,
              "ticks": ""
             }
            },
            "type": "parcoords"
           }
          ],
          "pie": [
           {
            "automargin": true,
            "type": "pie"
           }
          ],
          "scatter": [
           {
            "marker": {
             "colorbar": {
              "outlinewidth": 0,
              "ticks": ""
             }
            },
            "type": "scatter"
           }
          ],
          "scatter3d": [
           {
            "line": {
             "colorbar": {
              "outlinewidth": 0,
              "ticks": ""
             }
            },
            "marker": {
             "colorbar": {
              "outlinewidth": 0,
              "ticks": ""
             }
            },
            "type": "scatter3d"
           }
          ],
          "scattercarpet": [
           {
            "marker": {
             "colorbar": {
              "outlinewidth": 0,
              "ticks": ""
             }
            },
            "type": "scattercarpet"
           }
          ],
          "scattergeo": [
           {
            "marker": {
             "colorbar": {
              "outlinewidth": 0,
              "ticks": ""
             }
            },
            "type": "scattergeo"
           }
          ],
          "scattergl": [
           {
            "marker": {
             "colorbar": {
              "outlinewidth": 0,
              "ticks": ""
             }
            },
            "type": "scattergl"
           }
          ],
          "scattermapbox": [
           {
            "marker": {
             "colorbar": {
              "outlinewidth": 0,
              "ticks": ""
             }
            },
            "type": "scattermapbox"
           }
          ],
          "scatterpolar": [
           {
            "marker": {
             "colorbar": {
              "outlinewidth": 0,
              "ticks": ""
             }
            },
            "type": "scatterpolar"
           }
          ],
          "scatterpolargl": [
           {
            "marker": {
             "colorbar": {
              "outlinewidth": 0,
              "ticks": ""
             }
            },
            "type": "scatterpolargl"
           }
          ],
          "scatterternary": [
           {
            "marker": {
             "colorbar": {
              "outlinewidth": 0,
              "ticks": ""
             }
            },
            "type": "scatterternary"
           }
          ],
          "surface": [
           {
            "colorbar": {
             "outlinewidth": 0,
             "ticks": ""
            },
            "colorscale": [
             [
              0,
              "#0d0887"
             ],
             [
              0.1111111111111111,
              "#46039f"
             ],
             [
              0.2222222222222222,
              "#7201a8"
             ],
             [
              0.3333333333333333,
              "#9c179e"
             ],
             [
              0.4444444444444444,
              "#bd3786"
             ],
             [
              0.5555555555555556,
              "#d8576b"
             ],
             [
              0.6666666666666666,
              "#ed7953"
             ],
             [
              0.7777777777777778,
              "#fb9f3a"
             ],
             [
              0.8888888888888888,
              "#fdca26"
             ],
             [
              1,
              "#f0f921"
             ]
            ],
            "type": "surface"
           }
          ],
          "table": [
           {
            "cells": {
             "fill": {
              "color": "#EBF0F8"
             },
             "line": {
              "color": "white"
             }
            },
            "header": {
             "fill": {
              "color": "#C8D4E3"
             },
             "line": {
              "color": "white"
             }
            },
            "type": "table"
           }
          ]
         },
         "layout": {
          "annotationdefaults": {
           "arrowcolor": "#2a3f5f",
           "arrowhead": 0,
           "arrowwidth": 1
          },
          "autotypenumbers": "strict",
          "coloraxis": {
           "colorbar": {
            "outlinewidth": 0,
            "ticks": ""
           }
          },
          "colorscale": {
           "diverging": [
            [
             0,
             "#8e0152"
            ],
            [
             0.1,
             "#c51b7d"
            ],
            [
             0.2,
             "#de77ae"
            ],
            [
             0.3,
             "#f1b6da"
            ],
            [
             0.4,
             "#fde0ef"
            ],
            [
             0.5,
             "#f7f7f7"
            ],
            [
             0.6,
             "#e6f5d0"
            ],
            [
             0.7,
             "#b8e186"
            ],
            [
             0.8,
             "#7fbc41"
            ],
            [
             0.9,
             "#4d9221"
            ],
            [
             1,
             "#276419"
            ]
           ],
           "sequential": [
            [
             0,
             "#0d0887"
            ],
            [
             0.1111111111111111,
             "#46039f"
            ],
            [
             0.2222222222222222,
             "#7201a8"
            ],
            [
             0.3333333333333333,
             "#9c179e"
            ],
            [
             0.4444444444444444,
             "#bd3786"
            ],
            [
             0.5555555555555556,
             "#d8576b"
            ],
            [
             0.6666666666666666,
             "#ed7953"
            ],
            [
             0.7777777777777778,
             "#fb9f3a"
            ],
            [
             0.8888888888888888,
             "#fdca26"
            ],
            [
             1,
             "#f0f921"
            ]
           ],
           "sequentialminus": [
            [
             0,
             "#0d0887"
            ],
            [
             0.1111111111111111,
             "#46039f"
            ],
            [
             0.2222222222222222,
             "#7201a8"
            ],
            [
             0.3333333333333333,
             "#9c179e"
            ],
            [
             0.4444444444444444,
             "#bd3786"
            ],
            [
             0.5555555555555556,
             "#d8576b"
            ],
            [
             0.6666666666666666,
             "#ed7953"
            ],
            [
             0.7777777777777778,
             "#fb9f3a"
            ],
            [
             0.8888888888888888,
             "#fdca26"
            ],
            [
             1,
             "#f0f921"
            ]
           ]
          },
          "colorway": [
           "#636efa",
           "#EF553B",
           "#00cc96",
           "#ab63fa",
           "#FFA15A",
           "#19d3f3",
           "#FF6692",
           "#B6E880",
           "#FF97FF",
           "#FECB52"
          ],
          "font": {
           "color": "#2a3f5f"
          },
          "geo": {
           "bgcolor": "white",
           "lakecolor": "white",
           "landcolor": "#E5ECF6",
           "showlakes": true,
           "showland": true,
           "subunitcolor": "white"
          },
          "hoverlabel": {
           "align": "left"
          },
          "hovermode": "closest",
          "mapbox": {
           "style": "light"
          },
          "paper_bgcolor": "white",
          "plot_bgcolor": "#E5ECF6",
          "polar": {
           "angularaxis": {
            "gridcolor": "white",
            "linecolor": "white",
            "ticks": ""
           },
           "bgcolor": "#E5ECF6",
           "radialaxis": {
            "gridcolor": "white",
            "linecolor": "white",
            "ticks": ""
           }
          },
          "scene": {
           "xaxis": {
            "backgroundcolor": "#E5ECF6",
            "gridcolor": "white",
            "gridwidth": 2,
            "linecolor": "white",
            "showbackground": true,
            "ticks": "",
            "zerolinecolor": "white"
           },
           "yaxis": {
            "backgroundcolor": "#E5ECF6",
            "gridcolor": "white",
            "gridwidth": 2,
            "linecolor": "white",
            "showbackground": true,
            "ticks": "",
            "zerolinecolor": "white"
           },
           "zaxis": {
            "backgroundcolor": "#E5ECF6",
            "gridcolor": "white",
            "gridwidth": 2,
            "linecolor": "white",
            "showbackground": true,
            "ticks": "",
            "zerolinecolor": "white"
           }
          },
          "shapedefaults": {
           "line": {
            "color": "#2a3f5f"
           }
          },
          "ternary": {
           "aaxis": {
            "gridcolor": "white",
            "linecolor": "white",
            "ticks": ""
           },
           "baxis": {
            "gridcolor": "white",
            "linecolor": "white",
            "ticks": ""
           },
           "bgcolor": "#E5ECF6",
           "caxis": {
            "gridcolor": "white",
            "linecolor": "white",
            "ticks": ""
           }
          },
          "title": {
           "x": 0.05
          },
          "xaxis": {
           "automargin": true,
           "gridcolor": "white",
           "linecolor": "white",
           "ticks": "",
           "title": {
            "standoff": 15
           },
           "zerolinecolor": "white",
           "zerolinewidth": 2
          },
          "yaxis": {
           "automargin": true,
           "gridcolor": "white",
           "linecolor": "white",
           "ticks": "",
           "title": {
            "standoff": 15
           },
           "zerolinecolor": "white",
           "zerolinewidth": 2
          }
         }
        },
        "title": {
         "text": "Average grid evolution time"
        },
        "width": 1500,
        "xaxis": {
         "title": {
          "text": "Lattice Size"
         },
         "type": "log"
        },
        "yaxis": {
         "title": {
          "text": "Time (ms)"
         },
         "type": "log"
        }
       }
      }
     },
     "metadata": {}
    }
   ],
   "source": [
    "fig = go.Figure()\n",
    "for idx, (name, dfs, _) in enumerate(runs):\n",
    "    df = pd.concat(dfs)\n",
    "    df[\"size\"] **= 2\n",
    "    df[\"avgEvolveTime\"] = df[\"avgEvolveTime\"] / 1e6 # time is originally in ns\n",
    "\n",
    "    add_mean_std_trace(fig, df, name, idx, \"avgEvolveTime\")\n",
    "\n",
    "fig.update_layout(title=\"Average grid evolution time\", xaxis_title='Lattice Size', yaxis_title=\"Time (ms)\", **layout_settings)\n",
    "fig.update_xaxes(type=\"log\")\n",
    "fig.update_yaxes(type=\"log\")\n",
    "fig.show()"
   ]
  },
  {
   "cell_type": "code",
   "execution_count": 63,
   "metadata": {},
   "outputs": [
    {
     "output_type": "display_data",
     "data": {
      "application/vnd.plotly.v1+json": {
       "config": {
        "plotlyServerURL": "https://plot.ly"
       },
       "data": [
        {
         "line": {
          "color": "#EF553B"
         },
         "mode": "lines+markers",
         "name": "2 CPUs",
         "type": "scatter",
         "x": [
          1024,
          4096,
          16384,
          65536,
          262144,
          1048576,
          4194304,
          16777216
         ],
         "y": [
          0.8099695644951346,
          1.2507904265144618,
          1.795761474948118,
          1.8703756737846085,
          1.8847437786607286,
          1.9347089657558443,
          1.9196535536545258,
          1.9505214507202004
         ]
        },
        {
         "line": {
          "width": 0
         },
         "mode": "lines",
         "name": "2 CPUs upper",
         "showlegend": false,
         "type": "scatter",
         "x": [
          1024,
          4096,
          16384,
          65536,
          262144,
          1048576,
          4194304,
          16777216
         ],
         "y": [
          0.8403481137554772,
          1.3311461346766886,
          1.9669181653909755,
          1.9350524197594405,
          1.9080410189879438,
          1.9431827718615287,
          1.9314868503668308,
          1.9662279118655996
         ]
        },
        {
         "fill": "tonexty",
         "fillcolor": "rgba(239, 85, 59, 0.30)",
         "line": {
          "width": 0
         },
         "mode": "lines",
         "name": "2 CPUs lower",
         "showlegend": false,
         "type": "scatter",
         "x": [
          1024,
          4096,
          16384,
          65536,
          262144,
          1048576,
          4194304,
          16777216
         ],
         "y": [
          0.7795910152347919,
          1.170434718352235,
          1.6246047845052607,
          1.8056989278097764,
          1.8614465383335135,
          1.92623515965016,
          1.907820256942221,
          1.9348149895748012
         ]
        },
        {
         "line": {
          "color": "#00CC96"
         },
         "mode": "lines+markers",
         "name": "4 CPUs",
         "type": "scatter",
         "x": [
          1024,
          4096,
          16384,
          65536,
          262144,
          1048576,
          4194304,
          16777216
         ],
         "y": [
          1.1129508945324087,
          1.9342150146874009,
          2.636694146226637,
          3.462558435387467,
          3.667802939527172,
          3.7908082997449126,
          3.7765304182112964,
          3.8481380514785593
         ]
        },
        {
         "line": {
          "width": 0
         },
         "mode": "lines",
         "name": "4 CPUs upper",
         "showlegend": false,
         "type": "scatter",
         "x": [
          1024,
          4096,
          16384,
          65536,
          262144,
          1048576,
          4194304,
          16777216
         ],
         "y": [
          1.1556673459943307,
          2.1278948241423,
          2.7351073150854512,
          3.5290061995041224,
          3.720303999971024,
          3.80946202531089,
          3.7843528898465295,
          3.8549936507554667
         ]
        },
        {
         "fill": "tonexty",
         "fillcolor": "rgba(0, 204, 150, 0.30)",
         "line": {
          "width": 0
         },
         "mode": "lines",
         "name": "4 CPUs lower",
         "showlegend": false,
         "type": "scatter",
         "x": [
          1024,
          4096,
          16384,
          65536,
          262144,
          1048576,
          4194304,
          16777216
         ],
         "y": [
          1.0702344430704867,
          1.7405352052325014,
          2.5382809773678225,
          3.3961106712708116,
          3.61530187908332,
          3.772154574178935,
          3.7687079465760633,
          3.8412824522016518
         ]
        },
        {
         "line": {
          "color": "#AB63FA"
         },
         "mode": "lines+markers",
         "name": "8 CPUs",
         "type": "scatter",
         "x": [
          1024,
          4096,
          16384,
          65536,
          262144,
          1048576,
          4194304,
          16777216
         ],
         "y": [
          1.223570283941545,
          2.4406328072741728,
          3.895839437897312,
          4.354694994963322,
          4.626991816445909,
          7.10455044086625,
          7.382708579353367,
          7.513263273353741
         ]
        },
        {
         "line": {
          "width": 0
         },
         "mode": "lines",
         "name": "8 CPUs upper",
         "showlegend": false,
         "type": "scatter",
         "x": [
          1024,
          4096,
          16384,
          65536,
          262144,
          1048576,
          4194304,
          16777216
         ],
         "y": [
          1.3738172524583068,
          2.880966593464169,
          4.2036785397838745,
          5.392715804892116,
          6.002732578399907,
          7.347991445462613,
          7.38645294765272,
          7.516733356152512
         ]
        },
        {
         "fill": "tonexty",
         "fillcolor": "rgba(171, 99, 250, 0.30)",
         "line": {
          "width": 0
         },
         "mode": "lines",
         "name": "8 CPUs lower",
         "showlegend": false,
         "type": "scatter",
         "x": [
          1024,
          4096,
          16384,
          65536,
          262144,
          1048576,
          4194304,
          16777216
         ],
         "y": [
          1.0733233154247832,
          2.0002990210841767,
          3.588000336010749,
          3.3166741850345267,
          3.251251054491912,
          6.861109436269887,
          7.378964211054014,
          7.509793190554969
         ]
        },
        {
         "line": {
          "color": "#FFA15A"
         },
         "mode": "lines+markers",
         "name": "12 CPUs",
         "type": "scatter",
         "x": [
          1024,
          4096,
          16384,
          65536,
          262144,
          1048576,
          4194304,
          16777216
         ],
         "y": [
          1.0848300397265704,
          2.516416815706246,
          3.9235693020040117,
          5.102385779618999,
          5.407471062260681,
          5.595665964482062,
          5.565247529860423,
          5.641114936772263
         ]
        },
        {
         "line": {
          "width": 0
         },
         "mode": "lines",
         "name": "12 CPUs upper",
         "showlegend": false,
         "type": "scatter",
         "x": [
          1024,
          4096,
          16384,
          65536,
          262144,
          1048576,
          4194304,
          16777216
         ],
         "y": [
          1.3698987291393623,
          2.6777257062518247,
          4.414844426739021,
          5.3493257428821215,
          5.463170057359303,
          5.6130898615734575,
          5.579848192438205,
          5.648270460547747
         ]
        },
        {
         "fill": "tonexty",
         "fillcolor": "rgba(255, 161, 90, 0.30)",
         "line": {
          "width": 0
         },
         "mode": "lines",
         "name": "12 CPUs lower",
         "showlegend": false,
         "type": "scatter",
         "x": [
          1024,
          4096,
          16384,
          65536,
          262144,
          1048576,
          4194304,
          16777216
         ],
         "y": [
          0.7997613503137786,
          2.3551079251606675,
          3.4322941772690023,
          4.855445816355876,
          5.351772067162059,
          5.578242067390666,
          5.550646867282642,
          5.63395941299678
         ]
        },
        {
         "line": {
          "color": "#19D3F3"
         },
         "mode": "lines+markers",
         "name": "16 CPUs",
         "type": "scatter",
         "x": [
          1024,
          4096,
          16384,
          65536,
          262144,
          1048576,
          4194304,
          16777216
         ],
         "y": [
          0.18751017719932822,
          1.1396182389570495,
          2.9739549491821564,
          5.241733212914454,
          6.847672331004266,
          6.434867735512135,
          7.385312409917451,
          7.425141933574632
         ]
        },
        {
         "line": {
          "width": 0
         },
         "mode": "lines",
         "name": "16 CPUs upper",
         "showlegend": false,
         "type": "scatter",
         "x": [
          1024,
          4096,
          16384,
          65536,
          262144,
          1048576,
          4194304,
          16777216
         ],
         "y": [
          0.21026909946722958,
          1.1666452530892883,
          3.091120160273318,
          5.469059180951306,
          7.0158762747021175,
          6.635994116378429,
          7.52263352626042,
          7.449251922910667
         ]
        },
        {
         "fill": "tonexty",
         "fillcolor": "rgba(25, 211, 243, 0.30)",
         "line": {
          "width": 0
         },
         "mode": "lines",
         "name": "16 CPUs lower",
         "showlegend": false,
         "type": "scatter",
         "x": [
          1024,
          4096,
          16384,
          65536,
          262144,
          1048576,
          4194304,
          16777216
         ],
         "y": [
          0.16475125493142687,
          1.1125912248248107,
          2.856789738090995,
          5.014407244877602,
          6.6794683873064145,
          6.233741354645842,
          7.247991293574482,
          7.401031944238596
         ]
        },
        {
         "line": {
          "color": "#FF6692"
         },
         "mode": "lines+markers",
         "name": "GPU",
         "type": "scatter",
         "x": [
          1024,
          4096,
          16384,
          65536,
          262144,
          1048576,
          4194304,
          16777216
         ],
         "y": [
          0.6793481278662958,
          3.0512272956528945,
          10.716740037491043,
          39.60170230233898,
          134.01906243092157,
          315.5745489504526,
          496.1983504122224,
          627.1838772375011
         ]
        },
        {
         "line": {
          "width": 0
         },
         "mode": "lines",
         "name": "GPU upper",
         "showlegend": false,
         "type": "scatter",
         "x": [
          1024,
          4096,
          16384,
          65536,
          262144,
          1048576,
          4194304,
          16777216
         ],
         "y": [
          0.6913930565871677,
          3.11458368518021,
          10.952228462383808,
          40.48025245180527,
          137.7525639647124,
          326.07100124389865,
          510.99933854689425,
          635.0568536867053
         ]
        },
        {
         "fill": "tonexty",
         "fillcolor": "rgba(255, 102, 146, 0.30)",
         "line": {
          "width": 0
         },
         "mode": "lines",
         "name": "GPU lower",
         "showlegend": false,
         "type": "scatter",
         "x": [
          1024,
          4096,
          16384,
          65536,
          262144,
          1048576,
          4194304,
          16777216
         ],
         "y": [
          0.667303199145424,
          2.987870906125579,
          10.481251612598278,
          38.723152152872686,
          130.28556089713072,
          305.07809665700654,
          481.39736227755054,
          619.3109007882969
         ]
        }
       ],
       "layout": {
        "font": {
         "size": 20
        },
        "height": 900,
        "template": {
         "data": {
          "bar": [
           {
            "error_x": {
             "color": "#2a3f5f"
            },
            "error_y": {
             "color": "#2a3f5f"
            },
            "marker": {
             "line": {
              "color": "#E5ECF6",
              "width": 0.5
             },
             "pattern": {
              "fillmode": "overlay",
              "size": 10,
              "solidity": 0.2
             }
            },
            "type": "bar"
           }
          ],
          "barpolar": [
           {
            "marker": {
             "line": {
              "color": "#E5ECF6",
              "width": 0.5
             },
             "pattern": {
              "fillmode": "overlay",
              "size": 10,
              "solidity": 0.2
             }
            },
            "type": "barpolar"
           }
          ],
          "carpet": [
           {
            "aaxis": {
             "endlinecolor": "#2a3f5f",
             "gridcolor": "white",
             "linecolor": "white",
             "minorgridcolor": "white",
             "startlinecolor": "#2a3f5f"
            },
            "baxis": {
             "endlinecolor": "#2a3f5f",
             "gridcolor": "white",
             "linecolor": "white",
             "minorgridcolor": "white",
             "startlinecolor": "#2a3f5f"
            },
            "type": "carpet"
           }
          ],
          "choropleth": [
           {
            "colorbar": {
             "outlinewidth": 0,
             "ticks": ""
            },
            "type": "choropleth"
           }
          ],
          "contour": [
           {
            "colorbar": {
             "outlinewidth": 0,
             "ticks": ""
            },
            "colorscale": [
             [
              0,
              "#0d0887"
             ],
             [
              0.1111111111111111,
              "#46039f"
             ],
             [
              0.2222222222222222,
              "#7201a8"
             ],
             [
              0.3333333333333333,
              "#9c179e"
             ],
             [
              0.4444444444444444,
              "#bd3786"
             ],
             [
              0.5555555555555556,
              "#d8576b"
             ],
             [
              0.6666666666666666,
              "#ed7953"
             ],
             [
              0.7777777777777778,
              "#fb9f3a"
             ],
             [
              0.8888888888888888,
              "#fdca26"
             ],
             [
              1,
              "#f0f921"
             ]
            ],
            "type": "contour"
           }
          ],
          "contourcarpet": [
           {
            "colorbar": {
             "outlinewidth": 0,
             "ticks": ""
            },
            "type": "contourcarpet"
           }
          ],
          "heatmap": [
           {
            "colorbar": {
             "outlinewidth": 0,
             "ticks": ""
            },
            "colorscale": [
             [
              0,
              "#0d0887"
             ],
             [
              0.1111111111111111,
              "#46039f"
             ],
             [
              0.2222222222222222,
              "#7201a8"
             ],
             [
              0.3333333333333333,
              "#9c179e"
             ],
             [
              0.4444444444444444,
              "#bd3786"
             ],
             [
              0.5555555555555556,
              "#d8576b"
             ],
             [
              0.6666666666666666,
              "#ed7953"
             ],
             [
              0.7777777777777778,
              "#fb9f3a"
             ],
             [
              0.8888888888888888,
              "#fdca26"
             ],
             [
              1,
              "#f0f921"
             ]
            ],
            "type": "heatmap"
           }
          ],
          "heatmapgl": [
           {
            "colorbar": {
             "outlinewidth": 0,
             "ticks": ""
            },
            "colorscale": [
             [
              0,
              "#0d0887"
             ],
             [
              0.1111111111111111,
              "#46039f"
             ],
             [
              0.2222222222222222,
              "#7201a8"
             ],
             [
              0.3333333333333333,
              "#9c179e"
             ],
             [
              0.4444444444444444,
              "#bd3786"
             ],
             [
              0.5555555555555556,
              "#d8576b"
             ],
             [
              0.6666666666666666,
              "#ed7953"
             ],
             [
              0.7777777777777778,
              "#fb9f3a"
             ],
             [
              0.8888888888888888,
              "#fdca26"
             ],
             [
              1,
              "#f0f921"
             ]
            ],
            "type": "heatmapgl"
           }
          ],
          "histogram": [
           {
            "marker": {
             "pattern": {
              "fillmode": "overlay",
              "size": 10,
              "solidity": 0.2
             }
            },
            "type": "histogram"
           }
          ],
          "histogram2d": [
           {
            "colorbar": {
             "outlinewidth": 0,
             "ticks": ""
            },
            "colorscale": [
             [
              0,
              "#0d0887"
             ],
             [
              0.1111111111111111,
              "#46039f"
             ],
             [
              0.2222222222222222,
              "#7201a8"
             ],
             [
              0.3333333333333333,
              "#9c179e"
             ],
             [
              0.4444444444444444,
              "#bd3786"
             ],
             [
              0.5555555555555556,
              "#d8576b"
             ],
             [
              0.6666666666666666,
              "#ed7953"
             ],
             [
              0.7777777777777778,
              "#fb9f3a"
             ],
             [
              0.8888888888888888,
              "#fdca26"
             ],
             [
              1,
              "#f0f921"
             ]
            ],
            "type": "histogram2d"
           }
          ],
          "histogram2dcontour": [
           {
            "colorbar": {
             "outlinewidth": 0,
             "ticks": ""
            },
            "colorscale": [
             [
              0,
              "#0d0887"
             ],
             [
              0.1111111111111111,
              "#46039f"
             ],
             [
              0.2222222222222222,
              "#7201a8"
             ],
             [
              0.3333333333333333,
              "#9c179e"
             ],
             [
              0.4444444444444444,
              "#bd3786"
             ],
             [
              0.5555555555555556,
              "#d8576b"
             ],
             [
              0.6666666666666666,
              "#ed7953"
             ],
             [
              0.7777777777777778,
              "#fb9f3a"
             ],
             [
              0.8888888888888888,
              "#fdca26"
             ],
             [
              1,
              "#f0f921"
             ]
            ],
            "type": "histogram2dcontour"
           }
          ],
          "mesh3d": [
           {
            "colorbar": {
             "outlinewidth": 0,
             "ticks": ""
            },
            "type": "mesh3d"
           }
          ],
          "parcoords": [
           {
            "line": {
             "colorbar": {
              "outlinewidth": 0,
              "ticks": ""
             }
            },
            "type": "parcoords"
           }
          ],
          "pie": [
           {
            "automargin": true,
            "type": "pie"
           }
          ],
          "scatter": [
           {
            "marker": {
             "colorbar": {
              "outlinewidth": 0,
              "ticks": ""
             }
            },
            "type": "scatter"
           }
          ],
          "scatter3d": [
           {
            "line": {
             "colorbar": {
              "outlinewidth": 0,
              "ticks": ""
             }
            },
            "marker": {
             "colorbar": {
              "outlinewidth": 0,
              "ticks": ""
             }
            },
            "type": "scatter3d"
           }
          ],
          "scattercarpet": [
           {
            "marker": {
             "colorbar": {
              "outlinewidth": 0,
              "ticks": ""
             }
            },
            "type": "scattercarpet"
           }
          ],
          "scattergeo": [
           {
            "marker": {
             "colorbar": {
              "outlinewidth": 0,
              "ticks": ""
             }
            },
            "type": "scattergeo"
           }
          ],
          "scattergl": [
           {
            "marker": {
             "colorbar": {
              "outlinewidth": 0,
              "ticks": ""
             }
            },
            "type": "scattergl"
           }
          ],
          "scattermapbox": [
           {
            "marker": {
             "colorbar": {
              "outlinewidth": 0,
              "ticks": ""
             }
            },
            "type": "scattermapbox"
           }
          ],
          "scatterpolar": [
           {
            "marker": {
             "colorbar": {
              "outlinewidth": 0,
              "ticks": ""
             }
            },
            "type": "scatterpolar"
           }
          ],
          "scatterpolargl": [
           {
            "marker": {
             "colorbar": {
              "outlinewidth": 0,
              "ticks": ""
             }
            },
            "type": "scatterpolargl"
           }
          ],
          "scatterternary": [
           {
            "marker": {
             "colorbar": {
              "outlinewidth": 0,
              "ticks": ""
             }
            },
            "type": "scatterternary"
           }
          ],
          "surface": [
           {
            "colorbar": {
             "outlinewidth": 0,
             "ticks": ""
            },
            "colorscale": [
             [
              0,
              "#0d0887"
             ],
             [
              0.1111111111111111,
              "#46039f"
             ],
             [
              0.2222222222222222,
              "#7201a8"
             ],
             [
              0.3333333333333333,
              "#9c179e"
             ],
             [
              0.4444444444444444,
              "#bd3786"
             ],
             [
              0.5555555555555556,
              "#d8576b"
             ],
             [
              0.6666666666666666,
              "#ed7953"
             ],
             [
              0.7777777777777778,
              "#fb9f3a"
             ],
             [
              0.8888888888888888,
              "#fdca26"
             ],
             [
              1,
              "#f0f921"
             ]
            ],
            "type": "surface"
           }
          ],
          "table": [
           {
            "cells": {
             "fill": {
              "color": "#EBF0F8"
             },
             "line": {
              "color": "white"
             }
            },
            "header": {
             "fill": {
              "color": "#C8D4E3"
             },
             "line": {
              "color": "white"
             }
            },
            "type": "table"
           }
          ]
         },
         "layout": {
          "annotationdefaults": {
           "arrowcolor": "#2a3f5f",
           "arrowhead": 0,
           "arrowwidth": 1
          },
          "autotypenumbers": "strict",
          "coloraxis": {
           "colorbar": {
            "outlinewidth": 0,
            "ticks": ""
           }
          },
          "colorscale": {
           "diverging": [
            [
             0,
             "#8e0152"
            ],
            [
             0.1,
             "#c51b7d"
            ],
            [
             0.2,
             "#de77ae"
            ],
            [
             0.3,
             "#f1b6da"
            ],
            [
             0.4,
             "#fde0ef"
            ],
            [
             0.5,
             "#f7f7f7"
            ],
            [
             0.6,
             "#e6f5d0"
            ],
            [
             0.7,
             "#b8e186"
            ],
            [
             0.8,
             "#7fbc41"
            ],
            [
             0.9,
             "#4d9221"
            ],
            [
             1,
             "#276419"
            ]
           ],
           "sequential": [
            [
             0,
             "#0d0887"
            ],
            [
             0.1111111111111111,
             "#46039f"
            ],
            [
             0.2222222222222222,
             "#7201a8"
            ],
            [
             0.3333333333333333,
             "#9c179e"
            ],
            [
             0.4444444444444444,
             "#bd3786"
            ],
            [
             0.5555555555555556,
             "#d8576b"
            ],
            [
             0.6666666666666666,
             "#ed7953"
            ],
            [
             0.7777777777777778,
             "#fb9f3a"
            ],
            [
             0.8888888888888888,
             "#fdca26"
            ],
            [
             1,
             "#f0f921"
            ]
           ],
           "sequentialminus": [
            [
             0,
             "#0d0887"
            ],
            [
             0.1111111111111111,
             "#46039f"
            ],
            [
             0.2222222222222222,
             "#7201a8"
            ],
            [
             0.3333333333333333,
             "#9c179e"
            ],
            [
             0.4444444444444444,
             "#bd3786"
            ],
            [
             0.5555555555555556,
             "#d8576b"
            ],
            [
             0.6666666666666666,
             "#ed7953"
            ],
            [
             0.7777777777777778,
             "#fb9f3a"
            ],
            [
             0.8888888888888888,
             "#fdca26"
            ],
            [
             1,
             "#f0f921"
            ]
           ]
          },
          "colorway": [
           "#636efa",
           "#EF553B",
           "#00cc96",
           "#ab63fa",
           "#FFA15A",
           "#19d3f3",
           "#FF6692",
           "#B6E880",
           "#FF97FF",
           "#FECB52"
          ],
          "font": {
           "color": "#2a3f5f"
          },
          "geo": {
           "bgcolor": "white",
           "lakecolor": "white",
           "landcolor": "#E5ECF6",
           "showlakes": true,
           "showland": true,
           "subunitcolor": "white"
          },
          "hoverlabel": {
           "align": "left"
          },
          "hovermode": "closest",
          "mapbox": {
           "style": "light"
          },
          "paper_bgcolor": "white",
          "plot_bgcolor": "#E5ECF6",
          "polar": {
           "angularaxis": {
            "gridcolor": "white",
            "linecolor": "white",
            "ticks": ""
           },
           "bgcolor": "#E5ECF6",
           "radialaxis": {
            "gridcolor": "white",
            "linecolor": "white",
            "ticks": ""
           }
          },
          "scene": {
           "xaxis": {
            "backgroundcolor": "#E5ECF6",
            "gridcolor": "white",
            "gridwidth": 2,
            "linecolor": "white",
            "showbackground": true,
            "ticks": "",
            "zerolinecolor": "white"
           },
           "yaxis": {
            "backgroundcolor": "#E5ECF6",
            "gridcolor": "white",
            "gridwidth": 2,
            "linecolor": "white",
            "showbackground": true,
            "ticks": "",
            "zerolinecolor": "white"
           },
           "zaxis": {
            "backgroundcolor": "#E5ECF6",
            "gridcolor": "white",
            "gridwidth": 2,
            "linecolor": "white",
            "showbackground": true,
            "ticks": "",
            "zerolinecolor": "white"
           }
          },
          "shapedefaults": {
           "line": {
            "color": "#2a3f5f"
           }
          },
          "ternary": {
           "aaxis": {
            "gridcolor": "white",
            "linecolor": "white",
            "ticks": ""
           },
           "baxis": {
            "gridcolor": "white",
            "linecolor": "white",
            "ticks": ""
           },
           "bgcolor": "#E5ECF6",
           "caxis": {
            "gridcolor": "white",
            "linecolor": "white",
            "ticks": ""
           }
          },
          "title": {
           "x": 0.05
          },
          "xaxis": {
           "automargin": true,
           "gridcolor": "white",
           "linecolor": "white",
           "ticks": "",
           "title": {
            "standoff": 15
           },
           "zerolinecolor": "white",
           "zerolinewidth": 2
          },
          "yaxis": {
           "automargin": true,
           "gridcolor": "white",
           "linecolor": "white",
           "ticks": "",
           "title": {
            "standoff": 15
           },
           "zerolinecolor": "white",
           "zerolinewidth": 2
          }
         }
        },
        "title": {
         "text": "Speedup vs 1 CPU"
        },
        "width": 1500,
        "xaxis": {
         "title": {
          "text": "Lattice size (cells)"
         },
         "type": "log"
        },
        "yaxis": {
         "title": {
          "text": "Speedup"
         },
         "type": "log"
        }
       }
      }
     },
     "metadata": {}
    }
   ],
   "source": [
    "fig = go.Figure()\n",
    "\n",
    "for idx, (name, dfs, _) in enumerate(runs_parallel):\n",
    "    for i, df in enumerate(dfs):\n",
    "        dfs[i][\"speedup\"] = cpu_df[\"avgEvolveTime\"] / df[\"avgEvolveTime\"]\n",
    "\n",
    "    df = pd.concat(dfs)\n",
    "    df[\"size\"] **= 2\n",
    "    add_mean_std_trace(fig, df, name, idx + 1, \"speedup\")\n",
    "\n",
    "fig.update_layout(title=\"Speedup vs 1 CPU\", xaxis_title='Lattice size (cells)', yaxis_title=\"Speedup\", **layout_settings)\n",
    "fig.update_xaxes(type=\"log\")\n",
    "fig.update_yaxes(type=\"log\")\n",
    "fig.show()"
   ]
  },
  {
   "cell_type": "code",
   "execution_count": 60,
   "metadata": {},
   "outputs": [
    {
     "output_type": "display_data",
     "data": {
      "application/vnd.plotly.v1+json": {
       "config": {
        "plotlyServerURL": "https://plot.ly"
       },
       "data": [
        {
         "line": {
          "color": "#EF553B"
         },
         "mode": "lines+markers",
         "name": "2 CPUs",
         "type": "scatter",
         "x": [
          1024,
          4096,
          16384,
          65536,
          262144,
          1048576,
          4194304,
          16777216
         ],
         "y": [
          40.49847822475673,
          62.53952132572309,
          89.7880737474059,
          93.51878368923042,
          94.23718893303644,
          96.73544828779221,
          95.9826776827263,
          97.52607253601003
         ]
        },
        {
         "line": {
          "width": 0
         },
         "mode": "lines",
         "name": "2 CPUs upper",
         "showlegend": false,
         "type": "scatter",
         "x": [
          1024,
          4096,
          16384,
          65536,
          262144,
          1048576,
          4194304,
          16777216
         ],
         "y": [
          42.017405687773866,
          66.55730673383444,
          98.34590826954877,
          96.75262098797202,
          95.40205094939719,
          97.15913859307643,
          96.57434251834155,
          98.31139559328
         ]
        },
        {
         "fill": "tonexty",
         "fillcolor": "rgba(239, 85, 59, 0.30)",
         "line": {
          "width": 0
         },
         "mode": "lines",
         "name": "2 CPUs lower",
         "showlegend": false,
         "type": "scatter",
         "x": [
          1024,
          4096,
          16384,
          65536,
          262144,
          1048576,
          4194304,
          16777216
         ],
         "y": [
          38.979550761739596,
          58.52173591761175,
          81.23023922526303,
          90.28494639048881,
          93.07232691667568,
          96.31175798250798,
          95.39101284711106,
          96.74074947874007
         ]
        },
        {
         "line": {
          "color": "#00CC96"
         },
         "mode": "lines+markers",
         "name": "4 CPUs",
         "type": "scatter",
         "x": [
          1024,
          4096,
          16384,
          65536,
          262144,
          1048576,
          4194304,
          16777216
         ],
         "y": [
          27.82377236331022,
          48.35537536718502,
          65.91735365566592,
          86.56396088468668,
          91.6950734881793,
          94.77020749362282,
          94.41326045528243,
          96.20345128696397
         ]
        },
        {
         "line": {
          "width": 0
         },
         "mode": "lines",
         "name": "4 CPUs upper",
         "showlegend": false,
         "type": "scatter",
         "x": [
          1024,
          4096,
          16384,
          65536,
          262144,
          1048576,
          4194304,
          16777216
         ],
         "y": [
          28.891683649858273,
          53.1973706035575,
          68.37768287713627,
          88.22515498760306,
          93.00759999927561,
          95.23655063277226,
          94.60882224616326,
          96.37484126888666
         ]
        },
        {
         "fill": "tonexty",
         "fillcolor": "rgba(0, 204, 150, 0.30)",
         "line": {
          "width": 0
         },
         "mode": "lines",
         "name": "4 CPUs lower",
         "showlegend": false,
         "type": "scatter",
         "x": [
          1024,
          4096,
          16384,
          65536,
          262144,
          1048576,
          4194304,
          16777216
         ],
         "y": [
          26.755861076762166,
          43.513380130812536,
          63.45702443419557,
          84.9027667817703,
          90.382546977083,
          94.30386435447338,
          94.2176986644016,
          96.03206130504128
         ]
        },
        {
         "line": {
          "color": "#AB63FA"
         },
         "mode": "lines+markers",
         "name": "8 CPUs",
         "type": "scatter",
         "x": [
          1024,
          4096,
          16384,
          65536,
          262144,
          1048576,
          4194304,
          16777216
         ],
         "y": [
          15.29462854926931,
          30.507910090927158,
          48.6979929737164,
          54.43368743704152,
          57.83739770557387,
          88.80688051082811,
          92.28385724191708,
          93.91579091692176
         ]
        },
        {
         "line": {
          "width": 0
         },
         "mode": "lines",
         "name": "8 CPUs upper",
         "showlegend": false,
         "type": "scatter",
         "x": [
          1024,
          4096,
          16384,
          65536,
          262144,
          1048576,
          4194304,
          16777216
         ],
         "y": [
          17.17271565572883,
          36.01208241830211,
          52.545981747298434,
          67.40894756115146,
          75.03415722999884,
          91.84989306828264,
          92.33066184565898,
          93.95916695190641
         ]
        },
        {
         "fill": "tonexty",
         "fillcolor": "rgba(171, 99, 250, 0.30)",
         "line": {
          "width": 0
         },
         "mode": "lines",
         "name": "8 CPUs lower",
         "showlegend": false,
         "type": "scatter",
         "x": [
          1024,
          4096,
          16384,
          65536,
          262144,
          1048576,
          4194304,
          16777216
         ],
         "y": [
          13.41654144280979,
          25.00373776355221,
          44.85000420013437,
          41.458427312931576,
          40.6406381811489,
          85.76386795337358,
          92.23705263817517,
          93.87241488193712
         ]
        },
        {
         "line": {
          "color": "#FFA15A"
         },
         "mode": "lines+markers",
         "name": "12 CPUs",
         "type": "scatter",
         "x": [
          1024,
          4096,
          16384,
          65536,
          262144,
          1048576,
          4194304,
          16777216
         ],
         "y": [
          9.040250331054754,
          20.970140130885383,
          32.69641085003343,
          42.519881496824986,
          45.06225885217234,
          46.630549704017184,
          46.377062748836856,
          47.00929113976886
         ]
        },
        {
         "line": {
          "width": 0
         },
         "mode": "lines",
         "name": "12 CPUs upper",
         "showlegend": false,
         "type": "scatter",
         "x": [
          1024,
          4096,
          16384,
          65536,
          262144,
          1048576,
          4194304,
          16777216
         ],
         "y": [
          11.41582274282802,
          22.314380885431873,
          36.790370222825175,
          44.57771452401767,
          45.526417144660854,
          46.77574884644548,
          46.49873493698503,
          47.06892050456456
         ]
        },
        {
         "fill": "tonexty",
         "fillcolor": "rgba(255, 161, 90, 0.30)",
         "line": {
          "width": 0
         },
         "mode": "lines",
         "name": "12 CPUs lower",
         "showlegend": false,
         "type": "scatter",
         "x": [
          1024,
          4096,
          16384,
          65536,
          262144,
          1048576,
          4194304,
          16777216
         ],
         "y": [
          6.6646779192814884,
          19.625899376338893,
          28.602451477241686,
          40.4620484696323,
          44.59810055968383,
          46.48535056158889,
          46.25539056068868,
          46.949661774973166
         ]
        },
        {
         "line": {
          "color": "#19D3F3"
         },
         "mode": "lines+markers",
         "name": "16 CPUs",
         "type": "scatter",
         "x": [
          1024,
          4096,
          16384,
          65536,
          262144,
          1048576,
          4194304,
          16777216
         ],
         "y": [
          1.0417232066629347,
          6.331212438650276,
          16.52197193990087,
          29.12074007174696,
          38.04262406113481,
          35.74926519728964,
          41.02951338843029,
          41.250788519859064
         ]
        },
        {
         "line": {
          "width": 0
         },
         "mode": "lines",
         "name": "16 CPUs upper",
         "showlegend": false,
         "type": "scatter",
         "x": [
          1024,
          4096,
          16384,
          65536,
          262144,
          1048576,
          4194304,
          16777216
         ],
         "y": [
          1.1681616637068313,
          6.481362517162714,
          17.17288977929621,
          30.38366211639614,
          38.97709041501176,
          36.86663397988017,
          41.79240847922456,
          41.38473290505926
         ]
        },
        {
         "fill": "tonexty",
         "fillcolor": "rgba(25, 211, 243, 0.30)",
         "line": {
          "width": 0
         },
         "mode": "lines",
         "name": "16 CPUs lower",
         "showlegend": false,
         "type": "scatter",
         "x": [
          1024,
          4096,
          16384,
          65536,
          262144,
          1048576,
          4194304,
          16777216
         ],
         "y": [
          0.9152847496190383,
          6.181062360137838,
          15.871054100505528,
          27.857818027097785,
          37.10815770725786,
          34.631896414699106,
          40.266618297636015,
          41.11684413465887
         ]
        },
        {
         "line": {
          "color": "#FF6692"
         },
         "mode": "lines+markers",
         "name": "GPU",
         "type": "scatter",
         "x": [
          1024,
          4096,
          16384,
          65536,
          262144,
          1048576,
          4194304,
          16777216
         ],
         "y": [
          0.007805010660228583,
          0.035055460657776816,
          0.12312431109249818,
          0.45498279299562244,
          1.539741066531727,
          3.6256267112873686,
          5.700808253816893,
          7.205697118997027
         ]
        },
        {
         "line": {
          "width": 0
         },
         "mode": "lines",
         "name": "GPU upper",
         "showlegend": false,
         "type": "scatter",
         "x": [
          1024,
          4096,
          16384,
          65536,
          262144,
          1048576,
          4194304,
          16777216
         ],
         "y": [
          0.00794339449204007,
          0.03578336035363292,
          0.125829830679961,
          0.46507642982313036,
          1.5826351558445815,
          3.7462201429675845,
          5.870856371172958,
          7.296149513863804
         ]
        },
        {
         "fill": "tonexty",
         "fillcolor": "rgba(255, 102, 146, 0.30)",
         "line": {
          "width": 0
         },
         "mode": "lines",
         "name": "GPU lower",
         "showlegend": false,
         "type": "scatter",
         "x": [
          1024,
          4096,
          16384,
          65536,
          262144,
          1048576,
          4194304,
          16777216
         ],
         "y": [
          0.007666626828417097,
          0.03432756096192071,
          0.12041879150503533,
          0.44488915616811453,
          1.4968469772188726,
          3.5050332796071526,
          5.530760136460828,
          7.1152447241302506
         ]
        }
       ],
       "layout": {
        "font": {
         "size": 20
        },
        "height": 900,
        "template": {
         "data": {
          "bar": [
           {
            "error_x": {
             "color": "#2a3f5f"
            },
            "error_y": {
             "color": "#2a3f5f"
            },
            "marker": {
             "line": {
              "color": "#E5ECF6",
              "width": 0.5
             },
             "pattern": {
              "fillmode": "overlay",
              "size": 10,
              "solidity": 0.2
             }
            },
            "type": "bar"
           }
          ],
          "barpolar": [
           {
            "marker": {
             "line": {
              "color": "#E5ECF6",
              "width": 0.5
             },
             "pattern": {
              "fillmode": "overlay",
              "size": 10,
              "solidity": 0.2
             }
            },
            "type": "barpolar"
           }
          ],
          "carpet": [
           {
            "aaxis": {
             "endlinecolor": "#2a3f5f",
             "gridcolor": "white",
             "linecolor": "white",
             "minorgridcolor": "white",
             "startlinecolor": "#2a3f5f"
            },
            "baxis": {
             "endlinecolor": "#2a3f5f",
             "gridcolor": "white",
             "linecolor": "white",
             "minorgridcolor": "white",
             "startlinecolor": "#2a3f5f"
            },
            "type": "carpet"
           }
          ],
          "choropleth": [
           {
            "colorbar": {
             "outlinewidth": 0,
             "ticks": ""
            },
            "type": "choropleth"
           }
          ],
          "contour": [
           {
            "colorbar": {
             "outlinewidth": 0,
             "ticks": ""
            },
            "colorscale": [
             [
              0,
              "#0d0887"
             ],
             [
              0.1111111111111111,
              "#46039f"
             ],
             [
              0.2222222222222222,
              "#7201a8"
             ],
             [
              0.3333333333333333,
              "#9c179e"
             ],
             [
              0.4444444444444444,
              "#bd3786"
             ],
             [
              0.5555555555555556,
              "#d8576b"
             ],
             [
              0.6666666666666666,
              "#ed7953"
             ],
             [
              0.7777777777777778,
              "#fb9f3a"
             ],
             [
              0.8888888888888888,
              "#fdca26"
             ],
             [
              1,
              "#f0f921"
             ]
            ],
            "type": "contour"
           }
          ],
          "contourcarpet": [
           {
            "colorbar": {
             "outlinewidth": 0,
             "ticks": ""
            },
            "type": "contourcarpet"
           }
          ],
          "heatmap": [
           {
            "colorbar": {
             "outlinewidth": 0,
             "ticks": ""
            },
            "colorscale": [
             [
              0,
              "#0d0887"
             ],
             [
              0.1111111111111111,
              "#46039f"
             ],
             [
              0.2222222222222222,
              "#7201a8"
             ],
             [
              0.3333333333333333,
              "#9c179e"
             ],
             [
              0.4444444444444444,
              "#bd3786"
             ],
             [
              0.5555555555555556,
              "#d8576b"
             ],
             [
              0.6666666666666666,
              "#ed7953"
             ],
             [
              0.7777777777777778,
              "#fb9f3a"
             ],
             [
              0.8888888888888888,
              "#fdca26"
             ],
             [
              1,
              "#f0f921"
             ]
            ],
            "type": "heatmap"
           }
          ],
          "heatmapgl": [
           {
            "colorbar": {
             "outlinewidth": 0,
             "ticks": ""
            },
            "colorscale": [
             [
              0,
              "#0d0887"
             ],
             [
              0.1111111111111111,
              "#46039f"
             ],
             [
              0.2222222222222222,
              "#7201a8"
             ],
             [
              0.3333333333333333,
              "#9c179e"
             ],
             [
              0.4444444444444444,
              "#bd3786"
             ],
             [
              0.5555555555555556,
              "#d8576b"
             ],
             [
              0.6666666666666666,
              "#ed7953"
             ],
             [
              0.7777777777777778,
              "#fb9f3a"
             ],
             [
              0.8888888888888888,
              "#fdca26"
             ],
             [
              1,
              "#f0f921"
             ]
            ],
            "type": "heatmapgl"
           }
          ],
          "histogram": [
           {
            "marker": {
             "pattern": {
              "fillmode": "overlay",
              "size": 10,
              "solidity": 0.2
             }
            },
            "type": "histogram"
           }
          ],
          "histogram2d": [
           {
            "colorbar": {
             "outlinewidth": 0,
             "ticks": ""
            },
            "colorscale": [
             [
              0,
              "#0d0887"
             ],
             [
              0.1111111111111111,
              "#46039f"
             ],
             [
              0.2222222222222222,
              "#7201a8"
             ],
             [
              0.3333333333333333,
              "#9c179e"
             ],
             [
              0.4444444444444444,
              "#bd3786"
             ],
             [
              0.5555555555555556,
              "#d8576b"
             ],
             [
              0.6666666666666666,
              "#ed7953"
             ],
             [
              0.7777777777777778,
              "#fb9f3a"
             ],
             [
              0.8888888888888888,
              "#fdca26"
             ],
             [
              1,
              "#f0f921"
             ]
            ],
            "type": "histogram2d"
           }
          ],
          "histogram2dcontour": [
           {
            "colorbar": {
             "outlinewidth": 0,
             "ticks": ""
            },
            "colorscale": [
             [
              0,
              "#0d0887"
             ],
             [
              0.1111111111111111,
              "#46039f"
             ],
             [
              0.2222222222222222,
              "#7201a8"
             ],
             [
              0.3333333333333333,
              "#9c179e"
             ],
             [
              0.4444444444444444,
              "#bd3786"
             ],
             [
              0.5555555555555556,
              "#d8576b"
             ],
             [
              0.6666666666666666,
              "#ed7953"
             ],
             [
              0.7777777777777778,
              "#fb9f3a"
             ],
             [
              0.8888888888888888,
              "#fdca26"
             ],
             [
              1,
              "#f0f921"
             ]
            ],
            "type": "histogram2dcontour"
           }
          ],
          "mesh3d": [
           {
            "colorbar": {
             "outlinewidth": 0,
             "ticks": ""
            },
            "type": "mesh3d"
           }
          ],
          "parcoords": [
           {
            "line": {
             "colorbar": {
              "outlinewidth": 0,
              "ticks": ""
             }
            },
            "type": "parcoords"
           }
          ],
          "pie": [
           {
            "automargin": true,
            "type": "pie"
           }
          ],
          "scatter": [
           {
            "marker": {
             "colorbar": {
              "outlinewidth": 0,
              "ticks": ""
             }
            },
            "type": "scatter"
           }
          ],
          "scatter3d": [
           {
            "line": {
             "colorbar": {
              "outlinewidth": 0,
              "ticks": ""
             }
            },
            "marker": {
             "colorbar": {
              "outlinewidth": 0,
              "ticks": ""
             }
            },
            "type": "scatter3d"
           }
          ],
          "scattercarpet": [
           {
            "marker": {
             "colorbar": {
              "outlinewidth": 0,
              "ticks": ""
             }
            },
            "type": "scattercarpet"
           }
          ],
          "scattergeo": [
           {
            "marker": {
             "colorbar": {
              "outlinewidth": 0,
              "ticks": ""
             }
            },
            "type": "scattergeo"
           }
          ],
          "scattergl": [
           {
            "marker": {
             "colorbar": {
              "outlinewidth": 0,
              "ticks": ""
             }
            },
            "type": "scattergl"
           }
          ],
          "scattermapbox": [
           {
            "marker": {
             "colorbar": {
              "outlinewidth": 0,
              "ticks": ""
             }
            },
            "type": "scattermapbox"
           }
          ],
          "scatterpolar": [
           {
            "marker": {
             "colorbar": {
              "outlinewidth": 0,
              "ticks": ""
             }
            },
            "type": "scatterpolar"
           }
          ],
          "scatterpolargl": [
           {
            "marker": {
             "colorbar": {
              "outlinewidth": 0,
              "ticks": ""
             }
            },
            "type": "scatterpolargl"
           }
          ],
          "scatterternary": [
           {
            "marker": {
             "colorbar": {
              "outlinewidth": 0,
              "ticks": ""
             }
            },
            "type": "scatterternary"
           }
          ],
          "surface": [
           {
            "colorbar": {
             "outlinewidth": 0,
             "ticks": ""
            },
            "colorscale": [
             [
              0,
              "#0d0887"
             ],
             [
              0.1111111111111111,
              "#46039f"
             ],
             [
              0.2222222222222222,
              "#7201a8"
             ],
             [
              0.3333333333333333,
              "#9c179e"
             ],
             [
              0.4444444444444444,
              "#bd3786"
             ],
             [
              0.5555555555555556,
              "#d8576b"
             ],
             [
              0.6666666666666666,
              "#ed7953"
             ],
             [
              0.7777777777777778,
              "#fb9f3a"
             ],
             [
              0.8888888888888888,
              "#fdca26"
             ],
             [
              1,
              "#f0f921"
             ]
            ],
            "type": "surface"
           }
          ],
          "table": [
           {
            "cells": {
             "fill": {
              "color": "#EBF0F8"
             },
             "line": {
              "color": "white"
             }
            },
            "header": {
             "fill": {
              "color": "#C8D4E3"
             },
             "line": {
              "color": "white"
             }
            },
            "type": "table"
           }
          ]
         },
         "layout": {
          "annotationdefaults": {
           "arrowcolor": "#2a3f5f",
           "arrowhead": 0,
           "arrowwidth": 1
          },
          "autotypenumbers": "strict",
          "coloraxis": {
           "colorbar": {
            "outlinewidth": 0,
            "ticks": ""
           }
          },
          "colorscale": {
           "diverging": [
            [
             0,
             "#8e0152"
            ],
            [
             0.1,
             "#c51b7d"
            ],
            [
             0.2,
             "#de77ae"
            ],
            [
             0.3,
             "#f1b6da"
            ],
            [
             0.4,
             "#fde0ef"
            ],
            [
             0.5,
             "#f7f7f7"
            ],
            [
             0.6,
             "#e6f5d0"
            ],
            [
             0.7,
             "#b8e186"
            ],
            [
             0.8,
             "#7fbc41"
            ],
            [
             0.9,
             "#4d9221"
            ],
            [
             1,
             "#276419"
            ]
           ],
           "sequential": [
            [
             0,
             "#0d0887"
            ],
            [
             0.1111111111111111,
             "#46039f"
            ],
            [
             0.2222222222222222,
             "#7201a8"
            ],
            [
             0.3333333333333333,
             "#9c179e"
            ],
            [
             0.4444444444444444,
             "#bd3786"
            ],
            [
             0.5555555555555556,
             "#d8576b"
            ],
            [
             0.6666666666666666,
             "#ed7953"
            ],
            [
             0.7777777777777778,
             "#fb9f3a"
            ],
            [
             0.8888888888888888,
             "#fdca26"
            ],
            [
             1,
             "#f0f921"
            ]
           ],
           "sequentialminus": [
            [
             0,
             "#0d0887"
            ],
            [
             0.1111111111111111,
             "#46039f"
            ],
            [
             0.2222222222222222,
             "#7201a8"
            ],
            [
             0.3333333333333333,
             "#9c179e"
            ],
            [
             0.4444444444444444,
             "#bd3786"
            ],
            [
             0.5555555555555556,
             "#d8576b"
            ],
            [
             0.6666666666666666,
             "#ed7953"
            ],
            [
             0.7777777777777778,
             "#fb9f3a"
            ],
            [
             0.8888888888888888,
             "#fdca26"
            ],
            [
             1,
             "#f0f921"
            ]
           ]
          },
          "colorway": [
           "#636efa",
           "#EF553B",
           "#00cc96",
           "#ab63fa",
           "#FFA15A",
           "#19d3f3",
           "#FF6692",
           "#B6E880",
           "#FF97FF",
           "#FECB52"
          ],
          "font": {
           "color": "#2a3f5f"
          },
          "geo": {
           "bgcolor": "white",
           "lakecolor": "white",
           "landcolor": "#E5ECF6",
           "showlakes": true,
           "showland": true,
           "subunitcolor": "white"
          },
          "hoverlabel": {
           "align": "left"
          },
          "hovermode": "closest",
          "mapbox": {
           "style": "light"
          },
          "paper_bgcolor": "white",
          "plot_bgcolor": "#E5ECF6",
          "polar": {
           "angularaxis": {
            "gridcolor": "white",
            "linecolor": "white",
            "ticks": ""
           },
           "bgcolor": "#E5ECF6",
           "radialaxis": {
            "gridcolor": "white",
            "linecolor": "white",
            "ticks": ""
           }
          },
          "scene": {
           "xaxis": {
            "backgroundcolor": "#E5ECF6",
            "gridcolor": "white",
            "gridwidth": 2,
            "linecolor": "white",
            "showbackground": true,
            "ticks": "",
            "zerolinecolor": "white"
           },
           "yaxis": {
            "backgroundcolor": "#E5ECF6",
            "gridcolor": "white",
            "gridwidth": 2,
            "linecolor": "white",
            "showbackground": true,
            "ticks": "",
            "zerolinecolor": "white"
           },
           "zaxis": {
            "backgroundcolor": "#E5ECF6",
            "gridcolor": "white",
            "gridwidth": 2,
            "linecolor": "white",
            "showbackground": true,
            "ticks": "",
            "zerolinecolor": "white"
           }
          },
          "shapedefaults": {
           "line": {
            "color": "#2a3f5f"
           }
          },
          "ternary": {
           "aaxis": {
            "gridcolor": "white",
            "linecolor": "white",
            "ticks": ""
           },
           "baxis": {
            "gridcolor": "white",
            "linecolor": "white",
            "ticks": ""
           },
           "bgcolor": "#E5ECF6",
           "caxis": {
            "gridcolor": "white",
            "linecolor": "white",
            "ticks": ""
           }
          },
          "title": {
           "x": 0.05
          },
          "xaxis": {
           "automargin": true,
           "gridcolor": "white",
           "linecolor": "white",
           "ticks": "",
           "title": {
            "standoff": 15
           },
           "zerolinecolor": "white",
           "zerolinewidth": 2
          },
          "yaxis": {
           "automargin": true,
           "gridcolor": "white",
           "linecolor": "white",
           "ticks": "",
           "title": {
            "standoff": 15
           },
           "zerolinecolor": "white",
           "zerolinewidth": 2
          }
         }
        },
        "title": {
         "text": "Efficiency"
        },
        "width": 1500,
        "xaxis": {
         "title": {
          "text": "Lattice Size"
         },
         "type": "log"
        },
        "yaxis": {
         "title": {
          "text": "Efficiency %"
         }
        }
       }
      }
     },
     "metadata": {}
    }
   ],
   "source": [
    "fig = go.Figure()\n",
    "\n",
    "for idx, (name, dfs, info) in enumerate(runs_parallel):\n",
    "    for i, df in enumerate(dfs):\n",
    "        dfs[i][\"efficiency\"] = 100 * (cpu_df[\"avgEvolveTime\"] / df[\"avgEvolveTime\"]) / info[0]\n",
    "    \n",
    "    df = pd.concat(dfs)\n",
    "    df[\"size\"] **= 2\n",
    "    add_mean_std_trace(fig, df, name, idx + 1, \"efficiency\")\n",
    "\n",
    "fig.update_layout(title=\"Efficiency\", xaxis_title='Lattice Size', yaxis_title=\"Efficiency %\", **layout_settings)\n",
    "fig.update_xaxes(type=\"log\")\n",
    "fig.show()"
   ]
  },
  {
   "source": [
    "# Kernel Config"
   ],
   "cell_type": "markdown",
   "metadata": {}
  },
  {
   "cell_type": "code",
   "execution_count": 37,
   "metadata": {},
   "outputs": [
    {
     "output_type": "stream",
     "name": "stderr",
     "text": [
      "<ipython-input-37-70bd16486d47>:10: SettingWithCopyWarning:\n\n\nA value is trying to be set on a copy of a slice from a DataFrame.\nTry using .loc[row_indexer,col_indexer] = value instead\n\nSee the caveats in the documentation: https://pandas.pydata.org/pandas-docs/stable/user_guide/indexing.html#returning-a-view-versus-a-copy\n\n"
     ]
    }
   ],
   "source": [
    "k_df = pd.concat([\n",
    "    pd.read_csv(\"res/39-40.full/39.1.k.hl.gpu.8704.csv\", header=0),\n",
    "    pd.read_csv(\"res/39-40.full/39.2.k.hl.gpu.8704.csv\", header=0),\n",
    "    pd.read_csv(\"res/39-40.full/39.3.k.hl.gpu.8704.csv\", header=0),\n",
    "    pd.read_csv(\"res/39-40.full/39.4.k.hl.gpu.8704.csv\", header=0),\n",
    "    pd.read_csv(\"res/39-40.full/39.5.k.hl.gpu.8704.csv\", header=0),\n",
    "])\n",
    "k_df[\"threads\"] = k_df[\"threads\"].astype(str)\n",
    "k_df[\"color\"] = all_colors[0]\n",
    "k_df[k_df[\"threads\"] == \"256\"][\"color\"] = all_colors[1]"
   ]
  },
  {
   "cell_type": "code",
   "execution_count": 61,
   "metadata": {},
   "outputs": [
    {
     "output_type": "display_data",
     "data": {
      "application/vnd.plotly.v1+json": {
       "config": {
        "plotlyServerURL": "https://plot.ly"
       },
       "data": [
        {
         "type": "box",
         "x": [
          "32",
          "64",
          "96",
          "128",
          "160",
          "192",
          "224",
          "256",
          "288",
          "320",
          "352",
          "384",
          "416",
          "448",
          "480",
          "512",
          "544",
          "576",
          "608",
          "640",
          "672",
          "704",
          "736",
          "768",
          "800",
          "832",
          "864",
          "896",
          "928",
          "960",
          "992",
          "1024",
          "32",
          "64",
          "96",
          "128",
          "160",
          "192",
          "224",
          "256",
          "288",
          "320",
          "352",
          "384",
          "416",
          "448",
          "480",
          "512",
          "544",
          "576",
          "608",
          "640",
          "672",
          "704",
          "736",
          "768",
          "800",
          "832",
          "864",
          "896",
          "928",
          "960",
          "992",
          "1024",
          "32",
          "64",
          "96",
          "128",
          "160",
          "192",
          "224",
          "256",
          "288",
          "320",
          "352",
          "384",
          "416",
          "448",
          "480",
          "512",
          "544",
          "576",
          "608",
          "640",
          "672",
          "704",
          "736",
          "768",
          "800",
          "832",
          "864",
          "896",
          "928",
          "960",
          "992",
          "1024",
          "32",
          "64",
          "96",
          "128",
          "160",
          "192",
          "224",
          "256",
          "288",
          "320",
          "352",
          "384",
          "416",
          "448",
          "480",
          "512",
          "544",
          "576",
          "608",
          "640",
          "672",
          "704",
          "736",
          "768",
          "800",
          "832",
          "864",
          "896",
          "928",
          "960",
          "992",
          "1024",
          "32",
          "64",
          "96",
          "128",
          "160",
          "192",
          "224",
          "256",
          "288",
          "320",
          "352",
          "384",
          "416",
          "448",
          "480",
          "512",
          "544",
          "576",
          "608",
          "640",
          "672",
          "704",
          "736",
          "768",
          "800",
          "832",
          "864",
          "896",
          "928",
          "960",
          "992",
          "1024",
          "32",
          "64",
          "96",
          "128",
          "160",
          "192",
          "224",
          "256",
          "288",
          "320",
          "352",
          "384",
          "416",
          "448",
          "480",
          "512",
          "544",
          "576",
          "608",
          "640",
          "672",
          "704",
          "736",
          "768",
          "800",
          "832",
          "864",
          "896",
          "928",
          "960",
          "992",
          "1024",
          "32",
          "64",
          "96",
          "128",
          "160",
          "192",
          "224",
          "256",
          "288",
          "320",
          "352",
          "384",
          "416",
          "448",
          "480",
          "512",
          "544",
          "576",
          "608",
          "640",
          "672",
          "704",
          "736",
          "768",
          "800",
          "832",
          "864",
          "896",
          "928",
          "960",
          "992",
          "1024",
          "32",
          "64",
          "96",
          "128",
          "160",
          "192",
          "224",
          "256",
          "288",
          "320",
          "352",
          "384",
          "416",
          "448",
          "480",
          "512",
          "544",
          "576",
          "608",
          "640",
          "672",
          "704",
          "736",
          "768",
          "800",
          "832",
          "864",
          "896",
          "928",
          "960",
          "992",
          "1024",
          "32",
          "64",
          "96",
          "128",
          "160",
          "192",
          "224",
          "256",
          "288",
          "320",
          "352",
          "384",
          "416",
          "448",
          "480",
          "512",
          "544",
          "576",
          "608",
          "640",
          "672",
          "704",
          "736",
          "768",
          "800",
          "832",
          "864",
          "896",
          "928",
          "960",
          "992",
          "1024",
          "32",
          "64",
          "96",
          "128",
          "160",
          "192",
          "224",
          "256",
          "288",
          "320",
          "352",
          "384",
          "416",
          "448",
          "480",
          "512",
          "544",
          "576",
          "608",
          "640",
          "672",
          "704",
          "736",
          "768",
          "800",
          "832",
          "864",
          "896",
          "928",
          "960",
          "992",
          "1024",
          "32",
          "64",
          "96",
          "128",
          "160",
          "192",
          "224",
          "256",
          "288",
          "320",
          "352",
          "384",
          "416",
          "448",
          "480",
          "512",
          "544",
          "576",
          "608",
          "640",
          "672",
          "704",
          "736",
          "768",
          "800",
          "832",
          "864",
          "896",
          "928",
          "960",
          "992",
          "1024",
          "32",
          "64",
          "96",
          "128",
          "160",
          "192",
          "224",
          "256",
          "288",
          "320",
          "352",
          "384",
          "416",
          "448",
          "480",
          "512",
          "544",
          "576",
          "608",
          "640",
          "672",
          "704",
          "736",
          "768",
          "800",
          "832",
          "864",
          "896",
          "928",
          "960",
          "992",
          "1024",
          "32",
          "64",
          "96",
          "128",
          "160",
          "192",
          "224",
          "256",
          "288",
          "320",
          "352",
          "384",
          "416",
          "448",
          "480",
          "512",
          "544",
          "576",
          "608",
          "640",
          "672",
          "704",
          "736",
          "768",
          "800",
          "832",
          "864",
          "896",
          "928",
          "960",
          "992",
          "1024",
          "32",
          "64",
          "96",
          "128",
          "160",
          "192",
          "224",
          "256",
          "288",
          "320",
          "352",
          "384",
          "416",
          "448",
          "480",
          "512",
          "544",
          "576",
          "608",
          "640",
          "672",
          "704",
          "736",
          "768",
          "800",
          "832",
          "864",
          "896",
          "928",
          "960",
          "992",
          "1024",
          "32",
          "64",
          "96",
          "128",
          "160",
          "192",
          "224",
          "256",
          "288",
          "320",
          "352",
          "384",
          "416",
          "448",
          "480",
          "512",
          "544",
          "576",
          "608",
          "640",
          "672",
          "704",
          "736",
          "768",
          "800",
          "832",
          "864",
          "896",
          "928",
          "960",
          "992",
          "1024",
          "32",
          "64",
          "96",
          "128",
          "160",
          "192",
          "224",
          "256",
          "288",
          "320",
          "352",
          "384",
          "416",
          "448",
          "480",
          "512",
          "544",
          "576",
          "608",
          "640",
          "672",
          "704",
          "736",
          "768",
          "800",
          "832",
          "864",
          "896",
          "928",
          "960",
          "992",
          "1024",
          "32",
          "64",
          "96",
          "128",
          "160",
          "192",
          "224",
          "256",
          "288",
          "320",
          "352",
          "384",
          "416",
          "448",
          "480",
          "512",
          "544",
          "576",
          "608",
          "640",
          "672",
          "704",
          "736",
          "768",
          "800",
          "832",
          "864",
          "896",
          "928",
          "960",
          "992",
          "1024",
          "32",
          "64",
          "96",
          "128",
          "160",
          "192",
          "224",
          "256",
          "288",
          "320",
          "352",
          "384",
          "416",
          "448",
          "480",
          "512",
          "544",
          "576",
          "608",
          "640",
          "672",
          "704",
          "736",
          "768",
          "800",
          "832",
          "864",
          "896",
          "928",
          "960",
          "992",
          "1024",
          "32",
          "64",
          "96",
          "128",
          "160",
          "192",
          "224",
          "256",
          "288",
          "320",
          "352",
          "384",
          "416",
          "448",
          "480",
          "512",
          "544",
          "576",
          "608",
          "640",
          "672",
          "704",
          "736",
          "768",
          "800",
          "832",
          "864",
          "896",
          "928",
          "960",
          "992",
          "1024",
          "32",
          "64",
          "96",
          "128",
          "160",
          "192",
          "224",
          "256",
          "288",
          "320",
          "352",
          "384",
          "416",
          "448",
          "480",
          "512",
          "544",
          "576",
          "608",
          "640",
          "672",
          "704",
          "736",
          "768",
          "800",
          "832",
          "864",
          "896",
          "928",
          "960",
          "992",
          "1024",
          "32",
          "64",
          "96",
          "128",
          "160",
          "192",
          "224",
          "256",
          "288",
          "320",
          "352",
          "384",
          "416",
          "448",
          "480",
          "512",
          "544",
          "576",
          "608",
          "640",
          "672",
          "704",
          "736",
          "768",
          "800",
          "832",
          "864",
          "896",
          "928",
          "960",
          "992",
          "1024",
          "32",
          "64",
          "96",
          "128",
          "160",
          "192",
          "224",
          "256",
          "288",
          "320",
          "352",
          "384",
          "416",
          "448",
          "480",
          "512",
          "544",
          "576",
          "608",
          "640",
          "672",
          "704",
          "736",
          "768",
          "800",
          "832",
          "864",
          "896",
          "928",
          "960",
          "992",
          "1024",
          "32",
          "64",
          "96",
          "128",
          "160",
          "192",
          "224",
          "256",
          "288",
          "320",
          "352",
          "384",
          "416",
          "448",
          "480",
          "512",
          "544",
          "576",
          "608",
          "640",
          "672",
          "704",
          "736",
          "768",
          "800",
          "832",
          "864",
          "896",
          "928",
          "960",
          "992",
          "1024",
          "32",
          "64",
          "96",
          "128",
          "160",
          "192",
          "224",
          "256",
          "288",
          "320",
          "352",
          "384",
          "416",
          "448",
          "480",
          "512",
          "544",
          "576",
          "608",
          "640",
          "672",
          "704",
          "736",
          "768",
          "800",
          "832",
          "864",
          "896",
          "928",
          "960",
          "992",
          "1024",
          "32",
          "64",
          "96",
          "128",
          "160",
          "192",
          "224",
          "256",
          "288",
          "320",
          "352",
          "384",
          "416",
          "448",
          "480",
          "512",
          "544",
          "576",
          "608",
          "640",
          "672",
          "704",
          "736",
          "768",
          "800",
          "832",
          "864",
          "896",
          "928",
          "960",
          "992",
          "1024",
          "32",
          "64",
          "96",
          "128",
          "160",
          "192",
          "224",
          "256",
          "288",
          "320",
          "352",
          "384",
          "416",
          "448",
          "480",
          "512",
          "544",
          "576",
          "608",
          "640",
          "672",
          "704",
          "736",
          "768",
          "800",
          "832",
          "864",
          "896",
          "928",
          "960",
          "992",
          "1024",
          "32",
          "64",
          "96",
          "128",
          "160",
          "192",
          "224",
          "256",
          "288",
          "320",
          "352",
          "384",
          "416",
          "448",
          "480",
          "512",
          "544",
          "576",
          "608",
          "640",
          "672",
          "704",
          "736",
          "768",
          "800",
          "832",
          "864",
          "896",
          "928",
          "960",
          "992",
          "1024",
          "32",
          "64",
          "96",
          "128",
          "160",
          "192",
          "224",
          "256",
          "288",
          "320",
          "352",
          "384",
          "416",
          "448",
          "480",
          "512",
          "544",
          "576",
          "608",
          "640",
          "672",
          "704",
          "736",
          "768",
          "800",
          "832",
          "864",
          "896",
          "928",
          "960",
          "992",
          "1024",
          "32",
          "64",
          "96",
          "128",
          "160",
          "192",
          "224",
          "256",
          "288",
          "320",
          "352",
          "384",
          "416",
          "448",
          "480",
          "512",
          "544",
          "576",
          "608",
          "640",
          "672",
          "704",
          "736",
          "768",
          "800",
          "832",
          "864",
          "896",
          "928",
          "960",
          "992",
          "1024",
          "32",
          "64",
          "96",
          "128",
          "160",
          "192",
          "224",
          "256",
          "288",
          "320",
          "352",
          "384",
          "416",
          "448",
          "480",
          "512",
          "544",
          "576",
          "608",
          "640",
          "672",
          "704",
          "736",
          "768",
          "800",
          "832",
          "864",
          "896",
          "928",
          "960",
          "992",
          "1024",
          "32",
          "64",
          "96",
          "128",
          "160",
          "192",
          "224",
          "256",
          "288",
          "320",
          "352",
          "384",
          "416",
          "448",
          "480",
          "512",
          "544",
          "576",
          "608",
          "640",
          "672",
          "704",
          "736",
          "768",
          "800",
          "832",
          "864",
          "896",
          "928",
          "960",
          "992",
          "1024",
          "32",
          "64",
          "96",
          "128",
          "160",
          "192",
          "224",
          "256",
          "288",
          "320",
          "352",
          "384",
          "416",
          "448",
          "480",
          "512",
          "544",
          "576",
          "608",
          "640",
          "672",
          "704",
          "736",
          "768",
          "800",
          "832",
          "864",
          "896",
          "928",
          "960",
          "992",
          "1024",
          "32",
          "64",
          "96",
          "128",
          "160",
          "192",
          "224",
          "256",
          "288",
          "320",
          "352",
          "384",
          "416",
          "448",
          "480",
          "512",
          "544",
          "576",
          "608",
          "640",
          "672",
          "704",
          "736",
          "768",
          "800",
          "832",
          "864",
          "896",
          "928",
          "960",
          "992",
          "1024",
          "32",
          "64",
          "96",
          "128",
          "160",
          "192",
          "224",
          "256",
          "288",
          "320",
          "352",
          "384",
          "416",
          "448",
          "480",
          "512",
          "544",
          "576",
          "608",
          "640",
          "672",
          "704",
          "736",
          "768",
          "800",
          "832",
          "864",
          "896",
          "928",
          "960",
          "992",
          "1024",
          "32",
          "64",
          "96",
          "128",
          "160",
          "192",
          "224",
          "256",
          "288",
          "320",
          "352",
          "384",
          "416",
          "448",
          "480",
          "512",
          "544",
          "576",
          "608",
          "640",
          "672",
          "704",
          "736",
          "768",
          "800",
          "832",
          "864",
          "896",
          "928",
          "960",
          "992",
          "1024",
          "32",
          "64",
          "96",
          "128",
          "160",
          "192",
          "224",
          "256",
          "288",
          "320",
          "352",
          "384",
          "416",
          "448",
          "480",
          "512",
          "544",
          "576",
          "608",
          "640",
          "672",
          "704",
          "736",
          "768",
          "800",
          "832",
          "864",
          "896",
          "928",
          "960",
          "992",
          "1024",
          "32",
          "64",
          "96",
          "128",
          "160",
          "192",
          "224",
          "256",
          "288",
          "320",
          "352",
          "384",
          "416",
          "448",
          "480",
          "512",
          "544",
          "576",
          "608",
          "640",
          "672",
          "704",
          "736",
          "768",
          "800",
          "832",
          "864",
          "896",
          "928",
          "960",
          "992",
          "1024",
          "32",
          "64",
          "96",
          "128",
          "160",
          "192",
          "224",
          "256",
          "288",
          "320",
          "352",
          "384",
          "416",
          "448",
          "480",
          "512",
          "544",
          "576",
          "608",
          "640",
          "672",
          "704",
          "736",
          "768",
          "800",
          "832",
          "864",
          "896",
          "928",
          "960",
          "992",
          "1024",
          "32",
          "64",
          "96",
          "128",
          "160",
          "192",
          "224",
          "256",
          "288",
          "320",
          "352",
          "384",
          "416",
          "448",
          "480",
          "512",
          "544",
          "576",
          "608",
          "640",
          "672",
          "704",
          "736",
          "768",
          "800",
          "832",
          "864",
          "896",
          "928",
          "960",
          "992",
          "1024",
          "32",
          "64",
          "96",
          "128",
          "160",
          "192",
          "224",
          "256",
          "288",
          "320",
          "352",
          "384",
          "416",
          "448",
          "480",
          "512",
          "544",
          "576",
          "608",
          "640",
          "672",
          "704",
          "736",
          "768",
          "800",
          "832",
          "864",
          "896",
          "928",
          "960",
          "992",
          "1024"
         ],
         "y": [
          6.284938,
          6.264463,
          6.278619,
          6.437893,
          6.326901,
          6.303593,
          6.497753,
          6.345263,
          6.377023,
          6.345542,
          6.363854,
          6.376397,
          6.67355,
          6.394935,
          6.678453,
          6.420944,
          6.599114,
          6.415145,
          6.713169,
          6.449958,
          6.53658,
          6.447856,
          6.721563,
          7.647062,
          7.84605,
          6.975386,
          8.2587,
          8.236413,
          8.139179,
          7.178488,
          7.660366,
          8.921607,
          8.178406,
          6.288208,
          6.746534,
          6.318271,
          6.351239,
          6.145351,
          6.883199,
          6.464481,
          6.650997,
          7.536272,
          6.922994,
          7.73438,
          7.35129,
          6.44487,
          7.28203,
          7.954281,
          8.267784,
          8.199131,
          8.128134,
          6.996133,
          6.91347,
          7.076986,
          7.858083,
          8.241313,
          7.107136,
          6.792383,
          7.097116,
          6.576279,
          6.574974,
          7.510497,
          7.285814,
          8.482206,
          7.131645,
          8.672636,
          6.979886,
          8.235864,
          7.191052,
          6.848276,
          6.448088,
          6.992797,
          7.007233,
          7.131527,
          6.848542,
          6.840269,
          7.053513,
          6.432442,
          7.29123,
          7.201572,
          7.060538,
          7.62538,
          7.041214,
          6.929377,
          7.047845,
          7.120052,
          7.107361,
          7.362586,
          7.020516,
          7.155334,
          7.876179,
          6.994742,
          7.207918,
          7.367762,
          7.171177,
          7.199114,
          8.642041,
          8.970932,
          7.472617,
          8.204674,
          7.293661,
          7.279285,
          7.37843,
          7.283935,
          7.170566,
          6.665174,
          7.17105,
          7.368221,
          7.401218,
          6.859567,
          6.673459,
          7.277562,
          7.343285,
          7.145092,
          7.408665,
          7.291271,
          7.624315,
          8.024451,
          7.52199,
          7.371151,
          8.198416,
          8.14148,
          8.001115,
          7.600423,
          8.072804,
          7.312211,
          7.261208,
          7.150276,
          13.161438,
          9.534615,
          10.125128,
          10.745528,
          9.353865,
          10.424259,
          9.908213,
          8.574001,
          9.42326,
          8.468609,
          8.854502,
          9.19225,
          9.589009,
          9.450301,
          8.934739,
          8.554072,
          9.575738,
          9.813597,
          9.549107,
          10.520896,
          9.624648,
          9.649341,
          9.716429,
          9.115357,
          10.378884,
          10.412313,
          11.387026,
          10.448793,
          10.908117,
          9.929607,
          9.864571,
          10.371258,
          19.290219,
          15.810816,
          13.90905,
          16.125607,
          16.1753,
          15.173404,
          15.457554,
          15.18573,
          15.516638,
          16.24823,
          15.963314,
          14.684829,
          16.591382,
          16.642552,
          16.269656,
          17.015674,
          17.237888,
          17.859075,
          18.108496,
          17.45664,
          17.754571,
          16.836239,
          17.166236,
          16.568833,
          23.95129,
          23.371048,
          24.083869,
          23.393374,
          22.311079,
          21.742139,
          22.248066,
          21.780236,
          65.792647,
          41.810561,
          34.505955,
          32.506719,
          34.267447,
          34.437202,
          38.725251,
          36.158912,
          39.878662,
          41.31605,
          40.261155,
          39.661286,
          52.587793,
          51.245977,
          47.630364,
          51.573987,
          56.920849,
          53.552617,
          55.87524,
          50.643532,
          56.469684,
          49.151542,
          48.025799,
          47.821475,
          85.29939,
          77.42843,
          77.432663,
          74.344154,
          73.718133,
          73.671249,
          73.257993,
          71.105418,
          221.078848,
          136.490275,
          113.977084,
          112.355134,
          116.382321,
          115.267752,
          195.226632,
          131.758732,
          179.734702,
          133.315843,
          128.349319,
          122.848831,
          139.265341,
          132.075222,
          128.852827,
          153.249302,
          153.720299,
          149.74036,
          147.490851,
          147.406618,
          155.886141,
          144.700154,
          143.285192,
          142.209463,
          225.347962,
          223.133037,
          216.418528,
          219.722966,
          211.238367,
          208.296968,
          205.905602,
          208.05096,
          6.643235,
          6.038047,
          6.07869,
          7.247959,
          6.3371,
          6.638623,
          7.151246,
          7.265199,
          7.736746,
          6.61815,
          6.598717,
          6.616366,
          7.9806,
          6.388802,
          6.377948,
          6.426564,
          6.445927,
          6.398295,
          6.357809,
          6.667748,
          6.709793,
          6.446029,
          6.458282,
          6.44151,
          6.425055,
          6.475023,
          6.472345,
          6.754227,
          6.785853,
          6.492898,
          6.507546,
          6.497117,
          6.337624,
          6.297431,
          6.351757,
          6.261193,
          6.628164,
          6.287771,
          6.638714,
          6.369607,
          6.359693,
          6.373635,
          6.347598,
          6.724561,
          7.007585,
          6.463694,
          6.681686,
          6.438863,
          6.457682,
          6.458707,
          6.452752,
          6.441892,
          6.47441,
          6.462612,
          6.459813,
          6.46659,
          6.835383,
          6.778072,
          6.497319,
          6.819345,
          6.550592,
          6.58214,
          6.571572,
          6.607432,
          6.641381,
          6.455178,
          6.455842,
          6.683965,
          6.41577,
          6.415996,
          6.428436,
          6.418754,
          6.715867,
          6.360389,
          6.457692,
          6.450171,
          6.465474,
          6.739373,
          6.635737,
          6.465069,
          6.454615,
          6.461602,
          6.767757,
          6.451976,
          6.464457,
          6.59245,
          6.592594,
          6.899073,
          7.971365,
          6.556515,
          6.565532,
          6.62147,
          6.590793,
          6.655866,
          6.551032,
          7.067354,
          7.790848,
          7.085349,
          6.883428,
          6.761515,
          6.749106,
          6.730322,
          6.78373,
          6.762568,
          6.752963,
          6.692238,
          6.770559,
          6.826165,
          8.20579,
          7.155346,
          6.694964,
          6.737489,
          6.778012,
          6.818122,
          6.794576,
          7.124129,
          6.849645,
          6.901141,
          6.945307,
          6.922282,
          7.510065,
          7.849837,
          7.51971,
          7.559501,
          7.852893,
          6.759345,
          7.068246,
          6.982931,
          12.259441,
          9.15493,
          8.366827,
          8.356898,
          8.319074,
          8.32594,
          8.442473,
          8.310953,
          8.45894,
          8.528724,
          8.47906,
          8.638971,
          8.737943,
          8.617419,
          8.496594,
          8.545366,
          9.142819,
          8.973772,
          9.132316,
          8.753973,
          8.809793,
          10.806419,
          8.867194,
          8.615155,
          9.96034,
          9.994095,
          10.042839,
          10.259069,
          10.097496,
          9.494678,
          10.83007,
          9.543091,
          18.5011,
          14.669021,
          14.294233,
          14.580911,
          14.759773,
          14.293159,
          14.869718,
          14.606281,
          14.832897,
          15.122101,
          14.864387,
          15.031046,
          15.770985,
          15.825485,
          15.696017,
          15.244359,
          17.259885,
          17.257314,
          16.693631,
          16.515777,
          16.716674,
          16.227954,
          16.409929,
          16.271551,
          23.182759,
          22.616038,
          22.217328,
          21.944787,
          21.710885,
          21.355342,
          21.126358,
          20.998554,
          65.982807,
          39.753674,
          33.17008,
          32.975605,
          34.506965,
          34.53616,
          37.1172,
          36.084188,
          37.831964,
          41.606032,
          40.42685,
          39.349473,
          46.153014,
          45.042959,
          44.113337,
          42.776437,
          56.160174,
          53.274754,
          52.052553,
          50.882167,
          49.835695,
          48.901427,
          47.661519,
          47.262574,
          80.498694,
          79.504511,
          75.996736,
          74.586072,
          73.281197,
          72.207765,
          69.75235,
          73.398895,
          224.62317,
          136.21868,
          113.529524,
          115.523121,
          117.485348,
          114.248906,
          122.412309,
          117.75689,
          121.080603,
          131.431879,
          125.569977,
          123.551577,
          134.742844,
          132.99683,
          130.339432,
          127.595828,
          153.541351,
          149.795804,
          148.644619,
          148.832889,
          143.715105,
          143.718664,
          140.87077,
          141.244698,
          224.100342,
          219.613077,
          216.729477,
          213.739019,
          210.829734,
          205.178423,
          207.035594,
          209.955785,
          6.038287,
          6.308524,
          5.993132,
          6.981397,
          6.332335,
          6.132916,
          7.77628,
          7.363063,
          7.325511,
          7.361081,
          6.624376,
          7.674464,
          6.386235,
          6.700539,
          6.66786,
          6.441873,
          6.436967,
          6.713679,
          6.415145,
          6.699252,
          6.399085,
          6.453512,
          6.727161,
          6.457432,
          6.455233,
          6.435889,
          6.459007,
          6.465826,
          6.828017,
          6.542416,
          6.493276,
          6.523559,
          6.330438,
          6.25198,
          6.303787,
          6.29927,
          6.282996,
          6.358273,
          6.309571,
          6.380917,
          6.659689,
          6.420483,
          6.632034,
          6.443491,
          6.442736,
          6.450695,
          6.71618,
          6.736665,
          6.448276,
          6.452011,
          6.459285,
          6.432853,
          6.761968,
          6.533976,
          6.479966,
          6.451798,
          6.469415,
          6.505804,
          6.525128,
          6.808914,
          6.854308,
          6.61582,
          6.572143,
          6.646804,
          6.655396,
          6.458597,
          6.460981,
          6.447648,
          6.688311,
          6.454028,
          6.442844,
          6.395479,
          6.383274,
          6.406374,
          6.44817,
          6.452877,
          6.449598,
          6.449148,
          6.45298,
          6.449345,
          6.451657,
          6.452253,
          6.451963,
          6.452094,
          6.449325,
          6.767997,
          6.507813,
          6.491548,
          6.507082,
          6.52763,
          6.549342,
          6.534722,
          6.819378,
          6.534505,
          6.829145,
          6.891827,
          7.764291,
          7.048583,
          6.867018,
          6.702321,
          8.05746,
          6.66253,
          6.768227,
          6.97208,
          7.044123,
          6.668449,
          7.053895,
          7.028846,
          6.789041,
          6.878285,
          6.982011,
          6.721303,
          6.790722,
          6.785443,
          7.101758,
          6.790896,
          6.878569,
          6.904128,
          6.920151,
          6.922962,
          7.783317,
          7.549375,
          7.876012,
          7.479504,
          7.844214,
          6.723627,
          6.92831,
          6.705217,
          11.989669,
          9.109456,
          8.371415,
          8.868293,
          8.346906,
          8.349024,
          8.462261,
          8.321815,
          8.390763,
          8.518446,
          10.055855,
          8.41392,
          8.718786,
          8.64898,
          8.785886,
          8.621044,
          9.418283,
          8.972975,
          9.287452,
          8.739224,
          8.778923,
          8.810617,
          8.968135,
          8.61418,
          10.002567,
          9.96732,
          10.040436,
          10.00336,
          10.082436,
          9.496035,
          9.478232,
          9.49655,
          18.46086,
          15.440746,
          14.233813,
          14.313542,
          14.718176,
          14.363503,
          14.985061,
          14.357679,
          14.864078,
          15.157895,
          15.238855,
          14.943115,
          15.978541,
          15.535338,
          15.706172,
          15.262316,
          17.501763,
          17.324361,
          17.000236,
          16.794198,
          16.976058,
          16.775682,
          16.025807,
          16.00765,
          23.30561,
          22.573495,
          22.129573,
          22.180808,
          21.865276,
          21.419285,
          21.202587,
          20.999931,
          64.643002,
          39.944014,
          33.193672,
          33.045209,
          34.920856,
          34.56986,
          39.819444,
          35.923086,
          37.812695,
          41.531107,
          40.251991,
          39.066876,
          46.121152,
          44.487433,
          43.672895,
          43.187637,
          55.149732,
          53.547292,
          52.109086,
          51.341593,
          49.902576,
          48.754949,
          47.691684,
          47.344724,
          80.485034,
          77.708218,
          76.417348,
          74.825272,
          72.80477,
          71.87272,
          69.970354,
          70.18662,
          221.080976,
          135.221372,
          113.890823,
          113.010759,
          116.230952,
          114.824957,
          122.797707,
          116.008726,
          119.519045,
          126.633556,
          124.315145,
          121.335161,
          134.839739,
          132.410617,
          130.187603,
          129.911951,
          151.569757,
          151.436849,
          147.921402,
          147.265778,
          144.326425,
          143.684049,
          142.68299,
          142.8839,
          224.054752,
          219.392971,
          215.020581,
          214.288863,
          208.00669,
          204.580228,
          205.737112,
          209.000948,
          6.289097,
          6.049922,
          6.04022,
          6.047709,
          7.118398,
          6.086684,
          6.08413,
          6.51446,
          7.327277,
          6.285288,
          7.895536,
          7.99751,
          6.308218,
          6.332131,
          6.368516,
          6.367602,
          6.57936,
          6.632398,
          6.646502,
          6.387838,
          6.427763,
          6.714002,
          6.445097,
          6.438227,
          6.434968,
          6.438745,
          6.462886,
          6.483204,
          6.474498,
          6.548877,
          6.471356,
          6.711828,
          6.325883,
          6.282739,
          6.263331,
          6.302962,
          6.299577,
          6.295907,
          6.291764,
          6.411453,
          6.330132,
          6.593169,
          6.391347,
          6.432689,
          6.425243,
          6.438181,
          6.433105,
          6.454311,
          6.455989,
          6.426603,
          6.452731,
          6.444014,
          6.729402,
          6.448857,
          6.488687,
          6.48065,
          6.464325,
          6.48359,
          6.496205,
          6.529699,
          6.554606,
          6.590887,
          6.672875,
          6.568938,
          6.655959,
          6.734107,
          6.448597,
          6.462806,
          6.677876,
          6.386559,
          6.446969,
          6.378566,
          6.342846,
          6.661158,
          6.426376,
          6.403469,
          6.446229,
          6.432535,
          6.452337,
          6.454021,
          6.440381,
          6.444975,
          6.484349,
          6.459247,
          6.755173,
          6.497653,
          6.527547,
          6.515568,
          6.815183,
          6.508228,
          6.518597,
          6.550212,
          6.596115,
          6.573058,
          6.612478,
          7.335952,
          7.77492,
          7.022508,
          6.865799,
          6.744028,
          6.937794,
          6.704872,
          6.720024,
          6.815277,
          6.693909,
          7.174025,
          6.742035,
          6.800629,
          6.793458,
          6.829428,
          6.670479,
          6.703095,
          8.11892,
          6.748663,
          6.790651,
          6.786097,
          6.834097,
          6.888339,
          6.890338,
          6.919804,
          7.799485,
          7.796184,
          7.572565,
          7.535611,
          7.553789,
          6.750161,
          6.657927,
          6.653952,
          11.966905,
          9.09087,
          8.635249,
          8.300116,
          8.611497,
          9.662136,
          8.714741,
          8.281292,
          8.38812,
          8.766794,
          8.406923,
          8.358499,
          8.743362,
          8.895534,
          8.544147,
          8.538608,
          9.150476,
          8.941895,
          8.962437,
          8.715635,
          8.733465,
          8.810107,
          8.845644,
          8.872973,
          9.965216,
          9.969291,
          10.024404,
          9.953746,
          11.379904,
          9.759395,
          9.454888,
          9.503845,
          18.458708,
          14.519791,
          14.257082,
          14.416156,
          14.636595,
          14.640453,
          14.901437,
          14.638959,
          14.558474,
          15.149626,
          15.140644,
          14.764837,
          16.045392,
          15.834422,
          15.729935,
          15.946631,
          17.543533,
          17.5461,
          16.9949,
          16.923434,
          16.697981,
          16.317134,
          16.274136,
          17.897818,
          23.053797,
          22.63786,
          22.231621,
          22.173738,
          21.704724,
          21.804366,
          21.091936,
          21.103411,
          65.721648,
          39.633638,
          33.2104,
          33.027523,
          34.853807,
          34.40476,
          37.216303,
          35.583172,
          37.754037,
          41.132121,
          40.210937,
          39.69565,
          45.785294,
          49.252379,
          43.776287,
          42.279296,
          54.589439,
          53.144187,
          51.774103,
          50.770626,
          49.828326,
          48.465989,
          47.755033,
          46.853444,
          82.068753,
          77.022025,
          75.438474,
          74.169235,
          75.010407,
          70.989107,
          69.3064,
          69.71397,
          221.36633,
          135.518072,
          113.111923,
          113.150565,
          116.285175,
          116.15733,
          121.968169,
          117.686064,
          121.051837,
          127.786542,
          124.857313,
          123.4569,
          133.662948,
          131.837381,
          128.958356,
          127.531945,
          152.158528,
          149.993446,
          146.762199,
          147.311303,
          144.886526,
          143.869851,
          143.464904,
          143.632822,
          226.925981,
          219.25366,
          217.487385,
          214.437926,
          208.560645,
          205.793523,
          205.988159,
          209.162331,
          6.000374,
          6.063909,
          6.039443,
          6.070516,
          7.732363,
          6.108727,
          6.131938,
          6.52457,
          7.76208,
          7.861075,
          7.520094,
          7.156022,
          6.14376,
          6.5899,
          6.671804,
          6.417241,
          6.388989,
          6.437561,
          6.425292,
          6.447159,
          6.720992,
          6.451407,
          6.44884,
          6.428281,
          6.452222,
          6.724441,
          6.461964,
          6.481526,
          6.526153,
          6.786134,
          6.473065,
          6.470059,
          6.348967,
          6.298208,
          6.317078,
          6.240919,
          6.307833,
          6.577005,
          6.317854,
          6.329612,
          6.377345,
          6.347337,
          6.393934,
          6.43462,
          6.721889,
          6.442545,
          6.430337,
          6.72395,
          6.461317,
          6.448496,
          6.44116,
          6.456907,
          6.462417,
          6.470476,
          6.710878,
          6.535706,
          6.760472,
          6.797774,
          6.495748,
          6.761551,
          6.586828,
          6.609567,
          6.627934,
          6.586296,
          6.660975,
          6.729551,
          6.45496,
          6.420266,
          6.445293,
          6.444104,
          6.454031,
          6.680157,
          6.522577,
          6.396507,
          6.443656,
          6.731177,
          6.452486,
          6.720444,
          6.418762,
          6.455551,
          6.460874,
          6.455309,
          6.452382,
          6.457867,
          6.476591,
          7.196746,
          6.474851,
          6.717098,
          6.535066,
          6.503148,
          6.483156,
          6.834714,
          7.919594,
          6.589171,
          6.571419,
          6.618578,
          8.032525,
          7.089275,
          6.848114,
          6.747077,
          6.688122,
          6.685014,
          6.752732,
          6.704969,
          6.726168,
          6.757464,
          6.978908,
          8.258316,
          6.793743,
          6.857273,
          6.654237,
          6.680533,
          6.748893,
          6.789361,
          6.807027,
          6.788064,
          6.858538,
          6.86187,
          6.892027,
          6.913179,
          7.720964,
          7.463655,
          7.516044,
          7.529997,
          7.524317,
          6.764848,
          6.632711,
          6.641352,
          12.278594,
          9.100663,
          8.349111,
          8.561023,
          8.33478,
          8.33325,
          8.407124,
          8.300089,
          9.496104,
          8.81512,
          8.4123,
          8.371884,
          8.738067,
          8.63855,
          8.786056,
          8.547244,
          9.390028,
          8.945131,
          8.999173,
          8.729197,
          8.739629,
          8.782325,
          8.836755,
          8.579876,
          9.942489,
          9.988453,
          9.988289,
          9.969689,
          10.058758,
          9.470163,
          9.461121,
          9.476498,
          19.294112,
          14.736288,
          16.175516,
          14.275704,
          14.708018,
          14.619109,
          14.946963,
          14.610845,
          14.900134,
          15.156083,
          14.879894,
          14.996666,
          16.056148,
          15.825325,
          15.691171,
          15.634007,
          17.543945,
          16.959352,
          16.762477,
          17.143433,
          16.674494,
          16.266466,
          16.101626,
          16.246355,
          23.160141,
          22.572813,
          22.215709,
          22.035632,
          21.993856,
          21.68451,
          21.110461,
          21.019816,
          68.380027,
          39.49437,
          32.989939,
          33.189451,
          34.168032,
          34.715302,
          37.366275,
          35.833413,
          37.758734,
          41.619798,
          40.0597,
          38.881087,
          45.5887,
          44.68838,
          43.683099,
          42.315779,
          54.840025,
          53.258241,
          53.445724,
          50.828297,
          49.805161,
          48.490766,
          47.789009,
          47.274359,
          80.259451,
          77.496247,
          75.529165,
          74.09871,
          72.319877,
          70.963642,
          71.662246,
          69.552516,
          220.89253,
          136.143908,
          114.666895,
          115.514126,
          116.929917,
          116.016096,
          119.917232,
          117.705448,
          121.039704,
          128.915642,
          125.917007,
          122.473414,
          137.01132,
          132.41685,
          129.42727,
          129.24773,
          152.561607,
          149.434113,
          147.235953,
          146.697073,
          145.274948,
          146.22235,
          146.522769,
          143.609936,
          224.937726,
          222.682102,
          216.880364,
          217.363936,
          211.781411,
          208.670239,
          205.46196,
          210.161458
         ]
        }
       ],
       "layout": {
        "barmode": "stack",
        "font": {
         "size": 20
        },
        "height": 900,
        "template": {
         "data": {
          "bar": [
           {
            "error_x": {
             "color": "#2a3f5f"
            },
            "error_y": {
             "color": "#2a3f5f"
            },
            "marker": {
             "line": {
              "color": "#E5ECF6",
              "width": 0.5
             },
             "pattern": {
              "fillmode": "overlay",
              "size": 10,
              "solidity": 0.2
             }
            },
            "type": "bar"
           }
          ],
          "barpolar": [
           {
            "marker": {
             "line": {
              "color": "#E5ECF6",
              "width": 0.5
             },
             "pattern": {
              "fillmode": "overlay",
              "size": 10,
              "solidity": 0.2
             }
            },
            "type": "barpolar"
           }
          ],
          "carpet": [
           {
            "aaxis": {
             "endlinecolor": "#2a3f5f",
             "gridcolor": "white",
             "linecolor": "white",
             "minorgridcolor": "white",
             "startlinecolor": "#2a3f5f"
            },
            "baxis": {
             "endlinecolor": "#2a3f5f",
             "gridcolor": "white",
             "linecolor": "white",
             "minorgridcolor": "white",
             "startlinecolor": "#2a3f5f"
            },
            "type": "carpet"
           }
          ],
          "choropleth": [
           {
            "colorbar": {
             "outlinewidth": 0,
             "ticks": ""
            },
            "type": "choropleth"
           }
          ],
          "contour": [
           {
            "colorbar": {
             "outlinewidth": 0,
             "ticks": ""
            },
            "colorscale": [
             [
              0,
              "#0d0887"
             ],
             [
              0.1111111111111111,
              "#46039f"
             ],
             [
              0.2222222222222222,
              "#7201a8"
             ],
             [
              0.3333333333333333,
              "#9c179e"
             ],
             [
              0.4444444444444444,
              "#bd3786"
             ],
             [
              0.5555555555555556,
              "#d8576b"
             ],
             [
              0.6666666666666666,
              "#ed7953"
             ],
             [
              0.7777777777777778,
              "#fb9f3a"
             ],
             [
              0.8888888888888888,
              "#fdca26"
             ],
             [
              1,
              "#f0f921"
             ]
            ],
            "type": "contour"
           }
          ],
          "contourcarpet": [
           {
            "colorbar": {
             "outlinewidth": 0,
             "ticks": ""
            },
            "type": "contourcarpet"
           }
          ],
          "heatmap": [
           {
            "colorbar": {
             "outlinewidth": 0,
             "ticks": ""
            },
            "colorscale": [
             [
              0,
              "#0d0887"
             ],
             [
              0.1111111111111111,
              "#46039f"
             ],
             [
              0.2222222222222222,
              "#7201a8"
             ],
             [
              0.3333333333333333,
              "#9c179e"
             ],
             [
              0.4444444444444444,
              "#bd3786"
             ],
             [
              0.5555555555555556,
              "#d8576b"
             ],
             [
              0.6666666666666666,
              "#ed7953"
             ],
             [
              0.7777777777777778,
              "#fb9f3a"
             ],
             [
              0.8888888888888888,
              "#fdca26"
             ],
             [
              1,
              "#f0f921"
             ]
            ],
            "type": "heatmap"
           }
          ],
          "heatmapgl": [
           {
            "colorbar": {
             "outlinewidth": 0,
             "ticks": ""
            },
            "colorscale": [
             [
              0,
              "#0d0887"
             ],
             [
              0.1111111111111111,
              "#46039f"
             ],
             [
              0.2222222222222222,
              "#7201a8"
             ],
             [
              0.3333333333333333,
              "#9c179e"
             ],
             [
              0.4444444444444444,
              "#bd3786"
             ],
             [
              0.5555555555555556,
              "#d8576b"
             ],
             [
              0.6666666666666666,
              "#ed7953"
             ],
             [
              0.7777777777777778,
              "#fb9f3a"
             ],
             [
              0.8888888888888888,
              "#fdca26"
             ],
             [
              1,
              "#f0f921"
             ]
            ],
            "type": "heatmapgl"
           }
          ],
          "histogram": [
           {
            "marker": {
             "pattern": {
              "fillmode": "overlay",
              "size": 10,
              "solidity": 0.2
             }
            },
            "type": "histogram"
           }
          ],
          "histogram2d": [
           {
            "colorbar": {
             "outlinewidth": 0,
             "ticks": ""
            },
            "colorscale": [
             [
              0,
              "#0d0887"
             ],
             [
              0.1111111111111111,
              "#46039f"
             ],
             [
              0.2222222222222222,
              "#7201a8"
             ],
             [
              0.3333333333333333,
              "#9c179e"
             ],
             [
              0.4444444444444444,
              "#bd3786"
             ],
             [
              0.5555555555555556,
              "#d8576b"
             ],
             [
              0.6666666666666666,
              "#ed7953"
             ],
             [
              0.7777777777777778,
              "#fb9f3a"
             ],
             [
              0.8888888888888888,
              "#fdca26"
             ],
             [
              1,
              "#f0f921"
             ]
            ],
            "type": "histogram2d"
           }
          ],
          "histogram2dcontour": [
           {
            "colorbar": {
             "outlinewidth": 0,
             "ticks": ""
            },
            "colorscale": [
             [
              0,
              "#0d0887"
             ],
             [
              0.1111111111111111,
              "#46039f"
             ],
             [
              0.2222222222222222,
              "#7201a8"
             ],
             [
              0.3333333333333333,
              "#9c179e"
             ],
             [
              0.4444444444444444,
              "#bd3786"
             ],
             [
              0.5555555555555556,
              "#d8576b"
             ],
             [
              0.6666666666666666,
              "#ed7953"
             ],
             [
              0.7777777777777778,
              "#fb9f3a"
             ],
             [
              0.8888888888888888,
              "#fdca26"
             ],
             [
              1,
              "#f0f921"
             ]
            ],
            "type": "histogram2dcontour"
           }
          ],
          "mesh3d": [
           {
            "colorbar": {
             "outlinewidth": 0,
             "ticks": ""
            },
            "type": "mesh3d"
           }
          ],
          "parcoords": [
           {
            "line": {
             "colorbar": {
              "outlinewidth": 0,
              "ticks": ""
             }
            },
            "type": "parcoords"
           }
          ],
          "pie": [
           {
            "automargin": true,
            "type": "pie"
           }
          ],
          "scatter": [
           {
            "marker": {
             "colorbar": {
              "outlinewidth": 0,
              "ticks": ""
             }
            },
            "type": "scatter"
           }
          ],
          "scatter3d": [
           {
            "line": {
             "colorbar": {
              "outlinewidth": 0,
              "ticks": ""
             }
            },
            "marker": {
             "colorbar": {
              "outlinewidth": 0,
              "ticks": ""
             }
            },
            "type": "scatter3d"
           }
          ],
          "scattercarpet": [
           {
            "marker": {
             "colorbar": {
              "outlinewidth": 0,
              "ticks": ""
             }
            },
            "type": "scattercarpet"
           }
          ],
          "scattergeo": [
           {
            "marker": {
             "colorbar": {
              "outlinewidth": 0,
              "ticks": ""
             }
            },
            "type": "scattergeo"
           }
          ],
          "scattergl": [
           {
            "marker": {
             "colorbar": {
              "outlinewidth": 0,
              "ticks": ""
             }
            },
            "type": "scattergl"
           }
          ],
          "scattermapbox": [
           {
            "marker": {
             "colorbar": {
              "outlinewidth": 0,
              "ticks": ""
             }
            },
            "type": "scattermapbox"
           }
          ],
          "scatterpolar": [
           {
            "marker": {
             "colorbar": {
              "outlinewidth": 0,
              "ticks": ""
             }
            },
            "type": "scatterpolar"
           }
          ],
          "scatterpolargl": [
           {
            "marker": {
             "colorbar": {
              "outlinewidth": 0,
              "ticks": ""
             }
            },
            "type": "scatterpolargl"
           }
          ],
          "scatterternary": [
           {
            "marker": {
             "colorbar": {
              "outlinewidth": 0,
              "ticks": ""
             }
            },
            "type": "scatterternary"
           }
          ],
          "surface": [
           {
            "colorbar": {
             "outlinewidth": 0,
             "ticks": ""
            },
            "colorscale": [
             [
              0,
              "#0d0887"
             ],
             [
              0.1111111111111111,
              "#46039f"
             ],
             [
              0.2222222222222222,
              "#7201a8"
             ],
             [
              0.3333333333333333,
              "#9c179e"
             ],
             [
              0.4444444444444444,
              "#bd3786"
             ],
             [
              0.5555555555555556,
              "#d8576b"
             ],
             [
              0.6666666666666666,
              "#ed7953"
             ],
             [
              0.7777777777777778,
              "#fb9f3a"
             ],
             [
              0.8888888888888888,
              "#fdca26"
             ],
             [
              1,
              "#f0f921"
             ]
            ],
            "type": "surface"
           }
          ],
          "table": [
           {
            "cells": {
             "fill": {
              "color": "#EBF0F8"
             },
             "line": {
              "color": "white"
             }
            },
            "header": {
             "fill": {
              "color": "#C8D4E3"
             },
             "line": {
              "color": "white"
             }
            },
            "type": "table"
           }
          ]
         },
         "layout": {
          "annotationdefaults": {
           "arrowcolor": "#2a3f5f",
           "arrowhead": 0,
           "arrowwidth": 1
          },
          "autotypenumbers": "strict",
          "coloraxis": {
           "colorbar": {
            "outlinewidth": 0,
            "ticks": ""
           }
          },
          "colorscale": {
           "diverging": [
            [
             0,
             "#8e0152"
            ],
            [
             0.1,
             "#c51b7d"
            ],
            [
             0.2,
             "#de77ae"
            ],
            [
             0.3,
             "#f1b6da"
            ],
            [
             0.4,
             "#fde0ef"
            ],
            [
             0.5,
             "#f7f7f7"
            ],
            [
             0.6,
             "#e6f5d0"
            ],
            [
             0.7,
             "#b8e186"
            ],
            [
             0.8,
             "#7fbc41"
            ],
            [
             0.9,
             "#4d9221"
            ],
            [
             1,
             "#276419"
            ]
           ],
           "sequential": [
            [
             0,
             "#0d0887"
            ],
            [
             0.1111111111111111,
             "#46039f"
            ],
            [
             0.2222222222222222,
             "#7201a8"
            ],
            [
             0.3333333333333333,
             "#9c179e"
            ],
            [
             0.4444444444444444,
             "#bd3786"
            ],
            [
             0.5555555555555556,
             "#d8576b"
            ],
            [
             0.6666666666666666,
             "#ed7953"
            ],
            [
             0.7777777777777778,
             "#fb9f3a"
            ],
            [
             0.8888888888888888,
             "#fdca26"
            ],
            [
             1,
             "#f0f921"
            ]
           ],
           "sequentialminus": [
            [
             0,
             "#0d0887"
            ],
            [
             0.1111111111111111,
             "#46039f"
            ],
            [
             0.2222222222222222,
             "#7201a8"
            ],
            [
             0.3333333333333333,
             "#9c179e"
            ],
            [
             0.4444444444444444,
             "#bd3786"
            ],
            [
             0.5555555555555556,
             "#d8576b"
            ],
            [
             0.6666666666666666,
             "#ed7953"
            ],
            [
             0.7777777777777778,
             "#fb9f3a"
            ],
            [
             0.8888888888888888,
             "#fdca26"
            ],
            [
             1,
             "#f0f921"
            ]
           ]
          },
          "colorway": [
           "#636efa",
           "#EF553B",
           "#00cc96",
           "#ab63fa",
           "#FFA15A",
           "#19d3f3",
           "#FF6692",
           "#B6E880",
           "#FF97FF",
           "#FECB52"
          ],
          "font": {
           "color": "#2a3f5f"
          },
          "geo": {
           "bgcolor": "white",
           "lakecolor": "white",
           "landcolor": "#E5ECF6",
           "showlakes": true,
           "showland": true,
           "subunitcolor": "white"
          },
          "hoverlabel": {
           "align": "left"
          },
          "hovermode": "closest",
          "mapbox": {
           "style": "light"
          },
          "paper_bgcolor": "white",
          "plot_bgcolor": "#E5ECF6",
          "polar": {
           "angularaxis": {
            "gridcolor": "white",
            "linecolor": "white",
            "ticks": ""
           },
           "bgcolor": "#E5ECF6",
           "radialaxis": {
            "gridcolor": "white",
            "linecolor": "white",
            "ticks": ""
           }
          },
          "scene": {
           "xaxis": {
            "backgroundcolor": "#E5ECF6",
            "gridcolor": "white",
            "gridwidth": 2,
            "linecolor": "white",
            "showbackground": true,
            "ticks": "",
            "zerolinecolor": "white"
           },
           "yaxis": {
            "backgroundcolor": "#E5ECF6",
            "gridcolor": "white",
            "gridwidth": 2,
            "linecolor": "white",
            "showbackground": true,
            "ticks": "",
            "zerolinecolor": "white"
           },
           "zaxis": {
            "backgroundcolor": "#E5ECF6",
            "gridcolor": "white",
            "gridwidth": 2,
            "linecolor": "white",
            "showbackground": true,
            "ticks": "",
            "zerolinecolor": "white"
           }
          },
          "shapedefaults": {
           "line": {
            "color": "#2a3f5f"
           }
          },
          "ternary": {
           "aaxis": {
            "gridcolor": "white",
            "linecolor": "white",
            "ticks": ""
           },
           "baxis": {
            "gridcolor": "white",
            "linecolor": "white",
            "ticks": ""
           },
           "bgcolor": "#E5ECF6",
           "caxis": {
            "gridcolor": "white",
            "linecolor": "white",
            "ticks": ""
           }
          },
          "title": {
           "x": 0.05
          },
          "xaxis": {
           "automargin": true,
           "gridcolor": "white",
           "linecolor": "white",
           "ticks": "",
           "title": {
            "standoff": 15
           },
           "zerolinecolor": "white",
           "zerolinewidth": 2
          },
          "yaxis": {
           "automargin": true,
           "gridcolor": "white",
           "linecolor": "white",
           "ticks": "",
           "title": {
            "standoff": 15
           },
           "zerolinecolor": "white",
           "zerolinewidth": 2
          }
         }
        },
        "title": {
         "text": "Average grid evolution time"
        },
        "width": 1500,
        "xaxis": {
         "categoryorder": "total ascending",
         "title": {
          "text": "Threads per block"
         }
        },
        "yaxis": {
         "title": {
          "text": "Time (ms)"
         },
         "type": "log"
        }
       }
      }
     },
     "metadata": {}
    }
   ],
   "source": [
    "\n",
    "# gdf = k_df[k_df['size'] == 4096]\n",
    "gdf = k_df\n",
    "fig = go.Figure(go.Box(x=gdf['threads'], y=gdf['totalEvolveTime']/1e6))\n",
    "fig.update_layout(title=\"Average grid evolution time\", xaxis_title='Threads per block', yaxis_title=\"Time (ms)\", barmode='stack', xaxis={'categoryorder':'total ascending'}, **layout_settings)\n",
    "fig.update_yaxes(type=\"log\")\n",
    "fig.show()"
   ]
  }
 ]
}